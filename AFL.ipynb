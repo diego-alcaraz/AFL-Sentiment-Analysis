{
 "cells": [
  {
   "cell_type": "code",
   "execution_count": 1,
   "id": "1790563a",
   "metadata": {},
   "outputs": [],
   "source": [
    "# Libraries\n",
    "import pandas as pd\n",
    "import numpy as np  \n",
    "import matplotlib.pyplot as plt\n",
    "import csv\n",
    "\n",
    "import requests\n",
    "import os, json, time, random, datetime as dt\n",
    "\n",
    "import praw\n",
    "from prawcore.exceptions import RequestException, ResponseException, ServerError, Forbidden, TooManyRequests"
   ]
  },
  {
   "cell_type": "markdown",
   "id": "49006f98",
   "metadata": {},
   "source": [
    "## Reddit API"
   ]
  },
  {
   "cell_type": "code",
   "execution_count": null,
   "id": "2a2e3d02",
   "metadata": {},
   "outputs": [],
   "source": [
    "https://www.reddit.com/api/v1/authorize?client_id=CLIENT_ID&response_type=TYPE&\n",
    "    state=RANDOM_STRING&redirect_uri=URI&duration=DURATION&scope=SCOPE_STRING"
   ]
  },
  {
   "cell_type": "code",
   "execution_count": 7,
   "id": "d3f164a8",
   "metadata": {},
   "outputs": [
    {
     "data": {
      "text/plain": [
       "22"
      ]
     },
     "execution_count": 7,
     "metadata": {},
     "output_type": "execute_result"
    }
   ],
   "source": [
    "len(\"dqXuuOK3P0c5rM9twm71nw\")"
   ]
  },
  {
   "cell_type": "code",
   "execution_count": null,
   "id": "3378a0f5",
   "metadata": {},
   "outputs": [
    {
     "name": "stdout",
     "output_type": "stream",
     "text": [
      "        id                                              title  score  \\\n",
      "0  1nh6qqe                              Ticketek are hopeless     73   \n",
      "1  1ni3xol  AFL ripped for 'doing absolutely nothing' abou...    389   \n",
      "2  1ni87r6  North Melbourne captain Jy Simpkin exploring b...    175   \n",
      "3  1ni9h6w  Zach Merrett is furious at reports he acted di...    127   \n",
      "4  1ni50ah                           Wayne’s world goes wrong    178   \n",
      "5  1ni65wv  [7News] Adelaide will ask the question of Melb...    141   \n",
      "6  1ni3e4f  Tom Liberatore tattoo in the style of The Simp...    165   \n",
      "7  1ni6mm9            Anyone thinking of going to this event?    102   \n",
      "8  1ni9n1l                                 Double MCG Sellout     57   \n",
      "9  1ni1gvy  [Jon Ralph] There is acceptance at Essendon th...    186   \n",
      "\n",
      "   num_comments   created_utc  \\\n",
      "0           121  1.757894e+09   \n",
      "1           167  1.757985e+09   \n",
      "2           225  1.757998e+09   \n",
      "3           176  1.758002e+09   \n",
      "4            76  1.757988e+09   \n",
      "5           106  1.757991e+09   \n",
      "6            13  1.757984e+09   \n",
      "7            59  1.757993e+09   \n",
      "8            31  1.758003e+09   \n",
      "9           320  1.757978e+09   \n",
      "\n",
      "                                                 url  \n",
      "0  https://www.reddit.com/r/AFL/comments/1nh6qqe/...  \n",
      "1  https://www.nine.com.au/sport/afl/news-2025-ge...  \n",
      "2  https://7news.com.au/sport/afl/north-melbourne...  \n",
      "3                           https://archive.is/igeDr  \n",
      "4               https://i.redd.it/zf8e79u8pfpf1.jpeg  \n",
      "5                https://i.redd.it/1ym1qab5zfpf1.png  \n",
      "6               https://i.redd.it/i7qd8ybvbfpf1.jpeg  \n",
      "7               https://i.redd.it/k01oztoa3gpf1.jpeg  \n",
      "8             https://www.reddit.com/gallery/1ni9n1l  \n",
      "9               https://i.redd.it/a18tyfziwepf1.jpeg  \n"
     ]
    }
   ],
   "source": [
    "\n",
    "# credentials\n",
    "CLIENT_ID = \"dqXuuOK3P0c5rM9twm71nw\"\n",
    "CLIENT_SECRET = \"bATSC1DE_28YvrYs2vDm2Noc8LG9Tg\"\n",
    "USER_AGENT = \"AFL-sentiment-script:v1.0 (by u/GoldRelative4814)\"\n",
    "\n",
    "# Connect to Reddit API\n",
    "reddit = praw.Reddit(\n",
    "    client_id=CLIENT_ID,\n",
    "    client_secret=CLIENT_SECRET,\n",
    "    user_agent=USER_AGENT\n",
    ")\n",
    "\n",
    "# pull 10 hottest posts from r/AFL\n",
    "subreddit = reddit.subreddit(\"AFL\")\n",
    "posts = []\n",
    "for post in subreddit.hot(limit=10):\n",
    "    posts.append({\n",
    "        \"id\": post.id,\n",
    "        \"title\": post.title,\n",
    "        \"score\": post.score,\n",
    "        \"num_comments\": post.num_comments,\n",
    "        \"created_utc\": post.created_utc,\n",
    "        \"url\": post.url\n",
    "    })\n",
    "\n",
    "df_posts = pd.DataFrame(posts)\n",
    "print(df_posts)"
   ]
  },
  {
   "cell_type": "code",
   "execution_count": 9,
   "id": "9b461e3b",
   "metadata": {},
   "outputs": [
    {
     "name": "stdout",
     "output_type": "stream",
     "text": [
      "        id                author  score   created_utc  \\\n",
      "0  ne9jn2m          JRicho_Sauce    129  1.757896e+09   \n",
      "1  ne9o6cn                  woka     49  1.757898e+09   \n",
      "2  nea2ks1  Swimming-Session8806     21  1.757903e+09   \n",
      "3  ne9trev  Specialist_Current98     11  1.757900e+09   \n",
      "4  ne9qnp5          AlexJokerHAL     15  1.757899e+09   \n",
      "\n",
      "                                                body  \n",
      "0  Pretty confident it’s random from waiting room...  \n",
      "1  Wait until you try and pay and you get a gatew...  \n",
      "2  MCC are to blame for this.  \\n\\nPrelim(s) shou...  \n",
      "3  A couple months ago, my brother, dad and mysel...  \n",
      "4  MCC - Oh well. Guess you have to go line up at...  \n"
     ]
    }
   ],
   "source": [
    "# Example: fetch comments from the first post\n",
    "submission = reddit.submission(id=df_posts.loc[0, \"id\"])\n",
    "submission.comments.replace_more(limit=None)  # load all nested comments\n",
    "\n",
    "comments = []\n",
    "for comment in submission.comments.list():\n",
    "    comments.append({\n",
    "        \"id\": comment.id,\n",
    "        \"author\": str(comment.author),\n",
    "        \"score\": comment.score,\n",
    "        \"created_utc\": comment.created_utc,\n",
    "        \"body\": comment.body\n",
    "    })\n",
    "\n",
    "df_comments = pd.DataFrame(comments)\n",
    "print(df_comments.head())\n",
    "\n",
    "# Save to CSV\n",
    "df_comments.to_csv(\"afl_comments.csv\", index=False)"
   ]
  },
  {
   "cell_type": "code",
   "execution_count": 11,
   "id": "d78a4c3b",
   "metadata": {},
   "outputs": [
    {
     "data": {
      "text/html": [
       "<div>\n",
       "<style scoped>\n",
       "    .dataframe tbody tr th:only-of-type {\n",
       "        vertical-align: middle;\n",
       "    }\n",
       "\n",
       "    .dataframe tbody tr th {\n",
       "        vertical-align: top;\n",
       "    }\n",
       "\n",
       "    .dataframe thead th {\n",
       "        text-align: right;\n",
       "    }\n",
       "</style>\n",
       "<table border=\"1\" class=\"dataframe\">\n",
       "  <thead>\n",
       "    <tr style=\"text-align: right;\">\n",
       "      <th></th>\n",
       "      <th>id</th>\n",
       "      <th>author</th>\n",
       "      <th>score</th>\n",
       "      <th>created_utc</th>\n",
       "      <th>body</th>\n",
       "    </tr>\n",
       "  </thead>\n",
       "  <tbody>\n",
       "    <tr>\n",
       "      <th>0</th>\n",
       "      <td>ne9jn2m</td>\n",
       "      <td>JRicho_Sauce</td>\n",
       "      <td>129</td>\n",
       "      <td>1.757896e+09</td>\n",
       "      <td>Pretty confident it’s random from waiting room...</td>\n",
       "    </tr>\n",
       "    <tr>\n",
       "      <th>1</th>\n",
       "      <td>ne9o6cn</td>\n",
       "      <td>woka</td>\n",
       "      <td>49</td>\n",
       "      <td>1.757898e+09</td>\n",
       "      <td>Wait until you try and pay and you get a gatew...</td>\n",
       "    </tr>\n",
       "    <tr>\n",
       "      <th>2</th>\n",
       "      <td>nea2ks1</td>\n",
       "      <td>Swimming-Session8806</td>\n",
       "      <td>21</td>\n",
       "      <td>1.757903e+09</td>\n",
       "      <td>MCC are to blame for this.  \\n\\nPrelim(s) shou...</td>\n",
       "    </tr>\n",
       "    <tr>\n",
       "      <th>3</th>\n",
       "      <td>ne9trev</td>\n",
       "      <td>Specialist_Current98</td>\n",
       "      <td>11</td>\n",
       "      <td>1.757900e+09</td>\n",
       "      <td>A couple months ago, my brother, dad and mysel...</td>\n",
       "    </tr>\n",
       "    <tr>\n",
       "      <th>4</th>\n",
       "      <td>ne9qnp5</td>\n",
       "      <td>AlexJokerHAL</td>\n",
       "      <td>15</td>\n",
       "      <td>1.757899e+09</td>\n",
       "      <td>MCC - Oh well. Guess you have to go line up at...</td>\n",
       "    </tr>\n",
       "    <tr>\n",
       "      <th>...</th>\n",
       "      <td>...</td>\n",
       "      <td>...</td>\n",
       "      <td>...</td>\n",
       "      <td>...</td>\n",
       "      <td>...</td>\n",
       "    </tr>\n",
       "    <tr>\n",
       "      <th>118</th>\n",
       "      <td>neboian</td>\n",
       "      <td>nuffiealert</td>\n",
       "      <td>3</td>\n",
       "      <td>1.757933e+09</td>\n",
       "      <td>What a bizarre narrative you have created ther...</td>\n",
       "    </tr>\n",
       "    <tr>\n",
       "      <th>119</th>\n",
       "      <td>nebaa9z</td>\n",
       "      <td>hamleyn248</td>\n",
       "      <td>0</td>\n",
       "      <td>1.757925e+09</td>\n",
       "      <td>Thanks. That's super helpful. You know what th...</td>\n",
       "    </tr>\n",
       "    <tr>\n",
       "      <th>120</th>\n",
       "      <td>nebu4eu</td>\n",
       "      <td>BustedWing</td>\n",
       "      <td>0</td>\n",
       "      <td>1.757936e+09</td>\n",
       "      <td>I mean, if you say so!</td>\n",
       "    </tr>\n",
       "    <tr>\n",
       "      <th>121</th>\n",
       "      <td>nebafmy</td>\n",
       "      <td>identikit12</td>\n",
       "      <td>1</td>\n",
       "      <td>1.757925e+09</td>\n",
       "      <td>I do - and you’re the only one who assumed any...</td>\n",
       "    </tr>\n",
       "    <tr>\n",
       "      <th>122</th>\n",
       "      <td>nebw6ii</td>\n",
       "      <td>nuffiealert</td>\n",
       "      <td>1</td>\n",
       "      <td>1.757937e+09</td>\n",
       "      <td>I just did</td>\n",
       "    </tr>\n",
       "  </tbody>\n",
       "</table>\n",
       "<p>123 rows × 5 columns</p>\n",
       "</div>"
      ],
      "text/plain": [
       "          id                author  score   created_utc  \\\n",
       "0    ne9jn2m          JRicho_Sauce    129  1.757896e+09   \n",
       "1    ne9o6cn                  woka     49  1.757898e+09   \n",
       "2    nea2ks1  Swimming-Session8806     21  1.757903e+09   \n",
       "3    ne9trev  Specialist_Current98     11  1.757900e+09   \n",
       "4    ne9qnp5          AlexJokerHAL     15  1.757899e+09   \n",
       "..       ...                   ...    ...           ...   \n",
       "118  neboian           nuffiealert      3  1.757933e+09   \n",
       "119  nebaa9z            hamleyn248      0  1.757925e+09   \n",
       "120  nebu4eu            BustedWing      0  1.757936e+09   \n",
       "121  nebafmy           identikit12      1  1.757925e+09   \n",
       "122  nebw6ii           nuffiealert      1  1.757937e+09   \n",
       "\n",
       "                                                  body  \n",
       "0    Pretty confident it’s random from waiting room...  \n",
       "1    Wait until you try and pay and you get a gatew...  \n",
       "2    MCC are to blame for this.  \\n\\nPrelim(s) shou...  \n",
       "3    A couple months ago, my brother, dad and mysel...  \n",
       "4    MCC - Oh well. Guess you have to go line up at...  \n",
       "..                                                 ...  \n",
       "118  What a bizarre narrative you have created ther...  \n",
       "119  Thanks. That's super helpful. You know what th...  \n",
       "120                             I mean, if you say so!  \n",
       "121  I do - and you’re the only one who assumed any...  \n",
       "122                                         I just did  \n",
       "\n",
       "[123 rows x 5 columns]"
      ]
     },
     "execution_count": 11,
     "metadata": {},
     "output_type": "execute_result"
    }
   ],
   "source": [
    "df_comments"
   ]
  },
  {
   "cell_type": "code",
   "execution_count": 10,
   "id": "031c532b",
   "metadata": {},
   "outputs": [
    {
     "data": {
      "text/html": [
       "<div>\n",
       "<style scoped>\n",
       "    .dataframe tbody tr th:only-of-type {\n",
       "        vertical-align: middle;\n",
       "    }\n",
       "\n",
       "    .dataframe tbody tr th {\n",
       "        vertical-align: top;\n",
       "    }\n",
       "\n",
       "    .dataframe thead th {\n",
       "        text-align: right;\n",
       "    }\n",
       "</style>\n",
       "<table border=\"1\" class=\"dataframe\">\n",
       "  <thead>\n",
       "    <tr style=\"text-align: right;\">\n",
       "      <th></th>\n",
       "      <th>id</th>\n",
       "      <th>title</th>\n",
       "      <th>score</th>\n",
       "      <th>num_comments</th>\n",
       "      <th>created_utc</th>\n",
       "      <th>url</th>\n",
       "    </tr>\n",
       "  </thead>\n",
       "  <tbody>\n",
       "    <tr>\n",
       "      <th>0</th>\n",
       "      <td>1nh6qqe</td>\n",
       "      <td>Ticketek are hopeless</td>\n",
       "      <td>73</td>\n",
       "      <td>121</td>\n",
       "      <td>1.757894e+09</td>\n",
       "      <td>https://www.reddit.com/r/AFL/comments/1nh6qqe/...</td>\n",
       "    </tr>\n",
       "    <tr>\n",
       "      <th>1</th>\n",
       "      <td>1ni3xol</td>\n",
       "      <td>AFL ripped for 'doing absolutely nothing' abou...</td>\n",
       "      <td>389</td>\n",
       "      <td>167</td>\n",
       "      <td>1.757985e+09</td>\n",
       "      <td>https://www.nine.com.au/sport/afl/news-2025-ge...</td>\n",
       "    </tr>\n",
       "    <tr>\n",
       "      <th>2</th>\n",
       "      <td>1ni87r6</td>\n",
       "      <td>North Melbourne captain Jy Simpkin exploring b...</td>\n",
       "      <td>175</td>\n",
       "      <td>225</td>\n",
       "      <td>1.757998e+09</td>\n",
       "      <td>https://7news.com.au/sport/afl/north-melbourne...</td>\n",
       "    </tr>\n",
       "    <tr>\n",
       "      <th>3</th>\n",
       "      <td>1ni9h6w</td>\n",
       "      <td>Zach Merrett is furious at reports he acted di...</td>\n",
       "      <td>127</td>\n",
       "      <td>176</td>\n",
       "      <td>1.758002e+09</td>\n",
       "      <td>https://archive.is/igeDr</td>\n",
       "    </tr>\n",
       "    <tr>\n",
       "      <th>4</th>\n",
       "      <td>1ni50ah</td>\n",
       "      <td>Wayne’s world goes wrong</td>\n",
       "      <td>178</td>\n",
       "      <td>76</td>\n",
       "      <td>1.757988e+09</td>\n",
       "      <td>https://i.redd.it/zf8e79u8pfpf1.jpeg</td>\n",
       "    </tr>\n",
       "    <tr>\n",
       "      <th>5</th>\n",
       "      <td>1ni65wv</td>\n",
       "      <td>[7News] Adelaide will ask the question of Melb...</td>\n",
       "      <td>141</td>\n",
       "      <td>106</td>\n",
       "      <td>1.757991e+09</td>\n",
       "      <td>https://i.redd.it/1ym1qab5zfpf1.png</td>\n",
       "    </tr>\n",
       "    <tr>\n",
       "      <th>6</th>\n",
       "      <td>1ni3e4f</td>\n",
       "      <td>Tom Liberatore tattoo in the style of The Simp...</td>\n",
       "      <td>165</td>\n",
       "      <td>13</td>\n",
       "      <td>1.757984e+09</td>\n",
       "      <td>https://i.redd.it/i7qd8ybvbfpf1.jpeg</td>\n",
       "    </tr>\n",
       "    <tr>\n",
       "      <th>7</th>\n",
       "      <td>1ni6mm9</td>\n",
       "      <td>Anyone thinking of going to this event?</td>\n",
       "      <td>102</td>\n",
       "      <td>59</td>\n",
       "      <td>1.757993e+09</td>\n",
       "      <td>https://i.redd.it/k01oztoa3gpf1.jpeg</td>\n",
       "    </tr>\n",
       "    <tr>\n",
       "      <th>8</th>\n",
       "      <td>1ni9n1l</td>\n",
       "      <td>Double MCG Sellout</td>\n",
       "      <td>57</td>\n",
       "      <td>31</td>\n",
       "      <td>1.758003e+09</td>\n",
       "      <td>https://www.reddit.com/gallery/1ni9n1l</td>\n",
       "    </tr>\n",
       "    <tr>\n",
       "      <th>9</th>\n",
       "      <td>1ni1gvy</td>\n",
       "      <td>[Jon Ralph] There is acceptance at Essendon th...</td>\n",
       "      <td>186</td>\n",
       "      <td>320</td>\n",
       "      <td>1.757978e+09</td>\n",
       "      <td>https://i.redd.it/a18tyfziwepf1.jpeg</td>\n",
       "    </tr>\n",
       "  </tbody>\n",
       "</table>\n",
       "</div>"
      ],
      "text/plain": [
       "        id                                              title  score  \\\n",
       "0  1nh6qqe                              Ticketek are hopeless     73   \n",
       "1  1ni3xol  AFL ripped for 'doing absolutely nothing' abou...    389   \n",
       "2  1ni87r6  North Melbourne captain Jy Simpkin exploring b...    175   \n",
       "3  1ni9h6w  Zach Merrett is furious at reports he acted di...    127   \n",
       "4  1ni50ah                           Wayne’s world goes wrong    178   \n",
       "5  1ni65wv  [7News] Adelaide will ask the question of Melb...    141   \n",
       "6  1ni3e4f  Tom Liberatore tattoo in the style of The Simp...    165   \n",
       "7  1ni6mm9            Anyone thinking of going to this event?    102   \n",
       "8  1ni9n1l                                 Double MCG Sellout     57   \n",
       "9  1ni1gvy  [Jon Ralph] There is acceptance at Essendon th...    186   \n",
       "\n",
       "   num_comments   created_utc  \\\n",
       "0           121  1.757894e+09   \n",
       "1           167  1.757985e+09   \n",
       "2           225  1.757998e+09   \n",
       "3           176  1.758002e+09   \n",
       "4            76  1.757988e+09   \n",
       "5           106  1.757991e+09   \n",
       "6            13  1.757984e+09   \n",
       "7            59  1.757993e+09   \n",
       "8            31  1.758003e+09   \n",
       "9           320  1.757978e+09   \n",
       "\n",
       "                                                 url  \n",
       "0  https://www.reddit.com/r/AFL/comments/1nh6qqe/...  \n",
       "1  https://www.nine.com.au/sport/afl/news-2025-ge...  \n",
       "2  https://7news.com.au/sport/afl/north-melbourne...  \n",
       "3                           https://archive.is/igeDr  \n",
       "4               https://i.redd.it/zf8e79u8pfpf1.jpeg  \n",
       "5                https://i.redd.it/1ym1qab5zfpf1.png  \n",
       "6               https://i.redd.it/i7qd8ybvbfpf1.jpeg  \n",
       "7               https://i.redd.it/k01oztoa3gpf1.jpeg  \n",
       "8             https://www.reddit.com/gallery/1ni9n1l  \n",
       "9               https://i.redd.it/a18tyfziwepf1.jpeg  "
      ]
     },
     "execution_count": 10,
     "metadata": {},
     "output_type": "execute_result"
    }
   ],
   "source": [
    "df_posts"
   ]
  },
  {
   "cell_type": "markdown",
   "id": "7daf9343",
   "metadata": {},
   "source": [
    "## Scale up"
   ]
  },
  {
   "cell_type": "markdown",
   "id": "2f737d49",
   "metadata": {},
   "source": [
    "### Posts"
   ]
  },
  {
   "cell_type": "code",
   "execution_count": 75,
   "id": "7f43c19c",
   "metadata": {},
   "outputs": [],
   "source": [
    "# credentials\n",
    "CLIENT_ID = \"dqXuuOK3P0c5rM9twm71nw\"\n",
    "CLIENT_SECRET = \"bATSC1DE_28YvrYs2vDm2Noc8LG9Tg\"\n",
    "USER_AGENT = \"AFL-sentiment-script:v1.0 (by u/GoldRelative4814)\"\n",
    "\n",
    "# Connect to Reddit API\n",
    "reddit = praw.Reddit(\n",
    "    client_id=CLIENT_ID,\n",
    "    client_secret=CLIENT_SECRET,\n",
    "    user_agent=USER_AGENT\n",
    ")\n",
    "\n",
    "\n",
    "# -----------------------------\n",
    "# 2) Config\n",
    "# -----------------------------\n",
    "SUBREDDIT = \"AFL\"\n",
    "OUT_POSTS = \"afl_posts.parquet\" # incremental append\n",
    "CHECKPOINT = \"afl_posts_checkpoint.json\"\n",
    "\n",
    "# Season window in UTC \n",
    "SEASON_START = dt.datetime(2025, 8, 1, tzinfo=dt.timezone.utc)\n",
    "SEASON_END   = dt.datetime(2025, 8, 31, tzinfo=dt.timezone.utc)\n",
    "\n",
    "# Save every N matched posts to avoid losing work\n",
    "SAVE_EVERY = 100\n",
    "\n",
    "# -----------------------------\n",
    "# 3) Helpers\n",
    "# -----------------------------\n",
    "def load_checkpoint():\n",
    "    if os.path.exists(CHECKPOINT):\n",
    "        with open(CHECKPOINT, \"r\") as f:\n",
    "            return json.load(f)\n",
    "    return {\"last_created_utc\": None, \"seen_ids\": []}\n",
    "\n",
    "def save_checkpoint(state):\n",
    "    with open(CHECKPOINT, \"w\") as f:\n",
    "        json.dump(state, f)\n",
    "\n",
    "def rate_limit_backoff(attempt):\n",
    "    # Exponential backoff with jitter (cap at ~2 minutes)\n",
    "    sleep_s = min(120, (2 ** min(attempt, 6)) + random.uniform(0, 1))\n",
    "    time.sleep(sleep_s)\n",
    "\n",
    "def title_matches(t):\n",
    "    t_low = (t or \"\").lower()\n",
    "    return any(k in t_low for k in TITLE_KEYWORDS)\n",
    "\n",
    "def within_season(ts_utc):\n",
    "    return SEASON_START.timestamp() <= ts_utc <= SEASON_END.timestamp()\n",
    "\n",
    "def to_dt(ts_utc):\n",
    "    return dt.datetime.utcfromtimestamp(ts_utc).replace(tzinfo=dt.timezone.utc)\n",
    "\n",
    "def append_parquet(df, path):\n",
    "    if df.empty:\n",
    "        return\n",
    "    if not os.path.exists(path):\n",
    "        df.to_parquet(path, index=False)\n",
    "    else:\n",
    "        # append by reading and concatenating (simple + safe)\n",
    "        old = pd.read_parquet(path)\n",
    "        out = pd.concat([old, df], ignore_index=True)\n",
    "        out.drop_duplicates(subset=[\"id\"], inplace=True)\n",
    "        out.to_parquet(path, index=False)\n",
    "\n",
    "def append_csv(df, path):\n",
    "    if df.empty:\n",
    "        return\n",
    "    if not os.path.exists(path):\n",
    "        df.to_csv(path, index=False)\n",
    "    else:\n",
    "        df.to_csv(path, mode=\"a\", header=False, index=False)\n",
    "\n",
    "# -----------------------------\n",
    "# 4) Harvest posts for a season\n",
    "# -----------------------------\n",
    "def harvest_season_posts():\n",
    "    state = load_checkpoint()\n",
    "    seen_ids = set(state.get(\"seen_ids\", []))\n",
    "    last_created_utc = state.get(\"last_created_utc\")\n",
    "\n",
    "    sub = reddit.subreddit(SUBREDDIT)\n",
    "\n",
    "    # We’ll iterate from newest to oldest; stop when we pass SEASON_START\n",
    "    matched = []\n",
    "    total_seen = 0\n",
    "    saved = 0\n",
    "    attempt = 0\n",
    "\n",
    "    print(f\"Scanning r/{SUBREDDIT} .new() for season window \"\n",
    "          f\"{SEASON_START.date()} — {SEASON_END.date()} (UTC).\")\n",
    "\n",
    "    while True:\n",
    "        try:\n",
    "            # PRAW paginates for us; limit=None walks through history\n",
    "            for post in sub.new(limit=None):\n",
    "                total_seen += 1\n",
    "\n",
    "                # Stop if we've gone past season start\n",
    "                if post.created_utc < SEASON_START.timestamp():\n",
    "                    print(\"Reached posts older than SEASON_START; stopping.\")\n",
    "                    raise StopIteration\n",
    "\n",
    "                # Skip if beyond season end (we’re going backward in time, so this just continues)\n",
    "                if post.created_utc > SEASON_END.timestamp():\n",
    "                    continue\n",
    "\n",
    "                # Skip duplicates\n",
    "                if post.id in seen_ids:\n",
    "                    continue\n",
    "\n",
    "                # # Filter by title keywords if desired\n",
    "                # if not title_matches(post.title):\n",
    "                #     continue\n",
    "\n",
    "                matched.append({\n",
    "                    \"id\": post.id,\n",
    "                    \"title\": post.title,\n",
    "                    \"author\": str(post.author) if post.author else None,\n",
    "                    \"score\": post.score,\n",
    "                    \"num_comments\": post.num_comments,\n",
    "                    \"created_utc\": post.created_utc,\n",
    "                    \"created_datetime_utc\": to_dt(post.created_utc).isoformat(),\n",
    "                    \"url\": post.url,\n",
    "                    \"permalink\": f\"https://www.reddit.com{post.permalink}\",\n",
    "                    \"subreddit\": str(post.subreddit),\n",
    "                    \"over_18\": post.over_18,\n",
    "                    \"locked\": post.locked,\n",
    "                    \"stickied\": post.stickied,\n",
    "                    \"is_self\": post.is_self,\n",
    "                    \"selftext\": post.selftext if post.is_self else None,\n",
    "                })\n",
    "                seen_ids.add(post.id)\n",
    "\n",
    "                # Periodic save\n",
    "                if len(matched) >= SAVE_EVERY:\n",
    "                    df = pd.DataFrame(matched)\n",
    "                    append_csv(df, OUT_POSTS.replace(\".parquet\", \".csv\"))\n",
    "                    saved += len(df)\n",
    "                    matched.clear()\n",
    "                    # update checkpoint\n",
    "                    state = {\n",
    "                        \"last_created_utc\": post.created_utc,\n",
    "                        \"seen_ids\": list(seen_ids),\n",
    "                    }\n",
    "                    save_checkpoint(state)\n",
    "                    print(f\"Saved {saved} posts so far \"\n",
    "                          f\"(total scanned: {total_seen:,}).\")\n",
    "            # If loop exhausts (rare), break\n",
    "            break\n",
    "\n",
    "        except StopIteration:\n",
    "            # Save what we have and exit cleanly\n",
    "            if matched:\n",
    "                df = pd.DataFrame(matched)\n",
    "                append_csv(df, OUT_POSTS.replace(\".parquet\", \".csv\"))\n",
    "                saved += len(df)\n",
    "                matched.clear()\n",
    "            state = {\n",
    "                \"last_created_utc\": last_created_utc,\n",
    "                \"seen_ids\": list(seen_ids),\n",
    "            }\n",
    "            save_checkpoint(state)\n",
    "            print(f\"Done. Total scanned: {total_seen:,}. Total saved: {saved}.\")\n",
    "            return\n",
    "\n",
    "        except (TooManyRequests, ServerError, RequestException, ResponseException, Forbidden) as e:\n",
    "            attempt += 1\n",
    "            print(f\"[WARN] API/Ratelimit error ({type(e).__name__}): {e}. \"\n",
    "                  f\"Backing off (attempt {attempt})…\")\n",
    "            rate_limit_backoff(attempt)\n",
    "            # loop continues and resumes\n",
    "\n",
    "    # Final flush\n",
    "    if matched:\n",
    "        df = pd.DataFrame(matched)\n",
    "        append_csv(df, OUT_POSTS.replace(\".parquet\", \".csv\"))\n",
    "        saved += len(df)\n",
    "        matched.clear()\n",
    "    state = {\n",
    "        \"last_created_utc\": last_created_utc,\n",
    "        \"seen_ids\": list(seen_ids),\n",
    "    }\n",
    "    save_checkpoint(state)\n",
    "    print(f\"Complete. Total scanned: {total_seen:,}. Total saved: {saved}.\")\n"
   ]
  },
  {
   "cell_type": "code",
   "execution_count": 76,
   "id": "56c884bb",
   "metadata": {},
   "outputs": [
    {
     "name": "stdout",
     "output_type": "stream",
     "text": [
      "Scanning r/AFL .new() for season window 2025-08-01 — 2025-08-31 (UTC).\n",
      "Complete. Total scanned: 990. Total saved: 0.\n"
     ]
    }
   ],
   "source": [
    "# -----------------------------\n",
    "# 6) Run\n",
    "# -----------------------------\n",
    "if __name__ == \"__main__\":\n",
    "    harvest_season_posts()"
   ]
  },
  {
   "cell_type": "code",
   "execution_count": 4,
   "id": "25ec4394",
   "metadata": {},
   "outputs": [],
   "source": [
    "# Version2\n",
    "# helper backoff\n",
    "def rate_limit_backoff(attempt):\n",
    "    time.sleep(min(120, (2 ** min(attempt, 6)) + random.uniform(0, 1)))\n",
    "\n",
    "def _write_csv_append(df, path):\n",
    "    if df.empty: return 0\n",
    "    header = not os.path.exists(path)\n",
    "    df.to_csv(path, mode=\"a\", header=header, index=False)\n",
    "    return len(df)\n",
    "\n",
    "def _epoch(dt_utc):  # datetime -> epoch seconds\n",
    "    return int(dt_utc.timestamp())\n",
    "\n",
    "def harvest_by_time_chunks(reddit, start_utc: dt.datetime, end_utc: dt.datetime):\n",
    "    \"\"\"Fetch posts via timestamp search in small chunks to avoid listing cap.\"\"\"\n",
    "    assert start_utc.tzinfo and end_utc.tzinfo, \"Use tz-aware UTC datetimes\"\n",
    "    sr = reddit.subreddit(SUBREDDIT)\n",
    "\n",
    "    # load seen ids from disk to avoid duplicates\n",
    "    seen = set()\n",
    "    if os.path.exists(OUT_CSV):\n",
    "        try:\n",
    "            for ch in pd.read_csv(OUT_CSV, usecols=[\"id\"], chunksize=200_000, dtype={\"id\": str}):\n",
    "                seen.update(ch[\"id\"].astype(str))\n",
    "        except Exception:\n",
    "            pass\n",
    "\n",
    "    saved_total = 0\n",
    "    attempt = 0\n",
    "\n",
    "    # walk windows newest->oldest (optional direction)\n",
    "    chunk = dt.timedelta(days=CHUNK_DAYS)\n",
    "    cur_end = end_utc\n",
    "    while cur_end > start_utc:\n",
    "        cur_start = max(start_utc, cur_end - chunk)\n",
    "\n",
    "        q = f\"timestamp:{_epoch(cur_start)}..{_epoch(cur_end)}\"\n",
    "        print(f\"Querying {cur_start.date()} → {cur_end.date()}\")\n",
    "\n",
    "        try:\n",
    "            rows = []\n",
    "            # restrict_sr ensures we only search r/AFL\n",
    "            for post in sr.search(q, sort=\"new\", syntax=\"cloudsearch\", limit=None, params={\"restrict_sr\": \"on\"}):\n",
    "                if post.id in seen:\n",
    "                    continue\n",
    "                rows.append({\n",
    "                    \"id\": post.id,\n",
    "                    \"title\": post.title,\n",
    "                    \"author\": str(post.author) if post.author else None,\n",
    "                    \"score\": post.score,\n",
    "                    \"num_comments\": post.num_comments,\n",
    "                    \"created_utc\": post.created_utc,\n",
    "                    \"created_datetime_utc\": dt.datetime.utcfromtimestamp(post.created_utc).replace(tzinfo=dt.timezone.utc).isoformat(),\n",
    "                    \"url\": post.url,\n",
    "                    \"permalink\": f\"https://www.reddit.com{post.permalink}\",\n",
    "                    \"subreddit\": str(post.subreddit),\n",
    "                    \"over_18\": post.over_18,\n",
    "                    \"locked\": post.locked,\n",
    "                    \"stickied\": post.stickied,\n",
    "                    \"is_self\": post.is_self,\n",
    "                    \"selftext\": post.selftext if post.is_self else None,\n",
    "                })\n",
    "                seen.add(post.id)\n",
    "\n",
    "                # periodic flush\n",
    "                if len(rows) >= SAVE_EVERY:\n",
    "                    saved = _write_csv_append(pd.DataFrame(rows), OUT_CSV)\n",
    "                    saved_total += saved\n",
    "                    rows.clear()\n",
    "                    print(f\"Saved {saved_total} so far…\")\n",
    "\n",
    "            # final flush for this chunk\n",
    "            if rows:\n",
    "                saved = _write_csv_append(pd.DataFrame(rows), OUT_CSV)\n",
    "                saved_total += saved\n",
    "                rows.clear()\n",
    "                print(f\"Saved {saved_total} so far…\")\n",
    "\n",
    "            # move to previous chunk\n",
    "            cur_end = cur_start\n",
    "            attempt = 0  # reset retry counter\n",
    "\n",
    "        except (TooManyRequests, ServerError, RequestException, ResponseException, Forbidden) as e:\n",
    "            attempt += 1\n",
    "            print(f\"[WARN] API error: {type(e).__name__}: {e}. Backing off…\")\n",
    "            rate_limit_backoff(attempt)\n",
    "\n",
    "    print(f\"Done. Total saved this run: {saved_total}\")"
   ]
  },
  {
   "cell_type": "code",
   "execution_count": 5,
   "id": "e0166cc9",
   "metadata": {},
   "outputs": [],
   "source": [
    "# credentials\n",
    "CLIENT_ID = \"0KyeTUkOGI_aCRThrKdW8A\"\n",
    "CLIENT_SECRET = \"XJobdO1yHPePWuFO8NwACSh_V1X36Q\"\n",
    "USER_AGENT = \"AFL-sentiment-script:v2.0 (by u/GoldRelative4814)\"\n",
    "\n",
    "\n",
    "# Connect to Reddit API\n",
    "reddit = praw.Reddit(\n",
    "    client_id=CLIENT_ID,\n",
    "    client_secret=CLIENT_SECRET,\n",
    "    user_agent=USER_AGENT\n",
    ")"
   ]
  },
  {
   "cell_type": "code",
   "execution_count": 6,
   "id": "522bcb84",
   "metadata": {},
   "outputs": [
    {
     "name": "stdout",
     "output_type": "stream",
     "text": [
      "Querying 2025-07-29 → 2025-07-31\n",
      "Querying 2025-07-27 → 2025-07-29\n",
      "Querying 2025-07-25 → 2025-07-27\n",
      "Querying 2025-07-23 → 2025-07-25\n",
      "Querying 2025-07-21 → 2025-07-23\n",
      "Querying 2025-07-19 → 2025-07-21\n",
      "Querying 2025-07-17 → 2025-07-19\n",
      "Querying 2025-07-15 → 2025-07-17\n",
      "Querying 2025-07-13 → 2025-07-15\n",
      "Querying 2025-07-11 → 2025-07-13\n",
      "Querying 2025-07-09 → 2025-07-11\n",
      "Querying 2025-07-07 → 2025-07-09\n",
      "Querying 2025-07-05 → 2025-07-07\n",
      "Querying 2025-07-03 → 2025-07-05\n",
      "Querying 2025-07-01 → 2025-07-03\n",
      "Done. Total saved this run: 0\n"
     ]
    }
   ],
   "source": [
    "# ----- config you already have -----\n",
    "SUBREDDIT = \"AFL\"\n",
    "OUT_CSV   = \"afl_posts.csv\"\n",
    "CKPT      = \"afl_posts_checkpoint.json\"   # per-project; optional\n",
    "CHUNK_DAYS = 2                             # 1–3 days is usually good\n",
    "SAVE_EVERY = 200\n",
    "\n",
    "SEASON_START = dt.datetime(2025, 7, 1, tzinfo=dt.timezone.utc)\n",
    "SEASON_END   = dt.datetime(2025, 7, 31, tzinfo=dt.timezone.utc)\n",
    "\n",
    "harvest_by_time_chunks(reddit, SEASON_START, SEASON_END)"
   ]
  },
  {
   "cell_type": "code",
   "execution_count": 82,
   "id": "ec7ba0de",
   "metadata": {},
   "outputs": [],
   "source": [
    "df_check = pd.read_csv(\"afl_posts.csv\")"
   ]
  },
  {
   "cell_type": "code",
   "execution_count": 78,
   "id": "91f530c6",
   "metadata": {},
   "outputs": [
    {
     "data": {
      "text/plain": [
       "0       1nickz6\n",
       "1       1nic2vv\n",
       "2       1nibktl\n",
       "3       1nibhj5\n",
       "4       1nibdt3\n",
       "         ...   \n",
       "1052    1nieywu\n",
       "1053    1nidwf7\n",
       "1054    1nidttk\n",
       "1055    1nidted\n",
       "1056    1nid9il\n",
       "Name: id, Length: 1057, dtype: object"
      ]
     },
     "execution_count": 78,
     "metadata": {},
     "output_type": "execute_result"
    }
   ],
   "source": [
    "new_list = df_check.id\n",
    "new_list"
   ]
  },
  {
   "cell_type": "code",
   "execution_count": 79,
   "id": "92497504",
   "metadata": {},
   "outputs": [
    {
     "data": {
      "text/plain": [
       "[]"
      ]
     },
     "execution_count": 79,
     "metadata": {},
     "output_type": "execute_result"
    }
   ],
   "source": [
    "\n",
    "diff_a = list(set(new_list) - set(old_list))  \n",
    "diff_a"
   ]
  },
  {
   "cell_type": "code",
   "execution_count": 74,
   "id": "bb1e6619",
   "metadata": {},
   "outputs": [
    {
     "data": {
      "text/plain": [
       "0       1nickz6\n",
       "1       1nic2vv\n",
       "2       1nibktl\n",
       "3       1nibhj5\n",
       "4       1nibdt3\n",
       "         ...   \n",
       "1052    1nieywu\n",
       "1053    1nidwf7\n",
       "1054    1nidttk\n",
       "1055    1nidted\n",
       "1056    1nid9il\n",
       "Name: id, Length: 1057, dtype: object"
      ]
     },
     "execution_count": 74,
     "metadata": {},
     "output_type": "execute_result"
    }
   ],
   "source": [
    "old_list = df_check.id\n",
    "old_list"
   ]
  },
  {
   "cell_type": "markdown",
   "id": "4ff0b522",
   "metadata": {},
   "source": [
    "### Comments"
   ]
  },
  {
   "cell_type": "code",
   "execution_count": null,
   "id": "79a6a8af",
   "metadata": {},
   "outputs": [],
   "source": [
    "# credentials\n",
    "CLIENT_ID = \"dqXuuOK3P0c5rM9twm71nw\"\n",
    "CLIENT_SECRET = \"bATSC1DE_28YvrYs2vDm2Noc8LG9Tg\"\n",
    "USER_AGENT = \"AFL-sentiment-script:v1.0 (by u/GoldRelative4814)\"\n",
    "\n",
    "# Connect to Reddit API\n",
    "reddit = praw.Reddit(\n",
    "    client_id=CLIENT_ID,\n",
    "    client_secret=CLIENT_SECRET,\n",
    "    user_agent=USER_AGENT\n",
    ")\n",
    "\n",
    "def to_dt(ts_utc):\n",
    "    return dt.datetime.utcfromtimestamp(ts_utc).replace(tzinfo=dt.timezone.utc)\n",
    "\n",
    "    \n",
    "def _load_existing_comment_ids(csv_path: str, id_col: str = \"id\") -> set:\n",
    "    \"\"\"Load existing comment IDs from an existing CSV (fast enough for typical sizes).\"\"\"\n",
    "    if not os.path.exists(csv_path):\n",
    "        return set()\n",
    "    ids = set()\n",
    "    # Read in chunks to keep memory sane\n",
    "    for chunk in pd.read_csv(csv_path, usecols=[id_col], chunksize=200_000, dtype={id_col: str}):\n",
    "        ids.update(chunk[id_col].astype(str).tolist())\n",
    "    return ids\n",
    "\n",
    "def _flush_comments_csv(rows, out_csv, seen_ids):\n",
    "    \"\"\"Append unique rows to CSV; update seen_ids.\"\"\"\n",
    "    if not rows:\n",
    "        return 0\n",
    "    df = pd.DataFrame(rows)\n",
    "    # ensure string ids\n",
    "    df[\"id\"] = df[\"id\"].astype(str)\n",
    "    # drop any dupes already in file\n",
    "    df = df[~df[\"id\"].isin(seen_ids)]\n",
    "    if df.empty:\n",
    "        rows.clear()\n",
    "        return 0\n",
    "    write_header = not os.path.exists(out_csv)\n",
    "    df.to_csv(out_csv, mode=\"a\", header=write_header, index=False, quoting=csv.QUOTE_MINIMAL)\n",
    "    # update seen set\n",
    "    seen_ids.update(df[\"id\"].tolist())\n",
    "    rows.clear()\n",
    "    return len(df)\n",
    "\n",
    "def fetch_comments_for_posts_csv(posts_csv=\"afl_posts.csv\",\n",
    "                                 out_csv=\"afl_comments.csv\",\n",
    "                                 checkpoint_path=\"afl_comments.ckpt\",\n",
    "                                 max_depth=None,\n",
    "                                 flush_every=5000):\n",
    "    \"\"\"\n",
    "    Read submission IDs from posts_csv (must have a column 'id'),\n",
    "    fetch all comments for each submission, and append to out_csv (CSV).\n",
    "    Respects rate limits with backoff and can resume via checkpoint.\n",
    "    \"\"\"\n",
    "    if not os.path.exists(posts_csv):\n",
    "        print(\"No posts file found.\")\n",
    "        return\n",
    "\n",
    "    # Load post IDs\n",
    "    posts = pd.read_csv(posts_csv, usecols=[\"id\"], dtype={\"id\": str}).dropna()\n",
    "    all_ids = posts[\"id\"].astype(str).unique().tolist()\n",
    "    if not all_ids:\n",
    "        print(\"No submission IDs found in posts CSV.\")\n",
    "        return\n",
    "\n",
    "    # Resume support\n",
    "    start_index = 0\n",
    "    if os.path.exists(checkpoint_path):\n",
    "        try:\n",
    "            with open(checkpoint_path, \"r\", encoding=\"utf-8\") as f:\n",
    "                ckpt_sid = f.read().strip()\n",
    "            if ckpt_sid in all_ids:\n",
    "                start_index = all_ids.index(ckpt_sid)\n",
    "        except Exception:\n",
    "            pass\n",
    "\n",
    "    # De-dupe against existing comments on disk\n",
    "    seen_comment_ids = _load_existing_comment_ids(out_csv, id_col=\"id\")\n",
    "    print(f\"Loaded {len(seen_comment_ids):,} existing comment IDs from {out_csv}.\")\n",
    "\n",
    "    comments_buf = []\n",
    "    saved_total = 0\n",
    "    attempt = 0\n",
    "\n",
    "    def flush():\n",
    "        nonlocal comments_buf, saved_total\n",
    "        saved_now = _flush_comments_csv(comments_buf, out_csv, seen_comment_ids)\n",
    "        saved_total += saved_now\n",
    "        if saved_now:\n",
    "            print(f\"Saved {saved_now} comments (total {saved_total:,}).\")\n",
    "\n",
    "    for idx in range(start_index, len(all_ids)):\n",
    "        sid = all_ids[idx]\n",
    "\n",
    "        while True:\n",
    "            try:\n",
    "                subm = reddit.submission(id=sid)\n",
    "                # Expand comments; max_depth: None = all, 0 = none\n",
    "                subm.comments.replace_more(limit=max_depth)\n",
    "\n",
    "                for c in subm.comments.list():\n",
    "                    comments_buf.append({\n",
    "                        \"id\": str(c.id),\n",
    "                        \"link_id\": getattr(c, \"link_id\", None),\n",
    "                        \"parent_id\": getattr(c, \"parent_id\", None),\n",
    "                        \"submission_id\": sid,\n",
    "                        \"author\": str(c.author) if c.author else None,\n",
    "                        \"score\": c.score,\n",
    "                        \"created_utc\": c.created_utc,\n",
    "                        \"created_datetime_utc\": to_dt(c.created_utc).isoformat() if getattr(c, \"created_utc\", None) else None,\n",
    "                        \"body\": c.body,\n",
    "                    })\n",
    "                    if len(comments_buf) >= flush_every:\n",
    "                        flush()\n",
    "\n",
    "                # checkpoint after each submission\n",
    "                flush()\n",
    "                with open(checkpoint_path, \"w\", encoding=\"utf-8\") as f:\n",
    "                    f.write(sid)\n",
    "\n",
    "                # move to next submission\n",
    "                break\n",
    "\n",
    "            except (TooManyRequests, ServerError, RequestException, ResponseException, Forbidden) as e:\n",
    "                attempt += 1\n",
    "                print(f\"[WARN] Comment fetch error for {sid} ({type(e).__name__}): {e}. \"\n",
    "                      f\"Backing off (attempt {attempt})…\")\n",
    "                rate_limit_backoff(attempt)\n",
    "            except Exception as e:\n",
    "                # Log and continue (don’t get stuck on a single post)\n",
    "                print(f\"[ERROR] Unexpected error for {sid}: {e}. Skipping.\")\n",
    "                break\n",
    "\n",
    "        # reset attempt counter after a successful submission fetch\n",
    "        attempt = 0\n",
    "\n",
    "    # final flush\n",
    "    flush()\n",
    "    print(\"Comments fetch complete.\")\n"
   ]
  },
  {
   "cell_type": "code",
   "execution_count": 4,
   "id": "19648948",
   "metadata": {},
   "outputs": [
    {
     "name": "stdout",
     "output_type": "stream",
     "text": [
      "Loaded 16,768 existing comment IDs from afl_comments.csv.\n"
     ]
    },
    {
     "name": "stderr",
     "output_type": "stream",
     "text": [
      "/var/folders/6h/7_s8d7dn5p565dythb22sn0c0000gn/T/ipykernel_99815/3620101952.py:15: DeprecationWarning: datetime.datetime.utcfromtimestamp() is deprecated and scheduled for removal in a future version. Use timezone-aware objects to represent datetimes in UTC: datetime.datetime.fromtimestamp(timestamp, datetime.UTC).\n",
      "  return dt.datetime.utcfromtimestamp(ts_utc).replace(tzinfo=dt.timezone.utc)\n"
     ]
    },
    {
     "name": "stdout",
     "output_type": "stream",
     "text": [
      "Saved 50 comments (total 50).\n"
     ]
    },
    {
     "name": "stderr",
     "output_type": "stream",
     "text": [
      "/var/folders/6h/7_s8d7dn5p565dythb22sn0c0000gn/T/ipykernel_99815/3620101952.py:15: DeprecationWarning: datetime.datetime.utcfromtimestamp() is deprecated and scheduled for removal in a future version. Use timezone-aware objects to represent datetimes in UTC: datetime.datetime.fromtimestamp(timestamp, datetime.UTC).\n",
      "  return dt.datetime.utcfromtimestamp(ts_utc).replace(tzinfo=dt.timezone.utc)\n"
     ]
    },
    {
     "name": "stdout",
     "output_type": "stream",
     "text": [
      "Saved 265 comments (total 315).\n"
     ]
    },
    {
     "name": "stderr",
     "output_type": "stream",
     "text": [
      "/var/folders/6h/7_s8d7dn5p565dythb22sn0c0000gn/T/ipykernel_99815/3620101952.py:15: DeprecationWarning: datetime.datetime.utcfromtimestamp() is deprecated and scheduled for removal in a future version. Use timezone-aware objects to represent datetimes in UTC: datetime.datetime.fromtimestamp(timestamp, datetime.UTC).\n",
      "  return dt.datetime.utcfromtimestamp(ts_utc).replace(tzinfo=dt.timezone.utc)\n"
     ]
    },
    {
     "name": "stdout",
     "output_type": "stream",
     "text": [
      "Saved 96 comments (total 411).\n"
     ]
    },
    {
     "name": "stderr",
     "output_type": "stream",
     "text": [
      "/var/folders/6h/7_s8d7dn5p565dythb22sn0c0000gn/T/ipykernel_99815/3620101952.py:15: DeprecationWarning: datetime.datetime.utcfromtimestamp() is deprecated and scheduled for removal in a future version. Use timezone-aware objects to represent datetimes in UTC: datetime.datetime.fromtimestamp(timestamp, datetime.UTC).\n",
      "  return dt.datetime.utcfromtimestamp(ts_utc).replace(tzinfo=dt.timezone.utc)\n"
     ]
    },
    {
     "name": "stdout",
     "output_type": "stream",
     "text": [
      "Saved 13 comments (total 424).\n"
     ]
    },
    {
     "name": "stderr",
     "output_type": "stream",
     "text": [
      "/var/folders/6h/7_s8d7dn5p565dythb22sn0c0000gn/T/ipykernel_99815/3620101952.py:15: DeprecationWarning: datetime.datetime.utcfromtimestamp() is deprecated and scheduled for removal in a future version. Use timezone-aware objects to represent datetimes in UTC: datetime.datetime.fromtimestamp(timestamp, datetime.UTC).\n",
      "  return dt.datetime.utcfromtimestamp(ts_utc).replace(tzinfo=dt.timezone.utc)\n"
     ]
    },
    {
     "name": "stdout",
     "output_type": "stream",
     "text": [
      "Saved 28 comments (total 452).\n"
     ]
    },
    {
     "name": "stderr",
     "output_type": "stream",
     "text": [
      "/var/folders/6h/7_s8d7dn5p565dythb22sn0c0000gn/T/ipykernel_99815/3620101952.py:15: DeprecationWarning: datetime.datetime.utcfromtimestamp() is deprecated and scheduled for removal in a future version. Use timezone-aware objects to represent datetimes in UTC: datetime.datetime.fromtimestamp(timestamp, datetime.UTC).\n",
      "  return dt.datetime.utcfromtimestamp(ts_utc).replace(tzinfo=dt.timezone.utc)\n"
     ]
    },
    {
     "name": "stdout",
     "output_type": "stream",
     "text": [
      "Saved 40 comments (total 492).\n"
     ]
    },
    {
     "name": "stderr",
     "output_type": "stream",
     "text": [
      "/var/folders/6h/7_s8d7dn5p565dythb22sn0c0000gn/T/ipykernel_99815/3620101952.py:15: DeprecationWarning: datetime.datetime.utcfromtimestamp() is deprecated and scheduled for removal in a future version. Use timezone-aware objects to represent datetimes in UTC: datetime.datetime.fromtimestamp(timestamp, datetime.UTC).\n",
      "  return dt.datetime.utcfromtimestamp(ts_utc).replace(tzinfo=dt.timezone.utc)\n"
     ]
    },
    {
     "name": "stdout",
     "output_type": "stream",
     "text": [
      "Saved 98 comments (total 590).\n"
     ]
    },
    {
     "name": "stderr",
     "output_type": "stream",
     "text": [
      "/var/folders/6h/7_s8d7dn5p565dythb22sn0c0000gn/T/ipykernel_99815/3620101952.py:15: DeprecationWarning: datetime.datetime.utcfromtimestamp() is deprecated and scheduled for removal in a future version. Use timezone-aware objects to represent datetimes in UTC: datetime.datetime.fromtimestamp(timestamp, datetime.UTC).\n",
      "  return dt.datetime.utcfromtimestamp(ts_utc).replace(tzinfo=dt.timezone.utc)\n"
     ]
    },
    {
     "name": "stdout",
     "output_type": "stream",
     "text": [
      "Saved 13 comments (total 603).\n"
     ]
    },
    {
     "name": "stderr",
     "output_type": "stream",
     "text": [
      "/var/folders/6h/7_s8d7dn5p565dythb22sn0c0000gn/T/ipykernel_99815/3620101952.py:15: DeprecationWarning: datetime.datetime.utcfromtimestamp() is deprecated and scheduled for removal in a future version. Use timezone-aware objects to represent datetimes in UTC: datetime.datetime.fromtimestamp(timestamp, datetime.UTC).\n",
      "  return dt.datetime.utcfromtimestamp(ts_utc).replace(tzinfo=dt.timezone.utc)\n"
     ]
    },
    {
     "name": "stdout",
     "output_type": "stream",
     "text": [
      "Saved 30 comments (total 633).\n"
     ]
    },
    {
     "name": "stderr",
     "output_type": "stream",
     "text": [
      "/var/folders/6h/7_s8d7dn5p565dythb22sn0c0000gn/T/ipykernel_99815/3620101952.py:15: DeprecationWarning: datetime.datetime.utcfromtimestamp() is deprecated and scheduled for removal in a future version. Use timezone-aware objects to represent datetimes in UTC: datetime.datetime.fromtimestamp(timestamp, datetime.UTC).\n",
      "  return dt.datetime.utcfromtimestamp(ts_utc).replace(tzinfo=dt.timezone.utc)\n"
     ]
    },
    {
     "name": "stdout",
     "output_type": "stream",
     "text": [
      "Saved 37 comments (total 670).\n"
     ]
    },
    {
     "name": "stderr",
     "output_type": "stream",
     "text": [
      "/var/folders/6h/7_s8d7dn5p565dythb22sn0c0000gn/T/ipykernel_99815/3620101952.py:15: DeprecationWarning: datetime.datetime.utcfromtimestamp() is deprecated and scheduled for removal in a future version. Use timezone-aware objects to represent datetimes in UTC: datetime.datetime.fromtimestamp(timestamp, datetime.UTC).\n",
      "  return dt.datetime.utcfromtimestamp(ts_utc).replace(tzinfo=dt.timezone.utc)\n"
     ]
    },
    {
     "name": "stdout",
     "output_type": "stream",
     "text": [
      "Saved 17 comments (total 687).\n"
     ]
    },
    {
     "name": "stderr",
     "output_type": "stream",
     "text": [
      "/var/folders/6h/7_s8d7dn5p565dythb22sn0c0000gn/T/ipykernel_99815/3620101952.py:15: DeprecationWarning: datetime.datetime.utcfromtimestamp() is deprecated and scheduled for removal in a future version. Use timezone-aware objects to represent datetimes in UTC: datetime.datetime.fromtimestamp(timestamp, datetime.UTC).\n",
      "  return dt.datetime.utcfromtimestamp(ts_utc).replace(tzinfo=dt.timezone.utc)\n"
     ]
    },
    {
     "name": "stdout",
     "output_type": "stream",
     "text": [
      "Saved 3 comments (total 690).\n"
     ]
    },
    {
     "name": "stderr",
     "output_type": "stream",
     "text": [
      "/var/folders/6h/7_s8d7dn5p565dythb22sn0c0000gn/T/ipykernel_99815/3620101952.py:15: DeprecationWarning: datetime.datetime.utcfromtimestamp() is deprecated and scheduled for removal in a future version. Use timezone-aware objects to represent datetimes in UTC: datetime.datetime.fromtimestamp(timestamp, datetime.UTC).\n",
      "  return dt.datetime.utcfromtimestamp(ts_utc).replace(tzinfo=dt.timezone.utc)\n"
     ]
    },
    {
     "name": "stdout",
     "output_type": "stream",
     "text": [
      "Saved 32 comments (total 722).\n"
     ]
    },
    {
     "name": "stderr",
     "output_type": "stream",
     "text": [
      "/var/folders/6h/7_s8d7dn5p565dythb22sn0c0000gn/T/ipykernel_99815/3620101952.py:15: DeprecationWarning: datetime.datetime.utcfromtimestamp() is deprecated and scheduled for removal in a future version. Use timezone-aware objects to represent datetimes in UTC: datetime.datetime.fromtimestamp(timestamp, datetime.UTC).\n",
      "  return dt.datetime.utcfromtimestamp(ts_utc).replace(tzinfo=dt.timezone.utc)\n"
     ]
    },
    {
     "name": "stdout",
     "output_type": "stream",
     "text": [
      "Saved 55 comments (total 777).\n"
     ]
    },
    {
     "name": "stderr",
     "output_type": "stream",
     "text": [
      "/var/folders/6h/7_s8d7dn5p565dythb22sn0c0000gn/T/ipykernel_99815/3620101952.py:15: DeprecationWarning: datetime.datetime.utcfromtimestamp() is deprecated and scheduled for removal in a future version. Use timezone-aware objects to represent datetimes in UTC: datetime.datetime.fromtimestamp(timestamp, datetime.UTC).\n",
      "  return dt.datetime.utcfromtimestamp(ts_utc).replace(tzinfo=dt.timezone.utc)\n"
     ]
    },
    {
     "name": "stdout",
     "output_type": "stream",
     "text": [
      "Saved 89 comments (total 866).\n"
     ]
    },
    {
     "name": "stderr",
     "output_type": "stream",
     "text": [
      "/var/folders/6h/7_s8d7dn5p565dythb22sn0c0000gn/T/ipykernel_99815/3620101952.py:15: DeprecationWarning: datetime.datetime.utcfromtimestamp() is deprecated and scheduled for removal in a future version. Use timezone-aware objects to represent datetimes in UTC: datetime.datetime.fromtimestamp(timestamp, datetime.UTC).\n",
      "  return dt.datetime.utcfromtimestamp(ts_utc).replace(tzinfo=dt.timezone.utc)\n"
     ]
    },
    {
     "name": "stdout",
     "output_type": "stream",
     "text": [
      "Saved 58 comments (total 924).\n"
     ]
    },
    {
     "name": "stderr",
     "output_type": "stream",
     "text": [
      "/var/folders/6h/7_s8d7dn5p565dythb22sn0c0000gn/T/ipykernel_99815/3620101952.py:15: DeprecationWarning: datetime.datetime.utcfromtimestamp() is deprecated and scheduled for removal in a future version. Use timezone-aware objects to represent datetimes in UTC: datetime.datetime.fromtimestamp(timestamp, datetime.UTC).\n",
      "  return dt.datetime.utcfromtimestamp(ts_utc).replace(tzinfo=dt.timezone.utc)\n"
     ]
    },
    {
     "name": "stdout",
     "output_type": "stream",
     "text": [
      "Saved 88 comments (total 1,012).\n"
     ]
    },
    {
     "name": "stderr",
     "output_type": "stream",
     "text": [
      "/var/folders/6h/7_s8d7dn5p565dythb22sn0c0000gn/T/ipykernel_99815/3620101952.py:15: DeprecationWarning: datetime.datetime.utcfromtimestamp() is deprecated and scheduled for removal in a future version. Use timezone-aware objects to represent datetimes in UTC: datetime.datetime.fromtimestamp(timestamp, datetime.UTC).\n",
      "  return dt.datetime.utcfromtimestamp(ts_utc).replace(tzinfo=dt.timezone.utc)\n"
     ]
    },
    {
     "name": "stdout",
     "output_type": "stream",
     "text": [
      "Saved 64 comments (total 1,076).\n"
     ]
    },
    {
     "name": "stderr",
     "output_type": "stream",
     "text": [
      "/var/folders/6h/7_s8d7dn5p565dythb22sn0c0000gn/T/ipykernel_99815/3620101952.py:15: DeprecationWarning: datetime.datetime.utcfromtimestamp() is deprecated and scheduled for removal in a future version. Use timezone-aware objects to represent datetimes in UTC: datetime.datetime.fromtimestamp(timestamp, datetime.UTC).\n",
      "  return dt.datetime.utcfromtimestamp(ts_utc).replace(tzinfo=dt.timezone.utc)\n"
     ]
    },
    {
     "name": "stdout",
     "output_type": "stream",
     "text": [
      "Saved 33 comments (total 1,109).\n"
     ]
    },
    {
     "name": "stderr",
     "output_type": "stream",
     "text": [
      "/var/folders/6h/7_s8d7dn5p565dythb22sn0c0000gn/T/ipykernel_99815/3620101952.py:15: DeprecationWarning: datetime.datetime.utcfromtimestamp() is deprecated and scheduled for removal in a future version. Use timezone-aware objects to represent datetimes in UTC: datetime.datetime.fromtimestamp(timestamp, datetime.UTC).\n",
      "  return dt.datetime.utcfromtimestamp(ts_utc).replace(tzinfo=dt.timezone.utc)\n"
     ]
    },
    {
     "name": "stdout",
     "output_type": "stream",
     "text": [
      "Saved 31 comments (total 1,140).\n"
     ]
    },
    {
     "name": "stderr",
     "output_type": "stream",
     "text": [
      "/var/folders/6h/7_s8d7dn5p565dythb22sn0c0000gn/T/ipykernel_99815/3620101952.py:15: DeprecationWarning: datetime.datetime.utcfromtimestamp() is deprecated and scheduled for removal in a future version. Use timezone-aware objects to represent datetimes in UTC: datetime.datetime.fromtimestamp(timestamp, datetime.UTC).\n",
      "  return dt.datetime.utcfromtimestamp(ts_utc).replace(tzinfo=dt.timezone.utc)\n"
     ]
    },
    {
     "name": "stdout",
     "output_type": "stream",
     "text": [
      "Saved 21 comments (total 1,161).\n"
     ]
    },
    {
     "name": "stderr",
     "output_type": "stream",
     "text": [
      "/var/folders/6h/7_s8d7dn5p565dythb22sn0c0000gn/T/ipykernel_99815/3620101952.py:15: DeprecationWarning: datetime.datetime.utcfromtimestamp() is deprecated and scheduled for removal in a future version. Use timezone-aware objects to represent datetimes in UTC: datetime.datetime.fromtimestamp(timestamp, datetime.UTC).\n",
      "  return dt.datetime.utcfromtimestamp(ts_utc).replace(tzinfo=dt.timezone.utc)\n"
     ]
    },
    {
     "name": "stdout",
     "output_type": "stream",
     "text": [
      "Saved 39 comments (total 1,200).\n"
     ]
    },
    {
     "name": "stderr",
     "output_type": "stream",
     "text": [
      "/var/folders/6h/7_s8d7dn5p565dythb22sn0c0000gn/T/ipykernel_99815/3620101952.py:15: DeprecationWarning: datetime.datetime.utcfromtimestamp() is deprecated and scheduled for removal in a future version. Use timezone-aware objects to represent datetimes in UTC: datetime.datetime.fromtimestamp(timestamp, datetime.UTC).\n",
      "  return dt.datetime.utcfromtimestamp(ts_utc).replace(tzinfo=dt.timezone.utc)\n"
     ]
    },
    {
     "name": "stdout",
     "output_type": "stream",
     "text": [
      "Saved 94 comments (total 1,294).\n"
     ]
    },
    {
     "name": "stderr",
     "output_type": "stream",
     "text": [
      "/var/folders/6h/7_s8d7dn5p565dythb22sn0c0000gn/T/ipykernel_99815/3620101952.py:15: DeprecationWarning: datetime.datetime.utcfromtimestamp() is deprecated and scheduled for removal in a future version. Use timezone-aware objects to represent datetimes in UTC: datetime.datetime.fromtimestamp(timestamp, datetime.UTC).\n",
      "  return dt.datetime.utcfromtimestamp(ts_utc).replace(tzinfo=dt.timezone.utc)\n"
     ]
    },
    {
     "name": "stdout",
     "output_type": "stream",
     "text": [
      "Saved 55 comments (total 1,349).\n"
     ]
    },
    {
     "name": "stderr",
     "output_type": "stream",
     "text": [
      "/var/folders/6h/7_s8d7dn5p565dythb22sn0c0000gn/T/ipykernel_99815/3620101952.py:15: DeprecationWarning: datetime.datetime.utcfromtimestamp() is deprecated and scheduled for removal in a future version. Use timezone-aware objects to represent datetimes in UTC: datetime.datetime.fromtimestamp(timestamp, datetime.UTC).\n",
      "  return dt.datetime.utcfromtimestamp(ts_utc).replace(tzinfo=dt.timezone.utc)\n"
     ]
    },
    {
     "name": "stdout",
     "output_type": "stream",
     "text": [
      "Saved 43 comments (total 1,392).\n"
     ]
    },
    {
     "name": "stderr",
     "output_type": "stream",
     "text": [
      "/var/folders/6h/7_s8d7dn5p565dythb22sn0c0000gn/T/ipykernel_99815/3620101952.py:15: DeprecationWarning: datetime.datetime.utcfromtimestamp() is deprecated and scheduled for removal in a future version. Use timezone-aware objects to represent datetimes in UTC: datetime.datetime.fromtimestamp(timestamp, datetime.UTC).\n",
      "  return dt.datetime.utcfromtimestamp(ts_utc).replace(tzinfo=dt.timezone.utc)\n"
     ]
    },
    {
     "name": "stdout",
     "output_type": "stream",
     "text": [
      "Saved 125 comments (total 1,517).\n"
     ]
    },
    {
     "name": "stderr",
     "output_type": "stream",
     "text": [
      "/var/folders/6h/7_s8d7dn5p565dythb22sn0c0000gn/T/ipykernel_99815/3620101952.py:15: DeprecationWarning: datetime.datetime.utcfromtimestamp() is deprecated and scheduled for removal in a future version. Use timezone-aware objects to represent datetimes in UTC: datetime.datetime.fromtimestamp(timestamp, datetime.UTC).\n",
      "  return dt.datetime.utcfromtimestamp(ts_utc).replace(tzinfo=dt.timezone.utc)\n"
     ]
    },
    {
     "name": "stdout",
     "output_type": "stream",
     "text": [
      "Saved 312 comments (total 1,829).\n"
     ]
    },
    {
     "name": "stderr",
     "output_type": "stream",
     "text": [
      "/var/folders/6h/7_s8d7dn5p565dythb22sn0c0000gn/T/ipykernel_99815/3620101952.py:15: DeprecationWarning: datetime.datetime.utcfromtimestamp() is deprecated and scheduled for removal in a future version. Use timezone-aware objects to represent datetimes in UTC: datetime.datetime.fromtimestamp(timestamp, datetime.UTC).\n",
      "  return dt.datetime.utcfromtimestamp(ts_utc).replace(tzinfo=dt.timezone.utc)\n"
     ]
    },
    {
     "name": "stdout",
     "output_type": "stream",
     "text": [
      "Saved 131 comments (total 1,960).\n"
     ]
    },
    {
     "name": "stderr",
     "output_type": "stream",
     "text": [
      "/var/folders/6h/7_s8d7dn5p565dythb22sn0c0000gn/T/ipykernel_99815/3620101952.py:15: DeprecationWarning: datetime.datetime.utcfromtimestamp() is deprecated and scheduled for removal in a future version. Use timezone-aware objects to represent datetimes in UTC: datetime.datetime.fromtimestamp(timestamp, datetime.UTC).\n",
      "  return dt.datetime.utcfromtimestamp(ts_utc).replace(tzinfo=dt.timezone.utc)\n"
     ]
    },
    {
     "name": "stdout",
     "output_type": "stream",
     "text": [
      "Saved 23 comments (total 1,983).\n"
     ]
    },
    {
     "name": "stderr",
     "output_type": "stream",
     "text": [
      "/var/folders/6h/7_s8d7dn5p565dythb22sn0c0000gn/T/ipykernel_99815/3620101952.py:15: DeprecationWarning: datetime.datetime.utcfromtimestamp() is deprecated and scheduled for removal in a future version. Use timezone-aware objects to represent datetimes in UTC: datetime.datetime.fromtimestamp(timestamp, datetime.UTC).\n",
      "  return dt.datetime.utcfromtimestamp(ts_utc).replace(tzinfo=dt.timezone.utc)\n"
     ]
    },
    {
     "name": "stdout",
     "output_type": "stream",
     "text": [
      "Saved 8 comments (total 1,991).\n"
     ]
    },
    {
     "name": "stderr",
     "output_type": "stream",
     "text": [
      "/var/folders/6h/7_s8d7dn5p565dythb22sn0c0000gn/T/ipykernel_99815/3620101952.py:15: DeprecationWarning: datetime.datetime.utcfromtimestamp() is deprecated and scheduled for removal in a future version. Use timezone-aware objects to represent datetimes in UTC: datetime.datetime.fromtimestamp(timestamp, datetime.UTC).\n",
      "  return dt.datetime.utcfromtimestamp(ts_utc).replace(tzinfo=dt.timezone.utc)\n"
     ]
    },
    {
     "name": "stdout",
     "output_type": "stream",
     "text": [
      "Saved 40 comments (total 2,031).\n"
     ]
    },
    {
     "name": "stderr",
     "output_type": "stream",
     "text": [
      "/var/folders/6h/7_s8d7dn5p565dythb22sn0c0000gn/T/ipykernel_99815/3620101952.py:15: DeprecationWarning: datetime.datetime.utcfromtimestamp() is deprecated and scheduled for removal in a future version. Use timezone-aware objects to represent datetimes in UTC: datetime.datetime.fromtimestamp(timestamp, datetime.UTC).\n",
      "  return dt.datetime.utcfromtimestamp(ts_utc).replace(tzinfo=dt.timezone.utc)\n"
     ]
    },
    {
     "name": "stdout",
     "output_type": "stream",
     "text": [
      "Saved 101 comments (total 2,132).\n"
     ]
    },
    {
     "name": "stderr",
     "output_type": "stream",
     "text": [
      "/var/folders/6h/7_s8d7dn5p565dythb22sn0c0000gn/T/ipykernel_99815/3620101952.py:15: DeprecationWarning: datetime.datetime.utcfromtimestamp() is deprecated and scheduled for removal in a future version. Use timezone-aware objects to represent datetimes in UTC: datetime.datetime.fromtimestamp(timestamp, datetime.UTC).\n",
      "  return dt.datetime.utcfromtimestamp(ts_utc).replace(tzinfo=dt.timezone.utc)\n"
     ]
    },
    {
     "name": "stdout",
     "output_type": "stream",
     "text": [
      "Saved 27 comments (total 2,159).\n"
     ]
    },
    {
     "name": "stderr",
     "output_type": "stream",
     "text": [
      "/var/folders/6h/7_s8d7dn5p565dythb22sn0c0000gn/T/ipykernel_99815/3620101952.py:15: DeprecationWarning: datetime.datetime.utcfromtimestamp() is deprecated and scheduled for removal in a future version. Use timezone-aware objects to represent datetimes in UTC: datetime.datetime.fromtimestamp(timestamp, datetime.UTC).\n",
      "  return dt.datetime.utcfromtimestamp(ts_utc).replace(tzinfo=dt.timezone.utc)\n"
     ]
    },
    {
     "name": "stdout",
     "output_type": "stream",
     "text": [
      "Saved 69 comments (total 2,228).\n"
     ]
    },
    {
     "name": "stderr",
     "output_type": "stream",
     "text": [
      "/var/folders/6h/7_s8d7dn5p565dythb22sn0c0000gn/T/ipykernel_99815/3620101952.py:15: DeprecationWarning: datetime.datetime.utcfromtimestamp() is deprecated and scheduled for removal in a future version. Use timezone-aware objects to represent datetimes in UTC: datetime.datetime.fromtimestamp(timestamp, datetime.UTC).\n",
      "  return dt.datetime.utcfromtimestamp(ts_utc).replace(tzinfo=dt.timezone.utc)\n"
     ]
    },
    {
     "name": "stdout",
     "output_type": "stream",
     "text": [
      "Saved 50 comments (total 2,278).\n"
     ]
    },
    {
     "name": "stderr",
     "output_type": "stream",
     "text": [
      "/var/folders/6h/7_s8d7dn5p565dythb22sn0c0000gn/T/ipykernel_99815/3620101952.py:15: DeprecationWarning: datetime.datetime.utcfromtimestamp() is deprecated and scheduled for removal in a future version. Use timezone-aware objects to represent datetimes in UTC: datetime.datetime.fromtimestamp(timestamp, datetime.UTC).\n",
      "  return dt.datetime.utcfromtimestamp(ts_utc).replace(tzinfo=dt.timezone.utc)\n"
     ]
    },
    {
     "name": "stdout",
     "output_type": "stream",
     "text": [
      "Saved 1 comments (total 2,279).\n"
     ]
    },
    {
     "name": "stderr",
     "output_type": "stream",
     "text": [
      "/var/folders/6h/7_s8d7dn5p565dythb22sn0c0000gn/T/ipykernel_99815/3620101952.py:15: DeprecationWarning: datetime.datetime.utcfromtimestamp() is deprecated and scheduled for removal in a future version. Use timezone-aware objects to represent datetimes in UTC: datetime.datetime.fromtimestamp(timestamp, datetime.UTC).\n",
      "  return dt.datetime.utcfromtimestamp(ts_utc).replace(tzinfo=dt.timezone.utc)\n"
     ]
    },
    {
     "name": "stdout",
     "output_type": "stream",
     "text": [
      "Saved 7 comments (total 2,286).\n"
     ]
    },
    {
     "name": "stderr",
     "output_type": "stream",
     "text": [
      "/var/folders/6h/7_s8d7dn5p565dythb22sn0c0000gn/T/ipykernel_99815/3620101952.py:15: DeprecationWarning: datetime.datetime.utcfromtimestamp() is deprecated and scheduled for removal in a future version. Use timezone-aware objects to represent datetimes in UTC: datetime.datetime.fromtimestamp(timestamp, datetime.UTC).\n",
      "  return dt.datetime.utcfromtimestamp(ts_utc).replace(tzinfo=dt.timezone.utc)\n"
     ]
    },
    {
     "name": "stdout",
     "output_type": "stream",
     "text": [
      "Saved 16 comments (total 2,302).\n"
     ]
    },
    {
     "name": "stderr",
     "output_type": "stream",
     "text": [
      "/var/folders/6h/7_s8d7dn5p565dythb22sn0c0000gn/T/ipykernel_99815/3620101952.py:15: DeprecationWarning: datetime.datetime.utcfromtimestamp() is deprecated and scheduled for removal in a future version. Use timezone-aware objects to represent datetimes in UTC: datetime.datetime.fromtimestamp(timestamp, datetime.UTC).\n",
      "  return dt.datetime.utcfromtimestamp(ts_utc).replace(tzinfo=dt.timezone.utc)\n"
     ]
    },
    {
     "name": "stdout",
     "output_type": "stream",
     "text": [
      "Saved 12 comments (total 2,314).\n"
     ]
    },
    {
     "name": "stderr",
     "output_type": "stream",
     "text": [
      "/var/folders/6h/7_s8d7dn5p565dythb22sn0c0000gn/T/ipykernel_99815/3620101952.py:15: DeprecationWarning: datetime.datetime.utcfromtimestamp() is deprecated and scheduled for removal in a future version. Use timezone-aware objects to represent datetimes in UTC: datetime.datetime.fromtimestamp(timestamp, datetime.UTC).\n",
      "  return dt.datetime.utcfromtimestamp(ts_utc).replace(tzinfo=dt.timezone.utc)\n"
     ]
    },
    {
     "name": "stdout",
     "output_type": "stream",
     "text": [
      "Saved 43 comments (total 2,357).\n"
     ]
    },
    {
     "name": "stderr",
     "output_type": "stream",
     "text": [
      "/var/folders/6h/7_s8d7dn5p565dythb22sn0c0000gn/T/ipykernel_99815/3620101952.py:15: DeprecationWarning: datetime.datetime.utcfromtimestamp() is deprecated and scheduled for removal in a future version. Use timezone-aware objects to represent datetimes in UTC: datetime.datetime.fromtimestamp(timestamp, datetime.UTC).\n",
      "  return dt.datetime.utcfromtimestamp(ts_utc).replace(tzinfo=dt.timezone.utc)\n"
     ]
    },
    {
     "name": "stdout",
     "output_type": "stream",
     "text": [
      "Saved 4 comments (total 2,361).\n"
     ]
    },
    {
     "name": "stderr",
     "output_type": "stream",
     "text": [
      "/var/folders/6h/7_s8d7dn5p565dythb22sn0c0000gn/T/ipykernel_99815/3620101952.py:15: DeprecationWarning: datetime.datetime.utcfromtimestamp() is deprecated and scheduled for removal in a future version. Use timezone-aware objects to represent datetimes in UTC: datetime.datetime.fromtimestamp(timestamp, datetime.UTC).\n",
      "  return dt.datetime.utcfromtimestamp(ts_utc).replace(tzinfo=dt.timezone.utc)\n"
     ]
    },
    {
     "name": "stdout",
     "output_type": "stream",
     "text": [
      "Saved 4 comments (total 2,365).\n"
     ]
    },
    {
     "name": "stderr",
     "output_type": "stream",
     "text": [
      "/var/folders/6h/7_s8d7dn5p565dythb22sn0c0000gn/T/ipykernel_99815/3620101952.py:15: DeprecationWarning: datetime.datetime.utcfromtimestamp() is deprecated and scheduled for removal in a future version. Use timezone-aware objects to represent datetimes in UTC: datetime.datetime.fromtimestamp(timestamp, datetime.UTC).\n",
      "  return dt.datetime.utcfromtimestamp(ts_utc).replace(tzinfo=dt.timezone.utc)\n"
     ]
    },
    {
     "name": "stdout",
     "output_type": "stream",
     "text": [
      "Saved 68 comments (total 2,433).\n"
     ]
    },
    {
     "name": "stderr",
     "output_type": "stream",
     "text": [
      "/var/folders/6h/7_s8d7dn5p565dythb22sn0c0000gn/T/ipykernel_99815/3620101952.py:15: DeprecationWarning: datetime.datetime.utcfromtimestamp() is deprecated and scheduled for removal in a future version. Use timezone-aware objects to represent datetimes in UTC: datetime.datetime.fromtimestamp(timestamp, datetime.UTC).\n",
      "  return dt.datetime.utcfromtimestamp(ts_utc).replace(tzinfo=dt.timezone.utc)\n"
     ]
    },
    {
     "name": "stdout",
     "output_type": "stream",
     "text": [
      "Saved 56 comments (total 2,489).\n"
     ]
    },
    {
     "name": "stderr",
     "output_type": "stream",
     "text": [
      "/var/folders/6h/7_s8d7dn5p565dythb22sn0c0000gn/T/ipykernel_99815/3620101952.py:15: DeprecationWarning: datetime.datetime.utcfromtimestamp() is deprecated and scheduled for removal in a future version. Use timezone-aware objects to represent datetimes in UTC: datetime.datetime.fromtimestamp(timestamp, datetime.UTC).\n",
      "  return dt.datetime.utcfromtimestamp(ts_utc).replace(tzinfo=dt.timezone.utc)\n"
     ]
    },
    {
     "name": "stdout",
     "output_type": "stream",
     "text": [
      "Saved 11 comments (total 2,500).\n"
     ]
    },
    {
     "name": "stderr",
     "output_type": "stream",
     "text": [
      "/var/folders/6h/7_s8d7dn5p565dythb22sn0c0000gn/T/ipykernel_99815/3620101952.py:15: DeprecationWarning: datetime.datetime.utcfromtimestamp() is deprecated and scheduled for removal in a future version. Use timezone-aware objects to represent datetimes in UTC: datetime.datetime.fromtimestamp(timestamp, datetime.UTC).\n",
      "  return dt.datetime.utcfromtimestamp(ts_utc).replace(tzinfo=dt.timezone.utc)\n"
     ]
    },
    {
     "name": "stdout",
     "output_type": "stream",
     "text": [
      "Saved 256 comments (total 2,756).\n"
     ]
    },
    {
     "name": "stderr",
     "output_type": "stream",
     "text": [
      "/var/folders/6h/7_s8d7dn5p565dythb22sn0c0000gn/T/ipykernel_99815/3620101952.py:15: DeprecationWarning: datetime.datetime.utcfromtimestamp() is deprecated and scheduled for removal in a future version. Use timezone-aware objects to represent datetimes in UTC: datetime.datetime.fromtimestamp(timestamp, datetime.UTC).\n",
      "  return dt.datetime.utcfromtimestamp(ts_utc).replace(tzinfo=dt.timezone.utc)\n"
     ]
    },
    {
     "name": "stdout",
     "output_type": "stream",
     "text": [
      "Saved 37 comments (total 2,793).\n"
     ]
    },
    {
     "name": "stderr",
     "output_type": "stream",
     "text": [
      "/var/folders/6h/7_s8d7dn5p565dythb22sn0c0000gn/T/ipykernel_99815/3620101952.py:15: DeprecationWarning: datetime.datetime.utcfromtimestamp() is deprecated and scheduled for removal in a future version. Use timezone-aware objects to represent datetimes in UTC: datetime.datetime.fromtimestamp(timestamp, datetime.UTC).\n",
      "  return dt.datetime.utcfromtimestamp(ts_utc).replace(tzinfo=dt.timezone.utc)\n"
     ]
    },
    {
     "name": "stdout",
     "output_type": "stream",
     "text": [
      "Saved 29 comments (total 2,822).\n"
     ]
    },
    {
     "name": "stderr",
     "output_type": "stream",
     "text": [
      "/var/folders/6h/7_s8d7dn5p565dythb22sn0c0000gn/T/ipykernel_99815/3620101952.py:15: DeprecationWarning: datetime.datetime.utcfromtimestamp() is deprecated and scheduled for removal in a future version. Use timezone-aware objects to represent datetimes in UTC: datetime.datetime.fromtimestamp(timestamp, datetime.UTC).\n",
      "  return dt.datetime.utcfromtimestamp(ts_utc).replace(tzinfo=dt.timezone.utc)\n"
     ]
    },
    {
     "name": "stdout",
     "output_type": "stream",
     "text": [
      "Saved 11 comments (total 2,833).\n"
     ]
    },
    {
     "name": "stderr",
     "output_type": "stream",
     "text": [
      "/var/folders/6h/7_s8d7dn5p565dythb22sn0c0000gn/T/ipykernel_99815/3620101952.py:15: DeprecationWarning: datetime.datetime.utcfromtimestamp() is deprecated and scheduled for removal in a future version. Use timezone-aware objects to represent datetimes in UTC: datetime.datetime.fromtimestamp(timestamp, datetime.UTC).\n",
      "  return dt.datetime.utcfromtimestamp(ts_utc).replace(tzinfo=dt.timezone.utc)\n"
     ]
    },
    {
     "name": "stdout",
     "output_type": "stream",
     "text": [
      "Saved 31 comments (total 2,864).\n"
     ]
    },
    {
     "name": "stderr",
     "output_type": "stream",
     "text": [
      "/var/folders/6h/7_s8d7dn5p565dythb22sn0c0000gn/T/ipykernel_99815/3620101952.py:15: DeprecationWarning: datetime.datetime.utcfromtimestamp() is deprecated and scheduled for removal in a future version. Use timezone-aware objects to represent datetimes in UTC: datetime.datetime.fromtimestamp(timestamp, datetime.UTC).\n",
      "  return dt.datetime.utcfromtimestamp(ts_utc).replace(tzinfo=dt.timezone.utc)\n"
     ]
    },
    {
     "name": "stdout",
     "output_type": "stream",
     "text": [
      "Saved 66 comments (total 2,930).\n"
     ]
    },
    {
     "name": "stderr",
     "output_type": "stream",
     "text": [
      "/var/folders/6h/7_s8d7dn5p565dythb22sn0c0000gn/T/ipykernel_99815/3620101952.py:15: DeprecationWarning: datetime.datetime.utcfromtimestamp() is deprecated and scheduled for removal in a future version. Use timezone-aware objects to represent datetimes in UTC: datetime.datetime.fromtimestamp(timestamp, datetime.UTC).\n",
      "  return dt.datetime.utcfromtimestamp(ts_utc).replace(tzinfo=dt.timezone.utc)\n"
     ]
    },
    {
     "name": "stdout",
     "output_type": "stream",
     "text": [
      "Saved 22 comments (total 2,952).\n"
     ]
    },
    {
     "name": "stderr",
     "output_type": "stream",
     "text": [
      "/var/folders/6h/7_s8d7dn5p565dythb22sn0c0000gn/T/ipykernel_99815/3620101952.py:15: DeprecationWarning: datetime.datetime.utcfromtimestamp() is deprecated and scheduled for removal in a future version. Use timezone-aware objects to represent datetimes in UTC: datetime.datetime.fromtimestamp(timestamp, datetime.UTC).\n",
      "  return dt.datetime.utcfromtimestamp(ts_utc).replace(tzinfo=dt.timezone.utc)\n"
     ]
    },
    {
     "name": "stdout",
     "output_type": "stream",
     "text": [
      "Saved 39 comments (total 2,991).\n"
     ]
    },
    {
     "name": "stderr",
     "output_type": "stream",
     "text": [
      "/var/folders/6h/7_s8d7dn5p565dythb22sn0c0000gn/T/ipykernel_99815/3620101952.py:15: DeprecationWarning: datetime.datetime.utcfromtimestamp() is deprecated and scheduled for removal in a future version. Use timezone-aware objects to represent datetimes in UTC: datetime.datetime.fromtimestamp(timestamp, datetime.UTC).\n",
      "  return dt.datetime.utcfromtimestamp(ts_utc).replace(tzinfo=dt.timezone.utc)\n"
     ]
    },
    {
     "name": "stdout",
     "output_type": "stream",
     "text": [
      "Saved 489 comments (total 3,480).\n"
     ]
    },
    {
     "name": "stderr",
     "output_type": "stream",
     "text": [
      "/var/folders/6h/7_s8d7dn5p565dythb22sn0c0000gn/T/ipykernel_99815/3620101952.py:15: DeprecationWarning: datetime.datetime.utcfromtimestamp() is deprecated and scheduled for removal in a future version. Use timezone-aware objects to represent datetimes in UTC: datetime.datetime.fromtimestamp(timestamp, datetime.UTC).\n",
      "  return dt.datetime.utcfromtimestamp(ts_utc).replace(tzinfo=dt.timezone.utc)\n"
     ]
    },
    {
     "name": "stdout",
     "output_type": "stream",
     "text": [
      "Saved 23 comments (total 3,503).\n"
     ]
    },
    {
     "name": "stderr",
     "output_type": "stream",
     "text": [
      "/var/folders/6h/7_s8d7dn5p565dythb22sn0c0000gn/T/ipykernel_99815/3620101952.py:15: DeprecationWarning: datetime.datetime.utcfromtimestamp() is deprecated and scheduled for removal in a future version. Use timezone-aware objects to represent datetimes in UTC: datetime.datetime.fromtimestamp(timestamp, datetime.UTC).\n",
      "  return dt.datetime.utcfromtimestamp(ts_utc).replace(tzinfo=dt.timezone.utc)\n"
     ]
    },
    {
     "name": "stdout",
     "output_type": "stream",
     "text": [
      "Saved 87 comments (total 3,590).\n"
     ]
    },
    {
     "name": "stderr",
     "output_type": "stream",
     "text": [
      "/var/folders/6h/7_s8d7dn5p565dythb22sn0c0000gn/T/ipykernel_99815/3620101952.py:15: DeprecationWarning: datetime.datetime.utcfromtimestamp() is deprecated and scheduled for removal in a future version. Use timezone-aware objects to represent datetimes in UTC: datetime.datetime.fromtimestamp(timestamp, datetime.UTC).\n",
      "  return dt.datetime.utcfromtimestamp(ts_utc).replace(tzinfo=dt.timezone.utc)\n"
     ]
    },
    {
     "name": "stdout",
     "output_type": "stream",
     "text": [
      "Saved 40 comments (total 3,630).\n"
     ]
    },
    {
     "name": "stderr",
     "output_type": "stream",
     "text": [
      "/var/folders/6h/7_s8d7dn5p565dythb22sn0c0000gn/T/ipykernel_99815/3620101952.py:15: DeprecationWarning: datetime.datetime.utcfromtimestamp() is deprecated and scheduled for removal in a future version. Use timezone-aware objects to represent datetimes in UTC: datetime.datetime.fromtimestamp(timestamp, datetime.UTC).\n",
      "  return dt.datetime.utcfromtimestamp(ts_utc).replace(tzinfo=dt.timezone.utc)\n"
     ]
    },
    {
     "name": "stdout",
     "output_type": "stream",
     "text": [
      "Saved 41 comments (total 3,671).\n"
     ]
    },
    {
     "name": "stderr",
     "output_type": "stream",
     "text": [
      "/var/folders/6h/7_s8d7dn5p565dythb22sn0c0000gn/T/ipykernel_99815/3620101952.py:15: DeprecationWarning: datetime.datetime.utcfromtimestamp() is deprecated and scheduled for removal in a future version. Use timezone-aware objects to represent datetimes in UTC: datetime.datetime.fromtimestamp(timestamp, datetime.UTC).\n",
      "  return dt.datetime.utcfromtimestamp(ts_utc).replace(tzinfo=dt.timezone.utc)\n"
     ]
    },
    {
     "name": "stdout",
     "output_type": "stream",
     "text": [
      "Saved 32 comments (total 3,703).\n"
     ]
    },
    {
     "name": "stderr",
     "output_type": "stream",
     "text": [
      "/var/folders/6h/7_s8d7dn5p565dythb22sn0c0000gn/T/ipykernel_99815/3620101952.py:15: DeprecationWarning: datetime.datetime.utcfromtimestamp() is deprecated and scheduled for removal in a future version. Use timezone-aware objects to represent datetimes in UTC: datetime.datetime.fromtimestamp(timestamp, datetime.UTC).\n",
      "  return dt.datetime.utcfromtimestamp(ts_utc).replace(tzinfo=dt.timezone.utc)\n"
     ]
    },
    {
     "name": "stdout",
     "output_type": "stream",
     "text": [
      "Saved 60 comments (total 3,763).\n"
     ]
    },
    {
     "name": "stderr",
     "output_type": "stream",
     "text": [
      "/var/folders/6h/7_s8d7dn5p565dythb22sn0c0000gn/T/ipykernel_99815/3620101952.py:15: DeprecationWarning: datetime.datetime.utcfromtimestamp() is deprecated and scheduled for removal in a future version. Use timezone-aware objects to represent datetimes in UTC: datetime.datetime.fromtimestamp(timestamp, datetime.UTC).\n",
      "  return dt.datetime.utcfromtimestamp(ts_utc).replace(tzinfo=dt.timezone.utc)\n"
     ]
    },
    {
     "name": "stdout",
     "output_type": "stream",
     "text": [
      "Saved 78 comments (total 3,841).\n"
     ]
    },
    {
     "name": "stderr",
     "output_type": "stream",
     "text": [
      "/var/folders/6h/7_s8d7dn5p565dythb22sn0c0000gn/T/ipykernel_99815/3620101952.py:15: DeprecationWarning: datetime.datetime.utcfromtimestamp() is deprecated and scheduled for removal in a future version. Use timezone-aware objects to represent datetimes in UTC: datetime.datetime.fromtimestamp(timestamp, datetime.UTC).\n",
      "  return dt.datetime.utcfromtimestamp(ts_utc).replace(tzinfo=dt.timezone.utc)\n"
     ]
    },
    {
     "name": "stdout",
     "output_type": "stream",
     "text": [
      "Saved 52 comments (total 3,893).\n"
     ]
    },
    {
     "name": "stderr",
     "output_type": "stream",
     "text": [
      "/var/folders/6h/7_s8d7dn5p565dythb22sn0c0000gn/T/ipykernel_99815/3620101952.py:15: DeprecationWarning: datetime.datetime.utcfromtimestamp() is deprecated and scheduled for removal in a future version. Use timezone-aware objects to represent datetimes in UTC: datetime.datetime.fromtimestamp(timestamp, datetime.UTC).\n",
      "  return dt.datetime.utcfromtimestamp(ts_utc).replace(tzinfo=dt.timezone.utc)\n"
     ]
    },
    {
     "name": "stdout",
     "output_type": "stream",
     "text": [
      "Saved 143 comments (total 4,036).\n"
     ]
    },
    {
     "name": "stderr",
     "output_type": "stream",
     "text": [
      "/var/folders/6h/7_s8d7dn5p565dythb22sn0c0000gn/T/ipykernel_99815/3620101952.py:15: DeprecationWarning: datetime.datetime.utcfromtimestamp() is deprecated and scheduled for removal in a future version. Use timezone-aware objects to represent datetimes in UTC: datetime.datetime.fromtimestamp(timestamp, datetime.UTC).\n",
      "  return dt.datetime.utcfromtimestamp(ts_utc).replace(tzinfo=dt.timezone.utc)\n"
     ]
    },
    {
     "name": "stdout",
     "output_type": "stream",
     "text": [
      "Saved 47 comments (total 4,083).\n"
     ]
    },
    {
     "name": "stderr",
     "output_type": "stream",
     "text": [
      "/var/folders/6h/7_s8d7dn5p565dythb22sn0c0000gn/T/ipykernel_99815/3620101952.py:15: DeprecationWarning: datetime.datetime.utcfromtimestamp() is deprecated and scheduled for removal in a future version. Use timezone-aware objects to represent datetimes in UTC: datetime.datetime.fromtimestamp(timestamp, datetime.UTC).\n",
      "  return dt.datetime.utcfromtimestamp(ts_utc).replace(tzinfo=dt.timezone.utc)\n"
     ]
    },
    {
     "name": "stdout",
     "output_type": "stream",
     "text": [
      "Saved 1 comments (total 4,084).\n"
     ]
    },
    {
     "name": "stderr",
     "output_type": "stream",
     "text": [
      "/var/folders/6h/7_s8d7dn5p565dythb22sn0c0000gn/T/ipykernel_99815/3620101952.py:15: DeprecationWarning: datetime.datetime.utcfromtimestamp() is deprecated and scheduled for removal in a future version. Use timezone-aware objects to represent datetimes in UTC: datetime.datetime.fromtimestamp(timestamp, datetime.UTC).\n",
      "  return dt.datetime.utcfromtimestamp(ts_utc).replace(tzinfo=dt.timezone.utc)\n"
     ]
    },
    {
     "name": "stdout",
     "output_type": "stream",
     "text": [
      "Saved 23 comments (total 4,107).\n"
     ]
    },
    {
     "name": "stderr",
     "output_type": "stream",
     "text": [
      "/var/folders/6h/7_s8d7dn5p565dythb22sn0c0000gn/T/ipykernel_99815/3620101952.py:15: DeprecationWarning: datetime.datetime.utcfromtimestamp() is deprecated and scheduled for removal in a future version. Use timezone-aware objects to represent datetimes in UTC: datetime.datetime.fromtimestamp(timestamp, datetime.UTC).\n",
      "  return dt.datetime.utcfromtimestamp(ts_utc).replace(tzinfo=dt.timezone.utc)\n"
     ]
    },
    {
     "name": "stdout",
     "output_type": "stream",
     "text": [
      "Saved 77 comments (total 4,184).\n"
     ]
    },
    {
     "name": "stderr",
     "output_type": "stream",
     "text": [
      "/var/folders/6h/7_s8d7dn5p565dythb22sn0c0000gn/T/ipykernel_99815/3620101952.py:15: DeprecationWarning: datetime.datetime.utcfromtimestamp() is deprecated and scheduled for removal in a future version. Use timezone-aware objects to represent datetimes in UTC: datetime.datetime.fromtimestamp(timestamp, datetime.UTC).\n",
      "  return dt.datetime.utcfromtimestamp(ts_utc).replace(tzinfo=dt.timezone.utc)\n"
     ]
    },
    {
     "name": "stdout",
     "output_type": "stream",
     "text": [
      "Saved 5 comments (total 4,189).\n"
     ]
    },
    {
     "name": "stderr",
     "output_type": "stream",
     "text": [
      "/var/folders/6h/7_s8d7dn5p565dythb22sn0c0000gn/T/ipykernel_99815/3620101952.py:15: DeprecationWarning: datetime.datetime.utcfromtimestamp() is deprecated and scheduled for removal in a future version. Use timezone-aware objects to represent datetimes in UTC: datetime.datetime.fromtimestamp(timestamp, datetime.UTC).\n",
      "  return dt.datetime.utcfromtimestamp(ts_utc).replace(tzinfo=dt.timezone.utc)\n"
     ]
    },
    {
     "name": "stdout",
     "output_type": "stream",
     "text": [
      "Saved 18 comments (total 4,207).\n"
     ]
    },
    {
     "name": "stderr",
     "output_type": "stream",
     "text": [
      "/var/folders/6h/7_s8d7dn5p565dythb22sn0c0000gn/T/ipykernel_99815/3620101952.py:15: DeprecationWarning: datetime.datetime.utcfromtimestamp() is deprecated and scheduled for removal in a future version. Use timezone-aware objects to represent datetimes in UTC: datetime.datetime.fromtimestamp(timestamp, datetime.UTC).\n",
      "  return dt.datetime.utcfromtimestamp(ts_utc).replace(tzinfo=dt.timezone.utc)\n"
     ]
    },
    {
     "name": "stdout",
     "output_type": "stream",
     "text": [
      "Saved 6 comments (total 4,213).\n"
     ]
    },
    {
     "name": "stderr",
     "output_type": "stream",
     "text": [
      "/var/folders/6h/7_s8d7dn5p565dythb22sn0c0000gn/T/ipykernel_99815/3620101952.py:15: DeprecationWarning: datetime.datetime.utcfromtimestamp() is deprecated and scheduled for removal in a future version. Use timezone-aware objects to represent datetimes in UTC: datetime.datetime.fromtimestamp(timestamp, datetime.UTC).\n",
      "  return dt.datetime.utcfromtimestamp(ts_utc).replace(tzinfo=dt.timezone.utc)\n"
     ]
    },
    {
     "name": "stdout",
     "output_type": "stream",
     "text": [
      "Saved 30 comments (total 4,243).\n"
     ]
    },
    {
     "name": "stderr",
     "output_type": "stream",
     "text": [
      "/var/folders/6h/7_s8d7dn5p565dythb22sn0c0000gn/T/ipykernel_99815/3620101952.py:15: DeprecationWarning: datetime.datetime.utcfromtimestamp() is deprecated and scheduled for removal in a future version. Use timezone-aware objects to represent datetimes in UTC: datetime.datetime.fromtimestamp(timestamp, datetime.UTC).\n",
      "  return dt.datetime.utcfromtimestamp(ts_utc).replace(tzinfo=dt.timezone.utc)\n"
     ]
    },
    {
     "name": "stdout",
     "output_type": "stream",
     "text": [
      "Saved 38 comments (total 4,281).\n"
     ]
    },
    {
     "name": "stderr",
     "output_type": "stream",
     "text": [
      "/var/folders/6h/7_s8d7dn5p565dythb22sn0c0000gn/T/ipykernel_99815/3620101952.py:15: DeprecationWarning: datetime.datetime.utcfromtimestamp() is deprecated and scheduled for removal in a future version. Use timezone-aware objects to represent datetimes in UTC: datetime.datetime.fromtimestamp(timestamp, datetime.UTC).\n",
      "  return dt.datetime.utcfromtimestamp(ts_utc).replace(tzinfo=dt.timezone.utc)\n"
     ]
    },
    {
     "name": "stdout",
     "output_type": "stream",
     "text": [
      "Saved 54 comments (total 4,335).\n"
     ]
    },
    {
     "name": "stderr",
     "output_type": "stream",
     "text": [
      "/var/folders/6h/7_s8d7dn5p565dythb22sn0c0000gn/T/ipykernel_99815/3620101952.py:15: DeprecationWarning: datetime.datetime.utcfromtimestamp() is deprecated and scheduled for removal in a future version. Use timezone-aware objects to represent datetimes in UTC: datetime.datetime.fromtimestamp(timestamp, datetime.UTC).\n",
      "  return dt.datetime.utcfromtimestamp(ts_utc).replace(tzinfo=dt.timezone.utc)\n"
     ]
    },
    {
     "name": "stdout",
     "output_type": "stream",
     "text": [
      "Saved 23 comments (total 4,358).\n"
     ]
    },
    {
     "name": "stderr",
     "output_type": "stream",
     "text": [
      "/var/folders/6h/7_s8d7dn5p565dythb22sn0c0000gn/T/ipykernel_99815/3620101952.py:15: DeprecationWarning: datetime.datetime.utcfromtimestamp() is deprecated and scheduled for removal in a future version. Use timezone-aware objects to represent datetimes in UTC: datetime.datetime.fromtimestamp(timestamp, datetime.UTC).\n",
      "  return dt.datetime.utcfromtimestamp(ts_utc).replace(tzinfo=dt.timezone.utc)\n"
     ]
    },
    {
     "name": "stdout",
     "output_type": "stream",
     "text": [
      "Saved 82 comments (total 4,440).\n"
     ]
    },
    {
     "name": "stderr",
     "output_type": "stream",
     "text": [
      "/var/folders/6h/7_s8d7dn5p565dythb22sn0c0000gn/T/ipykernel_99815/3620101952.py:15: DeprecationWarning: datetime.datetime.utcfromtimestamp() is deprecated and scheduled for removal in a future version. Use timezone-aware objects to represent datetimes in UTC: datetime.datetime.fromtimestamp(timestamp, datetime.UTC).\n",
      "  return dt.datetime.utcfromtimestamp(ts_utc).replace(tzinfo=dt.timezone.utc)\n"
     ]
    },
    {
     "name": "stdout",
     "output_type": "stream",
     "text": [
      "Saved 26 comments (total 4,466).\n"
     ]
    },
    {
     "name": "stderr",
     "output_type": "stream",
     "text": [
      "/var/folders/6h/7_s8d7dn5p565dythb22sn0c0000gn/T/ipykernel_99815/3620101952.py:15: DeprecationWarning: datetime.datetime.utcfromtimestamp() is deprecated and scheduled for removal in a future version. Use timezone-aware objects to represent datetimes in UTC: datetime.datetime.fromtimestamp(timestamp, datetime.UTC).\n",
      "  return dt.datetime.utcfromtimestamp(ts_utc).replace(tzinfo=dt.timezone.utc)\n"
     ]
    },
    {
     "name": "stdout",
     "output_type": "stream",
     "text": [
      "Saved 7 comments (total 4,473).\n"
     ]
    },
    {
     "name": "stderr",
     "output_type": "stream",
     "text": [
      "/var/folders/6h/7_s8d7dn5p565dythb22sn0c0000gn/T/ipykernel_99815/3620101952.py:15: DeprecationWarning: datetime.datetime.utcfromtimestamp() is deprecated and scheduled for removal in a future version. Use timezone-aware objects to represent datetimes in UTC: datetime.datetime.fromtimestamp(timestamp, datetime.UTC).\n",
      "  return dt.datetime.utcfromtimestamp(ts_utc).replace(tzinfo=dt.timezone.utc)\n"
     ]
    },
    {
     "name": "stdout",
     "output_type": "stream",
     "text": [
      "Saved 3 comments (total 4,476).\n"
     ]
    },
    {
     "name": "stderr",
     "output_type": "stream",
     "text": [
      "/var/folders/6h/7_s8d7dn5p565dythb22sn0c0000gn/T/ipykernel_99815/3620101952.py:15: DeprecationWarning: datetime.datetime.utcfromtimestamp() is deprecated and scheduled for removal in a future version. Use timezone-aware objects to represent datetimes in UTC: datetime.datetime.fromtimestamp(timestamp, datetime.UTC).\n",
      "  return dt.datetime.utcfromtimestamp(ts_utc).replace(tzinfo=dt.timezone.utc)\n"
     ]
    },
    {
     "name": "stdout",
     "output_type": "stream",
     "text": [
      "Saved 5 comments (total 4,481).\n"
     ]
    },
    {
     "name": "stderr",
     "output_type": "stream",
     "text": [
      "/var/folders/6h/7_s8d7dn5p565dythb22sn0c0000gn/T/ipykernel_99815/3620101952.py:15: DeprecationWarning: datetime.datetime.utcfromtimestamp() is deprecated and scheduled for removal in a future version. Use timezone-aware objects to represent datetimes in UTC: datetime.datetime.fromtimestamp(timestamp, datetime.UTC).\n",
      "  return dt.datetime.utcfromtimestamp(ts_utc).replace(tzinfo=dt.timezone.utc)\n"
     ]
    },
    {
     "name": "stdout",
     "output_type": "stream",
     "text": [
      "Saved 26 comments (total 4,507).\n"
     ]
    },
    {
     "name": "stderr",
     "output_type": "stream",
     "text": [
      "/var/folders/6h/7_s8d7dn5p565dythb22sn0c0000gn/T/ipykernel_99815/3620101952.py:15: DeprecationWarning: datetime.datetime.utcfromtimestamp() is deprecated and scheduled for removal in a future version. Use timezone-aware objects to represent datetimes in UTC: datetime.datetime.fromtimestamp(timestamp, datetime.UTC).\n",
      "  return dt.datetime.utcfromtimestamp(ts_utc).replace(tzinfo=dt.timezone.utc)\n"
     ]
    },
    {
     "name": "stdout",
     "output_type": "stream",
     "text": [
      "Saved 83 comments (total 4,590).\n"
     ]
    },
    {
     "name": "stderr",
     "output_type": "stream",
     "text": [
      "/var/folders/6h/7_s8d7dn5p565dythb22sn0c0000gn/T/ipykernel_99815/3620101952.py:15: DeprecationWarning: datetime.datetime.utcfromtimestamp() is deprecated and scheduled for removal in a future version. Use timezone-aware objects to represent datetimes in UTC: datetime.datetime.fromtimestamp(timestamp, datetime.UTC).\n",
      "  return dt.datetime.utcfromtimestamp(ts_utc).replace(tzinfo=dt.timezone.utc)\n"
     ]
    },
    {
     "name": "stdout",
     "output_type": "stream",
     "text": [
      "Saved 52 comments (total 4,642).\n"
     ]
    },
    {
     "name": "stderr",
     "output_type": "stream",
     "text": [
      "/var/folders/6h/7_s8d7dn5p565dythb22sn0c0000gn/T/ipykernel_99815/3620101952.py:15: DeprecationWarning: datetime.datetime.utcfromtimestamp() is deprecated and scheduled for removal in a future version. Use timezone-aware objects to represent datetimes in UTC: datetime.datetime.fromtimestamp(timestamp, datetime.UTC).\n",
      "  return dt.datetime.utcfromtimestamp(ts_utc).replace(tzinfo=dt.timezone.utc)\n"
     ]
    },
    {
     "name": "stdout",
     "output_type": "stream",
     "text": [
      "Saved 23 comments (total 4,665).\n"
     ]
    },
    {
     "name": "stderr",
     "output_type": "stream",
     "text": [
      "/var/folders/6h/7_s8d7dn5p565dythb22sn0c0000gn/T/ipykernel_99815/3620101952.py:15: DeprecationWarning: datetime.datetime.utcfromtimestamp() is deprecated and scheduled for removal in a future version. Use timezone-aware objects to represent datetimes in UTC: datetime.datetime.fromtimestamp(timestamp, datetime.UTC).\n",
      "  return dt.datetime.utcfromtimestamp(ts_utc).replace(tzinfo=dt.timezone.utc)\n"
     ]
    },
    {
     "name": "stdout",
     "output_type": "stream",
     "text": [
      "Saved 13 comments (total 4,678).\n"
     ]
    },
    {
     "name": "stderr",
     "output_type": "stream",
     "text": [
      "/var/folders/6h/7_s8d7dn5p565dythb22sn0c0000gn/T/ipykernel_99815/3620101952.py:15: DeprecationWarning: datetime.datetime.utcfromtimestamp() is deprecated and scheduled for removal in a future version. Use timezone-aware objects to represent datetimes in UTC: datetime.datetime.fromtimestamp(timestamp, datetime.UTC).\n",
      "  return dt.datetime.utcfromtimestamp(ts_utc).replace(tzinfo=dt.timezone.utc)\n"
     ]
    },
    {
     "name": "stdout",
     "output_type": "stream",
     "text": [
      "Saved 35 comments (total 4,713).\n"
     ]
    },
    {
     "name": "stderr",
     "output_type": "stream",
     "text": [
      "/var/folders/6h/7_s8d7dn5p565dythb22sn0c0000gn/T/ipykernel_99815/3620101952.py:15: DeprecationWarning: datetime.datetime.utcfromtimestamp() is deprecated and scheduled for removal in a future version. Use timezone-aware objects to represent datetimes in UTC: datetime.datetime.fromtimestamp(timestamp, datetime.UTC).\n",
      "  return dt.datetime.utcfromtimestamp(ts_utc).replace(tzinfo=dt.timezone.utc)\n"
     ]
    },
    {
     "name": "stdout",
     "output_type": "stream",
     "text": [
      "Saved 56 comments (total 4,769).\n"
     ]
    },
    {
     "name": "stderr",
     "output_type": "stream",
     "text": [
      "/var/folders/6h/7_s8d7dn5p565dythb22sn0c0000gn/T/ipykernel_99815/3620101952.py:15: DeprecationWarning: datetime.datetime.utcfromtimestamp() is deprecated and scheduled for removal in a future version. Use timezone-aware objects to represent datetimes in UTC: datetime.datetime.fromtimestamp(timestamp, datetime.UTC).\n",
      "  return dt.datetime.utcfromtimestamp(ts_utc).replace(tzinfo=dt.timezone.utc)\n"
     ]
    },
    {
     "name": "stdout",
     "output_type": "stream",
     "text": [
      "Saved 31 comments (total 4,800).\n"
     ]
    },
    {
     "name": "stderr",
     "output_type": "stream",
     "text": [
      "/var/folders/6h/7_s8d7dn5p565dythb22sn0c0000gn/T/ipykernel_99815/3620101952.py:15: DeprecationWarning: datetime.datetime.utcfromtimestamp() is deprecated and scheduled for removal in a future version. Use timezone-aware objects to represent datetimes in UTC: datetime.datetime.fromtimestamp(timestamp, datetime.UTC).\n",
      "  return dt.datetime.utcfromtimestamp(ts_utc).replace(tzinfo=dt.timezone.utc)\n"
     ]
    },
    {
     "name": "stdout",
     "output_type": "stream",
     "text": [
      "Saved 91 comments (total 4,891).\n"
     ]
    },
    {
     "name": "stderr",
     "output_type": "stream",
     "text": [
      "/var/folders/6h/7_s8d7dn5p565dythb22sn0c0000gn/T/ipykernel_99815/3620101952.py:15: DeprecationWarning: datetime.datetime.utcfromtimestamp() is deprecated and scheduled for removal in a future version. Use timezone-aware objects to represent datetimes in UTC: datetime.datetime.fromtimestamp(timestamp, datetime.UTC).\n",
      "  return dt.datetime.utcfromtimestamp(ts_utc).replace(tzinfo=dt.timezone.utc)\n"
     ]
    },
    {
     "name": "stdout",
     "output_type": "stream",
     "text": [
      "Saved 1 comments (total 4,892).\n"
     ]
    },
    {
     "name": "stderr",
     "output_type": "stream",
     "text": [
      "/var/folders/6h/7_s8d7dn5p565dythb22sn0c0000gn/T/ipykernel_99815/3620101952.py:15: DeprecationWarning: datetime.datetime.utcfromtimestamp() is deprecated and scheduled for removal in a future version. Use timezone-aware objects to represent datetimes in UTC: datetime.datetime.fromtimestamp(timestamp, datetime.UTC).\n",
      "  return dt.datetime.utcfromtimestamp(ts_utc).replace(tzinfo=dt.timezone.utc)\n"
     ]
    },
    {
     "name": "stdout",
     "output_type": "stream",
     "text": [
      "Saved 6 comments (total 4,898).\n"
     ]
    },
    {
     "name": "stderr",
     "output_type": "stream",
     "text": [
      "/var/folders/6h/7_s8d7dn5p565dythb22sn0c0000gn/T/ipykernel_99815/3620101952.py:15: DeprecationWarning: datetime.datetime.utcfromtimestamp() is deprecated and scheduled for removal in a future version. Use timezone-aware objects to represent datetimes in UTC: datetime.datetime.fromtimestamp(timestamp, datetime.UTC).\n",
      "  return dt.datetime.utcfromtimestamp(ts_utc).replace(tzinfo=dt.timezone.utc)\n"
     ]
    },
    {
     "name": "stdout",
     "output_type": "stream",
     "text": [
      "Saved 134 comments (total 5,032).\n"
     ]
    },
    {
     "name": "stderr",
     "output_type": "stream",
     "text": [
      "/var/folders/6h/7_s8d7dn5p565dythb22sn0c0000gn/T/ipykernel_99815/3620101952.py:15: DeprecationWarning: datetime.datetime.utcfromtimestamp() is deprecated and scheduled for removal in a future version. Use timezone-aware objects to represent datetimes in UTC: datetime.datetime.fromtimestamp(timestamp, datetime.UTC).\n",
      "  return dt.datetime.utcfromtimestamp(ts_utc).replace(tzinfo=dt.timezone.utc)\n"
     ]
    },
    {
     "name": "stdout",
     "output_type": "stream",
     "text": [
      "Saved 2 comments (total 5,034).\n"
     ]
    },
    {
     "name": "stderr",
     "output_type": "stream",
     "text": [
      "/var/folders/6h/7_s8d7dn5p565dythb22sn0c0000gn/T/ipykernel_99815/3620101952.py:15: DeprecationWarning: datetime.datetime.utcfromtimestamp() is deprecated and scheduled for removal in a future version. Use timezone-aware objects to represent datetimes in UTC: datetime.datetime.fromtimestamp(timestamp, datetime.UTC).\n",
      "  return dt.datetime.utcfromtimestamp(ts_utc).replace(tzinfo=dt.timezone.utc)\n"
     ]
    },
    {
     "name": "stdout",
     "output_type": "stream",
     "text": [
      "Saved 68 comments (total 5,102).\n"
     ]
    },
    {
     "name": "stderr",
     "output_type": "stream",
     "text": [
      "/var/folders/6h/7_s8d7dn5p565dythb22sn0c0000gn/T/ipykernel_99815/3620101952.py:15: DeprecationWarning: datetime.datetime.utcfromtimestamp() is deprecated and scheduled for removal in a future version. Use timezone-aware objects to represent datetimes in UTC: datetime.datetime.fromtimestamp(timestamp, datetime.UTC).\n",
      "  return dt.datetime.utcfromtimestamp(ts_utc).replace(tzinfo=dt.timezone.utc)\n"
     ]
    },
    {
     "name": "stdout",
     "output_type": "stream",
     "text": [
      "Saved 164 comments (total 5,266).\n"
     ]
    },
    {
     "name": "stderr",
     "output_type": "stream",
     "text": [
      "/var/folders/6h/7_s8d7dn5p565dythb22sn0c0000gn/T/ipykernel_99815/3620101952.py:15: DeprecationWarning: datetime.datetime.utcfromtimestamp() is deprecated and scheduled for removal in a future version. Use timezone-aware objects to represent datetimes in UTC: datetime.datetime.fromtimestamp(timestamp, datetime.UTC).\n",
      "  return dt.datetime.utcfromtimestamp(ts_utc).replace(tzinfo=dt.timezone.utc)\n"
     ]
    },
    {
     "name": "stdout",
     "output_type": "stream",
     "text": [
      "Saved 38 comments (total 5,304).\n"
     ]
    },
    {
     "name": "stderr",
     "output_type": "stream",
     "text": [
      "/var/folders/6h/7_s8d7dn5p565dythb22sn0c0000gn/T/ipykernel_99815/3620101952.py:15: DeprecationWarning: datetime.datetime.utcfromtimestamp() is deprecated and scheduled for removal in a future version. Use timezone-aware objects to represent datetimes in UTC: datetime.datetime.fromtimestamp(timestamp, datetime.UTC).\n",
      "  return dt.datetime.utcfromtimestamp(ts_utc).replace(tzinfo=dt.timezone.utc)\n"
     ]
    },
    {
     "name": "stdout",
     "output_type": "stream",
     "text": [
      "Saved 43 comments (total 5,347).\n"
     ]
    },
    {
     "name": "stderr",
     "output_type": "stream",
     "text": [
      "/var/folders/6h/7_s8d7dn5p565dythb22sn0c0000gn/T/ipykernel_99815/3620101952.py:15: DeprecationWarning: datetime.datetime.utcfromtimestamp() is deprecated and scheduled for removal in a future version. Use timezone-aware objects to represent datetimes in UTC: datetime.datetime.fromtimestamp(timestamp, datetime.UTC).\n",
      "  return dt.datetime.utcfromtimestamp(ts_utc).replace(tzinfo=dt.timezone.utc)\n"
     ]
    },
    {
     "name": "stdout",
     "output_type": "stream",
     "text": [
      "Saved 39 comments (total 5,386).\n"
     ]
    },
    {
     "name": "stderr",
     "output_type": "stream",
     "text": [
      "/var/folders/6h/7_s8d7dn5p565dythb22sn0c0000gn/T/ipykernel_99815/3620101952.py:15: DeprecationWarning: datetime.datetime.utcfromtimestamp() is deprecated and scheduled for removal in a future version. Use timezone-aware objects to represent datetimes in UTC: datetime.datetime.fromtimestamp(timestamp, datetime.UTC).\n",
      "  return dt.datetime.utcfromtimestamp(ts_utc).replace(tzinfo=dt.timezone.utc)\n"
     ]
    },
    {
     "name": "stdout",
     "output_type": "stream",
     "text": [
      "Saved 19 comments (total 5,405).\n"
     ]
    },
    {
     "name": "stderr",
     "output_type": "stream",
     "text": [
      "/var/folders/6h/7_s8d7dn5p565dythb22sn0c0000gn/T/ipykernel_99815/3620101952.py:15: DeprecationWarning: datetime.datetime.utcfromtimestamp() is deprecated and scheduled for removal in a future version. Use timezone-aware objects to represent datetimes in UTC: datetime.datetime.fromtimestamp(timestamp, datetime.UTC).\n",
      "  return dt.datetime.utcfromtimestamp(ts_utc).replace(tzinfo=dt.timezone.utc)\n"
     ]
    },
    {
     "name": "stdout",
     "output_type": "stream",
     "text": [
      "Saved 55 comments (total 5,460).\n"
     ]
    },
    {
     "name": "stderr",
     "output_type": "stream",
     "text": [
      "/var/folders/6h/7_s8d7dn5p565dythb22sn0c0000gn/T/ipykernel_99815/3620101952.py:15: DeprecationWarning: datetime.datetime.utcfromtimestamp() is deprecated and scheduled for removal in a future version. Use timezone-aware objects to represent datetimes in UTC: datetime.datetime.fromtimestamp(timestamp, datetime.UTC).\n",
      "  return dt.datetime.utcfromtimestamp(ts_utc).replace(tzinfo=dt.timezone.utc)\n"
     ]
    },
    {
     "name": "stdout",
     "output_type": "stream",
     "text": [
      "Saved 67 comments (total 5,527).\n"
     ]
    },
    {
     "name": "stderr",
     "output_type": "stream",
     "text": [
      "/var/folders/6h/7_s8d7dn5p565dythb22sn0c0000gn/T/ipykernel_99815/3620101952.py:15: DeprecationWarning: datetime.datetime.utcfromtimestamp() is deprecated and scheduled for removal in a future version. Use timezone-aware objects to represent datetimes in UTC: datetime.datetime.fromtimestamp(timestamp, datetime.UTC).\n",
      "  return dt.datetime.utcfromtimestamp(ts_utc).replace(tzinfo=dt.timezone.utc)\n"
     ]
    },
    {
     "name": "stdout",
     "output_type": "stream",
     "text": [
      "Saved 134 comments (total 5,661).\n"
     ]
    },
    {
     "name": "stderr",
     "output_type": "stream",
     "text": [
      "/var/folders/6h/7_s8d7dn5p565dythb22sn0c0000gn/T/ipykernel_99815/3620101952.py:15: DeprecationWarning: datetime.datetime.utcfromtimestamp() is deprecated and scheduled for removal in a future version. Use timezone-aware objects to represent datetimes in UTC: datetime.datetime.fromtimestamp(timestamp, datetime.UTC).\n",
      "  return dt.datetime.utcfromtimestamp(ts_utc).replace(tzinfo=dt.timezone.utc)\n"
     ]
    },
    {
     "name": "stdout",
     "output_type": "stream",
     "text": [
      "Saved 213 comments (total 5,874).\n"
     ]
    },
    {
     "name": "stderr",
     "output_type": "stream",
     "text": [
      "/var/folders/6h/7_s8d7dn5p565dythb22sn0c0000gn/T/ipykernel_99815/3620101952.py:15: DeprecationWarning: datetime.datetime.utcfromtimestamp() is deprecated and scheduled for removal in a future version. Use timezone-aware objects to represent datetimes in UTC: datetime.datetime.fromtimestamp(timestamp, datetime.UTC).\n",
      "  return dt.datetime.utcfromtimestamp(ts_utc).replace(tzinfo=dt.timezone.utc)\n"
     ]
    },
    {
     "name": "stdout",
     "output_type": "stream",
     "text": [
      "Saved 95 comments (total 5,969).\n"
     ]
    },
    {
     "name": "stderr",
     "output_type": "stream",
     "text": [
      "/var/folders/6h/7_s8d7dn5p565dythb22sn0c0000gn/T/ipykernel_99815/3620101952.py:15: DeprecationWarning: datetime.datetime.utcfromtimestamp() is deprecated and scheduled for removal in a future version. Use timezone-aware objects to represent datetimes in UTC: datetime.datetime.fromtimestamp(timestamp, datetime.UTC).\n",
      "  return dt.datetime.utcfromtimestamp(ts_utc).replace(tzinfo=dt.timezone.utc)\n"
     ]
    },
    {
     "name": "stdout",
     "output_type": "stream",
     "text": [
      "Saved 772 comments (total 6,741).\n"
     ]
    },
    {
     "name": "stderr",
     "output_type": "stream",
     "text": [
      "/var/folders/6h/7_s8d7dn5p565dythb22sn0c0000gn/T/ipykernel_99815/3620101952.py:15: DeprecationWarning: datetime.datetime.utcfromtimestamp() is deprecated and scheduled for removal in a future version. Use timezone-aware objects to represent datetimes in UTC: datetime.datetime.fromtimestamp(timestamp, datetime.UTC).\n",
      "  return dt.datetime.utcfromtimestamp(ts_utc).replace(tzinfo=dt.timezone.utc)\n"
     ]
    },
    {
     "name": "stdout",
     "output_type": "stream",
     "text": [
      "Saved 37 comments (total 6,778).\n"
     ]
    },
    {
     "name": "stderr",
     "output_type": "stream",
     "text": [
      "/var/folders/6h/7_s8d7dn5p565dythb22sn0c0000gn/T/ipykernel_99815/3620101952.py:15: DeprecationWarning: datetime.datetime.utcfromtimestamp() is deprecated and scheduled for removal in a future version. Use timezone-aware objects to represent datetimes in UTC: datetime.datetime.fromtimestamp(timestamp, datetime.UTC).\n",
      "  return dt.datetime.utcfromtimestamp(ts_utc).replace(tzinfo=dt.timezone.utc)\n"
     ]
    },
    {
     "name": "stdout",
     "output_type": "stream",
     "text": [
      "Saved 36 comments (total 6,814).\n"
     ]
    },
    {
     "name": "stderr",
     "output_type": "stream",
     "text": [
      "/var/folders/6h/7_s8d7dn5p565dythb22sn0c0000gn/T/ipykernel_99815/3620101952.py:15: DeprecationWarning: datetime.datetime.utcfromtimestamp() is deprecated and scheduled for removal in a future version. Use timezone-aware objects to represent datetimes in UTC: datetime.datetime.fromtimestamp(timestamp, datetime.UTC).\n",
      "  return dt.datetime.utcfromtimestamp(ts_utc).replace(tzinfo=dt.timezone.utc)\n"
     ]
    },
    {
     "name": "stdout",
     "output_type": "stream",
     "text": [
      "Saved 6 comments (total 6,820).\n"
     ]
    },
    {
     "name": "stderr",
     "output_type": "stream",
     "text": [
      "/var/folders/6h/7_s8d7dn5p565dythb22sn0c0000gn/T/ipykernel_99815/3620101952.py:15: DeprecationWarning: datetime.datetime.utcfromtimestamp() is deprecated and scheduled for removal in a future version. Use timezone-aware objects to represent datetimes in UTC: datetime.datetime.fromtimestamp(timestamp, datetime.UTC).\n",
      "  return dt.datetime.utcfromtimestamp(ts_utc).replace(tzinfo=dt.timezone.utc)\n"
     ]
    },
    {
     "name": "stdout",
     "output_type": "stream",
     "text": [
      "Saved 8 comments (total 6,828).\n"
     ]
    },
    {
     "name": "stderr",
     "output_type": "stream",
     "text": [
      "/var/folders/6h/7_s8d7dn5p565dythb22sn0c0000gn/T/ipykernel_99815/3620101952.py:15: DeprecationWarning: datetime.datetime.utcfromtimestamp() is deprecated and scheduled for removal in a future version. Use timezone-aware objects to represent datetimes in UTC: datetime.datetime.fromtimestamp(timestamp, datetime.UTC).\n",
      "  return dt.datetime.utcfromtimestamp(ts_utc).replace(tzinfo=dt.timezone.utc)\n"
     ]
    },
    {
     "name": "stdout",
     "output_type": "stream",
     "text": [
      "Saved 4 comments (total 6,832).\n"
     ]
    },
    {
     "name": "stderr",
     "output_type": "stream",
     "text": [
      "/var/folders/6h/7_s8d7dn5p565dythb22sn0c0000gn/T/ipykernel_99815/3620101952.py:15: DeprecationWarning: datetime.datetime.utcfromtimestamp() is deprecated and scheduled for removal in a future version. Use timezone-aware objects to represent datetimes in UTC: datetime.datetime.fromtimestamp(timestamp, datetime.UTC).\n",
      "  return dt.datetime.utcfromtimestamp(ts_utc).replace(tzinfo=dt.timezone.utc)\n"
     ]
    },
    {
     "name": "stdout",
     "output_type": "stream",
     "text": [
      "Saved 37 comments (total 6,869).\n"
     ]
    },
    {
     "name": "stderr",
     "output_type": "stream",
     "text": [
      "/var/folders/6h/7_s8d7dn5p565dythb22sn0c0000gn/T/ipykernel_99815/3620101952.py:15: DeprecationWarning: datetime.datetime.utcfromtimestamp() is deprecated and scheduled for removal in a future version. Use timezone-aware objects to represent datetimes in UTC: datetime.datetime.fromtimestamp(timestamp, datetime.UTC).\n",
      "  return dt.datetime.utcfromtimestamp(ts_utc).replace(tzinfo=dt.timezone.utc)\n"
     ]
    },
    {
     "name": "stdout",
     "output_type": "stream",
     "text": [
      "Saved 17 comments (total 6,886).\n"
     ]
    },
    {
     "name": "stderr",
     "output_type": "stream",
     "text": [
      "/var/folders/6h/7_s8d7dn5p565dythb22sn0c0000gn/T/ipykernel_99815/3620101952.py:15: DeprecationWarning: datetime.datetime.utcfromtimestamp() is deprecated and scheduled for removal in a future version. Use timezone-aware objects to represent datetimes in UTC: datetime.datetime.fromtimestamp(timestamp, datetime.UTC).\n",
      "  return dt.datetime.utcfromtimestamp(ts_utc).replace(tzinfo=dt.timezone.utc)\n"
     ]
    },
    {
     "name": "stdout",
     "output_type": "stream",
     "text": [
      "Saved 6 comments (total 6,892).\n"
     ]
    },
    {
     "name": "stderr",
     "output_type": "stream",
     "text": [
      "/var/folders/6h/7_s8d7dn5p565dythb22sn0c0000gn/T/ipykernel_99815/3620101952.py:15: DeprecationWarning: datetime.datetime.utcfromtimestamp() is deprecated and scheduled for removal in a future version. Use timezone-aware objects to represent datetimes in UTC: datetime.datetime.fromtimestamp(timestamp, datetime.UTC).\n",
      "  return dt.datetime.utcfromtimestamp(ts_utc).replace(tzinfo=dt.timezone.utc)\n"
     ]
    },
    {
     "name": "stdout",
     "output_type": "stream",
     "text": [
      "Saved 44 comments (total 6,936).\n"
     ]
    },
    {
     "name": "stderr",
     "output_type": "stream",
     "text": [
      "/var/folders/6h/7_s8d7dn5p565dythb22sn0c0000gn/T/ipykernel_99815/3620101952.py:15: DeprecationWarning: datetime.datetime.utcfromtimestamp() is deprecated and scheduled for removal in a future version. Use timezone-aware objects to represent datetimes in UTC: datetime.datetime.fromtimestamp(timestamp, datetime.UTC).\n",
      "  return dt.datetime.utcfromtimestamp(ts_utc).replace(tzinfo=dt.timezone.utc)\n"
     ]
    },
    {
     "name": "stdout",
     "output_type": "stream",
     "text": [
      "Saved 8 comments (total 6,944).\n"
     ]
    },
    {
     "name": "stderr",
     "output_type": "stream",
     "text": [
      "/var/folders/6h/7_s8d7dn5p565dythb22sn0c0000gn/T/ipykernel_99815/3620101952.py:15: DeprecationWarning: datetime.datetime.utcfromtimestamp() is deprecated and scheduled for removal in a future version. Use timezone-aware objects to represent datetimes in UTC: datetime.datetime.fromtimestamp(timestamp, datetime.UTC).\n",
      "  return dt.datetime.utcfromtimestamp(ts_utc).replace(tzinfo=dt.timezone.utc)\n"
     ]
    },
    {
     "name": "stdout",
     "output_type": "stream",
     "text": [
      "Saved 85 comments (total 7,029).\n"
     ]
    },
    {
     "name": "stderr",
     "output_type": "stream",
     "text": [
      "/var/folders/6h/7_s8d7dn5p565dythb22sn0c0000gn/T/ipykernel_99815/3620101952.py:15: DeprecationWarning: datetime.datetime.utcfromtimestamp() is deprecated and scheduled for removal in a future version. Use timezone-aware objects to represent datetimes in UTC: datetime.datetime.fromtimestamp(timestamp, datetime.UTC).\n",
      "  return dt.datetime.utcfromtimestamp(ts_utc).replace(tzinfo=dt.timezone.utc)\n"
     ]
    },
    {
     "name": "stdout",
     "output_type": "stream",
     "text": [
      "Saved 387 comments (total 7,416).\n"
     ]
    },
    {
     "name": "stderr",
     "output_type": "stream",
     "text": [
      "/var/folders/6h/7_s8d7dn5p565dythb22sn0c0000gn/T/ipykernel_99815/3620101952.py:15: DeprecationWarning: datetime.datetime.utcfromtimestamp() is deprecated and scheduled for removal in a future version. Use timezone-aware objects to represent datetimes in UTC: datetime.datetime.fromtimestamp(timestamp, datetime.UTC).\n",
      "  return dt.datetime.utcfromtimestamp(ts_utc).replace(tzinfo=dt.timezone.utc)\n",
      "/var/folders/6h/7_s8d7dn5p565dythb22sn0c0000gn/T/ipykernel_99815/3620101952.py:15: DeprecationWarning: datetime.datetime.utcfromtimestamp() is deprecated and scheduled for removal in a future version. Use timezone-aware objects to represent datetimes in UTC: datetime.datetime.fromtimestamp(timestamp, datetime.UTC).\n",
      "  return dt.datetime.utcfromtimestamp(ts_utc).replace(tzinfo=dt.timezone.utc)\n"
     ]
    },
    {
     "name": "stdout",
     "output_type": "stream",
     "text": [
      "Saved 5000 comments (total 12,416).\n",
      "Saved 1761 comments (total 14,177).\n"
     ]
    },
    {
     "name": "stderr",
     "output_type": "stream",
     "text": [
      "/var/folders/6h/7_s8d7dn5p565dythb22sn0c0000gn/T/ipykernel_99815/3620101952.py:15: DeprecationWarning: datetime.datetime.utcfromtimestamp() is deprecated and scheduled for removal in a future version. Use timezone-aware objects to represent datetimes in UTC: datetime.datetime.fromtimestamp(timestamp, datetime.UTC).\n",
      "  return dt.datetime.utcfromtimestamp(ts_utc).replace(tzinfo=dt.timezone.utc)\n"
     ]
    },
    {
     "name": "stdout",
     "output_type": "stream",
     "text": [
      "Saved 59 comments (total 14,236).\n"
     ]
    },
    {
     "name": "stderr",
     "output_type": "stream",
     "text": [
      "/var/folders/6h/7_s8d7dn5p565dythb22sn0c0000gn/T/ipykernel_99815/3620101952.py:15: DeprecationWarning: datetime.datetime.utcfromtimestamp() is deprecated and scheduled for removal in a future version. Use timezone-aware objects to represent datetimes in UTC: datetime.datetime.fromtimestamp(timestamp, datetime.UTC).\n",
      "  return dt.datetime.utcfromtimestamp(ts_utc).replace(tzinfo=dt.timezone.utc)\n"
     ]
    },
    {
     "name": "stdout",
     "output_type": "stream",
     "text": [
      "Saved 30 comments (total 14,266).\n"
     ]
    },
    {
     "name": "stderr",
     "output_type": "stream",
     "text": [
      "/var/folders/6h/7_s8d7dn5p565dythb22sn0c0000gn/T/ipykernel_99815/3620101952.py:15: DeprecationWarning: datetime.datetime.utcfromtimestamp() is deprecated and scheduled for removal in a future version. Use timezone-aware objects to represent datetimes in UTC: datetime.datetime.fromtimestamp(timestamp, datetime.UTC).\n",
      "  return dt.datetime.utcfromtimestamp(ts_utc).replace(tzinfo=dt.timezone.utc)\n"
     ]
    },
    {
     "name": "stdout",
     "output_type": "stream",
     "text": [
      "Saved 28 comments (total 14,294).\n"
     ]
    },
    {
     "name": "stderr",
     "output_type": "stream",
     "text": [
      "/var/folders/6h/7_s8d7dn5p565dythb22sn0c0000gn/T/ipykernel_99815/3620101952.py:15: DeprecationWarning: datetime.datetime.utcfromtimestamp() is deprecated and scheduled for removal in a future version. Use timezone-aware objects to represent datetimes in UTC: datetime.datetime.fromtimestamp(timestamp, datetime.UTC).\n",
      "  return dt.datetime.utcfromtimestamp(ts_utc).replace(tzinfo=dt.timezone.utc)\n"
     ]
    },
    {
     "name": "stdout",
     "output_type": "stream",
     "text": [
      "Saved 23 comments (total 14,317).\n"
     ]
    },
    {
     "name": "stderr",
     "output_type": "stream",
     "text": [
      "/var/folders/6h/7_s8d7dn5p565dythb22sn0c0000gn/T/ipykernel_99815/3620101952.py:15: DeprecationWarning: datetime.datetime.utcfromtimestamp() is deprecated and scheduled for removal in a future version. Use timezone-aware objects to represent datetimes in UTC: datetime.datetime.fromtimestamp(timestamp, datetime.UTC).\n",
      "  return dt.datetime.utcfromtimestamp(ts_utc).replace(tzinfo=dt.timezone.utc)\n"
     ]
    },
    {
     "name": "stdout",
     "output_type": "stream",
     "text": [
      "Saved 4 comments (total 14,321).\n"
     ]
    },
    {
     "name": "stderr",
     "output_type": "stream",
     "text": [
      "/var/folders/6h/7_s8d7dn5p565dythb22sn0c0000gn/T/ipykernel_99815/3620101952.py:15: DeprecationWarning: datetime.datetime.utcfromtimestamp() is deprecated and scheduled for removal in a future version. Use timezone-aware objects to represent datetimes in UTC: datetime.datetime.fromtimestamp(timestamp, datetime.UTC).\n",
      "  return dt.datetime.utcfromtimestamp(ts_utc).replace(tzinfo=dt.timezone.utc)\n"
     ]
    },
    {
     "name": "stdout",
     "output_type": "stream",
     "text": [
      "Saved 94 comments (total 14,415).\n"
     ]
    },
    {
     "name": "stderr",
     "output_type": "stream",
     "text": [
      "/var/folders/6h/7_s8d7dn5p565dythb22sn0c0000gn/T/ipykernel_99815/3620101952.py:15: DeprecationWarning: datetime.datetime.utcfromtimestamp() is deprecated and scheduled for removal in a future version. Use timezone-aware objects to represent datetimes in UTC: datetime.datetime.fromtimestamp(timestamp, datetime.UTC).\n",
      "  return dt.datetime.utcfromtimestamp(ts_utc).replace(tzinfo=dt.timezone.utc)\n"
     ]
    },
    {
     "name": "stdout",
     "output_type": "stream",
     "text": [
      "Saved 48 comments (total 14,463).\n"
     ]
    },
    {
     "name": "stderr",
     "output_type": "stream",
     "text": [
      "/var/folders/6h/7_s8d7dn5p565dythb22sn0c0000gn/T/ipykernel_99815/3620101952.py:15: DeprecationWarning: datetime.datetime.utcfromtimestamp() is deprecated and scheduled for removal in a future version. Use timezone-aware objects to represent datetimes in UTC: datetime.datetime.fromtimestamp(timestamp, datetime.UTC).\n",
      "  return dt.datetime.utcfromtimestamp(ts_utc).replace(tzinfo=dt.timezone.utc)\n"
     ]
    },
    {
     "name": "stdout",
     "output_type": "stream",
     "text": [
      "Saved 51 comments (total 14,514).\n"
     ]
    },
    {
     "name": "stderr",
     "output_type": "stream",
     "text": [
      "/var/folders/6h/7_s8d7dn5p565dythb22sn0c0000gn/T/ipykernel_99815/3620101952.py:15: DeprecationWarning: datetime.datetime.utcfromtimestamp() is deprecated and scheduled for removal in a future version. Use timezone-aware objects to represent datetimes in UTC: datetime.datetime.fromtimestamp(timestamp, datetime.UTC).\n",
      "  return dt.datetime.utcfromtimestamp(ts_utc).replace(tzinfo=dt.timezone.utc)\n"
     ]
    },
    {
     "name": "stdout",
     "output_type": "stream",
     "text": [
      "Saved 24 comments (total 14,538).\n"
     ]
    },
    {
     "name": "stderr",
     "output_type": "stream",
     "text": [
      "/var/folders/6h/7_s8d7dn5p565dythb22sn0c0000gn/T/ipykernel_99815/3620101952.py:15: DeprecationWarning: datetime.datetime.utcfromtimestamp() is deprecated and scheduled for removal in a future version. Use timezone-aware objects to represent datetimes in UTC: datetime.datetime.fromtimestamp(timestamp, datetime.UTC).\n",
      "  return dt.datetime.utcfromtimestamp(ts_utc).replace(tzinfo=dt.timezone.utc)\n"
     ]
    },
    {
     "name": "stdout",
     "output_type": "stream",
     "text": [
      "Saved 20 comments (total 14,558).\n"
     ]
    },
    {
     "name": "stderr",
     "output_type": "stream",
     "text": [
      "/var/folders/6h/7_s8d7dn5p565dythb22sn0c0000gn/T/ipykernel_99815/3620101952.py:15: DeprecationWarning: datetime.datetime.utcfromtimestamp() is deprecated and scheduled for removal in a future version. Use timezone-aware objects to represent datetimes in UTC: datetime.datetime.fromtimestamp(timestamp, datetime.UTC).\n",
      "  return dt.datetime.utcfromtimestamp(ts_utc).replace(tzinfo=dt.timezone.utc)\n"
     ]
    },
    {
     "name": "stdout",
     "output_type": "stream",
     "text": [
      "Saved 27 comments (total 14,585).\n"
     ]
    },
    {
     "name": "stderr",
     "output_type": "stream",
     "text": [
      "/var/folders/6h/7_s8d7dn5p565dythb22sn0c0000gn/T/ipykernel_99815/3620101952.py:15: DeprecationWarning: datetime.datetime.utcfromtimestamp() is deprecated and scheduled for removal in a future version. Use timezone-aware objects to represent datetimes in UTC: datetime.datetime.fromtimestamp(timestamp, datetime.UTC).\n",
      "  return dt.datetime.utcfromtimestamp(ts_utc).replace(tzinfo=dt.timezone.utc)\n"
     ]
    },
    {
     "name": "stdout",
     "output_type": "stream",
     "text": [
      "Saved 40 comments (total 14,625).\n"
     ]
    },
    {
     "name": "stderr",
     "output_type": "stream",
     "text": [
      "/var/folders/6h/7_s8d7dn5p565dythb22sn0c0000gn/T/ipykernel_99815/3620101952.py:15: DeprecationWarning: datetime.datetime.utcfromtimestamp() is deprecated and scheduled for removal in a future version. Use timezone-aware objects to represent datetimes in UTC: datetime.datetime.fromtimestamp(timestamp, datetime.UTC).\n",
      "  return dt.datetime.utcfromtimestamp(ts_utc).replace(tzinfo=dt.timezone.utc)\n"
     ]
    },
    {
     "name": "stdout",
     "output_type": "stream",
     "text": [
      "Saved 11 comments (total 14,636).\n"
     ]
    },
    {
     "name": "stderr",
     "output_type": "stream",
     "text": [
      "/var/folders/6h/7_s8d7dn5p565dythb22sn0c0000gn/T/ipykernel_99815/3620101952.py:15: DeprecationWarning: datetime.datetime.utcfromtimestamp() is deprecated and scheduled for removal in a future version. Use timezone-aware objects to represent datetimes in UTC: datetime.datetime.fromtimestamp(timestamp, datetime.UTC).\n",
      "  return dt.datetime.utcfromtimestamp(ts_utc).replace(tzinfo=dt.timezone.utc)\n"
     ]
    },
    {
     "name": "stdout",
     "output_type": "stream",
     "text": [
      "Saved 50 comments (total 14,686).\n"
     ]
    },
    {
     "name": "stderr",
     "output_type": "stream",
     "text": [
      "/var/folders/6h/7_s8d7dn5p565dythb22sn0c0000gn/T/ipykernel_99815/3620101952.py:15: DeprecationWarning: datetime.datetime.utcfromtimestamp() is deprecated and scheduled for removal in a future version. Use timezone-aware objects to represent datetimes in UTC: datetime.datetime.fromtimestamp(timestamp, datetime.UTC).\n",
      "  return dt.datetime.utcfromtimestamp(ts_utc).replace(tzinfo=dt.timezone.utc)\n"
     ]
    },
    {
     "name": "stdout",
     "output_type": "stream",
     "text": [
      "Saved 5 comments (total 14,691).\n"
     ]
    },
    {
     "name": "stderr",
     "output_type": "stream",
     "text": [
      "/var/folders/6h/7_s8d7dn5p565dythb22sn0c0000gn/T/ipykernel_99815/3620101952.py:15: DeprecationWarning: datetime.datetime.utcfromtimestamp() is deprecated and scheduled for removal in a future version. Use timezone-aware objects to represent datetimes in UTC: datetime.datetime.fromtimestamp(timestamp, datetime.UTC).\n",
      "  return dt.datetime.utcfromtimestamp(ts_utc).replace(tzinfo=dt.timezone.utc)\n"
     ]
    },
    {
     "name": "stdout",
     "output_type": "stream",
     "text": [
      "Saved 40 comments (total 14,731).\n"
     ]
    },
    {
     "name": "stderr",
     "output_type": "stream",
     "text": [
      "/var/folders/6h/7_s8d7dn5p565dythb22sn0c0000gn/T/ipykernel_99815/3620101952.py:15: DeprecationWarning: datetime.datetime.utcfromtimestamp() is deprecated and scheduled for removal in a future version. Use timezone-aware objects to represent datetimes in UTC: datetime.datetime.fromtimestamp(timestamp, datetime.UTC).\n",
      "  return dt.datetime.utcfromtimestamp(ts_utc).replace(tzinfo=dt.timezone.utc)\n"
     ]
    },
    {
     "name": "stdout",
     "output_type": "stream",
     "text": [
      "Saved 13 comments (total 14,744).\n"
     ]
    },
    {
     "name": "stderr",
     "output_type": "stream",
     "text": [
      "/var/folders/6h/7_s8d7dn5p565dythb22sn0c0000gn/T/ipykernel_99815/3620101952.py:15: DeprecationWarning: datetime.datetime.utcfromtimestamp() is deprecated and scheduled for removal in a future version. Use timezone-aware objects to represent datetimes in UTC: datetime.datetime.fromtimestamp(timestamp, datetime.UTC).\n",
      "  return dt.datetime.utcfromtimestamp(ts_utc).replace(tzinfo=dt.timezone.utc)\n"
     ]
    },
    {
     "name": "stdout",
     "output_type": "stream",
     "text": [
      "Saved 4 comments (total 14,748).\n",
      "[WARN] Comment fetch error for 1n9pvzg (TooManyRequests): received 429 HTTP response. Backing off (attempt 1)…\n"
     ]
    },
    {
     "ename": "NameError",
     "evalue": "name 'rate_limit_backoff' is not defined",
     "output_type": "error",
     "traceback": [
      "\u001b[0;31m---------------------------------------------------------------------------\u001b[0m",
      "\u001b[0;31mTooManyRequests\u001b[0m                           Traceback (most recent call last)",
      "Cell \u001b[0;32mIn[3], line 100\u001b[0m, in \u001b[0;36mfetch_comments_for_posts_csv\u001b[0;34m(posts_csv, out_csv, checkpoint_path, max_depth, flush_every)\u001b[0m\n\u001b[1;32m     99\u001b[0m \u001b[38;5;66;03m# Expand comments; max_depth: None = all, 0 = none\u001b[39;00m\n\u001b[0;32m--> 100\u001b[0m \u001b[43msubm\u001b[49m\u001b[38;5;241;43m.\u001b[39;49m\u001b[43mcomments\u001b[49m\u001b[38;5;241;43m.\u001b[39;49m\u001b[43mreplace_more\u001b[49m\u001b[43m(\u001b[49m\u001b[43mlimit\u001b[49m\u001b[38;5;241;43m=\u001b[39;49m\u001b[43mmax_depth\u001b[49m\u001b[43m)\u001b[49m\n\u001b[1;32m    102\u001b[0m \u001b[38;5;28;01mfor\u001b[39;00m c \u001b[38;5;129;01min\u001b[39;00m subm\u001b[38;5;241m.\u001b[39mcomments\u001b[38;5;241m.\u001b[39mlist():\n",
      "File \u001b[0;32m/opt/anaconda3/envs/DataScience/lib/python3.13/site-packages/praw/util/deprecate_args.py:46\u001b[0m, in \u001b[0;36m_deprecate_args.<locals>.wrapper.<locals>.wrapped\u001b[0;34m(*args, **kwargs)\u001b[0m\n\u001b[1;32m     40\u001b[0m     warn(\n\u001b[1;32m     41\u001b[0m         \u001b[38;5;124mf\u001b[39m\u001b[38;5;124m\"\u001b[39m\u001b[38;5;124mPositional arguments for \u001b[39m\u001b[38;5;132;01m{\u001b[39;00mfunc\u001b[38;5;241m.\u001b[39m\u001b[38;5;18m__qualname__\u001b[39m\u001b[38;5;132;01m!r}\u001b[39;00m\u001b[38;5;124m will no longer be\u001b[39m\u001b[38;5;124m\"\u001b[39m\n\u001b[1;32m     42\u001b[0m         \u001b[38;5;124mf\u001b[39m\u001b[38;5;124m\"\u001b[39m\u001b[38;5;124m supported in PRAW 8.\u001b[39m\u001b[38;5;130;01m\\n\u001b[39;00m\u001b[38;5;124mCall this function with \u001b[39m\u001b[38;5;132;01m{\u001b[39;00marg_string\u001b[38;5;132;01m}\u001b[39;00m\u001b[38;5;124m.\u001b[39m\u001b[38;5;124m\"\u001b[39m,\n\u001b[1;32m     43\u001b[0m         \u001b[38;5;167;01mDeprecationWarning\u001b[39;00m,\n\u001b[1;32m     44\u001b[0m         stacklevel\u001b[38;5;241m=\u001b[39m\u001b[38;5;241m2\u001b[39m,\n\u001b[1;32m     45\u001b[0m     )\n\u001b[0;32m---> 46\u001b[0m \u001b[38;5;28;01mreturn\u001b[39;00m \u001b[43mfunc\u001b[49m\u001b[43m(\u001b[49m\u001b[38;5;241;43m*\u001b[39;49m\u001b[38;5;241;43m*\u001b[39;49m\u001b[38;5;28;43mdict\u001b[39;49m\u001b[43m(\u001b[49m\u001b[38;5;28;43mzip\u001b[39;49m\u001b[43m(\u001b[49m\u001b[43m_old_args\u001b[49m\u001b[43m,\u001b[49m\u001b[43m \u001b[49m\u001b[43margs\u001b[49m\u001b[43m)\u001b[49m\u001b[43m)\u001b[49m\u001b[43m,\u001b[49m\u001b[43m \u001b[49m\u001b[38;5;241;43m*\u001b[39;49m\u001b[38;5;241;43m*\u001b[39;49m\u001b[43mkwargs\u001b[49m\u001b[43m)\u001b[49m\n",
      "File \u001b[0;32m/opt/anaconda3/envs/DataScience/lib/python3.13/site-packages/praw/models/comment_forest.py:192\u001b[0m, in \u001b[0;36mCommentForest.replace_more\u001b[0;34m(self, limit, threshold)\u001b[0m\n\u001b[1;32m    190\u001b[0m     \u001b[38;5;28;01mcontinue\u001b[39;00m\n\u001b[0;32m--> 192\u001b[0m new_comments \u001b[38;5;241m=\u001b[39m \u001b[43mitem\u001b[49m\u001b[38;5;241;43m.\u001b[39;49m\u001b[43mcomments\u001b[49m\u001b[43m(\u001b[49m\u001b[43mupdate\u001b[49m\u001b[38;5;241;43m=\u001b[39;49m\u001b[38;5;28;43;01mFalse\u001b[39;49;00m\u001b[43m)\u001b[49m\n\u001b[1;32m    193\u001b[0m \u001b[38;5;28;01mif\u001b[39;00m remaining \u001b[38;5;129;01mis\u001b[39;00m \u001b[38;5;129;01mnot\u001b[39;00m \u001b[38;5;28;01mNone\u001b[39;00m:\n",
      "File \u001b[0;32m/opt/anaconda3/envs/DataScience/lib/python3.13/site-packages/praw/util/deprecate_args.py:46\u001b[0m, in \u001b[0;36m_deprecate_args.<locals>.wrapper.<locals>.wrapped\u001b[0;34m(*args, **kwargs)\u001b[0m\n\u001b[1;32m     40\u001b[0m     warn(\n\u001b[1;32m     41\u001b[0m         \u001b[38;5;124mf\u001b[39m\u001b[38;5;124m\"\u001b[39m\u001b[38;5;124mPositional arguments for \u001b[39m\u001b[38;5;132;01m{\u001b[39;00mfunc\u001b[38;5;241m.\u001b[39m\u001b[38;5;18m__qualname__\u001b[39m\u001b[38;5;132;01m!r}\u001b[39;00m\u001b[38;5;124m will no longer be\u001b[39m\u001b[38;5;124m\"\u001b[39m\n\u001b[1;32m     42\u001b[0m         \u001b[38;5;124mf\u001b[39m\u001b[38;5;124m\"\u001b[39m\u001b[38;5;124m supported in PRAW 8.\u001b[39m\u001b[38;5;130;01m\\n\u001b[39;00m\u001b[38;5;124mCall this function with \u001b[39m\u001b[38;5;132;01m{\u001b[39;00marg_string\u001b[38;5;132;01m}\u001b[39;00m\u001b[38;5;124m.\u001b[39m\u001b[38;5;124m\"\u001b[39m,\n\u001b[1;32m     43\u001b[0m         \u001b[38;5;167;01mDeprecationWarning\u001b[39;00m,\n\u001b[1;32m     44\u001b[0m         stacklevel\u001b[38;5;241m=\u001b[39m\u001b[38;5;241m2\u001b[39m,\n\u001b[1;32m     45\u001b[0m     )\n\u001b[0;32m---> 46\u001b[0m \u001b[38;5;28;01mreturn\u001b[39;00m \u001b[43mfunc\u001b[49m\u001b[43m(\u001b[49m\u001b[38;5;241;43m*\u001b[39;49m\u001b[38;5;241;43m*\u001b[39;49m\u001b[38;5;28;43mdict\u001b[39;49m\u001b[43m(\u001b[49m\u001b[38;5;28;43mzip\u001b[39;49m\u001b[43m(\u001b[49m\u001b[43m_old_args\u001b[49m\u001b[43m,\u001b[49m\u001b[43m \u001b[49m\u001b[43margs\u001b[49m\u001b[43m)\u001b[49m\u001b[43m)\u001b[49m\u001b[43m,\u001b[49m\u001b[43m \u001b[49m\u001b[38;5;241;43m*\u001b[39;49m\u001b[38;5;241;43m*\u001b[39;49m\u001b[43mkwargs\u001b[49m\u001b[43m)\u001b[49m\n",
      "File \u001b[0;32m/opt/anaconda3/envs/DataScience/lib/python3.13/site-packages/praw/models/reddit/more.py:79\u001b[0m, in \u001b[0;36mMoreComments.comments\u001b[0;34m(self, update)\u001b[0m\n\u001b[1;32m     74\u001b[0m data \u001b[38;5;241m=\u001b[39m {\n\u001b[1;32m     75\u001b[0m     \u001b[38;5;124m\"\u001b[39m\u001b[38;5;124mchildren\u001b[39m\u001b[38;5;124m\"\u001b[39m: \u001b[38;5;124m\"\u001b[39m\u001b[38;5;124m,\u001b[39m\u001b[38;5;124m\"\u001b[39m\u001b[38;5;241m.\u001b[39mjoin(\u001b[38;5;28mself\u001b[39m\u001b[38;5;241m.\u001b[39mchildren),\n\u001b[1;32m     76\u001b[0m     \u001b[38;5;124m\"\u001b[39m\u001b[38;5;124mlink_id\u001b[39m\u001b[38;5;124m\"\u001b[39m: \u001b[38;5;28mself\u001b[39m\u001b[38;5;241m.\u001b[39msubmission\u001b[38;5;241m.\u001b[39mfullname,\n\u001b[1;32m     77\u001b[0m     \u001b[38;5;124m\"\u001b[39m\u001b[38;5;124msort\u001b[39m\u001b[38;5;124m\"\u001b[39m: \u001b[38;5;28mself\u001b[39m\u001b[38;5;241m.\u001b[39msubmission\u001b[38;5;241m.\u001b[39mcomment_sort,\n\u001b[1;32m     78\u001b[0m }\n\u001b[0;32m---> 79\u001b[0m \u001b[38;5;28mself\u001b[39m\u001b[38;5;241m.\u001b[39m_comments \u001b[38;5;241m=\u001b[39m \u001b[38;5;28;43mself\u001b[39;49m\u001b[38;5;241;43m.\u001b[39;49m\u001b[43m_reddit\u001b[49m\u001b[38;5;241;43m.\u001b[39;49m\u001b[43mpost\u001b[49m\u001b[43m(\u001b[49m\u001b[43mAPI_PATH\u001b[49m\u001b[43m[\u001b[49m\u001b[38;5;124;43m\"\u001b[39;49m\u001b[38;5;124;43mmorechildren\u001b[39;49m\u001b[38;5;124;43m\"\u001b[39;49m\u001b[43m]\u001b[49m\u001b[43m,\u001b[49m\u001b[43m \u001b[49m\u001b[43mdata\u001b[49m\u001b[38;5;241;43m=\u001b[39;49m\u001b[43mdata\u001b[49m\u001b[43m)\u001b[49m\n\u001b[1;32m     80\u001b[0m \u001b[38;5;28;01mif\u001b[39;00m update:\n",
      "File \u001b[0;32m/opt/anaconda3/envs/DataScience/lib/python3.13/site-packages/praw/util/deprecate_args.py:46\u001b[0m, in \u001b[0;36m_deprecate_args.<locals>.wrapper.<locals>.wrapped\u001b[0;34m(*args, **kwargs)\u001b[0m\n\u001b[1;32m     40\u001b[0m     warn(\n\u001b[1;32m     41\u001b[0m         \u001b[38;5;124mf\u001b[39m\u001b[38;5;124m\"\u001b[39m\u001b[38;5;124mPositional arguments for \u001b[39m\u001b[38;5;132;01m{\u001b[39;00mfunc\u001b[38;5;241m.\u001b[39m\u001b[38;5;18m__qualname__\u001b[39m\u001b[38;5;132;01m!r}\u001b[39;00m\u001b[38;5;124m will no longer be\u001b[39m\u001b[38;5;124m\"\u001b[39m\n\u001b[1;32m     42\u001b[0m         \u001b[38;5;124mf\u001b[39m\u001b[38;5;124m\"\u001b[39m\u001b[38;5;124m supported in PRAW 8.\u001b[39m\u001b[38;5;130;01m\\n\u001b[39;00m\u001b[38;5;124mCall this function with \u001b[39m\u001b[38;5;132;01m{\u001b[39;00marg_string\u001b[38;5;132;01m}\u001b[39;00m\u001b[38;5;124m.\u001b[39m\u001b[38;5;124m\"\u001b[39m,\n\u001b[1;32m     43\u001b[0m         \u001b[38;5;167;01mDeprecationWarning\u001b[39;00m,\n\u001b[1;32m     44\u001b[0m         stacklevel\u001b[38;5;241m=\u001b[39m\u001b[38;5;241m2\u001b[39m,\n\u001b[1;32m     45\u001b[0m     )\n\u001b[0;32m---> 46\u001b[0m \u001b[38;5;28;01mreturn\u001b[39;00m \u001b[43mfunc\u001b[49m\u001b[43m(\u001b[49m\u001b[38;5;241;43m*\u001b[39;49m\u001b[38;5;241;43m*\u001b[39;49m\u001b[38;5;28;43mdict\u001b[39;49m\u001b[43m(\u001b[49m\u001b[38;5;28;43mzip\u001b[39;49m\u001b[43m(\u001b[49m\u001b[43m_old_args\u001b[49m\u001b[43m,\u001b[49m\u001b[43m \u001b[49m\u001b[43margs\u001b[49m\u001b[43m)\u001b[49m\u001b[43m)\u001b[49m\u001b[43m,\u001b[49m\u001b[43m \u001b[49m\u001b[38;5;241;43m*\u001b[39;49m\u001b[38;5;241;43m*\u001b[39;49m\u001b[43mkwargs\u001b[49m\u001b[43m)\u001b[49m\n",
      "File \u001b[0;32m/opt/anaconda3/envs/DataScience/lib/python3.13/site-packages/praw/reddit.py:861\u001b[0m, in \u001b[0;36mReddit.post\u001b[0;34m(self, path, data, files, json, params)\u001b[0m\n\u001b[1;32m    860\u001b[0m \u001b[38;5;28;01mtry\u001b[39;00m:\n\u001b[0;32m--> 861\u001b[0m     \u001b[38;5;28;01mreturn\u001b[39;00m \u001b[38;5;28;43mself\u001b[39;49m\u001b[38;5;241;43m.\u001b[39;49m\u001b[43m_objectify_request\u001b[49m\u001b[43m(\u001b[49m\n\u001b[1;32m    862\u001b[0m \u001b[43m        \u001b[49m\u001b[43mdata\u001b[49m\u001b[38;5;241;43m=\u001b[39;49m\u001b[43mdata\u001b[49m\u001b[43m,\u001b[49m\n\u001b[1;32m    863\u001b[0m \u001b[43m        \u001b[49m\u001b[43mfiles\u001b[49m\u001b[38;5;241;43m=\u001b[39;49m\u001b[43mfiles\u001b[49m\u001b[43m,\u001b[49m\n\u001b[1;32m    864\u001b[0m \u001b[43m        \u001b[49m\u001b[43mjson\u001b[49m\u001b[38;5;241;43m=\u001b[39;49m\u001b[43mjson\u001b[49m\u001b[43m,\u001b[49m\n\u001b[1;32m    865\u001b[0m \u001b[43m        \u001b[49m\u001b[43mmethod\u001b[49m\u001b[38;5;241;43m=\u001b[39;49m\u001b[38;5;124;43m\"\u001b[39;49m\u001b[38;5;124;43mPOST\u001b[39;49m\u001b[38;5;124;43m\"\u001b[39;49m\u001b[43m,\u001b[49m\n\u001b[1;32m    866\u001b[0m \u001b[43m        \u001b[49m\u001b[43mparams\u001b[49m\u001b[38;5;241;43m=\u001b[39;49m\u001b[43mparams\u001b[49m\u001b[43m,\u001b[49m\n\u001b[1;32m    867\u001b[0m \u001b[43m        \u001b[49m\u001b[43mpath\u001b[49m\u001b[38;5;241;43m=\u001b[39;49m\u001b[43mpath\u001b[49m\u001b[43m,\u001b[49m\n\u001b[1;32m    868\u001b[0m \u001b[43m    \u001b[49m\u001b[43m)\u001b[49m\n\u001b[1;32m    869\u001b[0m \u001b[38;5;28;01mexcept\u001b[39;00m RedditAPIException \u001b[38;5;28;01mas\u001b[39;00m exception:\n",
      "File \u001b[0;32m/opt/anaconda3/envs/DataScience/lib/python3.13/site-packages/praw/reddit.py:514\u001b[0m, in \u001b[0;36mReddit._objectify_request\u001b[0;34m(self, data, files, json, method, params, path)\u001b[0m\n\u001b[1;32m    498\u001b[0m \u001b[38;5;250m\u001b[39m\u001b[38;5;124;03m\"\"\"Run a request through the ``Objector``.\u001b[39;00m\n\u001b[1;32m    499\u001b[0m \n\u001b[1;32m    500\u001b[0m \u001b[38;5;124;03m:param data: Dictionary, bytes, or file-like object to send in the body of the\u001b[39;00m\n\u001b[0;32m   (...)\u001b[0m\n\u001b[1;32m    511\u001b[0m \n\u001b[1;32m    512\u001b[0m \u001b[38;5;124;03m\"\"\"\u001b[39;00m\n\u001b[1;32m    513\u001b[0m \u001b[38;5;28;01mreturn\u001b[39;00m \u001b[38;5;28mself\u001b[39m\u001b[38;5;241m.\u001b[39m_objector\u001b[38;5;241m.\u001b[39mobjectify(\n\u001b[0;32m--> 514\u001b[0m     \u001b[38;5;28;43mself\u001b[39;49m\u001b[38;5;241;43m.\u001b[39;49m\u001b[43mrequest\u001b[49m\u001b[43m(\u001b[49m\n\u001b[1;32m    515\u001b[0m \u001b[43m        \u001b[49m\u001b[43mdata\u001b[49m\u001b[38;5;241;43m=\u001b[39;49m\u001b[43mdata\u001b[49m\u001b[43m,\u001b[49m\n\u001b[1;32m    516\u001b[0m \u001b[43m        \u001b[49m\u001b[43mfiles\u001b[49m\u001b[38;5;241;43m=\u001b[39;49m\u001b[43mfiles\u001b[49m\u001b[43m,\u001b[49m\n\u001b[1;32m    517\u001b[0m \u001b[43m        \u001b[49m\u001b[43mjson\u001b[49m\u001b[38;5;241;43m=\u001b[39;49m\u001b[43mjson\u001b[49m\u001b[43m,\u001b[49m\n\u001b[1;32m    518\u001b[0m \u001b[43m        \u001b[49m\u001b[43mmethod\u001b[49m\u001b[38;5;241;43m=\u001b[39;49m\u001b[43mmethod\u001b[49m\u001b[43m,\u001b[49m\n\u001b[1;32m    519\u001b[0m \u001b[43m        \u001b[49m\u001b[43mparams\u001b[49m\u001b[38;5;241;43m=\u001b[39;49m\u001b[43mparams\u001b[49m\u001b[43m,\u001b[49m\n\u001b[1;32m    520\u001b[0m \u001b[43m        \u001b[49m\u001b[43mpath\u001b[49m\u001b[38;5;241;43m=\u001b[39;49m\u001b[43mpath\u001b[49m\u001b[43m,\u001b[49m\n\u001b[1;32m    521\u001b[0m \u001b[43m    \u001b[49m\u001b[43m)\u001b[49m\n\u001b[1;32m    522\u001b[0m )\n",
      "File \u001b[0;32m/opt/anaconda3/envs/DataScience/lib/python3.13/site-packages/praw/util/deprecate_args.py:46\u001b[0m, in \u001b[0;36m_deprecate_args.<locals>.wrapper.<locals>.wrapped\u001b[0;34m(*args, **kwargs)\u001b[0m\n\u001b[1;32m     40\u001b[0m     warn(\n\u001b[1;32m     41\u001b[0m         \u001b[38;5;124mf\u001b[39m\u001b[38;5;124m\"\u001b[39m\u001b[38;5;124mPositional arguments for \u001b[39m\u001b[38;5;132;01m{\u001b[39;00mfunc\u001b[38;5;241m.\u001b[39m\u001b[38;5;18m__qualname__\u001b[39m\u001b[38;5;132;01m!r}\u001b[39;00m\u001b[38;5;124m will no longer be\u001b[39m\u001b[38;5;124m\"\u001b[39m\n\u001b[1;32m     42\u001b[0m         \u001b[38;5;124mf\u001b[39m\u001b[38;5;124m\"\u001b[39m\u001b[38;5;124m supported in PRAW 8.\u001b[39m\u001b[38;5;130;01m\\n\u001b[39;00m\u001b[38;5;124mCall this function with \u001b[39m\u001b[38;5;132;01m{\u001b[39;00marg_string\u001b[38;5;132;01m}\u001b[39;00m\u001b[38;5;124m.\u001b[39m\u001b[38;5;124m\"\u001b[39m,\n\u001b[1;32m     43\u001b[0m         \u001b[38;5;167;01mDeprecationWarning\u001b[39;00m,\n\u001b[1;32m     44\u001b[0m         stacklevel\u001b[38;5;241m=\u001b[39m\u001b[38;5;241m2\u001b[39m,\n\u001b[1;32m     45\u001b[0m     )\n\u001b[0;32m---> 46\u001b[0m \u001b[38;5;28;01mreturn\u001b[39;00m \u001b[43mfunc\u001b[49m\u001b[43m(\u001b[49m\u001b[38;5;241;43m*\u001b[39;49m\u001b[38;5;241;43m*\u001b[39;49m\u001b[38;5;28;43mdict\u001b[39;49m\u001b[43m(\u001b[49m\u001b[38;5;28;43mzip\u001b[39;49m\u001b[43m(\u001b[49m\u001b[43m_old_args\u001b[49m\u001b[43m,\u001b[49m\u001b[43m \u001b[49m\u001b[43margs\u001b[49m\u001b[43m)\u001b[49m\u001b[43m)\u001b[49m\u001b[43m,\u001b[49m\u001b[43m \u001b[49m\u001b[38;5;241;43m*\u001b[39;49m\u001b[38;5;241;43m*\u001b[39;49m\u001b[43mkwargs\u001b[49m\u001b[43m)\u001b[49m\n",
      "File \u001b[0;32m/opt/anaconda3/envs/DataScience/lib/python3.13/site-packages/praw/reddit.py:963\u001b[0m, in \u001b[0;36mReddit.request\u001b[0;34m(self, data, files, json, method, params, path)\u001b[0m\n\u001b[1;32m    962\u001b[0m \u001b[38;5;28;01mtry\u001b[39;00m:\n\u001b[0;32m--> 963\u001b[0m     \u001b[38;5;28;01mreturn\u001b[39;00m \u001b[38;5;28;43mself\u001b[39;49m\u001b[38;5;241;43m.\u001b[39;49m\u001b[43m_core\u001b[49m\u001b[38;5;241;43m.\u001b[39;49m\u001b[43mrequest\u001b[49m\u001b[43m(\u001b[49m\n\u001b[1;32m    964\u001b[0m \u001b[43m        \u001b[49m\u001b[43mdata\u001b[49m\u001b[38;5;241;43m=\u001b[39;49m\u001b[43mdata\u001b[49m\u001b[43m,\u001b[49m\n\u001b[1;32m    965\u001b[0m \u001b[43m        \u001b[49m\u001b[43mfiles\u001b[49m\u001b[38;5;241;43m=\u001b[39;49m\u001b[43mfiles\u001b[49m\u001b[43m,\u001b[49m\n\u001b[1;32m    966\u001b[0m \u001b[43m        \u001b[49m\u001b[43mjson\u001b[49m\u001b[38;5;241;43m=\u001b[39;49m\u001b[43mjson\u001b[49m\u001b[43m,\u001b[49m\n\u001b[1;32m    967\u001b[0m \u001b[43m        \u001b[49m\u001b[43mmethod\u001b[49m\u001b[38;5;241;43m=\u001b[39;49m\u001b[43mmethod\u001b[49m\u001b[43m,\u001b[49m\n\u001b[1;32m    968\u001b[0m \u001b[43m        \u001b[49m\u001b[43mparams\u001b[49m\u001b[38;5;241;43m=\u001b[39;49m\u001b[43mparams\u001b[49m\u001b[43m,\u001b[49m\n\u001b[1;32m    969\u001b[0m \u001b[43m        \u001b[49m\u001b[43mpath\u001b[49m\u001b[38;5;241;43m=\u001b[39;49m\u001b[43mpath\u001b[49m\u001b[43m,\u001b[49m\n\u001b[1;32m    970\u001b[0m \u001b[43m    \u001b[49m\u001b[43m)\u001b[49m\n\u001b[1;32m    971\u001b[0m \u001b[38;5;28;01mexcept\u001b[39;00m BadRequest \u001b[38;5;28;01mas\u001b[39;00m exception:\n",
      "File \u001b[0;32m/opt/anaconda3/envs/DataScience/lib/python3.13/site-packages/prawcore/sessions.py:328\u001b[0m, in \u001b[0;36mSession.request\u001b[0;34m(self, method, path, data, files, json, params, timeout)\u001b[0m\n\u001b[1;32m    327\u001b[0m url \u001b[38;5;241m=\u001b[39m urljoin(\u001b[38;5;28mself\u001b[39m\u001b[38;5;241m.\u001b[39m_requestor\u001b[38;5;241m.\u001b[39moauth_url, path)\n\u001b[0;32m--> 328\u001b[0m \u001b[38;5;28;01mreturn\u001b[39;00m \u001b[38;5;28;43mself\u001b[39;49m\u001b[38;5;241;43m.\u001b[39;49m\u001b[43m_request_with_retries\u001b[49m\u001b[43m(\u001b[49m\n\u001b[1;32m    329\u001b[0m \u001b[43m    \u001b[49m\u001b[43mdata\u001b[49m\u001b[38;5;241;43m=\u001b[39;49m\u001b[43mdata\u001b[49m\u001b[43m,\u001b[49m\n\u001b[1;32m    330\u001b[0m \u001b[43m    \u001b[49m\u001b[43mfiles\u001b[49m\u001b[38;5;241;43m=\u001b[39;49m\u001b[43mfiles\u001b[49m\u001b[43m,\u001b[49m\n\u001b[1;32m    331\u001b[0m \u001b[43m    \u001b[49m\u001b[43mjson\u001b[49m\u001b[38;5;241;43m=\u001b[39;49m\u001b[43mjson\u001b[49m\u001b[43m,\u001b[49m\n\u001b[1;32m    332\u001b[0m \u001b[43m    \u001b[49m\u001b[43mmethod\u001b[49m\u001b[38;5;241;43m=\u001b[39;49m\u001b[43mmethod\u001b[49m\u001b[43m,\u001b[49m\n\u001b[1;32m    333\u001b[0m \u001b[43m    \u001b[49m\u001b[43mparams\u001b[49m\u001b[38;5;241;43m=\u001b[39;49m\u001b[43mparams\u001b[49m\u001b[43m,\u001b[49m\n\u001b[1;32m    334\u001b[0m \u001b[43m    \u001b[49m\u001b[43mtimeout\u001b[49m\u001b[38;5;241;43m=\u001b[39;49m\u001b[43mtimeout\u001b[49m\u001b[43m,\u001b[49m\n\u001b[1;32m    335\u001b[0m \u001b[43m    \u001b[49m\u001b[43murl\u001b[49m\u001b[38;5;241;43m=\u001b[39;49m\u001b[43murl\u001b[49m\u001b[43m,\u001b[49m\n\u001b[1;32m    336\u001b[0m \u001b[43m\u001b[49m\u001b[43m)\u001b[49m\n",
      "File \u001b[0;32m/opt/anaconda3/envs/DataScience/lib/python3.13/site-packages/prawcore/sessions.py:267\u001b[0m, in \u001b[0;36mSession._request_with_retries\u001b[0;34m(self, data, files, json, method, params, timeout, url, retry_strategy_state)\u001b[0m\n\u001b[1;32m    266\u001b[0m \u001b[38;5;28;01mif\u001b[39;00m response\u001b[38;5;241m.\u001b[39mstatus_code \u001b[38;5;129;01min\u001b[39;00m \u001b[38;5;28mself\u001b[39m\u001b[38;5;241m.\u001b[39mSTATUS_EXCEPTIONS:\n\u001b[0;32m--> 267\u001b[0m     \u001b[38;5;28;01mraise\u001b[39;00m \u001b[38;5;28mself\u001b[39m\u001b[38;5;241m.\u001b[39mSTATUS_EXCEPTIONS[response\u001b[38;5;241m.\u001b[39mstatus_code](response)\n\u001b[1;32m    268\u001b[0m \u001b[38;5;28;01mif\u001b[39;00m response\u001b[38;5;241m.\u001b[39mstatus_code \u001b[38;5;241m==\u001b[39m codes[\u001b[38;5;124m\"\u001b[39m\u001b[38;5;124mno_content\u001b[39m\u001b[38;5;124m\"\u001b[39m]:\n",
      "\u001b[0;31mTooManyRequests\u001b[0m: received 429 HTTP response",
      "\nDuring handling of the above exception, another exception occurred:\n",
      "\u001b[0;31mNameError\u001b[0m                                 Traceback (most recent call last)",
      "Cell \u001b[0;32mIn[4], line 2\u001b[0m\n\u001b[1;32m      1\u001b[0m \u001b[38;5;66;03m# Make sure you have reddit = praw.Reddit(...) set up already\u001b[39;00m\n\u001b[0;32m----> 2\u001b[0m \u001b[43mfetch_comments_for_posts_csv\u001b[49m\u001b[43m(\u001b[49m\n\u001b[1;32m      3\u001b[0m \u001b[43m    \u001b[49m\u001b[43mposts_csv\u001b[49m\u001b[38;5;241;43m=\u001b[39;49m\u001b[38;5;124;43m\"\u001b[39;49m\u001b[38;5;124;43mafl_posts.csv\u001b[39;49m\u001b[38;5;124;43m\"\u001b[39;49m\u001b[43m,\u001b[49m\n\u001b[1;32m      4\u001b[0m \u001b[43m    \u001b[49m\u001b[43mout_csv\u001b[49m\u001b[38;5;241;43m=\u001b[39;49m\u001b[38;5;124;43m\"\u001b[39;49m\u001b[38;5;124;43mafl_comments.csv\u001b[39;49m\u001b[38;5;124;43m\"\u001b[39;49m\u001b[43m,\u001b[49m\n\u001b[1;32m      5\u001b[0m \u001b[43m    \u001b[49m\u001b[43mcheckpoint_path\u001b[49m\u001b[38;5;241;43m=\u001b[39;49m\u001b[38;5;124;43m\"\u001b[39;49m\u001b[38;5;124;43mafl_comments.ckpt\u001b[39;49m\u001b[38;5;124;43m\"\u001b[39;49m\u001b[43m,\u001b[49m\n\u001b[1;32m      6\u001b[0m \u001b[43m    \u001b[49m\u001b[43mmax_depth\u001b[49m\u001b[38;5;241;43m=\u001b[39;49m\u001b[38;5;28;43;01mNone\u001b[39;49;00m\u001b[43m,\u001b[49m\u001b[43m     \u001b[49m\u001b[38;5;66;43;03m# or 0 to skip deep expansion\u001b[39;49;00m\n\u001b[1;32m      7\u001b[0m \u001b[43m    \u001b[49m\u001b[43mflush_every\u001b[49m\u001b[38;5;241;43m=\u001b[39;49m\u001b[38;5;241;43m5000\u001b[39;49m\n\u001b[1;32m      8\u001b[0m \u001b[43m)\u001b[49m\n",
      "Cell \u001b[0;32mIn[3], line 129\u001b[0m, in \u001b[0;36mfetch_comments_for_posts_csv\u001b[0;34m(posts_csv, out_csv, checkpoint_path, max_depth, flush_every)\u001b[0m\n\u001b[1;32m    126\u001b[0m     attempt \u001b[38;5;241m+\u001b[39m\u001b[38;5;241m=\u001b[39m \u001b[38;5;241m1\u001b[39m\n\u001b[1;32m    127\u001b[0m     \u001b[38;5;28mprint\u001b[39m(\u001b[38;5;124mf\u001b[39m\u001b[38;5;124m\"\u001b[39m\u001b[38;5;124m[WARN] Comment fetch error for \u001b[39m\u001b[38;5;132;01m{\u001b[39;00msid\u001b[38;5;132;01m}\u001b[39;00m\u001b[38;5;124m (\u001b[39m\u001b[38;5;132;01m{\u001b[39;00m\u001b[38;5;28mtype\u001b[39m(e)\u001b[38;5;241m.\u001b[39m\u001b[38;5;18m__name__\u001b[39m\u001b[38;5;132;01m}\u001b[39;00m\u001b[38;5;124m): \u001b[39m\u001b[38;5;132;01m{\u001b[39;00me\u001b[38;5;132;01m}\u001b[39;00m\u001b[38;5;124m. \u001b[39m\u001b[38;5;124m\"\u001b[39m\n\u001b[1;32m    128\u001b[0m           \u001b[38;5;124mf\u001b[39m\u001b[38;5;124m\"\u001b[39m\u001b[38;5;124mBacking off (attempt \u001b[39m\u001b[38;5;132;01m{\u001b[39;00mattempt\u001b[38;5;132;01m}\u001b[39;00m\u001b[38;5;124m)…\u001b[39m\u001b[38;5;124m\"\u001b[39m)\n\u001b[0;32m--> 129\u001b[0m     \u001b[43mrate_limit_backoff\u001b[49m(attempt)\n\u001b[1;32m    130\u001b[0m \u001b[38;5;28;01mexcept\u001b[39;00m \u001b[38;5;167;01mException\u001b[39;00m \u001b[38;5;28;01mas\u001b[39;00m e:\n\u001b[1;32m    131\u001b[0m     \u001b[38;5;66;03m# Log and continue (don’t get stuck on a single post)\u001b[39;00m\n\u001b[1;32m    132\u001b[0m     \u001b[38;5;28mprint\u001b[39m(\u001b[38;5;124mf\u001b[39m\u001b[38;5;124m\"\u001b[39m\u001b[38;5;124m[ERROR] Unexpected error for \u001b[39m\u001b[38;5;132;01m{\u001b[39;00msid\u001b[38;5;132;01m}\u001b[39;00m\u001b[38;5;124m: \u001b[39m\u001b[38;5;132;01m{\u001b[39;00me\u001b[38;5;132;01m}\u001b[39;00m\u001b[38;5;124m. Skipping.\u001b[39m\u001b[38;5;124m\"\u001b[39m)\n",
      "\u001b[0;31mNameError\u001b[0m: name 'rate_limit_backoff' is not defined"
     ]
    }
   ],
   "source": [
    "# Make sure you have reddit = praw.Reddit(...) set up already\n",
    "fetch_comments_for_posts_csv(\n",
    "    posts_csv=\"afl_posts.csv\",\n",
    "    out_csv=\"afl_comments.csv\",\n",
    "    checkpoint_path=\"afl_comments.ckpt\",\n",
    "    max_depth=None,     # or 0 to skip deep expansion\n",
    "    flush_every=5000\n",
    ")\n"
   ]
  },
  {
   "cell_type": "code",
   "execution_count": 6,
   "id": "e3e7f44d",
   "metadata": {},
   "outputs": [
    {
     "data": {
      "text/plain": [
       "991"
      ]
     },
     "execution_count": 6,
     "metadata": {},
     "output_type": "execute_result"
    }
   ],
   "source": [
    "posts = pd.read_csv(\"afl_posts.csv\", usecols=[\"id\"], dtype={\"id\": str}).dropna()\n",
    "all_ids = posts[\"id\"].astype(str).unique().tolist()\n",
    "len(all_ids)"
   ]
  },
  {
   "cell_type": "code",
   "execution_count": 66,
   "id": "2b89fb8c",
   "metadata": {},
   "outputs": [
    {
     "data": {
      "text/plain": [
       "793"
      ]
     },
     "execution_count": 66,
     "metadata": {},
     "output_type": "execute_result"
    }
   ],
   "source": [
    "idx = all_ids.index(\"1nexuwa\")\n",
    "rest = all_ids[idx:]   # from \"1nexuwa\" to the end\n",
    "len(rest)"
   ]
  },
  {
   "cell_type": "code",
   "execution_count": null,
   "id": "54f0c5f8",
   "metadata": {},
   "outputs": [
    {
     "data": {
      "text/plain": [
       "484"
      ]
     },
     "execution_count": 7,
     "metadata": {},
     "output_type": "execute_result"
    }
   ],
   "source": [
    "idx = all_ids.index(\"1n9pvzg\")\n",
    "rest = all_ids[idx:]  \n",
    "len(rest)"
   ]
  },
  {
   "cell_type": "code",
   "execution_count": 8,
   "id": "b09c1eac",
   "metadata": {},
   "outputs": [
    {
     "data": {
      "text/plain": [
       "48.839556004036325"
      ]
     },
     "execution_count": 8,
     "metadata": {},
     "output_type": "execute_result"
    }
   ],
   "source": [
    "len(rest)/len(all_ids) *100"
   ]
  },
  {
   "cell_type": "markdown",
   "id": "4322f461",
   "metadata": {},
   "source": [
    "## AFL Results"
   ]
  },
  {
   "cell_type": "code",
   "execution_count": 2,
   "id": "64ffe5ec",
   "metadata": {},
   "outputs": [
    {
     "name": "stdout",
     "output_type": "stream",
     "text": [
      "{'games': [{'updated': '2025-03-07 22:23:36', 'is_grand_final': 0, 'timestr': 'Full Time', 'hbehinds': 10, 'id': 37091, 'ateamid': 10, 'ateam': 'Hawthorn', 'tz': '+11:00', 'winnerteamid': 10, 'venue': 'S.C.G.', 'abehinds': 12, 'localtime': '2025-03-07 19:40:00', 'hteam': 'Sydney', 'hteamid': 16, 'hgoals': 11, 'year': 2025, 'complete': 100, 'ascore': 96, 'unixtime': 1741336800, 'date': '2025-03-07 19:40:00', 'agoals': 14, 'hscore': 76, 'is_final': 0, 'winner': 'Hawthorn', 'roundname': 'Opening Round', 'round': 0}, {'agoals': 6, 'is_final': 0, 'hscore': 104, 'winner': 'Greater Western Sydney', 'round': 0, 'roundname': 'Opening Round', 'hgoals': 15, 'complete': 100, 'year': 2025, 'ascore': 52, 'unixtime': 1741494000, 'date': '2025-03-09 15:20:00', 'tz': '+11:00', 'winnerteamid': 9, 'venue': 'Sydney Showground', 'abehinds': 16, 'localtime': '2025-03-09 15:20:00', 'hteam': 'Greater Western Sydney', 'hteamid': 9, 'updated': '2025-03-09 18:09:08', 'is_grand_final': 0, 'timestr': 'Full Time', 'hbehinds': 14, 'ateamid': 4, 'id': 37093, 'ateam': 'Collingwood'}, {'tz': '+11:00', 'winnerteamid': 14, 'venue': 'M.C.G.', 'abehinds': 15, 'localtime': '2025-03-13 19:30:00', 'hteam': 'Richmond', 'hteamid': 14, 'updated': '2025-03-13 22:18:31', 'timestr': 'Full Time', 'is_grand_final': 0, 'hbehinds': 4, 'ateamid': 3, 'id': 37094, 'ateam': 'Carlton', 'agoals': 9, 'hscore': 82, 'is_final': 0, 'winner': 'Richmond', 'roundname': 'Round 1', 'round': 1, 'hgoals': 13, 'year': 2025, 'complete': 100, 'ascore': 69, 'unixtime': 1741854600, 'date': '2025-03-13 19:30:00'}, {'abehinds': 13, 'localtime': '2025-03-14 19:40:00', 'hteam': 'Hawthorn', 'hteamid': 10, 'tz': '+11:00', 'winnerteamid': 10, 'venue': 'M.C.G.', 'hbehinds': 9, 'id': 37095, 'ateamid': 5, 'ateam': 'Essendon', 'updated': '2025-03-14 22:25:05', 'is_grand_final': 0, 'timestr': 'Full Time', 'roundname': 'Round 1', 'round': 1, 'agoals': 12, 'is_final': 0, 'hscore': 111, 'winner': 'Hawthorn', 'unixtime': 1741941600, 'date': '2025-03-14 19:40:00', 'hgoals': 17, 'complete': 100, 'year': 2025, 'ascore': 85}, {'hgoals': 23, 'ascore': 69, 'year': 2025, 'complete': 100, 'unixtime': 1742005200, 'date': '2025-03-15 13:20:00', 'agoals': 10, 'winner': 'Geelong', 'hscore': 147, 'is_final': 0, 'round': 1, 'roundname': 'Round 1', 'updated': '2025-03-15 16:12:40', 'timestr': 'Full Time', 'is_grand_final': 0, 'hbehinds': 9, 'ateam': 'Fremantle', 'id': 37096, 'ateamid': 6, 'tz': '+11:00', 'venue': 'Kardinia Park', 'winnerteamid': 7, 'localtime': '2025-03-15 13:20:00', 'abehinds': 9, 'hteamid': 7, 'hteam': 'Geelong'}, {'localtime': '2025-03-15 16:15:00', 'abehinds': 14, 'hteamid': 16, 'hteam': 'Sydney', 'tz': '+11:00', 'venue': 'S.C.G.', 'winnerteamid': 2, 'hbehinds': 10, 'ateam': 'Brisbane Lions', 'ateamid': 2, 'id': 37097, 'updated': '2025-03-15 19:07:07', 'is_grand_final': 0, 'timestr': 'Full Time', 'round': 1, 'roundname': 'Round 1', 'agoals': 12, 'winner': 'Brisbane Lions', 'is_final': 0, 'hscore': 82, 'unixtime': 1742015700, 'date': '2025-03-15 16:15:00', 'hgoals': 12, 'ascore': 86, 'year': 2025, 'complete': 100}, {'hteam': 'Collingwood', 'hteamid': 4, 'abehinds': 9, 'localtime': '2025-03-15 19:35:00', 'winnerteamid': 4, 'venue': 'M.C.G.', 'tz': '+11:00', 'ateamid': 13, 'id': 37099, 'ateam': 'Port Adelaide', 'hbehinds': 10, 'timestr': 'Full Time', 'is_grand_final': 0, 'updated': '2025-03-15 22:20:37', 'round': 1, 'roundname': 'Round 1', 'hscore': 136, 'is_final': 0, 'winner': 'Collingwood', 'agoals': 6, 'date': '2025-03-15 19:35:00', 'unixtime': 1742027700, 'complete': 100, 'year': 2025, 'ascore': 45, 'hgoals': 21}, {'agoals': 14, 'is_final': 0, 'hscore': 113, 'winner': 'Western Bulldogs', 'round': 1, 'roundname': 'Round 1', 'hgoals': 17, 'complete': 100, 'year': 2025, 'ascore': 97, 'unixtime': 1742027700, 'date': '2025-03-15 19:35:00', 'tz': '+11:00', 'winnerteamid': 18, 'venue': 'Docklands', 'abehinds': 13, 'localtime': '2025-03-15 19:35:00', 'hteam': 'Western Bulldogs', 'hteamid': 18, 'updated': '2025-03-15 22:27:17', 'is_grand_final': 0, 'timestr': 'Full Time', 'hbehinds': 11, 'id': 37098, 'ateamid': 12, 'ateam': 'North Melbourne'}, {'hteamid': 1, 'hteam': 'Adelaide', 'localtime': '2025-03-16 12:05:00', 'abehinds': 12, 'venue': 'Adelaide Oval', 'winnerteamid': 1, 'tz': '+11:00', 'ateam': 'St Kilda', 'id': 37100, 'ateamid': 15, 'hbehinds': 9, 'timestr': 'Full Time', 'is_grand_final': 0, 'updated': '2025-03-16 15:19:47', 'round': 1, 'roundname': 'Round 1', 'winner': 'Adelaide', 'hscore': 135, 'is_final': 0, 'agoals': 10, 'date': '2025-03-16 12:35:00', 'unixtime': 1742088900, 'ascore': 72, 'complete': 100, 'year': 2025, 'hgoals': 21}, {'timestr': 'Full Time', 'is_grand_final': 0, 'updated': '2025-03-16 18:06:50', 'ateam': 'Greater Western Sydney', 'id': 37101, 'ateamid': 9, 'hbehinds': 8, 'venue': 'M.C.G.', 'winnerteamid': 9, 'tz': '+11:00', 'hteamid': 11, 'hteam': 'Melbourne', 'localtime': '2025-03-16 15:20:00', 'abehinds': 11, 'ascore': 77, 'complete': 100, 'year': 2025, 'hgoals': 11, 'date': '2025-03-16 15:20:00', 'unixtime': 1742098800, 'winner': 'Greater Western Sydney', 'is_final': 0, 'hscore': 74, 'agoals': 11, 'roundname': 'Round 1', 'round': 1}, {'hteamid': 17, 'hteam': 'West Coast', 'localtime': '2025-03-16 15:10:00', 'abehinds': 16, 'venue': 'Perth Stadium', 'winnerteamid': 8, 'tz': '+11:00', 'ateam': 'Gold Coast', 'id': 37102, 'ateamid': 8, 'hbehinds': 7, 'is_grand_final': 0, 'timestr': 'Full Time', 'updated': '2025-03-16 20:54:22', 'roundname': 'Round 1', 'round': 1, 'winner': 'Gold Coast', 'hscore': 49, 'is_final': 0, 'agoals': 20, 'date': '2025-03-16 18:10:00', 'unixtime': 1742109000, 'ascore': 136, 'complete': 100, 'year': 2025, 'hgoals': 7}, {'date': '2025-03-20 19:30:00', 'unixtime': 1742459400, 'year': 2025, 'complete': 100, 'ascore': 80, 'hgoals': 8, 'round': 2, 'roundname': 'Round 2', 'is_final': 0, 'hscore': 60, 'winner': 'Hawthorn', 'agoals': 12, 'id': 37103, 'ateamid': 10, 'ateam': 'Hawthorn', 'hbehinds': 12, 'is_grand_final': 0, 'timestr': 'Full Time', 'updated': '2025-03-20 22:16:39', 'hteam': 'Carlton', 'hteamid': 3, 'abehinds': 8, 'localtime': '2025-03-20 19:30:00', 'winnerteamid': 10, 'venue': 'M.C.G.', 'tz': '+11:00'}, {'localtime': '2025-03-21 19:40:00', 'abehinds': 16, 'hteamid': 18, 'hteam': 'Western Bulldogs', 'tz': '+11:00', 'venue': 'M.C.G.', 'winnerteamid': 4, 'hbehinds': 10, 'ateam': 'Collingwood', 'id': 37104, 'ateamid': 4, 'updated': '2025-03-21 22:16:26', 'timestr': 'Full Time', 'is_grand_final': 0, 'roundname': 'Round 2', 'round': 2, 'agoals': 10, 'winner': 'Collingwood', 'hscore': 70, 'is_final': 0, 'unixtime': 1742546400, 'date': '2025-03-21 19:40:00', 'hgoals': 10, 'ascore': 76, 'year': 2025, 'complete': 100}, {'abehinds': 11, 'localtime': '2025-03-22 13:20:00', 'hteam': 'Essendon', 'hteamid': 5, 'tz': '+11:00', 'winnerteamid': 1, 'venue': 'M.C.G.', 'hbehinds': 10, 'ateamid': 1, 'id': 37105, 'ateam': 'Adelaide', 'updated': '2025-03-22 16:06:13', 'timestr': 'Full Time', 'is_grand_final': 0, 'roundname': 'Round 2', 'round': 2, 'agoals': 25, 'is_final': 0, 'hscore': 100, 'winner': 'Adelaide', 'unixtime': 1742610000, 'date': '2025-03-22 13:20:00', 'hgoals': 15, 'complete': 100, 'year': 2025, 'ascore': 161}, {'date': '2025-03-22 16:15:00', 'unixtime': 1742620500, 'year': 2025, 'complete': 100, 'ascore': 68, 'hgoals': 21, 'roundname': 'Round 2', 'round': 2, 'is_final': 0, 'hscore': 140, 'winner': 'Port Adelaide', 'agoals': 9, 'ateamid': 14, 'id': 37106, 'ateam': 'Richmond', 'hbehinds': 14, 'timestr': 'Full Time', 'is_grand_final': 0, 'updated': '2025-03-22 18:59:51', 'hteam': 'Port Adelaide', 'hteamid': 13, 'abehinds': 14, 'localtime': '2025-03-22 15:45:00', 'winnerteamid': 13, 'venue': 'Adelaide Oval', 'tz': '+11:00'}, {'hteamid': 15, 'hteam': 'St Kilda', 'localtime': '2025-03-22 19:35:00', 'abehinds': 13, 'venue': 'Docklands', 'winnerteamid': 15, 'tz': '+11:00', 'ateam': 'Geelong', 'id': 37107, 'ateamid': 7, 'hbehinds': 8, 'is_grand_final': 0, 'timestr': 'Full Time', 'updated': '2025-03-22 22:24:58', 'round': 2, 'roundname': 'Round 2', 'winner': 'St Kilda', 'hscore': 98, 'is_final': 0, 'agoals': 13, 'date': '2025-03-22 19:35:00', 'unixtime': 1742632500, 'ascore': 91, 'complete': 100, 'year': 2025, 'hgoals': 15}, {'agoals': 11, 'is_final': 0, 'hscore': 94, 'winner': 'Brisbane Lions', 'roundname': 'Round 2', 'round': 2, 'hgoals': 14, 'year': 2025, 'complete': 100, 'ascore': 75, 'unixtime': 1742695800, 'date': '2025-03-23 13:10:00', 'tz': '+11:00', 'winnerteamid': 2, 'venue': 'Gabba', 'abehinds': 9, 'localtime': '2025-03-23 12:10:00', 'hteam': 'Brisbane Lions', 'hteamid': 2, 'updated': '2025-03-23 16:02:08', 'timestr': 'Full Time', 'is_grand_final': 0, 'hbehinds': 10, 'ateamid': 17, 'id': 37108, 'ateam': 'West Coast'}, {'agoals': 9, 'hscore': 125, 'is_final': 0, 'winner': 'North Melbourne', 'roundname': 'Round 2', 'round': 2, 'hgoals': 19, 'complete': 100, 'year': 2025, 'ascore': 66, 'unixtime': 1742703600, 'date': '2025-03-23 15:20:00', 'tz': '+11:00', 'winnerteamid': 12, 'venue': 'Docklands', 'abehinds': 12, 'localtime': '2025-03-23 15:20:00', 'hteam': 'North Melbourne', 'hteamid': 12, 'updated': '2025-03-23 18:01:54', 'timestr': 'Full Time', 'is_grand_final': 0, 'hbehinds': 11, 'ateamid': 11, 'id': 37109, 'ateam': 'Melbourne'}, {'unixtime': 1742713800, 'date': '2025-03-23 18:10:00', 'hgoals': 9, 'ascore': 68, 'complete': 100, 'year': 2025, 'round': 2, 'roundname': 'Round 2', 'agoals': 9, 'winner': 'Sydney', 'hscore': 65, 'is_final': 0, 'hbehinds': 11, 'ateam': 'Sydney', 'id': 37110, 'ateamid': 16, 'updated': '2025-03-23 20:44:45', 'is_grand_final': 0, 'timestr': 'Full Time', 'localtime': '2025-03-23 15:10:00', 'abehinds': 14, 'hteamid': 6, 'hteam': 'Fremantle', 'tz': '+11:00', 'venue': 'Perth Stadium', 'winnerteamid': 16}, {'timestr': 'Full Time', 'is_grand_final': 0, 'updated': '2025-03-27 22:04:03', 'ateam': 'Port Adelaide', 'ateamid': 13, 'id': 37111, 'hbehinds': 18, 'venue': 'Docklands', 'winnerteamid': 5, 'tz': '+11:00', 'hteamid': 5, 'hteam': 'Essendon', 'localtime': '2025-03-27 19:30:00', 'abehinds': 12, 'ascore': 60, 'year': 2025, 'complete': 100, 'hgoals': 9, 'date': '2025-03-27 19:30:00', 'unixtime': 1743064200, 'winner': 'Essendon', 'is_final': 0, 'hscore': 72, 'agoals': 8, 'roundname': 'Round 3', 'round': 3}, {'timestr': 'Full Time', 'is_grand_final': 0, 'updated': '2025-03-28 22:19:45', 'ateam': 'Western Bulldogs', 'ateamid': 18, 'id': 37112, 'hbehinds': 9, 'venue': 'Docklands', 'winnerteamid': 18, 'tz': '+11:00', 'hteamid': 3, 'hteam': 'Carlton', 'localtime': '2025-03-28 19:40:00', 'abehinds': 11, 'ascore': 83, 'complete': 100, 'year': 2025, 'hgoals': 11, 'date': '2025-03-28 19:40:00', 'unixtime': 1743151200, 'winner': 'Western Bulldogs', 'hscore': 75, 'is_final': 0, 'agoals': 12, 'roundname': 'Round 3', 'round': 3}, {'date': '2025-03-29 13:20:00', 'unixtime': 1743214800, 'complete': 100, 'year': 2025, 'ascore': 120, 'hgoals': 8, 'roundname': 'Round 3', 'round': 3, 'hscore': 62, 'is_final': 0, 'winner': 'Gold Coast', 'agoals': 18, 'ateamid': 8, 'id': 37113, 'ateam': 'Gold Coast', 'hbehinds': 14, 'timestr': 'Full Time', 'is_grand_final': 0, 'updated': '2025-03-29 16:00:12', 'hteam': 'Melbourne', 'hteamid': 11, 'abehinds': 12, 'localtime': '2025-03-29 13:20:00', 'winnerteamid': 8, 'venue': 'M.C.G.', 'tz': '+11:00'}, {'unixtime': 1743225300, 'date': '2025-03-29 16:15:00', 'hgoals': 20, 'complete': 100, 'year': 2025, 'ascore': 53, 'roundname': 'Round 3', 'round': 3, 'agoals': 7, 'hscore': 135, 'is_final': 0, 'winner': 'St Kilda', 'hbehinds': 15, 'ateamid': 14, 'id': 37114, 'ateam': 'Richmond', 'updated': '2025-03-29 21:06:50', 'timestr': 'Full Time', 'is_grand_final': 0, 'abehinds': 11, 'localtime': '2025-03-29 16:15:00', 'hteam': 'St Kilda', 'hteamid': 15, 'tz': '+11:00', 'winnerteamid': 15, 'venue': 'Docklands'}, {'roundname': 'Round 3', 'round': 3, 'winner': 'Brisbane Lions', 'hscore': 70, 'is_final': 0, 'agoals': 9, 'date': '2025-03-29 19:35:00', 'unixtime': 1743237300, 'ascore': 61, 'year': 2025, 'complete': 100, 'hgoals': 10, 'hteamid': 2, 'hteam': 'Brisbane Lions', 'localtime': '2025-03-29 18:35:00', 'abehinds': 7, 'venue': 'Gabba', 'winnerteamid': 2, 'tz': '+11:00', 'ateam': 'Geelong', 'id': 37090, 'ateamid': 7, 'hbehinds': 10, 'timestr': 'Full Time', 'is_grand_final': 0, 'updated': '2025-03-29 22:17:47'}, {'year': 2025, 'complete': 100, 'ascore': 64, 'hgoals': 10, 'date': '2025-03-29 19:35:00', 'unixtime': 1743237300, 'is_final': 0, 'hscore': 76, 'winner': 'Hawthorn', 'agoals': 9, 'round': 3, 'roundname': 'Round 3', 'is_grand_final': 0, 'timestr': 'Full Time', 'updated': '2025-03-29 22:08:47', 'id': 37115, 'ateamid': 9, 'ateam': 'Greater Western Sydney', 'hbehinds': 16, 'winnerteamid': 10, 'venue': 'York Park', 'tz': '+11:00', 'hteam': 'Hawthorn', 'hteamid': 10, 'abehinds': 10, 'localtime': '2025-03-29 19:35:00'}, {'localtime': '2025-03-30 14:50:00', 'abehinds': 6, 'hteamid': 1, 'hteam': 'Adelaide', 'tz': '+11:00', 'venue': 'Adelaide Oval', 'winnerteamid': 1, 'hbehinds': 12, 'ateam': 'North Melbourne', 'ateamid': 12, 'id': 37116, 'updated': '2025-03-30 18:04:27', 'is_grand_final': 0, 'timestr': 'Full Time', 'roundname': 'Round 3', 'round': 3, 'agoals': 12, 'winner': 'Adelaide', 'hscore': 114, 'is_final': 0, 'unixtime': 1743308400, 'date': '2025-03-30 15:20:00', 'hgoals': 17, 'ascore': 78, 'year': 2025, 'complete': 100}, {'complete': 100, 'year': 2025, 'ascore': 106, 'hgoals': 10, 'date': '2025-03-30 18:10:00', 'unixtime': 1743318600, 'hscore': 68, 'is_final': 0, 'winner': 'Fremantle', 'agoals': 15, 'roundname': 'Round 3', 'round': 3, 'is_grand_final': 0, 'timestr': 'Full Time', 'updated': '2025-03-30 20:53:39', 'id': 37117, 'ateamid': 6, 'ateam': 'Fremantle', 'hbehinds': 8, 'winnerteamid': 6, 'venue': 'Perth Stadium', 'tz': '+11:00', 'hteam': 'West Coast', 'hteamid': 17, 'abehinds': 16, 'localtime': '2025-03-30 15:10:00'}, {'round': 4, 'roundname': 'Round 4', 'agoals': 6, 'is_final': 0, 'hscore': 63, 'winner': 'Collingwood', 'unixtime': 1743669000, 'date': '2025-04-03 19:30:00', 'hgoals': 8, 'complete': 100, 'year': 2025, 'ascore': 46, 'abehinds': 10, 'localtime': '2025-04-03 19:30:00', 'hteam': 'Collingwood', 'hteamid': 4, 'tz': '+11:00', 'winnerteamid': 4, 'venue': 'M.C.G.', 'hbehinds': 15, 'ateamid': 3, 'id': 37118, 'ateam': 'Carlton', 'updated': '2025-04-03 22:11:32', 'is_grand_final': 0, 'timestr': 'Full Time'}, {'round': 4, 'roundname': 'Round 4', 'hscore': 85, 'is_final': 0, 'winner': 'Geelong', 'agoals': 6, 'date': '2025-04-04 19:40:00', 'unixtime': 1743756000, 'year': 2025, 'complete': 100, 'ascore': 46, 'hgoals': 12, 'hteam': 'Geelong', 'hteamid': 7, 'abehinds': 10, 'localtime': '2025-04-04 19:40:00', 'winnerteamid': 7, 'venue': 'Kardinia Park', 'tz': '+11:00', 'ateamid': 11, 'id': 37119, 'ateam': 'Melbourne', 'hbehinds': 13, 'timestr': 'Full Time', 'is_grand_final': 0, 'updated': '2025-04-04 22:11:54'}, {'roundname': 'Round 4', 'round': 4, 'is_final': 0, 'hscore': 91, 'winner': 'Gold Coast', 'agoals': 14, 'date': '2025-04-05 13:20:00', 'unixtime': 1743819600, 'year': 2025, 'complete': 100, 'ascore': 90, 'hgoals': 13, 'hteam': 'Gold Coast', 'hteamid': 8, 'abehinds': 6, 'localtime': '2025-04-05 12:20:00', 'winnerteamid': 8, 'venue': 'Carrara', 'tz': '+11:00', 'id': 37120, 'ateamid': 1, 'ateam': 'Adelaide', 'hbehinds': 13, 'timestr': 'Full Time', 'is_grand_final': 0, 'updated': '2025-04-05 16:04:13'}, {'ateamid': 2, 'id': 37121, 'ateam': 'Brisbane Lions', 'hbehinds': 12, 'timestr': 'Full Time', 'is_grand_final': 0, 'updated': '2025-04-05 18:58:07', 'hteam': 'Richmond', 'hteamid': 14, 'abehinds': 10, 'localtime': '2025-04-05 16:15:00', 'winnerteamid': 2, 'venue': 'M.C.G.', 'tz': '+11:00', 'date': '2025-04-05 16:15:00', 'unixtime': 1743830100, 'complete': 100, 'year': 2025, 'ascore': 118, 'hgoals': 13, 'round': 4, 'roundname': 'Round 4', 'is_final': 0, 'hscore': 90, 'winner': 'Brisbane Lions', 'agoals': 18}, {'unixtime': 1743842100, 'date': '2025-04-05 19:35:00', 'hgoals': 8, 'year': 2025, 'complete': 100, 'ascore': 117, 'round': 4, 'roundname': 'Round 4', 'agoals': 18, 'is_final': 0, 'hscore': 52, 'winner': 'Sydney', 'hbehinds': 4, 'id': 37122, 'ateamid': 16, 'ateam': 'Sydney', 'updated': '2025-04-05 22:10:09', 'timestr': 'Full Time', 'is_grand_final': 0, 'abehinds': 9, 'localtime': '2025-04-05 19:35:00', 'hteam': 'North Melbourne', 'hteamid': 12, 'tz': '+11:00', 'winnerteamid': 16, 'venue': 'Docklands'}, {'hgoals': 20, 'year': 2025, 'complete': 100, 'ascore': 51, 'unixtime': 1743909000, 'date': '2025-04-06 13:10:00', 'agoals': 7, 'is_final': 0, 'hscore': 132, 'winner': 'Greater Western Sydney', 'roundname': 'Round 4', 'round': 4, 'updated': '2025-04-06 15:51:59', 'is_grand_final': 0, 'timestr': 'Full Time', 'hbehinds': 12, 'id': 37123, 'ateamid': 17, 'ateam': 'West Coast', 'tz': '+10:00', 'winnerteamid': 9, 'venue': 'Sydney Showground', 'abehinds': 9, 'localtime': '2025-04-06 13:10:00', 'hteam': 'Greater Western Sydney', 'hteamid': 9}, {'tz': '+10:00', 'winnerteamid': 15, 'venue': 'Adelaide Oval', 'abehinds': 11, 'localtime': '2025-04-06 14:50:00', 'hteam': 'Port Adelaide', 'hteamid': 13, 'updated': '2025-04-06 18:01:51', 'timestr': 'Full Time', 'is_grand_final': 0, 'hbehinds': 12, 'ateamid': 15, 'id': 37124, 'ateam': 'St Kilda', 'agoals': 13, 'is_final': 0, 'hscore': 72, 'winner': 'St Kilda', 'roundname': 'Round 4', 'round': 4, 'hgoals': 10, 'complete': 100, 'year': 2025, 'ascore': 89, 'unixtime': 1743916800, 'date': '2025-04-06 15:20:00'}, {'roundname': 'Round 4', 'round': 4, 'winner': 'Fremantle', 'is_final': 0, 'hscore': 97, 'agoals': 12, 'date': '2025-04-06 17:10:00', 'unixtime': 1743923400, 'ascore': 81, 'year': 2025, 'complete': 100, 'hgoals': 15, 'hteamid': 6, 'hteam': 'Fremantle', 'localtime': '2025-04-06 15:10:00', 'abehinds': 9, 'venue': 'Perth Stadium', 'winnerteamid': 6, 'tz': '+10:00', 'ateam': 'Western Bulldogs', 'ateamid': 18, 'id': 37125, 'hbehinds': 7, 'is_grand_final': 0, 'timestr': 'Full Time', 'updated': '2025-04-06 19:58:51'}, {'round': 5, 'roundname': 'Round 5', 'agoals': 18, 'winner': 'Geelong', 'hscore': 100, 'is_final': 0, 'unixtime': 1744278000, 'date': '2025-04-10 19:40:00', 'hgoals': 15, 'ascore': 119, 'year': 2025, 'complete': 100, 'localtime': '2025-04-10 19:10:00', 'abehinds': 11, 'hteamid': 1, 'hteam': 'Adelaide', 'tz': '+10:00', 'venue': 'Adelaide Oval', 'winnerteamid': 7, 'hbehinds': 10, 'ateam': 'Geelong', 'id': 37126, 'ateamid': 7, 'updated': '2025-04-10 22:25:14', 'is_grand_final': 0, 'timestr': 'Full Time'}, {'localtime': '2025-04-11 19:10:00', 'abehinds': 6, 'hteamid': 4, 'hteam': 'Collingwood', 'tz': '+10:00', 'venue': 'Adelaide Oval', 'winnerteamid': 4, 'hbehinds': 13, 'ateam': 'Sydney', 'id': 37127, 'ateamid': 16, 'updated': '2025-04-11 22:21:36', 'timestr': 'Full Time', 'is_grand_final': 0, 'roundname': 'Round 5', 'round': 5, 'agoals': 12, 'winner': 'Collingwood', 'is_final': 0, 'hscore': 109, 'unixtime': 1744364400, 'date': '2025-04-11 19:40:00', 'hgoals': 16, 'ascore': 78, 'year': 2025, 'complete': 100}, {'roundname': 'Round 5', 'round': 5, 'is_final': 0, 'hscore': 89, 'winner': 'Gold Coast', 'agoals': 21, 'date': '2025-04-12 12:35:00', 'unixtime': 1744425300, 'year': 2025, 'complete': 100, 'ascore': 141, 'hgoals': 13, 'hteam': 'North Melbourne', 'hteamid': 12, 'abehinds': 15, 'localtime': '2025-04-12 12:05:00', 'winnerteamid': 8, 'venue': 'Barossa Park', 'tz': '+10:00', 'id': 37128, 'ateamid': 8, 'ateam': 'Gold Coast', 'hbehinds': 11, 'timestr': 'Full Time', 'is_grand_final': 0, 'updated': '2025-04-12 15:27:16'}, {'winnerteamid': 3, 'venue': 'Adelaide Oval', 'tz': '+10:00', 'hteam': 'Carlton', 'hteamid': 3, 'abehinds': 14, 'localtime': '2025-04-12 12:50:00', 'timestr': 'Full Time', 'is_grand_final': 0, 'updated': '2025-04-12 16:03:13', 'ateamid': 17, 'id': 37129, 'ateam': 'West Coast', 'hbehinds': 19, 'hscore': 121, 'is_final': 0, 'winner': 'Carlton', 'agoals': 6, 'round': 5, 'roundname': 'Round 5', 'complete': 100, 'year': 2025, 'ascore': 50, 'hgoals': 17, 'date': '2025-04-12 13:20:00', 'unixtime': 1744428000}, {'id': 37130, 'ateamid': 2, 'ateam': 'Brisbane Lions', 'hbehinds': 13, 'timestr': 'Full Time', 'is_grand_final': 0, 'updated': '2025-04-12 19:03:58', 'hteam': 'Western Bulldogs', 'hteamid': 18, 'abehinds': 10, 'localtime': '2025-04-12 15:45:00', 'winnerteamid': 2, 'venue': 'Norwood Oval', 'tz': '+10:00', 'date': '2025-04-12 16:15:00', 'unixtime': 1744438500, 'complete': 100, 'year': 2025, 'ascore': 118, 'hgoals': 14, 'round': 5, 'roundname': 'Round 5', 'hscore': 97, 'is_final': 0, 'winner': 'Brisbane Lions', 'agoals': 18}, {'venue': 'Adelaide Oval', 'winnerteamid': 5, 'tz': '+10:00', 'hteamid': 11, 'hteam': 'Melbourne', 'localtime': '2025-04-12 19:05:00', 'abehinds': 6, 'is_grand_final': 0, 'timestr': 'Full Time', 'updated': '2025-04-12 22:19:48', 'ateam': 'Essendon', 'id': 37131, 'ateamid': 5, 'hbehinds': 9, 'winner': 'Essendon', 'hscore': 57, 'is_final': 0, 'agoals': 15, 'round': 5, 'roundname': 'Round 5', 'ascore': 96, 'year': 2025, 'complete': 100, 'hgoals': 8, 'date': '2025-04-12 19:35:00', 'unixtime': 1744450500}, {'ascore': 108, 'year': 2025, 'complete': 100, 'hgoals': 7, 'date': '2025-04-13 12:35:00', 'unixtime': 1744511700, 'winner': 'Fremantle', 'hscore': 47, 'is_final': 0, 'agoals': 16, 'round': 5, 'roundname': 'Round 5', 'timestr': 'Full Time', 'is_grand_final': 0, 'updated': '2025-04-13 15:18:02', 'ateam': 'Fremantle', 'ateamid': 6, 'id': 37132, 'hbehinds': 5, 'venue': 'Barossa Park', 'winnerteamid': 6, 'tz': '+10:00', 'hteamid': 14, 'hteam': 'Richmond', 'localtime': '2025-04-13 12:05:00', 'abehinds': 12}, {'agoals': 16, 'is_final': 0, 'hscore': 82, 'winner': 'Greater Western Sydney', 'round': 5, 'roundname': 'Round 5', 'hgoals': 12, 'complete': 100, 'year': 2025, 'ascore': 110, 'unixtime': 1744521600, 'date': '2025-04-13 15:20:00', 'tz': '+10:00', 'winnerteamid': 9, 'venue': 'Norwood Oval', 'abehinds': 14, 'localtime': '2025-04-13 14:50:00', 'hteam': 'St Kilda', 'hteamid': 15, 'updated': '2025-04-13 18:07:34', 'is_grand_final': 0, 'timestr': 'Full Time', 'hbehinds': 10, 'ateamid': 9, 'id': 37133, 'ateam': 'Greater Western Sydney'}, {'round': 5, 'roundname': 'Round 5', 'agoals': 14, 'is_final': 0, 'hscore': 121, 'winner': 'Port Adelaide', 'unixtime': 1744536000, 'date': '2025-04-13 19:20:00', 'hgoals': 18, 'year': 2025, 'complete': 100, 'ascore': 91, 'abehinds': 7, 'localtime': '2025-04-13 18:50:00', 'hteam': 'Port Adelaide', 'hteamid': 13, 'tz': '+10:00', 'winnerteamid': 13, 'venue': 'Adelaide Oval', 'hbehinds': 13, 'ateamid': 10, 'id': 37134, 'ateam': 'Hawthorn', 'updated': '2025-04-13 22:09:25', 'is_grand_final': 0, 'timestr': 'Full Time'}, {'unixtime': 1744882200, 'date': '2025-04-17 19:30:00', 'hgoals': 7, 'year': 2025, 'complete': 100, 'ascore': 105, 'round': 6, 'roundname': 'Round 6', 'agoals': 16, 'is_final': 0, 'hscore': 53, 'winner': 'Collingwood', 'hbehinds': 11, 'ateamid': 4, 'id': 37135, 'ateam': 'Collingwood', 'updated': '2025-04-17 22:10:15', 'timestr': 'Full Time', 'is_grand_final': 0, 'abehinds': 9, 'localtime': '2025-04-17 19:30:00', 'hteam': 'Brisbane Lions', 'hteamid': 2, 'tz': '+10:00', 'winnerteamid': 4, 'venue': 'Gabba'}, {'abehinds': 9, 'localtime': '2025-04-18 15:20:00', 'hteam': 'North Melbourne', 'hteamid': 12, 'tz': '+10:00', 'winnerteamid': 3, 'venue': 'Docklands', 'hbehinds': 5, 'ateamid': 3, 'id': 37136, 'ateam': 'Carlton', 'updated': '2025-04-18 18:08:48', 'timestr': 'Full Time', 'is_grand_final': 0, 'round': 6, 'roundname': 'Round 6', 'agoals': 24, 'hscore': 71, 'is_final': 0, 'winner': 'Carlton', 'unixtime': 1744953600, 'date': '2025-04-18 15:20:00', 'hgoals': 11, 'complete': 100, 'year': 2025, 'ascore': 153}, {'unixtime': 1744963800, 'date': '2025-04-18 18:10:00', 'hgoals': 11, 'complete': 100, 'year': 2025, 'ascore': 77, 'roundname': 'Round 6', 'round': 6, 'agoals': 11, 'is_final': 0, 'hscore': 75, 'winner': 'Essendon', 'hbehinds': 9, 'ateamid': 5, 'id': 37137, 'ateam': 'Essendon', 'updated': '2025-04-18 20:47:56', 'timestr': 'Full Time', 'is_grand_final': 0, 'abehinds': 11, 'localtime': '2025-04-18 16:10:00', 'hteam': 'West Coast', 'hteamid': 17, 'tz': '+10:00', 'winnerteamid': 5, 'venue': 'Perth Stadium'}, {'agoals': 14, 'winner': 'Melbourne', 'hscore': 107, 'is_final': 0, 'roundname': 'Round 6', 'round': 6, 'hgoals': 16, 'ascore': 97, 'year': 2025, 'complete': 100, 'unixtime': 1745032800, 'date': '2025-04-19 13:20:00', 'tz': '+10:00', 'venue': 'M.C.G.', 'winnerteamid': 11, 'localtime': '2025-04-19 13:20:00', 'abehinds': 13, 'hteamid': 11, 'hteam': 'Melbourne', 'updated': '2025-04-19 16:01:00', 'timestr': 'Full Time', 'is_grand_final': 0, 'hbehinds': 11, 'ateam': 'Fremantle', 'ateamid': 6, 'id': 37138}, {'date': '2025-04-19 16:15:00', 'unixtime': 1745043300, 'ascore': 34, 'complete': 100, 'year': 2025, 'hgoals': 7, 'roundname': 'Round 6', 'round': 6, 'winner': 'Adelaide', 'hscore': 52, 'is_final': 0, 'agoals': 4, 'ateam': 'Greater Western Sydney', 'ateamid': 9, 'id': 37139, 'hbehinds': 10, 'is_grand_final': 0, 'timestr': 'Full Time', 'updated': '2025-04-19 18:46:54', 'hteamid': 1, 'hteam': 'Adelaide', 'localtime': '2025-04-19 15:45:00', 'abehinds': 10, 'venue': 'Adelaide Oval', 'winnerteamid': 1, 'tz': '+10:00'}, {'is_final': 0, 'hscore': 80, 'winner': 'Richmond', 'agoals': 9, 'round': 6, 'roundname': 'Round 6', 'complete': 100, 'year': 2025, 'ascore': 69, 'hgoals': 12, 'date': '2025-04-19 19:35:00', 'unixtime': 1745055300, 'winnerteamid': 14, 'venue': 'Docklands', 'tz': '+10:00', 'hteam': 'Richmond', 'hteamid': 14, 'abehinds': 15, 'localtime': '2025-04-19 19:35:00', 'is_grand_final': 0, 'timestr': 'Full Time', 'updated': '2025-04-19 22:11:26', 'id': 37140, 'ateamid': 8, 'ateam': 'Gold Coast', 'hbehinds': 8}, {'roundname': 'Round 6', 'round': 6, 'agoals': 13, 'winner': 'Port Adelaide', 'hscore': 77, 'is_final': 0, 'unixtime': 1745126400, 'date': '2025-04-20 15:20:00', 'hgoals': 10, 'ascore': 85, 'year': 2025, 'complete': 100, 'localtime': '2025-04-20 15:20:00', 'abehinds': 7, 'hteamid': 16, 'hteam': 'Sydney', 'tz': '+10:00', 'venue': 'S.C.G.', 'winnerteamid': 13, 'hbehinds': 17, 'ateam': 'Port Adelaide', 'ateamid': 13, 'id': 37141, 'updated': '2025-04-20 18:03:31', 'timestr': 'Full Time', 'is_grand_final': 0}, {'localtime': '2025-04-20 19:20:00', 'abehinds': 8, 'hteamid': 18, 'hteam': 'Western Bulldogs', 'tz': '+10:00', 'venue': 'Docklands', 'winnerteamid': 18, 'hbehinds': 19, 'ateam': 'St Kilda', 'id': 37142, 'ateamid': 15, 'updated': '2025-04-20 21:58:45', 'timestr': 'Full Time', 'is_grand_final': 0, 'round': 6, 'roundname': 'Round 6', 'agoals': 8, 'winner': 'Western Bulldogs', 'is_final': 0, 'hscore': 127, 'unixtime': 1745140800, 'date': '2025-04-20 19:20:00', 'hgoals': 18, 'ascore': 56, 'year': 2025, 'complete': 100}, {'hteamid': 7, 'hteam': 'Geelong', 'localtime': '2025-04-21 15:20:00', 'abehinds': 13, 'venue': 'M.C.G.', 'winnerteamid': 7, 'tz': '+10:00', 'ateam': 'Hawthorn', 'ateamid': 10, 'id': 37143, 'hbehinds': 14, 'is_grand_final': 0, 'timestr': 'Full Time', 'updated': '2025-04-21 18:02:28', 'roundname': 'Round 6', 'round': 6, 'winner': 'Geelong', 'hscore': 86, 'is_final': 0, 'agoals': 11, 'date': '2025-04-21 15:20:00', 'unixtime': 1745212800, 'ascore': 79, 'year': 2025, 'complete': 100, 'hgoals': 12}, {'hgoals': 12, 'ascore': 63, 'complete': 100, 'year': 2025, 'unixtime': 1745487000, 'date': '2025-04-24 19:30:00', 'agoals': 9, 'winner': 'Melbourne', 'is_final': 0, 'hscore': 83, 'roundname': 'Round 7', 'round': 7, 'updated': '2025-04-25 17:46:06', 'is_grand_final': 0, 'timestr': 'Full Time', 'hbehinds': 11, 'ateam': 'Richmond', 'ateamid': 14, 'id': 37144, 'tz': '+10:00', 'venue': 'M.C.G.', 'winnerteamid': 11, 'localtime': '2025-04-24 19:30:00', 'abehinds': 9, 'hteamid': 11, 'hteam': 'Melbourne'}, {'id': 37145, 'ateamid': 5, 'ateam': 'Essendon', 'hbehinds': 11, 'timestr': 'Full Time', 'is_grand_final': 0, 'updated': '2025-04-25 18:01:08', 'hteam': 'Collingwood', 'hteamid': 4, 'abehinds': 6, 'localtime': '2025-04-25 15:20:00', 'winnerteamid': 4, 'venue': 'M.C.G.', 'tz': '+10:00', 'date': '2025-04-25 15:20:00', 'unixtime': 1745558400, 'complete': 100, 'year': 2025, 'ascore': 66, 'hgoals': 16, 'round': 7, 'roundname': 'Round 7', 'hscore': 107, 'is_final': 0, 'winner': 'Collingwood', 'agoals': 10}, {'unixtime': 1745575800, 'date': '2025-04-25 20:10:00', 'hgoals': 12, 'ascore': 67, 'complete': 100, 'year': 2025, 'roundname': 'Round 7', 'round': 7, 'agoals': 9, 'winner': 'Fremantle', 'hscore': 85, 'is_final': 0, 'hbehinds': 13, 'ateam': 'Adelaide', 'ateamid': 1, 'id': 37146, 'updated': '2025-04-25 22:44:02', 'timestr': 'Full Time', 'is_grand_final': 0, 'localtime': '2025-04-25 18:10:00', 'abehinds': 13, 'hteamid': 6, 'hteam': 'Fremantle', 'tz': '+10:00', 'venue': 'Perth Stadium', 'winnerteamid': 6}, {'hscore': 73, 'is_final': 0, 'winner': 'Brisbane Lions', 'agoals': 17, 'roundname': 'Round 7', 'round': 7, 'year': 2025, 'complete': 100, 'ascore': 118, 'hgoals': 11, 'date': '2025-04-26 13:20:00', 'unixtime': 1745637600, 'winnerteamid': 2, 'venue': 'Docklands', 'tz': '+10:00', 'hteam': 'St Kilda', 'hteamid': 15, 'abehinds': 16, 'localtime': '2025-04-26 13:20:00', 'is_grand_final': 0, 'timestr': 'Full Time', 'updated': '2025-04-26 16:06:17', 'ateamid': 2, 'id': 37147, 'ateam': 'Brisbane Lions', 'hbehinds': 7}, {'is_final': 0, 'hscore': 97, 'winner': 'Port Adelaide', 'agoals': 13, 'round': 7, 'roundname': 'Round 7', 'complete': 100, 'year': 2025, 'ascore': 88, 'hgoals': 14, 'date': '2025-04-26 16:15:00', 'unixtime': 1745648100, 'winnerteamid': 13, 'venue': 'Adelaide Oval', 'tz': '+10:00', 'hteam': 'Port Adelaide', 'hteamid': 13, 'abehinds': 10, 'localtime': '2025-04-26 15:45:00', 'is_grand_final': 0, 'timestr': 'Full Time', 'updated': '2025-04-26 19:11:18', 'ateamid': 12, 'id': 37148, 'ateam': 'North Melbourne', 'hbehinds': 13}, {'winner': 'Western Bulldogs', 'hscore': 81, 'is_final': 0, 'agoals': 17, 'round': 7, 'roundname': 'Round 7', 'ascore': 113, 'complete': 100, 'year': 2025, 'hgoals': 12, 'date': '2025-04-26 19:35:00', 'unixtime': 1745660100, 'venue': 'Manuka Oval', 'winnerteamid': 18, 'tz': '+10:00', 'hteamid': 9, 'hteam': 'Greater Western Sydney', 'localtime': '2025-04-26 19:35:00', 'abehinds': 11, 'timestr': 'Full Time', 'is_grand_final': 0, 'updated': '2025-04-26 22:22:09', 'ateam': 'Western Bulldogs', 'ateamid': 18, 'id': 37149, 'hbehinds': 9}, {'date': '2025-04-27 13:15:00', 'unixtime': 1745723700, 'ascore': 79, 'year': 2025, 'complete': 100, 'hgoals': 17, 'round': 7, 'roundname': 'Round 7', 'winner': 'Gold Coast', 'is_final': 0, 'hscore': 117, 'agoals': 12, 'ateam': 'Sydney', 'id': 37150, 'ateamid': 16, 'hbehinds': 15, 'is_grand_final': 0, 'timestr': 'Full Time', 'updated': '2025-04-27 15:59:30', 'hteamid': 8, 'hteam': 'Gold Coast', 'localtime': '2025-04-27 13:15:00', 'abehinds': 7, 'venue': 'Carrara', 'winnerteamid': 8, 'tz': '+10:00'}, {'date': '2025-04-27 15:20:00', 'unixtime': 1745731200, 'ascore': 76, 'complete': 100, 'year': 2025, 'hgoals': 14, 'roundname': 'Round 7', 'round': 7, 'winner': 'Carlton', 'hscore': 94, 'is_final': 0, 'agoals': 12, 'ateam': 'Geelong', 'id': 37151, 'ateamid': 7, 'hbehinds': 10, 'timestr': 'Full Time', 'is_grand_final': 0, 'updated': '2025-04-27 18:00:47', 'hteamid': 3, 'hteam': 'Carlton', 'localtime': '2025-04-27 15:20:00', 'abehinds': 4, 'venue': 'M.C.G.', 'winnerteamid': 3, 'tz': '+10:00'}, {'updated': '2025-04-27 19:28:39', 'timestr': 'Full Time', 'is_grand_final': 0, 'hbehinds': 16, 'ateam': 'West Coast', 'id': 37152, 'ateamid': 17, 'tz': '+10:00', 'venue': 'Docklands', 'winnerteamid': 10, 'localtime': '2025-04-27 16:45:00', 'abehinds': 8, 'hteamid': 10, 'hteam': 'Hawthorn', 'hgoals': 18, 'ascore': 74, 'complete': 100, 'year': 2025, 'unixtime': 1745736300, 'date': '2025-04-27 16:45:00', 'agoals': 11, 'winner': 'Hawthorn', 'hscore': 124, 'is_final': 0, 'round': 7, 'roundname': 'Round 7'}, {'venue': 'Docklands', 'winnerteamid': 5, 'tz': '+10:00', 'hteamid': 5, 'hteam': 'Essendon', 'localtime': '2025-05-01 19:30:00', 'abehinds': 8, 'is_grand_final': 0, 'timestr': 'Full Time', 'updated': '2025-05-01 22:07:32', 'ateam': 'North Melbourne', 'id': 37153, 'ateamid': 12, 'hbehinds': 11, 'winner': 'Essendon', 'is_final': 0, 'hscore': 65, 'agoals': 9, 'roundname': 'Round 8', 'round': 8, 'ascore': 62, 'year': 2025, 'complete': 100, 'hgoals': 9, 'date': '2025-05-01 19:30:00', 'unixtime': 1746091800}, {'winnerteamid': 15, 'venue': 'Docklands', 'tz': '+10:00', 'hteam': 'St Kilda', 'hteamid': 15, 'abehinds': 3, 'localtime': '2025-05-02 19:40:00', 'timestr': 'Full Time', 'is_grand_final': 0, 'updated': '2025-05-02 22:14:28', 'id': 37154, 'ateamid': 6, 'ateam': 'Fremantle', 'hbehinds': 10, 'hscore': 94, 'is_final': 0, 'winner': 'St Kilda', 'agoals': 5, 'roundname': 'Round 8', 'round': 8, 'complete': 100, 'year': 2025, 'ascore': 33, 'hgoals': 14, 'date': '2025-05-02 19:40:00', 'unixtime': 1746178800}, {'unixtime': 1746242400, 'date': '2025-05-03 13:20:00', 'hgoals': 20, 'year': 2025, 'complete': 100, 'ascore': 41, 'round': 8, 'roundname': 'Round 8', 'agoals': 5, 'hscore': 131, 'is_final': 0, 'winner': 'Western Bulldogs', 'hbehinds': 11, 'id': 37155, 'ateamid': 13, 'ateam': 'Port Adelaide', 'updated': '2025-05-03 16:04:12', 'timestr': 'Full Time', 'is_grand_final': 0, 'abehinds': 11, 'localtime': '2025-05-03 13:20:00', 'hteam': 'Western Bulldogs', 'hteamid': 18, 'tz': '+10:00', 'winnerteamid': 18, 'venue': 'Eureka Stadium'}, {'date': '2025-05-03 16:15:00', 'unixtime': 1746252900, 'year': 2025, 'complete': 100, 'ascore': 50, 'hgoals': 16, 'round': 8, 'roundname': 'Round 8', 'hscore': 110, 'is_final': 0, 'winner': 'Adelaide', 'agoals': 7, 'ateamid': 3, 'id': 37156, 'ateam': 'Carlton', 'hbehinds': 14, 'is_grand_final': 0, 'timestr': 'Full Time', 'updated': '2025-05-03 18:52:31', 'hteam': 'Adelaide', 'hteamid': 1, 'abehinds': 8, 'localtime': '2025-05-03 15:45:00', 'winnerteamid': 1, 'venue': 'Adelaide Oval', 'tz': '+10:00'}, {'tz': '+10:00', 'winnerteamid': 7, 'venue': 'M.C.G.', 'abehinds': 12, 'localtime': '2025-05-03 19:35:00', 'hteam': 'Collingwood', 'hteamid': 4, 'updated': '2025-05-03 22:18:59', 'is_grand_final': 0, 'timestr': 'Full Time', 'hbehinds': 15, 'id': 37157, 'ateamid': 7, 'ateam': 'Geelong', 'agoals': 13, 'is_final': 0, 'hscore': 87, 'winner': 'Geelong', 'roundname': 'Round 8', 'round': 8, 'hgoals': 12, 'complete': 100, 'year': 2025, 'ascore': 90, 'unixtime': 1746264900, 'date': '2025-05-03 19:35:00'}, {'winnerteamid': 11, 'venue': 'Perth Stadium', 'tz': '+10:00', 'hteam': 'West Coast', 'hteamid': 17, 'abehinds': 12, 'localtime': '2025-05-03 17:35:00', 'is_grand_final': 0, 'timestr': 'Full Time', 'updated': '2025-05-03 22:22:39', 'id': 37158, 'ateamid': 11, 'ateam': 'Melbourne', 'hbehinds': 10, 'hscore': 76, 'is_final': 0, 'winner': 'Melbourne', 'agoals': 16, 'round': 8, 'roundname': 'Round 8', 'complete': 100, 'year': 2025, 'ascore': 108, 'hgoals': 11, 'date': '2025-05-03 19:35:00', 'unixtime': 1746264900}, {'roundname': 'Round 8', 'round': 8, 'winner': 'Sydney', 'hscore': 87, 'is_final': 0, 'agoals': 10, 'date': '2025-05-04 13:10:00', 'unixtime': 1746328200, 'ascore': 73, 'complete': 100, 'year': 2025, 'hgoals': 12, 'hteamid': 16, 'hteam': 'Sydney', 'localtime': '2025-05-04 13:10:00', 'abehinds': 13, 'venue': 'S.C.G.', 'winnerteamid': 16, 'tz': '+10:00', 'ateam': 'Greater Western Sydney', 'ateamid': 9, 'id': 37159, 'hbehinds': 15, 'timestr': 'Full Time', 'is_grand_final': 0, 'updated': '2025-05-04 15:49:53'}, {'timestr': 'Full Time', 'is_grand_final': 0, 'updated': '2025-05-04 17:53:42', 'ateam': 'Richmond', 'id': 37160, 'ateamid': 14, 'hbehinds': 13, 'venue': 'M.C.G.', 'winnerteamid': 10, 'tz': '+10:00', 'hteamid': 10, 'hteam': 'Hawthorn', 'localtime': '2025-05-04 15:20:00', 'abehinds': 8, 'ascore': 44, 'complete': 100, 'year': 2025, 'hgoals': 16, 'date': '2025-05-04 15:20:00', 'unixtime': 1746336000, 'winner': 'Hawthorn', 'is_final': 0, 'hscore': 109, 'agoals': 6, 'round': 8, 'roundname': 'Round 8'}, {'winner': 'Brisbane Lions', 'is_final': 0, 'hscore': 66, 'agoals': 7, 'roundname': 'Round 8', 'round': 8, 'ascore': 49, 'complete': 100, 'year': 2025, 'hgoals': 9, 'date': '2025-05-04 19:20:00', 'unixtime': 1746350400, 'venue': 'Gabba', 'winnerteamid': 2, 'tz': '+10:00', 'hteamid': 2, 'hteam': 'Brisbane Lions', 'localtime': '2025-05-04 19:20:00', 'abehinds': 7, 'is_grand_final': 0, 'timestr': 'Full Time', 'updated': '2025-05-04 21:52:34', 'ateam': 'Gold Coast', 'id': 37161, 'ateamid': 8, 'hbehinds': 12}, {'id': 37162, 'ateamid': 4, 'ateam': 'Collingwood', 'hbehinds': 11, 'is_grand_final': 0, 'timestr': 'Full Time', 'updated': '2025-05-08 22:48:52', 'hteam': 'Fremantle', 'hteamid': 6, 'abehinds': 7, 'localtime': '2025-05-08 18:10:00', 'winnerteamid': 4, 'venue': 'Perth Stadium', 'tz': '+10:00', 'date': '2025-05-08 20:10:00', 'unixtime': 1746699000, 'year': 2025, 'complete': 100, 'ascore': 97, 'hgoals': 12, 'round': 9, 'roundname': 'Round 9', 'hscore': 83, 'is_final': 0, 'winner': 'Collingwood', 'agoals': 15}, {'hbehinds': 8, 'ateamid': 3, 'id': 37163, 'ateam': 'Carlton', 'updated': '2025-05-09 22:22:44', 'timestr': 'Full Time', 'is_grand_final': 0, 'abehinds': 11, 'localtime': '2025-05-09 19:40:00', 'hteam': 'St Kilda', 'hteamid': 15, 'tz': '+10:00', 'winnerteamid': 3, 'venue': 'M.C.G.', 'unixtime': 1746783600, 'date': '2025-05-09 19:40:00', 'hgoals': 9, 'year': 2025, 'complete': 100, 'ascore': 77, 'round': 9, 'roundname': 'Round 9', 'agoals': 11, 'hscore': 62, 'is_final': 0, 'winner': 'Carlton'}, {'updated': '2025-05-10 15:54:22', 'is_grand_final': 0, 'timestr': 'Full Time', 'hbehinds': 14, 'ateamid': 10, 'id': 37164, 'ateam': 'Hawthorn', 'tz': '+10:00', 'winnerteamid': 10, 'venue': 'M.C.G.', 'abehinds': 13, 'localtime': '2025-05-10 13:20:00', 'hteam': 'Melbourne', 'hteamid': 11, 'hgoals': 7, 'complete': 100, 'year': 2025, 'ascore': 91, 'unixtime': 1746847200, 'date': '2025-05-10 13:20:00', 'agoals': 13, 'is_final': 0, 'hscore': 56, 'winner': 'Hawthorn', 'roundname': 'Round 9', 'round': 9}, {'unixtime': 1746857700, 'date': '2025-05-10 16:15:00', 'hgoals': 11, 'complete': 100, 'year': 2025, 'ascore': 63, 'roundname': 'Round 9', 'round': 9, 'agoals': 8, 'is_final': 0, 'hscore': 71, 'winner': 'Essendon', 'hbehinds': 5, 'ateamid': 16, 'id': 37165, 'ateam': 'Sydney', 'updated': '2025-05-10 18:48:39', 'is_grand_final': 0, 'timestr': 'Full Time', 'abehinds': 15, 'localtime': '2025-05-10 16:15:00', 'hteam': 'Essendon', 'hteamid': 5, 'tz': '+10:00', 'winnerteamid': 5, 'venue': 'Docklands'}, {'updated': '2025-05-10 22:19:29', 'timestr': 'Full Time', 'is_grand_final': 0, 'hbehinds': 16, 'ateam': 'Western Bulldogs', 'ateamid': 18, 'id': 37166, 'tz': '+10:00', 'venue': 'Marrara Oval', 'winnerteamid': 8, 'localtime': '2025-05-10 19:05:00', 'abehinds': 12, 'hteamid': 8, 'hteam': 'Gold Coast', 'hgoals': 15, 'ascore': 96, 'year': 2025, 'complete': 100, 'unixtime': 1746869700, 'date': '2025-05-10 19:35:00', 'agoals': 14, 'winner': 'Gold Coast', 'is_final': 0, 'hscore': 106, 'roundname': 'Round 9', 'round': 9}, {'venue': 'Adelaide Oval', 'winnerteamid': 1, 'tz': '+10:00', 'hteamid': 13, 'hteam': 'Port Adelaide', 'localtime': '2025-05-10 19:40:00', 'abehinds': 11, 'timestr': 'Full Time', 'is_grand_final': 0, 'updated': '2025-05-10 22:49:46', 'ateam': 'Adelaide', 'id': 37167, 'ateamid': 1, 'hbehinds': 12, 'winner': 'Adelaide', 'is_final': 0, 'hscore': 84, 'agoals': 13, 'roundname': 'Round 9', 'round': 9, 'ascore': 89, 'complete': 100, 'year': 2025, 'hgoals': 12, 'date': '2025-05-10 20:10:00', 'unixtime': 1746871800}, {'roundname': 'Round 9', 'round': 9, 'is_final': 0, 'hscore': 81, 'winner': 'Richmond', 'agoals': 11, 'date': '2025-05-11 13:10:00', 'unixtime': 1746933000, 'year': 2025, 'complete': 100, 'ascore': 79, 'hgoals': 11, 'hteam': 'Richmond', 'hteamid': 14, 'abehinds': 13, 'localtime': '2025-05-11 13:10:00', 'winnerteamid': 14, 'venue': 'M.C.G.', 'tz': '+10:00', 'id': 37168, 'ateamid': 17, 'ateam': 'West Coast', 'hbehinds': 15, 'timestr': 'Full Time', 'is_grand_final': 0, 'updated': '2025-05-11 15:52:10'}, {'abehinds': 9, 'localtime': '2025-05-11 15:20:00', 'hteam': 'Geelong', 'hteamid': 7, 'tz': '+10:00', 'winnerteamid': 9, 'venue': 'Kardinia Park', 'hbehinds': 17, 'ateamid': 9, 'id': 37169, 'ateam': 'Greater Western Sydney', 'updated': '2025-05-11 18:02:52', 'is_grand_final': 0, 'timestr': 'Full Time', 'roundname': 'Round 9', 'round': 9, 'agoals': 16, 'hscore': 101, 'is_final': 0, 'winner': 'Greater Western Sydney', 'unixtime': 1746940800, 'date': '2025-05-11 15:20:00', 'hgoals': 14, 'complete': 100, 'year': 2025, 'ascore': 105}, {'hscore': 71, 'is_final': 0, 'winner': None, 'agoals': 10, 'round': 9, 'roundname': 'Round 9', 'year': 2025, 'complete': 100, 'ascore': 71, 'hgoals': 10, 'date': '2025-05-11 16:40:00', 'unixtime': 1746945600, 'winnerteamid': None, 'venue': 'Bellerive Oval', 'tz': '+10:00', 'hteam': 'North Melbourne', 'hteamid': 12, 'abehinds': 11, 'localtime': '2025-05-11 16:40:00', 'timestr': 'Full Time', 'is_grand_final': 0, 'updated': '2025-05-11 19:17:24', 'ateamid': 2, 'id': 37170, 'ateam': 'Brisbane Lions', 'hbehinds': 11}, {'roundname': 'Round 10', 'round': 10, 'is_final': 0, 'hscore': 104, 'winner': 'Gold Coast', 'agoals': 15, 'date': '2025-05-15 19:30:00', 'unixtime': 1747301400, 'year': 2025, 'complete': 100, 'ascore': 96, 'hgoals': 16, 'hteam': 'Gold Coast', 'hteamid': 8, 'abehinds': 6, 'localtime': '2025-05-15 19:00:00', 'winnerteamid': 8, 'venue': 'Marrara Oval', 'tz': '+10:00', 'ateamid': 10, 'id': 37171, 'ateam': 'Hawthorn', 'hbehinds': 8, 'is_grand_final': 0, 'timestr': 'Full Time', 'updated': '2025-05-15 22:22:26'}, {'winner': 'Sydney', 'hscore': 78, 'is_final': 0, 'agoals': 9, 'round': 10, 'roundname': 'Round 10', 'ascore': 62, 'complete': 100, 'year': 2025, 'hgoals': 11, 'date': '2025-05-16 19:40:00', 'unixtime': 1747388400, 'venue': 'S.C.G.', 'winnerteamid': 16, 'tz': '+10:00', 'hteamid': 16, 'hteam': 'Sydney', 'localtime': '2025-05-16 19:40:00', 'abehinds': 8, 'is_grand_final': 0, 'timestr': 'Full Time', 'updated': '2025-05-16 22:20:35', 'ateam': 'Carlton', 'ateamid': 3, 'id': 37172, 'hbehinds': 12}, {'agoals': 10, 'winner': 'Collingwood', 'hscore': 78, 'is_final': 0, 'round': 10, 'roundname': 'Round 10', 'hgoals': 11, 'ascore': 68, 'year': 2025, 'complete': 100, 'unixtime': 1747452000, 'date': '2025-05-17 13:20:00', 'tz': '+10:00', 'venue': 'M.C.G.', 'winnerteamid': 4, 'localtime': '2025-05-17 13:20:00', 'abehinds': 8, 'hteamid': 4, 'hteam': 'Collingwood', 'updated': '2025-05-17 15:55:56', 'timestr': 'Full Time', 'is_grand_final': 0, 'hbehinds': 12, 'ateam': 'Adelaide', 'ateamid': 1, 'id': 37173}, {'hbehinds': 13, 'id': 37175, 'ateamid': 6, 'ateam': 'Fremantle', 'updated': '2025-05-17 18:57:26', 'timestr': 'Full Time', 'is_grand_final': 0, 'abehinds': 17, 'localtime': '2025-05-17 16:15:00', 'hteam': 'Greater Western Sydney', 'hteamid': 9, 'tz': '+10:00', 'winnerteamid': 6, 'venue': 'Sydney Showground', 'unixtime': 1747462500, 'date': '2025-05-17 16:15:00', 'hgoals': 8, 'complete': 100, 'year': 2025, 'ascore': 95, 'roundname': 'Round 10', 'round': 10, 'agoals': 13, 'is_final': 0, 'hscore': 61, 'winner': 'Fremantle'}, {'year': 2025, 'complete': 100, 'ascore': 115, 'hgoals': 5, 'date': '2025-05-17 16:15:00', 'unixtime': 1747462500, 'is_final': 0, 'hscore': 39, 'winner': 'Geelong', 'agoals': 17, 'roundname': 'Round 10', 'round': 10, 'timestr': 'Full Time', 'is_grand_final': 0, 'updated': '2025-05-17 18:54:14', 'ateamid': 7, 'id': 37174, 'ateam': 'Geelong', 'hbehinds': 9, 'winnerteamid': 7, 'venue': 'Adelaide Oval', 'tz': '+10:00', 'hteam': 'Port Adelaide', 'hteamid': 13, 'abehinds': 13, 'localtime': '2025-05-17 15:45:00'}, {'hgoals': 18, 'year': 2025, 'complete': 100, 'ascore': 36, 'unixtime': 1747474500, 'date': '2025-05-17 19:35:00', 'agoals': 5, 'hscore': 127, 'is_final': 0, 'winner': 'Western Bulldogs', 'roundname': 'Round 10', 'round': 10, 'updated': '2025-05-17 22:10:02', 'is_grand_final': 0, 'timestr': 'Full Time', 'hbehinds': 19, 'ateamid': 5, 'id': 37176, 'ateam': 'Essendon', 'tz': '+10:00', 'winnerteamid': 18, 'venue': 'Docklands', 'abehinds': 6, 'localtime': '2025-05-17 19:35:00', 'hteam': 'Western Bulldogs', 'hteamid': 18}, {'abehinds': 6, 'localtime': '2025-05-18 13:10:00', 'hteam': 'Richmond', 'hteamid': 14, 'tz': '+10:00', 'winnerteamid': 12, 'venue': 'M.C.G.', 'hbehinds': 8, 'ateamid': 12, 'id': 37177, 'ateam': 'North Melbourne', 'updated': '2025-05-18 15:57:04', 'is_grand_final': 0, 'timestr': 'Full Time', 'round': 10, 'roundname': 'Round 10', 'agoals': 12, 'hscore': 74, 'is_final': 0, 'winner': 'North Melbourne', 'unixtime': 1747537800, 'date': '2025-05-18 13:10:00', 'hgoals': 11, 'complete': 100, 'year': 2025, 'ascore': 78}, {'ascore': 99, 'year': 2025, 'complete': 100, 'hgoals': 13, 'date': '2025-05-18 15:20:00', 'unixtime': 1747545600, 'winner': 'Melbourne', 'is_final': 0, 'hscore': 88, 'agoals': 14, 'roundname': 'Round 10', 'round': 10, 'timestr': 'Full Time', 'is_grand_final': 0, 'updated': '2025-05-18 18:04:29', 'ateam': 'Melbourne', 'id': 37178, 'ateamid': 11, 'hbehinds': 10, 'venue': 'Gabba', 'winnerteamid': 11, 'tz': '+10:00', 'hteamid': 2, 'hteam': 'Brisbane Lions', 'localtime': '2025-05-18 15:20:00', 'abehinds': 15}, {'abehinds': 8, 'localtime': '2025-05-18 14:40:00', 'hteam': 'West Coast', 'hteamid': 17, 'tz': '+10:00', 'winnerteamid': 17, 'venue': 'Perth Stadium', 'hbehinds': 12, 'ateamid': 15, 'id': 37179, 'ateam': 'St Kilda', 'updated': '2025-05-18 19:23:52', 'timestr': 'Full Time', 'is_grand_final': 0, 'roundname': 'Round 10', 'round': 10, 'agoals': 12, 'hscore': 108, 'is_final': 0, 'winner': 'West Coast', 'unixtime': 1747550400, 'date': '2025-05-18 16:40:00', 'hgoals': 16, 'year': 2025, 'complete': 100, 'ascore': 80}, {'tz': '+10:00', 'venue': 'Kardinia Park', 'winnerteamid': 7, 'localtime': '2025-05-22 19:30:00', 'abehinds': 17, 'hteamid': 7, 'hteam': 'Geelong', 'updated': '2025-05-22 22:25:10', 'timestr': 'Full Time', 'is_grand_final': 0, 'hbehinds': 7, 'ateam': 'Western Bulldogs', 'ateamid': 18, 'id': 37180, 'agoals': 16, 'winner': 'Geelong', 'hscore': 127, 'is_final': 0, 'roundname': 'Round 11', 'round': 11, 'hgoals': 20, 'ascore': 113, 'year': 2025, 'complete': 100, 'unixtime': 1747906200, 'date': '2025-05-22 19:30:00'}, {'round': 11, 'roundname': 'Round 11', 'hscore': 81, 'is_final': 0, 'winner': 'Essendon', 'agoals': 8, 'date': '2025-05-23 19:40:00', 'unixtime': 1747993200, 'complete': 100, 'year': 2025, 'ascore': 58, 'hgoals': 11, 'hteam': 'Essendon', 'hteamid': 5, 'abehinds': 10, 'localtime': '2025-05-23 19:40:00', 'winnerteamid': 5, 'venue': 'M.C.G.', 'tz': '+10:00', 'ateamid': 14, 'id': 37181, 'ateam': 'Richmond', 'hbehinds': 15, 'is_grand_final': 0, 'timestr': 'Full Time', 'updated': '2025-05-23 22:24:14'}, {'tz': '+10:00', 'winnerteamid': 9, 'venue': 'Docklands', 'abehinds': 8, 'localtime': '2025-05-24 12:35:00', 'hteam': 'Carlton', 'hteamid': 3, 'updated': '2025-05-24 15:19:27', 'timestr': 'Full Time', 'is_grand_final': 0, 'hbehinds': 10, 'id': 37182, 'ateamid': 9, 'ateam': 'Greater Western Sydney', 'agoals': 17, 'is_final': 0, 'hscore': 82, 'winner': 'Greater Western Sydney', 'roundname': 'Round 11', 'round': 11, 'hgoals': 12, 'year': 2025, 'complete': 100, 'ascore': 110, 'unixtime': 1748054100, 'date': '2025-05-24 12:35:00'}, {'round': 11, 'roundname': 'Round 11', 'agoals': 14, 'is_final': 0, 'hscore': 60, 'winner': 'Brisbane Lions', 'unixtime': 1748067300, 'date': '2025-05-24 16:15:00', 'hgoals': 8, 'year': 2025, 'complete': 100, 'ascore': 93, 'abehinds': 9, 'localtime': '2025-05-24 16:15:00', 'hteam': 'Hawthorn', 'hteamid': 10, 'tz': '+10:00', 'winnerteamid': 2, 'venue': 'M.C.G.', 'hbehinds': 12, 'ateamid': 2, 'id': 37183, 'ateam': 'Brisbane Lions', 'updated': '2025-05-24 18:49:44', 'timestr': 'Full Time', 'is_grand_final': 0}, {'agoals': 15, 'hscore': 63, 'is_final': 0, 'winner': 'Collingwood', 'round': 11, 'roundname': 'Round 11', 'hgoals': 9, 'complete': 100, 'year': 2025, 'ascore': 108, 'unixtime': 1748079300, 'date': '2025-05-24 19:35:00', 'tz': '+10:00', 'winnerteamid': 4, 'venue': 'Docklands', 'abehinds': 18, 'localtime': '2025-05-24 19:35:00', 'hteam': 'North Melbourne', 'hteamid': 12, 'updated': '2025-05-24 22:14:15', 'is_grand_final': 0, 'timestr': 'Full Time', 'hbehinds': 9, 'ateamid': 4, 'id': 37184, 'ateam': 'Collingwood'}, {'venue': 'Perth Stadium', 'winnerteamid': 6, 'tz': '+10:00', 'hteamid': 6, 'hteam': 'Fremantle', 'localtime': '2025-05-24 18:10:00', 'abehinds': 9, 'is_grand_final': 0, 'timestr': 'Full Time', 'updated': '2025-05-24 22:50:57', 'ateam': 'Port Adelaide', 'ateamid': 13, 'id': 37185, 'hbehinds': 10, 'winner': 'Fremantle', 'hscore': 100, 'is_final': 0, 'agoals': 7, 'round': 11, 'roundname': 'Round 11', 'ascore': 51, 'year': 2025, 'complete': 100, 'hgoals': 15, 'date': '2025-05-24 20:10:00', 'unixtime': 1748081400}, {'is_final': 0, 'hscore': 128, 'winner': 'Adelaide', 'agoals': 8, 'round': 11, 'roundname': 'Round 11', 'year': 2025, 'complete': 100, 'ascore': 62, 'hgoals': 19, 'date': '2025-05-25 13:10:00', 'unixtime': 1748142600, 'winnerteamid': 1, 'venue': 'Adelaide Oval', 'tz': '+10:00', 'hteam': 'Adelaide', 'hteamid': 1, 'abehinds': 14, 'localtime': '2025-05-25 12:40:00', 'is_grand_final': 0, 'timestr': 'Full Time', 'updated': '2025-05-25 15:55:27', 'id': 37186, 'ateamid': 17, 'ateam': 'West Coast', 'hbehinds': 14}, {'winner': 'Melbourne', 'hscore': 131, 'is_final': 0, 'agoals': 12, 'round': 11, 'roundname': 'Round 11', 'ascore': 78, 'complete': 100, 'year': 2025, 'hgoals': 19, 'date': '2025-05-25 15:20:00', 'unixtime': 1748150400, 'venue': 'M.C.G.', 'winnerteamid': 11, 'tz': '+10:00', 'hteamid': 11, 'hteam': 'Melbourne', 'localtime': '2025-05-25 15:20:00', 'abehinds': 6, 'is_grand_final': 0, 'timestr': 'Full Time', 'updated': '2025-05-25 18:12:36', 'ateam': 'Sydney', 'ateamid': 16, 'id': 37187, 'hbehinds': 17}, {'agoals': 12, 'winner': 'Gold Coast', 'is_final': 0, 'hscore': 61, 'round': 11, 'roundname': 'Round 11', 'hgoals': 8, 'ascore': 80, 'complete': 100, 'year': 2025, 'unixtime': 1748155200, 'date': '2025-05-25 16:40:00', 'tz': '+10:00', 'venue': 'Docklands', 'winnerteamid': 8, 'localtime': '2025-05-25 16:40:00', 'abehinds': 8, 'hteamid': 15, 'hteam': 'St Kilda', 'updated': '2025-05-25 19:14:57', 'is_grand_final': 0, 'timestr': 'Full Time', 'hbehinds': 13, 'ateam': 'Gold Coast', 'ateamid': 8, 'id': 37188}, {'timestr': 'Full Time', 'is_grand_final': 0, 'updated': '2025-05-29 22:08:13', 'id': 37189, 'ateamid': 5, 'ateam': 'Essendon', 'hbehinds': 12, 'winnerteamid': 2, 'venue': 'Gabba', 'tz': '+10:00', 'hteam': 'Brisbane Lions', 'hteamid': 2, 'abehinds': 6, 'localtime': '2025-05-29 19:30:00', 'complete': 100, 'year': 2025, 'ascore': 72, 'hgoals': 13, 'date': '2025-05-29 19:30:00', 'unixtime': 1748511000, 'is_final': 0, 'hscore': 90, 'winner': 'Brisbane Lions', 'agoals': 11, 'roundname': 'Round 12', 'round': 12}, {'round': 12, 'roundname': 'Round 12', 'winner': 'Collingwood', 'is_final': 0, 'hscore': 107, 'agoals': 8, 'date': '2025-05-30 19:40:00', 'unixtime': 1748598000, 'ascore': 56, 'year': 2025, 'complete': 100, 'hgoals': 16, 'hteamid': 4, 'hteam': 'Collingwood', 'localtime': '2025-05-30 19:40:00', 'abehinds': 8, 'venue': 'M.C.G.', 'winnerteamid': 4, 'tz': '+10:00', 'ateam': 'Hawthorn', 'id': 37190, 'ateamid': 10, 'hbehinds': 11, 'is_grand_final': 0, 'timestr': 'Full Time', 'updated': '2025-05-30 22:17:21'}, {'updated': '2025-05-31 16:02:38', 'is_grand_final': 0, 'timestr': 'Full Time', 'hbehinds': 10, 'ateam': 'Fremantle', 'id': 37191, 'ateamid': 6, 'tz': '+10:00', 'venue': 'Carrara', 'winnerteamid': 6, 'localtime': '2025-05-31 13:20:00', 'abehinds': 9, 'hteamid': 8, 'hteam': 'Gold Coast', 'hgoals': 9, 'ascore': 75, 'year': 2025, 'complete': 100, 'unixtime': 1748661600, 'date': '2025-05-31 13:20:00', 'agoals': 11, 'winner': 'Fremantle', 'is_final': 0, 'hscore': 64, 'round': 12, 'roundname': 'Round 12'}, {'hbehinds': 8, 'id': 37192, 'ateamid': 14, 'ateam': 'Richmond', 'updated': '2025-05-31 18:56:40', 'timestr': 'Full Time', 'is_grand_final': 0, 'abehinds': 17, 'localtime': '2025-05-31 16:15:00', 'hteam': 'Greater Western Sydney', 'hteamid': 9, 'tz': '+10:00', 'winnerteamid': 9, 'venue': 'Sydney Showground', 'unixtime': 1748672100, 'date': '2025-05-31 16:15:00', 'hgoals': 12, 'year': 2025, 'complete': 100, 'ascore': 77, 'roundname': 'Round 12', 'round': 12, 'agoals': 10, 'hscore': 80, 'is_final': 0, 'winner': 'Greater Western Sydney'}, {'roundname': 'Round 12', 'round': 12, 'is_final': 0, 'hscore': 41, 'winner': 'Adelaide', 'agoals': 21, 'date': '2025-05-31 19:35:00', 'unixtime': 1748684100, 'complete': 100, 'year': 2025, 'ascore': 131, 'hgoals': 5, 'hteam': 'Sydney', 'hteamid': 16, 'abehinds': 5, 'localtime': '2025-05-31 19:35:00', 'winnerteamid': 1, 'venue': 'S.C.G.', 'tz': '+10:00', 'ateamid': 1, 'id': 37193, 'ateam': 'Adelaide', 'hbehinds': 11, 'is_grand_final': 0, 'timestr': 'Full Time', 'updated': '2025-05-31 22:22:24'}, {'unixtime': 1748755200, 'date': '2025-06-01 15:20:00', 'hgoals': 7, 'year': 2025, 'complete': 100, 'ascore': 91, 'round': 12, 'roundname': 'Round 12', 'agoals': 14, 'is_final': 0, 'hscore': 63, 'winner': 'St Kilda', 'hbehinds': 21, 'id': 37194, 'ateamid': 15, 'ateam': 'St Kilda', 'updated': '2025-06-01 17:54:00', 'timestr': 'Full Time', 'is_grand_final': 0, 'abehinds': 7, 'localtime': '2025-06-01 14:50:00', 'hteam': 'Melbourne', 'hteamid': 11, 'tz': '+10:00', 'winnerteamid': 15, 'venue': 'Traeger Park'}, {'ateamid': 7, 'id': 37195, 'ateam': 'Geelong', 'hbehinds': 7, 'timestr': 'Full Time', 'is_grand_final': 0, 'updated': '2025-06-01 21:59:39', 'hteam': 'West Coast', 'hteamid': 17, 'abehinds': 14, 'localtime': '2025-06-01 17:20:00', 'winnerteamid': 7, 'venue': 'Perth Stadium', 'tz': '+10:00', 'date': '2025-06-01 19:20:00', 'unixtime': 1748769600, 'complete': 100, 'year': 2025, 'ascore': 116, 'hgoals': 11, 'roundname': 'Round 12', 'round': 12, 'hscore': 73, 'is_final': 0, 'winner': 'Geelong', 'agoals': 17}, {'timestr': 'Full Time', 'is_grand_final': 0, 'updated': '2025-06-05 22:10:06', 'ateamid': 10, 'id': 37196, 'ateam': 'Hawthorn', 'hbehinds': 11, 'winnerteamid': 10, 'venue': 'Docklands', 'tz': '+10:00', 'hteam': 'Western Bulldogs', 'hteamid': 18, 'abehinds': 9, 'localtime': '2025-06-05 19:30:00', 'year': 2025, 'complete': 100, 'ascore': 81, 'hgoals': 8, 'date': '2025-06-05 19:30:00', 'unixtime': 1749115800, 'is_final': 0, 'hscore': 59, 'winner': 'Hawthorn', 'agoals': 12, 'round': 13, 'roundname': 'Round 13'}, {'ascore': 63, 'year': 2025, 'complete': 100, 'hgoals': 10, 'date': '2025-06-06 19:40:00', 'unixtime': 1749202800, 'winner': 'Adelaide', 'hscore': 68, 'is_final': 0, 'agoals': 8, 'round': 13, 'roundname': 'Round 13', 'is_grand_final': 0, 'timestr': 'Full Time', 'updated': '2025-06-06 22:22:34', 'ateam': 'Brisbane Lions', 'ateamid': 2, 'id': 37197, 'hbehinds': 8, 'venue': 'Adelaide Oval', 'winnerteamid': 1, 'tz': '+10:00', 'hteamid': 1, 'hteam': 'Adelaide', 'localtime': '2025-06-06 19:10:00', 'abehinds': 15}, {'tz': '+10:00', 'winnerteamid': 16, 'venue': 'M.C.G.', 'abehinds': 14, 'localtime': '2025-06-07 13:20:00', 'hteam': 'Richmond', 'hteamid': 14, 'updated': '2025-06-07 15:55:11', 'timestr': 'Full Time', 'is_grand_final': 0, 'hbehinds': 12, 'id': 37198, 'ateamid': 16, 'ateam': 'Sydney', 'agoals': 11, 'is_final': 0, 'hscore': 36, 'winner': 'Sydney', 'roundname': 'Round 13', 'round': 13, 'hgoals': 4, 'complete': 100, 'year': 2025, 'ascore': 80, 'unixtime': 1749266400, 'date': '2025-06-07 13:20:00'}, {'timestr': 'Full Time', 'is_grand_final': 0, 'updated': '2025-06-07 18:59:33', 'ateamid': 8, 'id': 37199, 'ateam': 'Gold Coast', 'hbehinds': 7, 'winnerteamid': 7, 'venue': 'Kardinia Park', 'tz': '+10:00', 'hteam': 'Geelong', 'hteamid': 7, 'abehinds': 7, 'localtime': '2025-06-07 16:15:00', 'year': 2025, 'complete': 100, 'ascore': 37, 'hgoals': 9, 'date': '2025-06-07 16:15:00', 'unixtime': 1749276900, 'is_final': 0, 'hscore': 61, 'winner': 'Geelong', 'agoals': 5, 'roundname': 'Round 13', 'round': 13}, {'round': 13, 'roundname': 'Round 13', 'winner': 'Port Adelaide', 'hscore': 50, 'is_final': 0, 'agoals': 9, 'date': '2025-06-07 19:35:00', 'unixtime': 1749288900, 'ascore': 66, 'year': 2025, 'complete': 100, 'hgoals': 7, 'hteamid': 9, 'hteam': 'Greater Western Sydney', 'localtime': '2025-06-07 19:35:00', 'abehinds': 12, 'venue': 'Manuka Oval', 'winnerteamid': 13, 'tz': '+10:00', 'ateam': 'Port Adelaide', 'id': 37200, 'ateamid': 13, 'hbehinds': 8, 'timestr': 'Full Time', 'is_grand_final': 0, 'updated': '2025-06-07 22:16:09'}, {'updated': '2025-06-08 17:56:35', 'timestr': 'Full Time', 'is_grand_final': 0, 'hbehinds': 8, 'ateamid': 17, 'id': 37201, 'ateam': 'West Coast', 'tz': '+10:00', 'winnerteamid': 12, 'venue': 'Hands Oval', 'abehinds': 16, 'localtime': '2025-06-08 13:20:00', 'hteam': 'North Melbourne', 'hteamid': 12, 'hgoals': 9, 'year': 2025, 'complete': 100, 'ascore': 52, 'unixtime': 1749360000, 'date': '2025-06-08 15:20:00', 'agoals': 6, 'is_final': 0, 'hscore': 62, 'winner': 'North Melbourne', 'round': 13, 'roundname': 'Round 13'}, {'is_grand_final': 0, 'timestr': 'Full Time', 'updated': '2025-06-08 22:02:11', 'id': 37202, 'ateamid': 5, 'ateam': 'Essendon', 'hbehinds': 12, 'winnerteamid': 3, 'venue': 'M.C.G.', 'tz': '+10:00', 'hteam': 'Carlton', 'hteamid': 3, 'abehinds': 4, 'localtime': '2025-06-08 19:20:00', 'year': 2025, 'complete': 100, 'ascore': 70, 'hgoals': 11, 'date': '2025-06-08 19:20:00', 'unixtime': 1749374400, 'is_final': 0, 'hscore': 78, 'winner': 'Carlton', 'agoals': 11, 'roundname': 'Round 13', 'round': 13}, {'roundname': 'Round 13', 'round': 13, 'is_final': 0, 'hscore': 71, 'winner': 'Collingwood', 'agoals': 11, 'date': '2025-06-09 15:20:00', 'unixtime': 1749446400, 'year': 2025, 'complete': 100, 'ascore': 72, 'hgoals': 10, 'hteam': 'Melbourne', 'hteamid': 11, 'abehinds': 6, 'localtime': '2025-06-09 15:20:00', 'winnerteamid': 4, 'venue': 'M.C.G.', 'tz': '+10:00', 'ateamid': 4, 'id': 37203, 'ateam': 'Collingwood', 'hbehinds': 11, 'is_grand_final': 0, 'timestr': 'Full Time', 'updated': '2025-06-09 17:59:35'}, {'timestr': 'Full Time', 'is_grand_final': 0, 'updated': '2025-06-12 22:16:08', 'ateamid': 18, 'id': 37204, 'ateam': 'Western Bulldogs', 'hbehinds': 12, 'winnerteamid': 18, 'venue': 'Docklands', 'tz': '+10:00', 'hteam': 'St Kilda', 'hteamid': 15, 'abehinds': 12, 'localtime': '2025-06-12 19:30:00', 'year': 2025, 'complete': 100, 'ascore': 132, 'hgoals': 8, 'date': '2025-06-12 19:30:00', 'unixtime': 1749720600, 'is_final': 0, 'hscore': 60, 'winner': 'Western Bulldogs', 'agoals': 20, 'roundname': 'Round 14', 'round': 14}, {'abehinds': 14, 'localtime': '2025-06-13 19:40:00', 'hteam': 'Hawthorn', 'hteamid': 10, 'tz': '+10:00', 'winnerteamid': 10, 'venue': 'York Park', 'hbehinds': 11, 'ateamid': 1, 'id': 37205, 'ateam': 'Adelaide', 'updated': '2025-06-13 22:16:53', 'is_grand_final': 0, 'timestr': 'Full Time', 'round': 14, 'roundname': 'Round 14', 'agoals': 5, 'is_final': 0, 'hscore': 47, 'winner': 'Hawthorn', 'unixtime': 1749807600, 'date': '2025-06-13 19:40:00', 'hgoals': 6, 'complete': 100, 'year': 2025, 'ascore': 44}, {'date': '2025-06-14 13:20:00', 'unixtime': 1749871200, 'ascore': 107, 'year': 2025, 'complete': 100, 'hgoals': 13, 'roundname': 'Round 14', 'round': 14, 'winner': 'Greater Western Sydney', 'is_final': 0, 'hscore': 96, 'agoals': 17, 'ateam': 'Greater Western Sydney', 'ateamid': 9, 'id': 37206, 'hbehinds': 18, 'is_grand_final': 0, 'timestr': 'Full Time', 'updated': '2025-06-14 16:17:06', 'hteamid': 2, 'hteam': 'Brisbane Lions', 'localtime': '2025-06-14 13:20:00', 'abehinds': 5, 'venue': 'Gabba', 'winnerteamid': 9, 'tz': '+10:00'}, {'abehinds': 13, 'localtime': '2025-06-14 16:15:00', 'hteam': 'Essendon', 'hteamid': 5, 'tz': '+10:00', 'winnerteamid': 7, 'venue': 'M.C.G.', 'hbehinds': 8, 'ateamid': 7, 'id': 37207, 'ateam': 'Geelong', 'updated': '2025-06-14 18:57:24', 'is_grand_final': 0, 'timestr': 'Full Time', 'roundname': 'Round 14', 'round': 14, 'agoals': 23, 'is_final': 0, 'hscore': 56, 'winner': 'Geelong', 'unixtime': 1749881700, 'date': '2025-06-14 16:15:00', 'hgoals': 8, 'complete': 100, 'year': 2025, 'ascore': 151}, {'winner': 'Fremantle', 'is_final': 0, 'hscore': 67, 'agoals': 10, 'roundname': 'Round 14', 'round': 14, 'ascore': 73, 'year': 2025, 'complete': 100, 'hgoals': 10, 'date': '2025-06-14 19:35:00', 'unixtime': 1749893700, 'venue': 'Perth Stadium', 'winnerteamid': 6, 'tz': '+10:00', 'hteamid': 12, 'hteam': 'North Melbourne', 'localtime': '2025-06-14 17:35:00', 'abehinds': 13, 'timestr': 'Full Time', 'is_grand_final': 0, 'updated': '2025-06-14 22:15:02', 'ateam': 'Fremantle', 'id': 37208, 'ateamid': 6, 'hbehinds': 7}, {'ateam': 'Melbourne', 'id': 37209, 'ateamid': 11, 'hbehinds': 9, 'is_grand_final': 0, 'timestr': 'Full Time', 'updated': '2025-06-15 17:57:12', 'hteamid': 13, 'hteam': 'Port Adelaide', 'localtime': '2025-06-15 14:50:00', 'abehinds': 14, 'venue': 'Adelaide Oval', 'winnerteamid': 13, 'tz': '+10:00', 'date': '2025-06-15 15:20:00', 'unixtime': 1749964800, 'ascore': 68, 'year': 2025, 'complete': 100, 'hgoals': 14, 'round': 14, 'roundname': 'Round 14', 'winner': 'Port Adelaide', 'is_final': 0, 'hscore': 93, 'agoals': 9}, {'timestr': 'Full Time', 'is_grand_final': 0, 'updated': '2025-06-15 20:45:56', 'ateam': 'Carlton', 'id': 37210, 'ateamid': 3, 'hbehinds': 10, 'venue': 'Perth Stadium', 'winnerteamid': 3, 'tz': '+10:00', 'hteamid': 17, 'hteam': 'West Coast', 'localtime': '2025-06-15 16:10:00', 'abehinds': 14, 'ascore': 86, 'complete': 100, 'year': 2025, 'hgoals': 7, 'date': '2025-06-15 18:10:00', 'unixtime': 1749975000, 'winner': 'Carlton', 'is_final': 0, 'hscore': 52, 'agoals': 12, 'roundname': 'Round 14', 'round': 14}, {'date': '2025-06-19 20:10:00', 'unixtime': 1750327800, 'ascore': 63, 'year': 2025, 'complete': 100, 'hgoals': 16, 'roundname': 'Round 15', 'round': 15, 'winner': 'Fremantle', 'is_final': 0, 'hscore': 104, 'agoals': 9, 'ateam': 'Essendon', 'id': 37211, 'ateamid': 5, 'hbehinds': 8, 'is_grand_final': 0, 'timestr': 'Full Time', 'updated': '2025-06-19 22:49:02', 'hteamid': 6, 'hteam': 'Fremantle', 'localtime': '2025-06-19 18:10:00', 'abehinds': 9, 'venue': 'Perth Stadium', 'winnerteamid': 6, 'tz': '+10:00'}, {'localtime': '2025-06-20 19:40:00', 'abehinds': 8, 'hteamid': 7, 'hteam': 'Geelong', 'tz': '+10:00', 'venue': 'Kardinia Park', 'winnerteamid': 2, 'hbehinds': 15, 'ateam': 'Brisbane Lions', 'ateamid': 2, 'id': 37212, 'updated': '2025-06-20 22:18:55', 'timestr': 'Full Time', 'is_grand_final': 0, 'round': 15, 'roundname': 'Round 15', 'agoals': 14, 'winner': 'Brisbane Lions', 'hscore': 51, 'is_final': 0, 'unixtime': 1750412400, 'date': '2025-06-20 19:40:00', 'hgoals': 6, 'ascore': 92, 'year': 2025, 'complete': 100}, {'date': '2025-06-21 13:20:00', 'unixtime': 1750476000, 'ascore': 84, 'complete': 100, 'year': 2025, 'hgoals': 10, 'roundname': 'Round 15', 'round': 15, 'winner': 'North Melbourne', 'hscore': 73, 'is_final': 0, 'agoals': 13, 'ateam': 'North Melbourne', 'ateamid': 12, 'id': 37213, 'hbehinds': 13, 'timestr': 'Full Time', 'is_grand_final': 0, 'updated': '2025-06-21 16:00:34', 'hteamid': 3, 'hteam': 'Carlton', 'localtime': '2025-06-21 13:20:00', 'abehinds': 6, 'venue': 'M.C.G.', 'winnerteamid': 12, 'tz': '+10:00'}, {'ateam': 'Sydney', 'ateamid': 16, 'id': 37214, 'hbehinds': 10, 'timestr': 'Full Time', 'is_grand_final': 0, 'updated': '2025-06-21 18:46:36', 'hteamid': 13, 'hteam': 'Port Adelaide', 'localtime': '2025-06-21 15:45:00', 'abehinds': 17, 'venue': 'Adelaide Oval', 'winnerteamid': 16, 'tz': '+10:00', 'date': '2025-06-21 16:15:00', 'unixtime': 1750486500, 'ascore': 71, 'year': 2025, 'complete': 100, 'hgoals': 7, 'round': 15, 'roundname': 'Round 15', 'winner': 'Sydney', 'is_final': 0, 'hscore': 52, 'agoals': 9}, {'venue': 'Docklands', 'winnerteamid': 4, 'tz': '+10:00', 'hteamid': 4, 'hteam': 'Collingwood', 'localtime': '2025-06-21 19:35:00', 'abehinds': 8, 'timestr': 'Full Time', 'is_grand_final': 0, 'updated': '2025-06-21 22:15:25', 'ateam': 'St Kilda', 'id': 37215, 'ateamid': 15, 'hbehinds': 12, 'winner': 'Collingwood', 'is_final': 0, 'hscore': 108, 'agoals': 11, 'round': 15, 'roundname': 'Round 15', 'ascore': 74, 'complete': 100, 'year': 2025, 'hgoals': 16, 'date': '2025-06-21 19:35:00', 'unixtime': 1750498500}, {'hteamid': 9, 'hteam': 'Greater Western Sydney', 'localtime': '2025-06-22 13:10:00', 'abehinds': 15, 'venue': 'Sydney Showground', 'winnerteamid': 9, 'tz': '+10:00', 'ateam': 'Gold Coast', 'ateamid': 8, 'id': 37216, 'hbehinds': 10, 'timestr': 'Full Time', 'is_grand_final': 0, 'updated': '2025-06-22 16:01:08', 'roundname': 'Round 15', 'round': 15, 'winner': 'Greater Western Sydney', 'is_final': 0, 'hscore': 106, 'agoals': 14, 'date': '2025-06-22 13:10:00', 'unixtime': 1750561800, 'ascore': 99, 'year': 2025, 'complete': 100, 'hgoals': 16}, {'updated': '2025-06-22 17:55:38', 'timestr': 'Full Time', 'is_grand_final': 0, 'hbehinds': 9, 'id': 37217, 'ateamid': 14, 'ateam': 'Richmond', 'tz': '+10:00', 'winnerteamid': 18, 'venue': 'Docklands', 'abehinds': 8, 'localtime': '2025-06-22 15:20:00', 'hteam': 'Western Bulldogs', 'hteamid': 18, 'hgoals': 21, 'complete': 100, 'year': 2025, 'ascore': 56, 'unixtime': 1750569600, 'date': '2025-06-22 15:20:00', 'agoals': 8, 'is_final': 0, 'hscore': 135, 'winner': 'Western Bulldogs', 'roundname': 'Round 15', 'round': 15}, {'round': 16, 'roundname': 'Round 16', 'hscore': 110, 'is_final': 0, 'winner': 'Port Adelaide', 'agoals': 8, 'date': '2025-06-26 19:30:00', 'unixtime': 1750930200, 'year': 2025, 'complete': 100, 'ascore': 60, 'hgoals': 16, 'hteam': 'Port Adelaide', 'hteamid': 13, 'abehinds': 12, 'localtime': '2025-06-26 19:00:00', 'winnerteamid': 13, 'venue': 'Adelaide Oval', 'tz': '+10:00', 'id': 37223, 'ateamid': 3, 'ateam': 'Carlton', 'hbehinds': 14, 'is_grand_final': 0, 'timestr': 'Full Time', 'updated': '2025-06-26 22:13:36'}, {'agoals': 16, 'hscore': 96, 'is_final': 0, 'winner': 'Western Bulldogs', 'roundname': 'Round 16', 'round': 16, 'hgoals': 14, 'year': 2025, 'complete': 100, 'ascore': 105, 'unixtime': 1751017200, 'date': '2025-06-27 19:40:00', 'tz': '+10:00', 'winnerteamid': 18, 'venue': 'S.C.G.', 'abehinds': 9, 'localtime': '2025-06-27 19:40:00', 'hteam': 'Sydney', 'hteamid': 16, 'updated': '2025-06-27 22:21:48', 'is_grand_final': 0, 'timestr': 'Full Time', 'hbehinds': 12, 'ateamid': 18, 'id': 37221, 'ateam': 'Western Bulldogs'}, {'hbehinds': 14, 'ateamid': 11, 'id': 37220, 'ateam': 'Melbourne', 'updated': '2025-06-28 16:03:21', 'is_grand_final': 0, 'timestr': 'Full Time', 'abehinds': 13, 'localtime': '2025-06-28 13:20:00', 'hteam': 'Gold Coast', 'hteamid': 8, 'tz': '+10:00', 'winnerteamid': 8, 'venue': 'Carrara', 'unixtime': 1751080800, 'date': '2025-06-28 13:20:00', 'hgoals': 15, 'complete': 100, 'year': 2025, 'ascore': 85, 'round': 16, 'roundname': 'Round 16', 'agoals': 12, 'hscore': 104, 'is_final': 0, 'winner': 'Gold Coast'}, {'winner': 'Hawthorn', 'is_final': 0, 'hscore': 150, 'agoals': 9, 'round': 16, 'roundname': 'Round 16', 'ascore': 65, 'year': 2025, 'complete': 100, 'hgoals': 23, 'date': '2025-06-28 16:15:00', 'unixtime': 1751091300, 'venue': 'York Park', 'winnerteamid': 10, 'tz': '+10:00', 'hteamid': 10, 'hteam': 'Hawthorn', 'localtime': '2025-06-28 16:15:00', 'abehinds': 11, 'is_grand_final': 0, 'timestr': 'Full Time', 'updated': '2025-06-28 18:59:58', 'ateam': 'North Melbourne', 'ateamid': 12, 'id': 37222, 'hbehinds': 12}, {'agoals': 8, 'is_final': 0, 'hscore': 88, 'winner': 'Collingwood', 'round': 16, 'roundname': 'Round 16', 'hgoals': 13, 'year': 2025, 'complete': 100, 'ascore': 59, 'unixtime': 1751103300, 'date': '2025-06-28 19:35:00', 'tz': '+10:00', 'winnerteamid': 4, 'venue': 'Docklands', 'abehinds': 11, 'localtime': '2025-06-28 19:35:00', 'hteam': 'Collingwood', 'hteamid': 4, 'updated': '2025-06-28 22:09:44', 'is_grand_final': 0, 'timestr': 'Full Time', 'hbehinds': 10, 'id': 37218, 'ateamid': 17, 'ateam': 'West Coast'}, {'ateam': 'Adelaide', 'id': 37219, 'ateamid': 1, 'hbehinds': 6, 'is_grand_final': 0, 'timestr': 'Full Time', 'updated': '2025-06-29 17:56:37', 'hteamid': 14, 'hteam': 'Richmond', 'localtime': '2025-06-29 15:15:00', 'abehinds': 14, 'venue': 'M.C.G.', 'winnerteamid': 1, 'tz': '+10:00', 'date': '2025-06-29 15:15:00', 'unixtime': 1751174100, 'ascore': 122, 'complete': 100, 'year': 2025, 'hgoals': 8, 'roundname': 'Round 16', 'round': 16, 'winner': 'Adelaide', 'hscore': 54, 'is_final': 0, 'agoals': 18}, {'hteam': 'Fremantle', 'hteamid': 6, 'abehinds': 15, 'localtime': '2025-06-29 15:10:00', 'winnerteamid': 6, 'venue': 'Perth Stadium', 'tz': '+10:00', 'ateamid': 15, 'id': 37224, 'ateam': 'St Kilda', 'hbehinds': 15, 'is_grand_final': 0, 'timestr': 'Full Time', 'updated': '2025-06-29 19:50:25', 'round': 16, 'roundname': 'Round 16', 'is_final': 0, 'hscore': 81, 'winner': 'Fremantle', 'agoals': 9, 'date': '2025-06-29 17:10:00', 'unixtime': 1751181000, 'complete': 100, 'year': 2025, 'ascore': 69, 'hgoals': 11}, {'unixtime': 1751535000, 'date': '2025-07-03 19:30:00', 'hgoals': 13, 'year': 2025, 'complete': 100, 'ascore': 134, 'round': 17, 'roundname': 'Round 17', 'agoals': 20, 'hscore': 85, 'is_final': 0, 'winner': 'Western Bulldogs', 'hbehinds': 7, 'ateamid': 18, 'id': 37227, 'ateam': 'Western Bulldogs', 'updated': '2025-07-03 22:17:15', 'is_grand_final': 0, 'timestr': 'Full Time', 'abehinds': 14, 'localtime': '2025-07-03 19:30:00', 'hteam': 'North Melbourne', 'hteamid': 12, 'tz': '+10:00', 'winnerteamid': 18, 'venue': 'Docklands'}, {'roundname': 'Round 17', 'round': 17, 'agoals': 17, 'hscore': 59, 'is_final': 0, 'winner': 'Collingwood', 'unixtime': 1751620800, 'date': '2025-07-04 19:20:00', 'hgoals': 8, 'complete': 100, 'year': 2025, 'ascore': 115, 'abehinds': 13, 'localtime': '2025-07-04 19:20:00', 'hteam': 'Carlton', 'hteamid': 3, 'tz': '+10:00', 'winnerteamid': 4, 'venue': 'M.C.G.', 'hbehinds': 11, 'id': 37229, 'ateamid': 4, 'ateam': 'Collingwood', 'updated': '2025-07-04 21:57:49', 'timestr': 'Full Time', 'is_grand_final': 0}, {'tz': '+10:00', 'winnerteamid': 9, 'venue': 'Perth Stadium', 'abehinds': 15, 'localtime': '2025-07-04 18:20:00', 'hteam': 'West Coast', 'hteamid': 17, 'updated': '2025-07-04 23:01:15', 'timestr': 'Full Time', 'is_grand_final': 0, 'hbehinds': 4, 'ateamid': 9, 'id': 37233, 'ateam': 'Greater Western Sydney', 'agoals': 16, 'hscore': 52, 'is_final': 0, 'winner': 'Greater Western Sydney', 'roundname': 'Round 17', 'round': 17, 'hgoals': 8, 'complete': 100, 'year': 2025, 'ascore': 111, 'unixtime': 1751624400, 'date': '2025-07-04 20:20:00'}, {'year': 2025, 'complete': 100, 'ascore': 115, 'hgoals': 11, 'date': '2025-07-05 12:35:00', 'unixtime': 1751682900, 'is_final': 0, 'hscore': 74, 'winner': 'Gold Coast', 'agoals': 18, 'round': 17, 'roundname': 'Round 17', 'timestr': 'Full Time', 'is_grand_final': 0, 'updated': '2025-07-05 15:17:35', 'id': 37228, 'ateamid': 8, 'ateam': 'Gold Coast', 'hbehinds': 8, 'winnerteamid': 8, 'venue': 'Docklands', 'tz': '+10:00', 'hteam': 'Essendon', 'hteamid': 5, 'abehinds': 7, 'localtime': '2025-07-05 12:35:00'}, {'updated': '2025-07-05 18:55:32', 'timestr': 'Full Time', 'is_grand_final': 0, 'hbehinds': 16, 'ateam': 'Richmond', 'ateamid': 14, 'id': 37225, 'tz': '+10:00', 'venue': 'Kardinia Park', 'winnerteamid': 7, 'localtime': '2025-07-05 16:15:00', 'abehinds': 10, 'hteamid': 7, 'hteam': 'Geelong', 'hgoals': 18, 'ascore': 52, 'complete': 100, 'year': 2025, 'unixtime': 1751696100, 'date': '2025-07-05 16:15:00', 'agoals': 7, 'winner': 'Geelong', 'is_final': 0, 'hscore': 124, 'roundname': 'Round 17', 'round': 17}, {'hbehinds': 12, 'ateamid': 13, 'id': 37231, 'ateam': 'Port Adelaide', 'updated': '2025-07-05 22:17:20', 'is_grand_final': 0, 'timestr': 'Full Time', 'abehinds': 8, 'localtime': '2025-07-05 19:35:00', 'hteam': 'Brisbane Lions', 'hteamid': 2, 'tz': '+10:00', 'winnerteamid': 2, 'venue': 'Gabba', 'unixtime': 1751708100, 'date': '2025-07-05 19:35:00', 'hgoals': 18, 'complete': 100, 'year': 2025, 'ascore': 92, 'roundname': 'Round 17', 'round': 17, 'agoals': 14, 'is_final': 0, 'hscore': 120, 'winner': 'Brisbane Lions'}, {'hteam': 'St Kilda', 'hteamid': 15, 'abehinds': 10, 'localtime': '2025-07-05 19:40:00', 'winnerteamid': 10, 'venue': 'Docklands', 'tz': '+10:00', 'ateamid': 10, 'id': 37226, 'ateam': 'Hawthorn', 'hbehinds': 14, 'timestr': 'Full Time', 'is_grand_final': 0, 'updated': '2025-07-05 22:19:38', 'roundname': 'Round 17', 'round': 17, 'is_final': 0, 'hscore': 74, 'winner': 'Hawthorn', 'agoals': 14, 'date': '2025-07-05 19:40:00', 'unixtime': 1751708400, 'complete': 100, 'year': 2025, 'ascore': 94, 'hgoals': 10}, {'hbehinds': 10, 'ateam': 'Fremantle', 'id': 37230, 'ateamid': 6, 'updated': '2025-07-06 15:50:48', 'timestr': 'Full Time', 'is_grand_final': 0, 'localtime': '2025-07-06 13:10:00', 'abehinds': 11, 'hteamid': 16, 'hteam': 'Sydney', 'tz': '+10:00', 'venue': 'S.C.G.', 'winnerteamid': 16, 'unixtime': 1751771400, 'date': '2025-07-06 13:10:00', 'hgoals': 14, 'ascore': 83, 'year': 2025, 'complete': 100, 'round': 17, 'roundname': 'Round 17', 'agoals': 12, 'winner': 'Sydney', 'is_final': 0, 'hscore': 94}, {'round': 17, 'roundname': 'Round 17', 'hscore': 90, 'is_final': 0, 'winner': 'Adelaide', 'agoals': 11, 'date': '2025-07-06 15:15:00', 'unixtime': 1751778900, 'year': 2025, 'complete': 100, 'ascore': 77, 'hgoals': 13, 'hteam': 'Adelaide', 'hteamid': 1, 'abehinds': 11, 'localtime': '2025-07-06 14:45:00', 'winnerteamid': 1, 'venue': 'Adelaide Oval', 'tz': '+10:00', 'ateamid': 11, 'id': 37232, 'ateam': 'Melbourne', 'hbehinds': 12, 'timestr': 'Full Time', 'is_grand_final': 0, 'updated': '2025-07-06 17:56:45'}, {'winnerteamid': 2, 'venue': 'Docklands', 'tz': '+10:00', 'hteam': 'Carlton', 'hteamid': 3, 'abehinds': 13, 'localtime': '2025-07-10 19:30:00', 'is_grand_final': 0, 'timestr': 'Full Time', 'updated': '2025-07-10 22:11:09', 'ateamid': 2, 'id': 37237, 'ateam': 'Brisbane Lions', 'hbehinds': 12, 'is_final': 0, 'hscore': 66, 'winner': 'Brisbane Lions', 'agoals': 15, 'roundname': 'Round 18', 'round': 18, 'year': 2025, 'complete': 100, 'ascore': 103, 'hgoals': 9, 'date': '2025-07-10 19:30:00', 'unixtime': 1752139800}, {'hgoals': 10, 'ascore': 63, 'complete': 100, 'year': 2025, 'unixtime': 1752226800, 'date': '2025-07-11 19:40:00', 'agoals': 8, 'winner': 'Gold Coast', 'is_final': 0, 'hscore': 69, 'roundname': 'Round 18', 'round': 18, 'updated': '2025-07-11 22:19:38', 'timestr': 'Full Time', 'is_grand_final': 0, 'hbehinds': 9, 'ateam': 'Collingwood', 'ateamid': 4, 'id': 37240, 'tz': '+10:00', 'venue': 'Carrara', 'winnerteamid': 8, 'localtime': '2025-07-11 19:40:00', 'abehinds': 15, 'hteamid': 8, 'hteam': 'Gold Coast'}, {'tz': '+10:00', 'winnerteamid': 1, 'venue': 'Docklands', 'abehinds': 13, 'localtime': '2025-07-12 13:20:00', 'hteam': 'Western Bulldogs', 'hteamid': 18, 'updated': '2025-07-12 16:02:36', 'timestr': 'Full Time', 'is_grand_final': 0, 'hbehinds': 8, 'ateamid': 1, 'id': 37235, 'ateam': 'Adelaide', 'agoals': 16, 'is_final': 0, 'hscore': 98, 'winner': 'Adelaide', 'roundname': 'Round 18', 'round': 18, 'hgoals': 15, 'year': 2025, 'complete': 100, 'ascore': 109, 'unixtime': 1752290400, 'date': '2025-07-12 13:20:00'}, {'tz': '+10:00', 'venue': 'Sydney Showground', 'winnerteamid': 9, 'localtime': '2025-07-12 16:15:00', 'abehinds': 7, 'hteamid': 9, 'hteam': 'Greater Western Sydney', 'updated': '2025-07-12 18:56:38', 'timestr': 'Full Time', 'is_grand_final': 0, 'hbehinds': 9, 'ateam': 'Geelong', 'id': 37234, 'ateamid': 7, 'agoals': 13, 'winner': 'Greater Western Sydney', 'hscore': 111, 'is_final': 0, 'roundname': 'Round 18', 'round': 18, 'hgoals': 17, 'ascore': 85, 'year': 2025, 'complete': 100, 'unixtime': 1752300900, 'date': '2025-07-12 16:15:00'}, {'roundname': 'Round 18', 'round': 18, 'agoals': 4, 'is_final': 0, 'hscore': 46, 'winner': 'Richmond', 'unixtime': 1752312900, 'date': '2025-07-12 19:35:00', 'hgoals': 6, 'complete': 100, 'year': 2025, 'ascore': 37, 'abehinds': 13, 'localtime': '2025-07-12 19:35:00', 'hteam': 'Richmond', 'hteamid': 14, 'tz': '+10:00', 'winnerteamid': 14, 'venue': 'M.C.G.', 'hbehinds': 10, 'ateamid': 5, 'id': 37239, 'ateam': 'Essendon', 'updated': '2025-07-12 22:03:19', 'timestr': 'Full Time', 'is_grand_final': 0}, {'hgoals': 12, 'complete': 100, 'year': 2025, 'ascore': 64, 'unixtime': 1752315000, 'date': '2025-07-12 20:10:00', 'agoals': 9, 'hscore': 77, 'is_final': 0, 'winner': 'Fremantle', 'round': 18, 'roundname': 'Round 18', 'updated': '2025-07-12 22:52:54', 'is_grand_final': 0, 'timestr': 'Full Time', 'hbehinds': 5, 'ateamid': 10, 'id': 37242, 'ateam': 'Hawthorn', 'tz': '+10:00', 'winnerteamid': 6, 'venue': 'Perth Stadium', 'abehinds': 10, 'localtime': '2025-07-12 18:10:00', 'hteam': 'Fremantle', 'hteamid': 6}, {'id': 37238, 'ateamid': 12, 'ateam': 'North Melbourne', 'hbehinds': 11, 'timestr': 'Full Time', 'is_grand_final': 0, 'updated': '2025-07-13 15:59:39', 'hteam': 'Melbourne', 'hteamid': 11, 'abehinds': 11, 'localtime': '2025-07-13 13:10:00', 'winnerteamid': 11, 'venue': 'M.C.G.', 'tz': '+10:00', 'date': '2025-07-13 13:10:00', 'unixtime': 1752376200, 'complete': 100, 'year': 2025, 'ascore': 83, 'hgoals': 18, 'round': 18, 'roundname': 'Round 18', 'is_final': 0, 'hscore': 119, 'winner': 'Melbourne', 'agoals': 12}, {'agoals': 14, 'winner': 'Sydney', 'hscore': 87, 'is_final': 0, 'roundname': 'Round 18', 'round': 18, 'hgoals': 13, 'ascore': 92, 'complete': 100, 'year': 2025, 'unixtime': 1752383700, 'date': '2025-07-13 15:15:00', 'tz': '+10:00', 'venue': 'Docklands', 'winnerteamid': 16, 'localtime': '2025-07-13 15:15:00', 'abehinds': 8, 'hteamid': 15, 'hteam': 'St Kilda', 'updated': '2025-07-13 18:00:16', 'is_grand_final': 0, 'timestr': 'Full Time', 'hbehinds': 9, 'ateam': 'Sydney', 'id': 37236, 'ateamid': 16}, {'hscore': 87, 'is_final': 0, 'winner': 'Port Adelaide', 'agoals': 9, 'round': 18, 'roundname': 'Round 18', 'complete': 100, 'year': 2025, 'ascore': 61, 'hgoals': 12, 'date': '2025-07-13 16:40:00', 'unixtime': 1752388800, 'winnerteamid': 13, 'venue': 'Adelaide Oval', 'tz': '+10:00', 'hteam': 'Port Adelaide', 'hteamid': 13, 'abehinds': 7, 'localtime': '2025-07-13 16:10:00', 'timestr': 'Full Time', 'is_grand_final': 0, 'updated': '2025-07-13 19:20:27', 'ateamid': 17, 'id': 37241, 'ateam': 'West Coast', 'hbehinds': 15}, {'agoals': 16, 'winner': 'Greater Western Sydney', 'is_final': 0, 'hscore': 56, 'roundname': 'Round 19', 'round': 19, 'hgoals': 7, 'ascore': 104, 'complete': 100, 'year': 2025, 'unixtime': 1752744600, 'date': '2025-07-17 19:30:00', 'tz': '+10:00', 'venue': 'Docklands', 'winnerteamid': 9, 'localtime': '2025-07-17 19:30:00', 'abehinds': 8, 'hteamid': 5, 'hteam': 'Essendon', 'updated': '2025-07-17 22:08:09', 'timestr': 'Full Time', 'is_grand_final': 0, 'hbehinds': 14, 'ateam': 'Greater Western Sydney', 'id': 37244, 'ateamid': 9}, {'roundname': 'Round 19', 'round': 19, 'is_final': 0, 'hscore': 86, 'winner': 'Brisbane Lions', 'agoals': 12, 'date': '2025-07-18 19:40:00', 'unixtime': 1752831600, 'complete': 100, 'year': 2025, 'ascore': 76, 'hgoals': 12, 'hteam': 'Brisbane Lions', 'hteamid': 2, 'abehinds': 4, 'localtime': '2025-07-18 19:40:00', 'winnerteamid': 2, 'venue': 'Gabba', 'tz': '+10:00', 'ateamid': 18, 'id': 37248, 'ateam': 'Western Bulldogs', 'hbehinds': 14, 'timestr': 'Full Time', 'is_grand_final': 0, 'updated': '2025-07-18 22:22:12'}, {'unixtime': 1752895200, 'date': '2025-07-19 13:20:00', 'hgoals': 13, 'ascore': 49, 'year': 2025, 'complete': 100, 'round': 19, 'roundname': 'Round 19', 'agoals': 7, 'winner': 'Hawthorn', 'is_final': 0, 'hscore': 87, 'hbehinds': 9, 'ateam': 'Port Adelaide', 'ateamid': 13, 'id': 37249, 'updated': '2025-07-19 15:59:48', 'is_grand_final': 0, 'timestr': 'Full Time', 'localtime': '2025-07-19 13:20:00', 'abehinds': 7, 'hteamid': 10, 'hteam': 'Hawthorn', 'tz': '+10:00', 'venue': 'York Park', 'winnerteamid': 10}, {'hbehinds': 12, 'id': 37247, 'ateamid': 12, 'ateam': 'North Melbourne', 'updated': '2025-07-19 18:56:35', 'timestr': 'Full Time', 'is_grand_final': 0, 'abehinds': 11, 'localtime': '2025-07-19 16:15:00', 'hteam': 'Sydney', 'hteamid': 16, 'tz': '+10:00', 'winnerteamid': 16, 'venue': 'S.C.G.', 'unixtime': 1752905700, 'date': '2025-07-19 16:15:00', 'hgoals': 12, 'year': 2025, 'complete': 100, 'ascore': 53, 'roundname': 'Round 19', 'round': 19, 'agoals': 7, 'hscore': 84, 'is_final': 0, 'winner': 'Sydney'}, {'round': 19, 'roundname': 'Round 19', 'winner': 'Carlton', 'hscore': 78, 'is_final': 0, 'agoals': 10, 'date': '2025-07-19 19:35:00', 'unixtime': 1752917700, 'ascore': 70, 'year': 2025, 'complete': 100, 'hgoals': 12, 'hteamid': 3, 'hteam': 'Carlton', 'localtime': '2025-07-19 19:35:00', 'abehinds': 10, 'venue': 'M.C.G.', 'winnerteamid': 3, 'tz': '+10:00', 'ateam': 'Melbourne', 'id': 37245, 'ateamid': 11, 'hbehinds': 6, 'is_grand_final': 0, 'timestr': 'Full Time', 'updated': '2025-07-19 22:14:12'}, {'round': 19, 'roundname': 'Round 19', 'agoals': 16, 'hscore': 56, 'is_final': 0, 'winner': 'Richmond', 'unixtime': 1752919800, 'date': '2025-07-19 20:10:00', 'hgoals': 8, 'complete': 100, 'year': 2025, 'ascore': 105, 'abehinds': 9, 'localtime': '2025-07-19 18:10:00', 'hteam': 'West Coast', 'hteamid': 17, 'tz': '+10:00', 'winnerteamid': 14, 'venue': 'Perth Stadium', 'hbehinds': 8, 'id': 37251, 'ateamid': 14, 'ateam': 'Richmond', 'updated': '2025-07-19 22:46:07', 'timestr': 'Full Time', 'is_grand_final': 0}, {'ateamid': 15, 'id': 37243, 'ateam': 'St Kilda', 'hbehinds': 11, 'timestr': 'Full Time', 'is_grand_final': 0, 'updated': '2025-07-20 15:57:50', 'hteam': 'Geelong', 'hteamid': 7, 'abehinds': 10, 'localtime': '2025-07-20 13:10:00', 'winnerteamid': 7, 'venue': 'Kardinia Park', 'tz': '+10:00', 'date': '2025-07-20 13:10:00', 'unixtime': 1752981000, 'complete': 100, 'year': 2025, 'ascore': 82, 'hgoals': 17, 'round': 19, 'roundname': 'Round 19', 'hscore': 113, 'is_final': 0, 'winner': 'Geelong', 'agoals': 12}, {'unixtime': 1752988500, 'date': '2025-07-20 15:15:00', 'hgoals': 11, 'ascore': 79, 'year': 2025, 'complete': 100, 'round': 19, 'roundname': 'Round 19', 'agoals': 12, 'winner': 'Fremantle', 'hscore': 78, 'is_final': 0, 'hbehinds': 12, 'ateam': 'Fremantle', 'id': 37246, 'ateamid': 6, 'updated': '2025-07-20 17:57:06', 'timestr': 'Full Time', 'is_grand_final': 0, 'localtime': '2025-07-20 15:15:00', 'abehinds': 7, 'hteamid': 4, 'hteam': 'Collingwood', 'tz': '+10:00', 'venue': 'M.C.G.', 'winnerteamid': 6}, {'hbehinds': 11, 'ateam': 'Gold Coast', 'ateamid': 8, 'id': 37250, 'updated': '2025-07-20 19:22:57', 'is_grand_final': 0, 'timestr': 'Full Time', 'localtime': '2025-07-20 16:10:00', 'abehinds': 10, 'hteamid': 1, 'hteam': 'Adelaide', 'tz': '+10:00', 'venue': 'Adelaide Oval', 'winnerteamid': 1, 'unixtime': 1752993600, 'date': '2025-07-20 16:40:00', 'hgoals': 16, 'ascore': 46, 'complete': 100, 'year': 2025, 'roundname': 'Round 19', 'round': 19, 'agoals': 6, 'winner': 'Adelaide', 'hscore': 107, 'is_final': 0}, {'roundname': 'Round 20', 'round': 20, 'winner': 'Hawthorn', 'hscore': 85, 'is_final': 0, 'agoals': 9, 'date': '2025-07-24 19:30:00', 'unixtime': 1753349400, 'ascore': 61, 'year': 2025, 'complete': 100, 'hgoals': 13, 'hteamid': 10, 'hteam': 'Hawthorn', 'localtime': '2025-07-24 19:30:00', 'abehinds': 7, 'venue': 'M.C.G.', 'winnerteamid': 10, 'tz': '+10:00', 'ateam': 'Carlton', 'id': 37257, 'ateamid': 3, 'hbehinds': 7, 'is_grand_final': 0, 'timestr': 'Full Time', 'updated': '2025-07-24 22:07:19'}, {'is_final': 0, 'hscore': 50, 'winner': 'Western Bulldogs', 'agoals': 22, 'roundname': 'Round 20', 'round': 20, 'year': 2025, 'complete': 100, 'ascore': 143, 'hgoals': 7, 'date': '2025-07-25 19:20:00', 'unixtime': 1753435200, 'winnerteamid': 18, 'venue': 'Docklands', 'tz': '+10:00', 'hteam': 'Essendon', 'hteamid': 5, 'abehinds': 11, 'localtime': '2025-07-25 19:20:00', 'is_grand_final': 0, 'timestr': 'Full Time', 'updated': '2025-07-25 21:58:37', 'id': 37255, 'ateamid': 18, 'ateam': 'Western Bulldogs', 'hbehinds': 8}, {'ascore': 58, 'year': 2025, 'complete': 100, 'hgoals': 15, 'date': '2025-07-25 19:50:00', 'unixtime': 1753437000, 'winner': 'Greater Western Sydney', 'hscore': 102, 'is_final': 0, 'agoals': 8, 'round': 20, 'roundname': 'Round 20', 'timestr': 'Full Time', 'is_grand_final': 0, 'updated': '2025-07-25 22:33:27', 'ateam': 'Sydney', 'id': 37252, 'ateamid': 16, 'hbehinds': 12, 'venue': 'Sydney Showground', 'winnerteamid': 9, 'tz': '+10:00', 'hteamid': 9, 'hteam': 'Greater Western Sydney', 'localtime': '2025-07-25 19:50:00', 'abehinds': 10}, {'hteamid': 8, 'hteam': 'Gold Coast', 'localtime': '2025-07-26 13:20:00', 'abehinds': 10, 'venue': 'Carrara', 'winnerteamid': 8, 'tz': '+10:00', 'ateam': 'Brisbane Lions', 'id': 37258, 'ateamid': 2, 'hbehinds': 10, 'is_grand_final': 0, 'timestr': 'Full Time', 'updated': '2025-07-26 16:05:12', 'roundname': 'Round 20', 'round': 20, 'winner': 'Gold Coast', 'is_final': 0, 'hscore': 130, 'agoals': 9, 'date': '2025-07-26 13:20:00', 'unixtime': 1753500000, 'ascore': 64, 'complete': 100, 'year': 2025, 'hgoals': 20}, {'hgoals': 18, 'year': 2025, 'complete': 100, 'ascore': 77, 'unixtime': 1753510500, 'date': '2025-07-26 16:15:00', 'agoals': 12, 'is_final': 0, 'hscore': 126, 'winner': 'Fremantle', 'roundname': 'Round 20', 'round': 20, 'updated': '2025-07-26 18:58:07', 'timestr': 'Full Time', 'is_grand_final': 0, 'hbehinds': 18, 'ateamid': 17, 'id': 37260, 'ateam': 'West Coast', 'tz': '+10:00', 'winnerteamid': 6, 'venue': 'Perth Stadium', 'abehinds': 5, 'localtime': '2025-07-26 14:15:00', 'hteam': 'Fremantle', 'hteamid': 6}, {'roundname': 'Round 20', 'round': 20, 'hscore': 49, 'is_final': 0, 'winner': 'Geelong', 'agoals': 22, 'date': '2025-07-26 19:35:00', 'unixtime': 1753522500, 'year': 2025, 'complete': 100, 'ascore': 150, 'hgoals': 7, 'hteam': 'North Melbourne', 'hteamid': 12, 'abehinds': 18, 'localtime': '2025-07-26 19:35:00', 'winnerteamid': 7, 'venue': 'Docklands', 'tz': '+10:00', 'ateamid': 7, 'id': 37253, 'ateam': 'Geelong', 'hbehinds': 7, 'is_grand_final': 0, 'timestr': 'Full Time', 'updated': '2025-07-26 22:21:43'}, {'is_final': 0, 'hscore': 133, 'winner': 'Adelaide', 'agoals': 5, 'round': 20, 'roundname': 'Round 20', 'complete': 100, 'year': 2025, 'ascore': 35, 'hgoals': 20, 'date': '2025-07-26 20:10:00', 'unixtime': 1753524600, 'winnerteamid': 1, 'venue': 'Adelaide Oval', 'tz': '+10:00', 'hteam': 'Adelaide', 'hteamid': 1, 'abehinds': 5, 'localtime': '2025-07-26 19:40:00', 'timestr': 'Full Time', 'is_grand_final': 0, 'updated': '2025-07-26 22:55:27', 'ateamid': 13, 'id': 37259, 'ateam': 'Port Adelaide', 'hbehinds': 13}, {'roundname': 'Round 20', 'round': 20, 'agoals': 13, 'winner': 'Collingwood', 'is_final': 0, 'hscore': 57, 'unixtime': 1753589400, 'date': '2025-07-27 14:10:00', 'hgoals': 8, 'ascore': 93, 'year': 2025, 'complete': 100, 'localtime': '2025-07-27 14:10:00', 'abehinds': 15, 'hteamid': 14, 'hteam': 'Richmond', 'tz': '+10:00', 'venue': 'M.C.G.', 'winnerteamid': 4, 'hbehinds': 9, 'ateam': 'Collingwood', 'ateamid': 4, 'id': 37256, 'updated': '2025-07-27 16:41:26', 'timestr': 'Full Time', 'is_grand_final': 0}, {'roundname': 'Round 20', 'round': 20, 'agoals': 13, 'is_final': 0, 'hscore': 96, 'winner': 'St Kilda', 'unixtime': 1753593300, 'date': '2025-07-27 15:15:00', 'hgoals': 15, 'complete': 100, 'year': 2025, 'ascore': 90, 'abehinds': 12, 'localtime': '2025-07-27 15:15:00', 'hteam': 'St Kilda', 'hteamid': 15, 'tz': '+10:00', 'winnerteamid': 15, 'venue': 'Docklands', 'hbehinds': 6, 'id': 37254, 'ateamid': 11, 'ateam': 'Melbourne', 'updated': '2025-07-27 17:56:33', 'is_grand_final': 0, 'timestr': 'Full Time'}, {'date': '2025-07-31 19:30:00', 'unixtime': 1753954200, 'ascore': 44, 'year': 2025, 'complete': 100, 'hgoals': 19, 'round': 21, 'roundname': 'Round 21', 'winner': 'Western Bulldogs', 'is_final': 0, 'hscore': 132, 'agoals': 6, 'ateam': 'Greater Western Sydney', 'ateamid': 9, 'id': 37264, 'hbehinds': 18, 'is_grand_final': 0, 'timestr': 'Full Time', 'updated': '2025-07-31 22:08:46', 'hteamid': 18, 'hteam': 'Western Bulldogs', 'localtime': '2025-07-31 19:30:00', 'abehinds': 8, 'venue': 'Docklands', 'winnerteamid': 18, 'tz': '+10:00'}, {'ateam': 'Hawthorn', 'id': 37268, 'ateamid': 10, 'hbehinds': 11, 'timestr': 'Full Time', 'is_grand_final': 0, 'updated': '2025-08-01 22:26:35', 'hteamid': 1, 'hteam': 'Adelaide', 'localtime': '2025-08-01 19:10:00', 'abehinds': 9, 'venue': 'Adelaide Oval', 'winnerteamid': 1, 'tz': '+10:00', 'date': '2025-08-01 19:40:00', 'unixtime': 1754041200, 'ascore': 87, 'complete': 100, 'year': 2025, 'hgoals': 15, 'round': 21, 'roundname': 'Round 21', 'winner': 'Adelaide', 'hscore': 101, 'is_final': 0, 'agoals': 13}, {'is_grand_final': 0, 'timestr': 'Full Time', 'updated': '2025-08-02 16:05:53', 'ateam': 'West Coast', 'id': 37263, 'ateamid': 17, 'hbehinds': 13, 'venue': 'Docklands', 'winnerteamid': 11, 'tz': '+10:00', 'hteamid': 11, 'hteam': 'Melbourne', 'localtime': '2025-08-02 13:20:00', 'abehinds': 8, 'ascore': 56, 'complete': 100, 'year': 2025, 'hgoals': 21, 'date': '2025-08-02 13:20:00', 'unixtime': 1754104800, 'winner': 'Melbourne', 'is_final': 0, 'hscore': 139, 'agoals': 8, 'round': 21, 'roundname': 'Round 21'}, {'complete': 100, 'year': 2025, 'ascore': 23, 'hgoals': 16, 'date': '2025-08-02 16:10:00', 'unixtime': 1754115000, 'hscore': 107, 'is_final': 0, 'winner': 'Gold Coast', 'agoals': 2, 'roundname': 'Round 21', 'round': 21, 'is_grand_final': 0, 'timestr': 'Full Time', 'updated': '2025-08-02 18:40:52', 'ateamid': 14, 'id': 37266, 'ateam': 'Richmond', 'hbehinds': 11, 'winnerteamid': 8, 'venue': 'Carrara', 'tz': '+10:00', 'hteam': 'Gold Coast', 'hteamid': 8, 'abehinds': 11, 'localtime': '2025-08-02 16:10:00'}, {'unixtime': 1754115300, 'date': '2025-08-02 16:15:00', 'hgoals': 9, 'complete': 100, 'year': 2025, 'ascore': 54, 'round': 21, 'roundname': 'Round 21', 'agoals': 7, 'is_final': 0, 'hscore': 68, 'winner': 'Sydney', 'hbehinds': 14, 'ateamid': 5, 'id': 37267, 'ateam': 'Essendon', 'updated': '2025-08-02 18:50:26', 'is_grand_final': 0, 'timestr': 'Full Time', 'abehinds': 12, 'localtime': '2025-08-02 16:15:00', 'hteam': 'Sydney', 'hteamid': 16, 'tz': '+10:00', 'winnerteamid': 16, 'venue': 'S.C.G.'}, {'hteam': 'Collingwood', 'hteamid': 4, 'abehinds': 8, 'localtime': '2025-08-02 19:35:00', 'winnerteamid': 2, 'venue': 'M.C.G.', 'tz': '+10:00', 'ateamid': 2, 'id': 37265, 'ateam': 'Brisbane Lions', 'hbehinds': 5, 'timestr': 'Full Time', 'is_grand_final': 0, 'updated': '2025-08-02 22:15:39', 'round': 21, 'roundname': 'Round 21', 'is_final': 0, 'hscore': 65, 'winner': 'Brisbane Lions', 'agoals': 14, 'date': '2025-08-02 19:35:00', 'unixtime': 1754127300, 'year': 2025, 'complete': 100, 'ascore': 92, 'hgoals': 10}, {'unixtime': 1754192400, 'date': '2025-08-03 13:40:00', 'hgoals': 11, 'complete': 100, 'year': 2025, 'ascore': 69, 'round': 21, 'roundname': 'Round 21', 'agoals': 10, 'is_final': 0, 'hscore': 78, 'winner': 'St Kilda', 'hbehinds': 12, 'id': 37262, 'ateamid': 12, 'ateam': 'North Melbourne', 'updated': '2025-08-03 16:15:42', 'is_grand_final': 0, 'timestr': 'Full Time', 'abehinds': 9, 'localtime': '2025-08-03 13:40:00', 'hteam': 'St Kilda', 'hteamid': 15, 'tz': '+10:00', 'winnerteamid': 15, 'venue': 'Docklands'}, {'winnerteamid': 7, 'venue': 'Kardinia Park', 'tz': '+10:00', 'hteam': 'Geelong', 'hteamid': 7, 'abehinds': 11, 'localtime': '2025-08-03 15:15:00', 'is_grand_final': 0, 'timestr': 'Full Time', 'updated': '2025-08-03 17:56:57', 'ateamid': 13, 'id': 37261, 'ateam': 'Port Adelaide', 'hbehinds': 15, 'is_final': 0, 'hscore': 153, 'winner': 'Geelong', 'agoals': 9, 'round': 21, 'roundname': 'Round 21', 'complete': 100, 'year': 2025, 'ascore': 65, 'hgoals': 23, 'date': '2025-08-03 15:15:00', 'unixtime': 1754198100}, {'tz': '+10:00', 'winnerteamid': 6, 'venue': 'Perth Stadium', 'abehinds': 7, 'localtime': '2025-08-03 15:10:00', 'hteam': 'Fremantle', 'hteamid': 6, 'updated': '2025-08-03 19:55:35', 'timestr': 'Full Time', 'is_grand_final': 0, 'hbehinds': 4, 'ateamid': 3, 'id': 37269, 'ateam': 'Carlton', 'agoals': 10, 'is_final': 0, 'hscore': 94, 'winner': 'Fremantle', 'round': 21, 'roundname': 'Round 21', 'hgoals': 15, 'year': 2025, 'complete': 100, 'ascore': 67, 'unixtime': 1754205000, 'date': '2025-08-03 17:10:00'}, {'round': 22, 'roundname': 'Round 22', 'is_final': 0, 'hscore': 110, 'winner': 'Hawthorn', 'agoals': 6, 'date': '2025-08-07 19:30:00', 'unixtime': 1754559000, 'complete': 100, 'year': 2025, 'ascore': 46, 'hgoals': 17, 'hteam': 'Hawthorn', 'hteamid': 10, 'abehinds': 10, 'localtime': '2025-08-07 19:30:00', 'winnerteamid': 10, 'venue': 'M.C.G.', 'tz': '+10:00', 'ateamid': 4, 'id': 37275, 'ateam': 'Collingwood', 'hbehinds': 8, 'timestr': 'Full Time', 'is_grand_final': 0, 'updated': '2025-08-07 22:09:43'}, {'is_final': 0, 'hscore': 109, 'winner': 'Geelong', 'agoals': 10, 'roundname': 'Round 22', 'round': 22, 'year': 2025, 'complete': 100, 'ascore': 65, 'hgoals': 15, 'date': '2025-08-08 19:40:00', 'unixtime': 1754646000, 'winnerteamid': 7, 'venue': 'Kardinia Park', 'tz': '+10:00', 'hteam': 'Geelong', 'hteamid': 7, 'abehinds': 5, 'localtime': '2025-08-08 19:40:00', 'timestr': 'Full Time', 'is_grand_final': 0, 'updated': '2025-08-08 22:19:58', 'id': 37270, 'ateamid': 5, 'ateam': 'Essendon', 'hbehinds': 19}, {'winner': 'St Kilda', 'hscore': 52, 'is_final': 0, 'agoals': 8, 'roundname': 'Round 22', 'round': 22, 'ascore': 56, 'complete': 100, 'year': 2025, 'hgoals': 7, 'date': '2025-08-09 13:20:00', 'unixtime': 1754709600, 'venue': 'M.C.G.', 'winnerteamid': 15, 'tz': '+10:00', 'hteamid': 14, 'hteam': 'Richmond', 'localtime': '2025-08-09 13:20:00', 'abehinds': 8, 'is_grand_final': 0, 'timestr': 'Full Time', 'updated': '2025-08-09 15:49:49', 'ateam': 'St Kilda', 'id': 37273, 'ateamid': 15, 'hbehinds': 10}, {'updated': '2025-08-09 18:52:35', 'timestr': 'Full Time', 'is_grand_final': 0, 'hbehinds': 12, 'ateamid': 16, 'id': 37276, 'ateam': 'Sydney', 'tz': '+10:00', 'winnerteamid': 16, 'venue': 'Gabba', 'abehinds': 14, 'localtime': '2025-08-09 16:15:00', 'hteam': 'Brisbane Lions', 'hteamid': 2, 'hgoals': 13, 'complete': 100, 'year': 2025, 'ascore': 92, 'unixtime': 1754720100, 'date': '2025-08-09 16:15:00', 'agoals': 13, 'hscore': 90, 'is_final': 0, 'winner': 'Sydney', 'roundname': 'Round 22', 'round': 22}, {'hgoals': 11, 'year': 2025, 'complete': 100, 'ascore': 93, 'unixtime': 1754732100, 'date': '2025-08-09 19:35:00', 'agoals': 13, 'is_final': 0, 'hscore': 74, 'winner': 'Gold Coast', 'roundname': 'Round 22', 'round': 22, 'updated': '2025-08-09 22:12:26', 'is_grand_final': 0, 'timestr': 'Full Time', 'hbehinds': 8, 'ateamid': 8, 'id': 37272, 'ateam': 'Gold Coast', 'tz': '+10:00', 'winnerteamid': 8, 'venue': 'Docklands', 'abehinds': 15, 'localtime': '2025-08-09 19:35:00', 'hteam': 'Carlton', 'hteamid': 3}, {'timestr': 'Full Time', 'is_grand_final': 0, 'updated': '2025-08-09 22:51:20', 'ateam': 'Fremantle', 'ateamid': 6, 'id': 37277, 'hbehinds': 8, 'venue': 'Adelaide Oval', 'winnerteamid': 6, 'tz': '+10:00', 'hteamid': 13, 'hteam': 'Port Adelaide', 'localtime': '2025-08-09 19:40:00', 'abehinds': 14, 'ascore': 92, 'complete': 100, 'year': 2025, 'hgoals': 13, 'date': '2025-08-09 20:10:00', 'unixtime': 1754734200, 'winner': 'Fremantle', 'is_final': 0, 'hscore': 86, 'agoals': 13, 'roundname': 'Round 22', 'round': 22}, {'updated': '2025-08-10 16:27:47', 'timestr': 'Full Time', 'is_grand_final': 0, 'hbehinds': 13, 'ateam': 'North Melbourne', 'ateamid': 12, 'id': 37271, 'tz': '+10:00', 'venue': 'Manuka Oval', 'winnerteamid': 9, 'localtime': '2025-08-10 13:40:00', 'abehinds': 7, 'hteamid': 9, 'hteam': 'Greater Western Sydney', 'hgoals': 20, 'ascore': 79, 'complete': 100, 'year': 2025, 'unixtime': 1754797200, 'date': '2025-08-10 13:40:00', 'agoals': 12, 'winner': 'Greater Western Sydney', 'is_final': 0, 'hscore': 133, 'round': 22, 'roundname': 'Round 22'}, {'agoals': 15, 'is_final': 0, 'hscore': 99, 'winner': 'Western Bulldogs', 'round': 22, 'roundname': 'Round 22', 'hgoals': 15, 'complete': 100, 'year': 2025, 'ascore': 105, 'unixtime': 1754802900, 'date': '2025-08-10 15:15:00', 'tz': '+10:00', 'winnerteamid': 18, 'venue': 'M.C.G.', 'abehinds': 15, 'localtime': '2025-08-10 15:15:00', 'hteam': 'Melbourne', 'hteamid': 11, 'updated': '2025-08-10 17:56:52', 'is_grand_final': 0, 'timestr': 'Full Time', 'hbehinds': 9, 'id': 37274, 'ateamid': 18, 'ateam': 'Western Bulldogs'}, {'agoals': 13, 'winner': 'Adelaide', 'is_final': 0, 'hscore': 78, 'roundname': 'Round 22', 'round': 22, 'hgoals': 12, 'ascore': 87, 'complete': 100, 'year': 2025, 'unixtime': 1754809800, 'date': '2025-08-10 17:10:00', 'tz': '+10:00', 'venue': 'Perth Stadium', 'winnerteamid': 1, 'localtime': '2025-08-10 15:10:00', 'abehinds': 9, 'hteamid': 17, 'hteam': 'West Coast', 'updated': '2025-08-10 19:48:22', 'timestr': 'Full Time', 'is_grand_final': 0, 'hbehinds': 6, 'ateam': 'Adelaide', 'ateamid': 1, 'id': 37278}, {'roundname': 'Round 23', 'round': 23, 'is_final': 0, 'hscore': 75, 'winner': 'St Kilda', 'agoals': 11, 'date': '2025-08-15 19:20:00', 'unixtime': 1755249600, 'year': 2025, 'complete': 100, 'ascore': 77, 'hgoals': 11, 'hteam': 'Essendon', 'hteamid': 5, 'abehinds': 11, 'localtime': '2025-08-15 19:20:00', 'winnerteamid': 15, 'venue': 'Docklands', 'tz': '+10:00', 'id': 37280, 'ateamid': 15, 'ateam': 'St Kilda', 'hbehinds': 9, 'is_grand_final': 0, 'timestr': 'Full Time', 'updated': '2025-08-15 21:59:00'}, {'localtime': '2025-08-15 18:20:00', 'abehinds': 11, 'hteamid': 6, 'hteam': 'Fremantle', 'tz': '+10:00', 'venue': 'Perth Stadium', 'winnerteamid': 2, 'hbehinds': 14, 'ateam': 'Brisbane Lions', 'id': 37287, 'ateamid': 2, 'updated': '2025-08-15 23:04:53', 'timestr': 'Full Time', 'is_grand_final': 0, 'round': 23, 'roundname': 'Round 23', 'agoals': 15, 'winner': 'Brisbane Lions', 'hscore': 44, 'is_final': 0, 'unixtime': 1755253200, 'date': '2025-08-15 20:20:00', 'hgoals': 5, 'ascore': 101, 'year': 2025, 'complete': 100}, {'hteam': 'Gold Coast', 'hteamid': 8, 'abehinds': 9, 'localtime': '2025-08-16 12:35:00', 'winnerteamid': 9, 'venue': 'Carrara', 'tz': '+10:00', 'ateamid': 9, 'id': 37284, 'ateam': 'Greater Western Sydney', 'hbehinds': 10, 'timestr': 'Full Time', 'is_grand_final': 0, 'updated': '2025-08-16 15:14:01', 'round': 23, 'roundname': 'Round 23', 'hscore': 76, 'is_final': 0, 'winner': 'Greater Western Sydney', 'agoals': 17, 'date': '2025-08-16 12:35:00', 'unixtime': 1755311700, 'complete': 100, 'year': 2025, 'ascore': 111, 'hgoals': 11}, {'timestr': 'Full Time', 'is_grand_final': 0, 'updated': '2025-08-16 15:58:13', 'id': 37282, 'ateamid': 13, 'ateam': 'Port Adelaide', 'hbehinds': 10, 'winnerteamid': 3, 'venue': 'Docklands', 'tz': '+10:00', 'hteam': 'Carlton', 'hteamid': 3, 'abehinds': 10, 'localtime': '2025-08-16 13:20:00', 'year': 2025, 'complete': 100, 'ascore': 64, 'hgoals': 18, 'date': '2025-08-16 13:20:00', 'unixtime': 1755314400, 'hscore': 118, 'is_final': 0, 'winner': 'Carlton', 'agoals': 9, 'round': 23, 'roundname': 'Round 23'}, {'date': '2025-08-16 16:15:00', 'unixtime': 1755324900, 'year': 2025, 'complete': 100, 'ascore': 56, 'hgoals': 13, 'roundname': 'Round 23', 'round': 23, 'is_final': 0, 'hscore': 92, 'winner': 'Hawthorn', 'agoals': 8, 'ateamid': 11, 'id': 37283, 'ateam': 'Melbourne', 'hbehinds': 14, 'timestr': 'Full Time', 'is_grand_final': 0, 'updated': '2025-08-16 18:49:22', 'hteam': 'Hawthorn', 'hteamid': 10, 'abehinds': 8, 'localtime': '2025-08-16 16:15:00', 'winnerteamid': 10, 'venue': 'M.C.G.', 'tz': '+10:00'}, {'unixtime': 1755336900, 'date': '2025-08-16 19:35:00', 'hgoals': 9, 'complete': 100, 'year': 2025, 'ascore': 56, 'roundname': 'Round 23', 'round': 23, 'agoals': 8, 'hscore': 59, 'is_final': 0, 'winner': 'Adelaide', 'hbehinds': 5, 'id': 37286, 'ateamid': 4, 'ateam': 'Collingwood', 'updated': '2025-08-16 22:16:19', 'timestr': 'Full Time', 'is_grand_final': 0, 'abehinds': 8, 'localtime': '2025-08-16 19:05:00', 'hteam': 'Adelaide', 'hteamid': 1, 'tz': '+10:00', 'winnerteamid': 1, 'venue': 'Adelaide Oval'}, {'timestr': 'Full Time', 'is_grand_final': 0, 'updated': '2025-08-17 16:02:48', 'id': 37279, 'ateamid': 14, 'ateam': 'Richmond', 'hbehinds': 15, 'winnerteamid': 12, 'venue': 'Bellerive Oval', 'tz': '+10:00', 'hteam': 'North Melbourne', 'hteamid': 12, 'abehinds': 9, 'localtime': '2025-08-17 13:10:00', 'complete': 100, 'year': 2025, 'ascore': 87, 'hgoals': 20, 'date': '2025-08-17 13:10:00', 'unixtime': 1755400200, 'hscore': 135, 'is_final': 0, 'winner': 'North Melbourne', 'agoals': 13, 'round': 23, 'roundname': 'Round 23'}, {'hgoals': 10, 'complete': 100, 'year': 2025, 'ascore': 111, 'unixtime': 1755407700, 'date': '2025-08-17 15:15:00', 'agoals': 16, 'is_final': 0, 'hscore': 68, 'winner': 'Geelong', 'round': 23, 'roundname': 'Round 23', 'updated': '2025-08-17 17:56:21', 'timestr': 'Full Time', 'is_grand_final': 0, 'hbehinds': 8, 'ateamid': 7, 'id': 37285, 'ateam': 'Geelong', 'tz': '+10:00', 'winnerteamid': 7, 'venue': 'S.C.G.', 'abehinds': 15, 'localtime': '2025-08-17 15:15:00', 'hteam': 'Sydney', 'hteamid': 16}, {'localtime': '2025-08-17 16:40:00', 'abehinds': 8, 'hteamid': 18, 'hteam': 'Western Bulldogs', 'tz': '+10:00', 'venue': 'Docklands', 'winnerteamid': 18, 'hbehinds': 12, 'ateam': 'West Coast', 'ateamid': 17, 'id': 37281, 'updated': '2025-08-17 19:15:20', 'timestr': 'Full Time', 'is_grand_final': 0, 'round': 23, 'roundname': 'Round 23', 'agoals': 4, 'winner': 'Western Bulldogs', 'hscore': 126, 'is_final': 0, 'unixtime': 1755412800, 'date': '2025-08-17 16:40:00', 'hgoals': 19, 'ascore': 32, 'complete': 100, 'year': 2025}, {'updated': '2025-08-21 22:03:24', 'timestr': 'Full Time', 'is_grand_final': 0, 'hbehinds': 8, 'id': 37293, 'ateamid': 3, 'ateam': 'Carlton', 'tz': '+10:00', 'winnerteamid': 3, 'venue': 'M.C.G.', 'abehinds': 12, 'localtime': '2025-08-21 19:30:00', 'hteam': 'Essendon', 'hteamid': 5, 'hgoals': 8, 'year': 2025, 'complete': 100, 'ascore': 90, 'unixtime': 1755768600, 'date': '2025-08-21 19:30:00', 'agoals': 13, 'hscore': 56, 'is_final': 0, 'winner': 'Carlton', 'round': 24, 'roundname': 'Round 24'}, {'abehinds': 10, 'localtime': '2025-08-22 19:10:00', 'hteam': 'Collingwood', 'hteamid': 4, 'tz': '+10:00', 'winnerteamid': 4, 'venue': 'M.C.G.', 'hbehinds': 16, 'ateamid': 11, 'id': 37291, 'ateam': 'Melbourne', 'updated': '2025-08-22 21:46:43', 'is_grand_final': 0, 'timestr': 'Full Time', 'round': 24, 'roundname': 'Round 24', 'agoals': 11, 'hscore': 82, 'is_final': 0, 'winner': 'Collingwood', 'unixtime': 1755853800, 'date': '2025-08-22 19:10:00', 'hgoals': 11, 'complete': 100, 'year': 2025, 'ascore': 76}, {'timestr': 'Full Time', 'is_grand_final': 0, 'updated': '2025-08-22 22:48:09', 'id': 37295, 'ateamid': 8, 'ateam': 'Gold Coast', 'hbehinds': 11, 'winnerteamid': 13, 'venue': 'Adelaide Oval', 'tz': '+10:00', 'hteam': 'Port Adelaide', 'hteamid': 13, 'abehinds': 13, 'localtime': '2025-08-22 19:40:00', 'year': 2025, 'complete': 100, 'ascore': 67, 'hgoals': 10, 'date': '2025-08-22 20:10:00', 'unixtime': 1755857400, 'is_final': 0, 'hscore': 71, 'winner': 'Port Adelaide', 'agoals': 9, 'roundname': 'Round 24', 'round': 24}, {'agoals': 17, 'winner': 'Adelaide', 'is_final': 0, 'hscore': 100, 'round': 24, 'roundname': 'Round 24', 'hgoals': 15, 'ascore': 113, 'year': 2025, 'complete': 100, 'unixtime': 1755919200, 'date': '2025-08-23 13:20:00', 'tz': '+10:00', 'venue': 'Docklands', 'winnerteamid': 1, 'localtime': '2025-08-23 13:20:00', 'abehinds': 11, 'hteamid': 12, 'hteam': 'North Melbourne', 'updated': '2025-08-23 16:05:34', 'is_grand_final': 0, 'timestr': 'Full Time', 'hbehinds': 10, 'ateam': 'Adelaide', 'ateamid': 1, 'id': 37289}, {'agoals': 14, 'hscore': 64, 'is_final': 0, 'winner': 'Geelong', 'round': 24, 'roundname': 'Round 24', 'hgoals': 9, 'complete': 100, 'year': 2025, 'ascore': 103, 'unixtime': 1755929700, 'date': '2025-08-23 16:15:00', 'tz': '+10:00', 'winnerteamid': 7, 'venue': 'M.C.G.', 'abehinds': 19, 'localtime': '2025-08-23 16:15:00', 'hteam': 'Richmond', 'hteamid': 14, 'updated': '2025-08-23 18:53:01', 'is_grand_final': 0, 'timestr': 'Full Time', 'hbehinds': 10, 'id': 37292, 'ateamid': 7, 'ateam': 'Geelong'}, {'year': 2025, 'complete': 100, 'ascore': 118, 'hgoals': 7, 'date': '2025-08-23 19:35:00', 'unixtime': 1755941700, 'hscore': 51, 'is_final': 0, 'winner': 'Sydney', 'agoals': 18, 'round': 24, 'roundname': 'Round 24', 'timestr': 'Full Time', 'is_grand_final': 0, 'updated': '2025-08-23 22:11:03', 'ateamid': 16, 'id': 37296, 'ateam': 'Sydney', 'hbehinds': 9, 'winnerteamid': 16, 'venue': 'Perth Stadium', 'tz': '+10:00', 'hteam': 'West Coast', 'hteamid': 17, 'abehinds': 10, 'localtime': '2025-08-23 17:35:00'}, {'agoals': 14, 'hscore': 104, 'is_final': 0, 'winner': 'Greater Western Sydney', 'round': 24, 'roundname': 'Round 24', 'hgoals': 15, 'complete': 100, 'year': 2025, 'ascore': 93, 'unixtime': 1756002000, 'date': '2025-08-24 12:20:00', 'tz': '+10:00', 'winnerteamid': 9, 'venue': 'Sydney Showground', 'abehinds': 9, 'localtime': '2025-08-24 12:20:00', 'hteam': 'Greater Western Sydney', 'hteamid': 9, 'updated': '2025-08-24 15:08:59', 'is_grand_final': 0, 'timestr': 'Full Time', 'hbehinds': 14, 'ateamid': 15, 'id': 37288, 'ateam': 'St Kilda'}, {'unixtime': 1756012500, 'date': '2025-08-24 15:15:00', 'hgoals': 14, 'complete': 100, 'year': 2025, 'ascore': 112, 'round': 24, 'roundname': 'Round 24', 'agoals': 17, 'is_final': 0, 'hscore': 97, 'winner': 'Fremantle', 'hbehinds': 13, 'id': 37290, 'ateamid': 6, 'ateam': 'Fremantle', 'updated': '2025-08-24 17:56:22', 'is_grand_final': 0, 'timestr': 'Full Time', 'abehinds': 10, 'localtime': '2025-08-24 15:15:00', 'hteam': 'Western Bulldogs', 'hteamid': 18, 'tz': '+10:00', 'winnerteamid': 6, 'venue': 'Docklands'}, {'hgoals': 11, 'year': 2025, 'complete': 100, 'ascore': 79, 'unixtime': 1756027200, 'date': '2025-08-24 19:20:00', 'agoals': 11, 'hscore': 89, 'is_final': 0, 'winner': 'Brisbane Lions', 'roundname': 'Round 24', 'round': 24, 'updated': '2025-08-24 21:59:08', 'is_grand_final': 0, 'timestr': 'Full Time', 'hbehinds': 23, 'ateamid': 10, 'id': 37294, 'ateam': 'Hawthorn', 'tz': '+10:00', 'winnerteamid': 2, 'venue': 'Gabba', 'abehinds': 13, 'localtime': '2025-08-24 19:20:00', 'hteam': 'Brisbane Lions', 'hteamid': 2}, {'hbehinds': 15, 'ateam': 'Essendon', 'id': 37092, 'ateamid': 5, 'updated': '2025-08-27 21:57:53', 'timestr': 'Full Time', 'is_grand_final': 0, 'localtime': '2025-08-27 19:20:00', 'abehinds': 10, 'hteamid': 8, 'hteam': 'Gold Coast', 'tz': '+10:00', 'venue': 'Carrara', 'winnerteamid': 8, 'unixtime': 1756286400, 'date': '2025-08-27 19:20:00', 'hgoals': 23, 'ascore': 58, 'complete': 100, 'year': 2025, 'round': 24, 'roundname': 'Round 24', 'agoals': 8, 'winner': 'Gold Coast', 'hscore': 153, 'is_final': 0}, {'hgoals': 8, 'ascore': 79, 'year': 2025, 'complete': 100, 'unixtime': 1756978800, 'date': '2025-09-04 19:40:00', 'agoals': 11, 'winner': 'Collingwood', 'hscore': 55, 'is_final': 3, 'roundname': 'Finals Week 1', 'round': 25, 'updated': '2025-09-04 22:18:12', 'timestr': 'Full Time', 'is_grand_final': 0, 'hbehinds': 7, 'ateam': 'Collingwood', 'ateamid': 4, 'id': 37317, 'tz': '+10:00', 'venue': 'Adelaide Oval', 'winnerteamid': 4, 'localtime': '2025-09-04 19:10:00', 'abehinds': 13, 'hteamid': 1, 'hteam': 'Adelaide'}, {'hgoals': 16, 'complete': 100, 'year': 2025, 'ascore': 74, 'unixtime': 1757065200, 'date': '2025-09-05 19:40:00', 'agoals': 11, 'is_final': 3, 'hscore': 112, 'winner': 'Geelong', 'roundname': 'Finals Week 1', 'round': 25, 'updated': '2025-09-05 22:21:41', 'is_grand_final': 0, 'timestr': 'Full Time', 'hbehinds': 16, 'id': 37318, 'ateamid': 2, 'ateam': 'Brisbane Lions', 'tz': '+10:00', 'winnerteamid': 7, 'venue': 'M.C.G.', 'abehinds': 8, 'localtime': '2025-09-05 19:40:00', 'hteam': 'Geelong', 'hteamid': 7}, {'hteam': 'Greater Western Sydney', 'hteamid': 9, 'abehinds': 11, 'localtime': '2025-09-06 15:15:00', 'winnerteamid': 10, 'venue': 'Sydney Showground', 'tz': '+10:00', 'id': 37315, 'ateamid': 10, 'ateam': 'Hawthorn', 'hbehinds': 10, 'is_grand_final': 0, 'timestr': 'Full Time', 'updated': '2025-09-06 18:13:54', 'round': 25, 'roundname': 'Finals Week 1', 'is_final': 2, 'hscore': 88, 'winner': 'Hawthorn', 'agoals': 16, 'date': '2025-09-06 15:15:00', 'unixtime': 1757135700, 'complete': 100, 'year': 2025, 'ascore': 107, 'hgoals': 13}, {'winnerteamid': 8, 'venue': 'Perth Stadium', 'tz': '+10:00', 'hteam': 'Fremantle', 'hteamid': 6, 'abehinds': 14, 'localtime': '2025-09-06 17:35:00', 'is_grand_final': 0, 'timestr': 'Full Time', 'updated': '2025-09-06 22:20:13', 'id': 37316, 'ateamid': 8, 'ateam': 'Gold Coast', 'hbehinds': 7, 'hscore': 79, 'is_final': 2, 'winner': 'Gold Coast', 'agoals': 11, 'round': 25, 'roundname': 'Finals Week 1', 'year': 2025, 'complete': 100, 'ascore': 80, 'hgoals': 12, 'date': '2025-09-06 19:35:00', 'unixtime': 1757151300}, {'round': 26, 'roundname': 'Semi-Finals', 'agoals': 14, 'hscore': 67, 'is_final': 4, 'winner': 'Hawthorn', 'unixtime': 1757670000, 'date': '2025-09-12 19:40:00', 'hgoals': 10, 'complete': 100, 'year': 2025, 'ascore': 101, 'abehinds': 17, 'localtime': '2025-09-12 19:10:00', 'hteam': 'Adelaide', 'hteamid': 1, 'tz': '+10:00', 'winnerteamid': 10, 'venue': 'Adelaide Oval', 'hbehinds': 7, 'id': 37319, 'ateamid': 10, 'ateam': 'Hawthorn', 'updated': '2025-09-12 22:19:11', 'is_grand_final': 0, 'timestr': 'Full Time'}, {'roundname': 'Semi-Finals', 'round': 26, 'agoals': 6, 'winner': 'Brisbane Lions', 'hscore': 100, 'is_final': 4, 'unixtime': 1757756100, 'date': '2025-09-13 19:35:00', 'hgoals': 14, 'ascore': 47, 'year': 2025, 'complete': 100, 'localtime': '2025-09-13 19:35:00', 'abehinds': 11, 'hteamid': 2, 'hteam': 'Brisbane Lions', 'tz': '+10:00', 'venue': 'Gabba', 'winnerteamid': 2, 'hbehinds': 16, 'ateam': 'Gold Coast', 'ateamid': 8, 'id': 37320, 'updated': '2025-09-13 22:13:18', 'timestr': 'Full Time', 'is_grand_final': 0}, {'tz': '+10:00', 'venue': 'M.C.G.', 'winnerteamid': 7, 'localtime': '2025-09-19 19:40:00', 'abehinds': 7, 'hteamid': 7, 'hteam': 'Geelong', 'updated': '2025-09-19 22:26:17', 'timestr': 'Full Time', 'is_grand_final': 0, 'hbehinds': 13, 'ateam': 'Hawthorn', 'id': 37862, 'ateamid': 10, 'agoals': 13, 'winner': 'Geelong', 'hscore': 115, 'is_final': 5, 'round': 27, 'roundname': 'Preliminary Finals', 'hgoals': 17, 'ascore': 85, 'complete': 100, 'year': 2025, 'unixtime': 1758274800, 'date': '2025-09-19 19:40:00'}, {'unixtime': 1758352500, 'date': '2025-09-20 17:15:00', 'hgoals': 11, 'ascore': 100, 'year': 2025, 'complete': 100, 'round': 27, 'roundname': 'Preliminary Finals', 'agoals': 15, 'winner': 'Brisbane Lions', 'hscore': 71, 'is_final': 5, 'hbehinds': 5, 'ateam': 'Brisbane Lions', 'ateamid': 2, 'id': 37863, 'updated': '2025-09-20 20:01:07', 'is_grand_final': 0, 'timestr': 'Full Time', 'localtime': '2025-09-20 17:15:00', 'abehinds': 10, 'hteamid': 4, 'hteam': 'Collingwood', 'tz': '+10:00', 'venue': 'M.C.G.', 'winnerteamid': 2}, {'hbehinds': 9, 'id': 37323, 'ateamid': 2, 'ateam': 'Brisbane Lions', 'updated': '2025-09-27 20:43:04', 'timestr': 'Full Time', 'is_grand_final': 1, 'abehinds': 14, 'localtime': '2025-09-27 14:30:00', 'hteam': 'Geelong', 'hteamid': 7, 'tz': '+10:00', 'winnerteamid': 2, 'venue': 'M.C.G.', 'unixtime': 1758947400, 'date': '2025-09-27 14:30:00', 'hgoals': 11, 'complete': 100, 'year': 2025, 'ascore': 122, 'round': 28, 'roundname': 'Grand Final', 'agoals': 18, 'hscore': 75, 'is_final': 6, 'winner': 'Brisbane Lions'}]}\n"
     ]
    }
   ],
   "source": [
    "session = requests.Session()\n",
    "session.headers.update({\n",
    "    \"User-Agent\": \"AFL Results Bot v0.1 (contact: diego080495@gmail.com)\"\n",
    "})\n",
    "\n",
    "res = session.get(\"https://api.squiggle.com.au/?q=games;year=2025;complete=100\")\n",
    "print(res.json())"
   ]
  },
  {
   "cell_type": "code",
   "execution_count": 5,
   "id": "637c2638",
   "metadata": {},
   "outputs": [
    {
     "data": {
      "text/html": [
       "<div>\n",
       "<style scoped>\n",
       "    .dataframe tbody tr th:only-of-type {\n",
       "        vertical-align: middle;\n",
       "    }\n",
       "\n",
       "    .dataframe tbody tr th {\n",
       "        vertical-align: top;\n",
       "    }\n",
       "\n",
       "    .dataframe thead th {\n",
       "        text-align: right;\n",
       "    }\n",
       "</style>\n",
       "<table border=\"1\" class=\"dataframe\">\n",
       "  <thead>\n",
       "    <tr style=\"text-align: right;\">\n",
       "      <th></th>\n",
       "      <th>season</th>\n",
       "      <th>round</th>\n",
       "      <th>date_utc</th>\n",
       "      <th>venue</th>\n",
       "      <th>home_team</th>\n",
       "      <th>away_team</th>\n",
       "      <th>home_goals</th>\n",
       "      <th>home_behinds</th>\n",
       "      <th>home_score</th>\n",
       "      <th>away_goals</th>\n",
       "      <th>away_behinds</th>\n",
       "      <th>away_score</th>\n",
       "      <th>winner_team</th>\n",
       "      <th>margin</th>\n",
       "      <th>is_final</th>\n",
       "      <th>is_grand_final</th>\n",
       "      <th>game_id</th>\n",
       "    </tr>\n",
       "  </thead>\n",
       "  <tbody>\n",
       "    <tr>\n",
       "      <th>0</th>\n",
       "      <td>2025</td>\n",
       "      <td>0</td>\n",
       "      <td>2025-03-07 19:40:00</td>\n",
       "      <td>S.C.G.</td>\n",
       "      <td>Sydney</td>\n",
       "      <td>Hawthorn</td>\n",
       "      <td>11</td>\n",
       "      <td>10</td>\n",
       "      <td>76</td>\n",
       "      <td>14</td>\n",
       "      <td>12</td>\n",
       "      <td>96</td>\n",
       "      <td>Hawthorn</td>\n",
       "      <td>-20</td>\n",
       "      <td>0</td>\n",
       "      <td>0</td>\n",
       "      <td>37091</td>\n",
       "    </tr>\n",
       "    <tr>\n",
       "      <th>1</th>\n",
       "      <td>2025</td>\n",
       "      <td>0</td>\n",
       "      <td>2025-03-09 15:20:00</td>\n",
       "      <td>Sydney Showground</td>\n",
       "      <td>Greater Western Sydney</td>\n",
       "      <td>Collingwood</td>\n",
       "      <td>15</td>\n",
       "      <td>14</td>\n",
       "      <td>104</td>\n",
       "      <td>6</td>\n",
       "      <td>16</td>\n",
       "      <td>52</td>\n",
       "      <td>Greater Western Sydney</td>\n",
       "      <td>52</td>\n",
       "      <td>0</td>\n",
       "      <td>0</td>\n",
       "      <td>37093</td>\n",
       "    </tr>\n",
       "    <tr>\n",
       "      <th>2</th>\n",
       "      <td>2025</td>\n",
       "      <td>1</td>\n",
       "      <td>2025-03-13 19:30:00</td>\n",
       "      <td>M.C.G.</td>\n",
       "      <td>Richmond</td>\n",
       "      <td>Carlton</td>\n",
       "      <td>13</td>\n",
       "      <td>4</td>\n",
       "      <td>82</td>\n",
       "      <td>9</td>\n",
       "      <td>15</td>\n",
       "      <td>69</td>\n",
       "      <td>Richmond</td>\n",
       "      <td>13</td>\n",
       "      <td>0</td>\n",
       "      <td>0</td>\n",
       "      <td>37094</td>\n",
       "    </tr>\n",
       "    <tr>\n",
       "      <th>3</th>\n",
       "      <td>2025</td>\n",
       "      <td>1</td>\n",
       "      <td>2025-03-14 19:40:00</td>\n",
       "      <td>M.C.G.</td>\n",
       "      <td>Hawthorn</td>\n",
       "      <td>Essendon</td>\n",
       "      <td>17</td>\n",
       "      <td>9</td>\n",
       "      <td>111</td>\n",
       "      <td>12</td>\n",
       "      <td>13</td>\n",
       "      <td>85</td>\n",
       "      <td>Hawthorn</td>\n",
       "      <td>26</td>\n",
       "      <td>0</td>\n",
       "      <td>0</td>\n",
       "      <td>37095</td>\n",
       "    </tr>\n",
       "    <tr>\n",
       "      <th>4</th>\n",
       "      <td>2025</td>\n",
       "      <td>1</td>\n",
       "      <td>2025-03-15 13:20:00</td>\n",
       "      <td>Kardinia Park</td>\n",
       "      <td>Geelong</td>\n",
       "      <td>Fremantle</td>\n",
       "      <td>23</td>\n",
       "      <td>9</td>\n",
       "      <td>147</td>\n",
       "      <td>10</td>\n",
       "      <td>9</td>\n",
       "      <td>69</td>\n",
       "      <td>Geelong</td>\n",
       "      <td>78</td>\n",
       "      <td>0</td>\n",
       "      <td>0</td>\n",
       "      <td>37096</td>\n",
       "    </tr>\n",
       "  </tbody>\n",
       "</table>\n",
       "</div>"
      ],
      "text/plain": [
       "   season  round             date_utc              venue  \\\n",
       "0    2025      0  2025-03-07 19:40:00             S.C.G.   \n",
       "1    2025      0  2025-03-09 15:20:00  Sydney Showground   \n",
       "2    2025      1  2025-03-13 19:30:00             M.C.G.   \n",
       "3    2025      1  2025-03-14 19:40:00             M.C.G.   \n",
       "4    2025      1  2025-03-15 13:20:00      Kardinia Park   \n",
       "\n",
       "                home_team    away_team  home_goals  home_behinds  home_score  \\\n",
       "0                  Sydney     Hawthorn          11            10          76   \n",
       "1  Greater Western Sydney  Collingwood          15            14         104   \n",
       "2                Richmond      Carlton          13             4          82   \n",
       "3                Hawthorn     Essendon          17             9         111   \n",
       "4                 Geelong    Fremantle          23             9         147   \n",
       "\n",
       "   away_goals  away_behinds  away_score             winner_team  margin  \\\n",
       "0          14            12          96                Hawthorn     -20   \n",
       "1           6            16          52  Greater Western Sydney      52   \n",
       "2           9            15          69                Richmond      13   \n",
       "3          12            13          85                Hawthorn      26   \n",
       "4          10             9          69                 Geelong      78   \n",
       "\n",
       "   is_final  is_grand_final  game_id  \n",
       "0         0               0    37091  \n",
       "1         0               0    37093  \n",
       "2         0               0    37094  \n",
       "3         0               0    37095  \n",
       "4         0               0    37096  "
      ]
     },
     "execution_count": 5,
     "metadata": {},
     "output_type": "execute_result"
    }
   ],
   "source": [
    "YEAR = 2025\n",
    "headers = {\n",
    "    \"User-Agent\": \"AFL Results Bot v0.1 (contact: diego080495@gmail.com)\"\n",
    "}\n",
    "\n",
    "# 1) Team lookup (id -> name)\n",
    "teams = requests.get(\"https://api.squiggle.com.au/?q=teams\", headers=headers).json()[\"teams\"]\n",
    "id2team = {t[\"id\"]: t[\"name\"] for t in teams}\n",
    "\n",
    "# 2) Completed games for a season\n",
    "url = f\"https://api.squiggle.com.au/?q=games;year={YEAR};complete=100\"\n",
    "games = requests.get(url, headers=headers).json()[\"games\"]\n",
    "\n",
    "# 3) Tidy results table\n",
    "rows = []\n",
    "for g in games:\n",
    "    rows.append({\n",
    "        \"season\": g[\"year\"],\n",
    "        \"round\": g[\"round\"],\n",
    "        \"date_utc\": g[\"date\"],\n",
    "        \"venue\": g[\"venue\"],\n",
    "        \"home_team\": g[\"hteam\"],\n",
    "        \"away_team\": g[\"ateam\"],\n",
    "        \"home_goals\": g[\"hgoals\"], \"home_behinds\": g[\"hbehinds\"], \"home_score\": g[\"hscore\"],\n",
    "        \"away_goals\": g[\"agoals\"], \"away_behinds\": g[\"abehinds\"], \"away_score\": g[\"ascore\"],\n",
    "        \"winner_team\": g[\"winner\"] if g[\"winner\"] else None,\n",
    "        \"margin\": g[\"hscore\"] - g[\"ascore\"],   # positive => home won\n",
    "        \"is_final\": g[\"is_final\"], \"is_grand_final\": g[\"is_grand_final\"],\n",
    "        \"game_id\": g[\"id\"]\n",
    "    })\n",
    "df = pd.DataFrame(rows).sort_values([\"round\",\"date_utc\"])\n",
    "df.to_csv(\"afl_results_2025.csv\", index=False)\n",
    "df.head()\n"
   ]
  },
  {
   "cell_type": "code",
   "execution_count": null,
   "id": "ae2e6b79",
   "metadata": {},
   "outputs": [],
   "source": []
  },
  {
   "cell_type": "code",
   "execution_count": 4,
   "id": "bcd62a1f",
   "metadata": {},
   "outputs": [
    {
     "data": {
      "text/plain": [
       "'2025-09-27 14:30:00'"
      ]
     },
     "execution_count": 4,
     "metadata": {},
     "output_type": "execute_result"
    }
   ],
   "source": [
    "df.date_utc.max()"
   ]
  },
  {
   "cell_type": "markdown",
   "id": "86ded7f4",
   "metadata": {},
   "source": [
    "## Sentiment Analysis"
   ]
  },
  {
   "cell_type": "code",
   "execution_count": 44,
   "id": "866e4068",
   "metadata": {},
   "outputs": [
    {
     "data": {
      "text/html": [
       "<div>\n",
       "<style scoped>\n",
       "    .dataframe tbody tr th:only-of-type {\n",
       "        vertical-align: middle;\n",
       "    }\n",
       "\n",
       "    .dataframe tbody tr th {\n",
       "        vertical-align: top;\n",
       "    }\n",
       "\n",
       "    .dataframe thead th {\n",
       "        text-align: right;\n",
       "    }\n",
       "</style>\n",
       "<table border=\"1\" class=\"dataframe\">\n",
       "  <thead>\n",
       "    <tr style=\"text-align: right;\">\n",
       "      <th></th>\n",
       "      <th>id</th>\n",
       "      <th>title</th>\n",
       "      <th>score</th>\n",
       "      <th>num_comments</th>\n",
       "      <th>created_utc</th>\n",
       "      <th>url</th>\n",
       "    </tr>\n",
       "  </thead>\n",
       "  <tbody>\n",
       "    <tr>\n",
       "      <th>0</th>\n",
       "      <td>1nh6qqe</td>\n",
       "      <td>Ticketek are hopeless</td>\n",
       "      <td>73</td>\n",
       "      <td>121</td>\n",
       "      <td>1.757894e+09</td>\n",
       "      <td>https://www.reddit.com/r/AFL/comments/1nh6qqe/...</td>\n",
       "    </tr>\n",
       "    <tr>\n",
       "      <th>1</th>\n",
       "      <td>1ni3xol</td>\n",
       "      <td>AFL ripped for 'doing absolutely nothing' abou...</td>\n",
       "      <td>389</td>\n",
       "      <td>167</td>\n",
       "      <td>1.757985e+09</td>\n",
       "      <td>https://www.nine.com.au/sport/afl/news-2025-ge...</td>\n",
       "    </tr>\n",
       "    <tr>\n",
       "      <th>2</th>\n",
       "      <td>1ni87r6</td>\n",
       "      <td>North Melbourne captain Jy Simpkin exploring b...</td>\n",
       "      <td>175</td>\n",
       "      <td>225</td>\n",
       "      <td>1.757998e+09</td>\n",
       "      <td>https://7news.com.au/sport/afl/north-melbourne...</td>\n",
       "    </tr>\n",
       "    <tr>\n",
       "      <th>3</th>\n",
       "      <td>1ni9h6w</td>\n",
       "      <td>Zach Merrett is furious at reports he acted di...</td>\n",
       "      <td>127</td>\n",
       "      <td>176</td>\n",
       "      <td>1.758002e+09</td>\n",
       "      <td>https://archive.is/igeDr</td>\n",
       "    </tr>\n",
       "    <tr>\n",
       "      <th>4</th>\n",
       "      <td>1ni50ah</td>\n",
       "      <td>Wayne’s world goes wrong</td>\n",
       "      <td>178</td>\n",
       "      <td>76</td>\n",
       "      <td>1.757988e+09</td>\n",
       "      <td>https://i.redd.it/zf8e79u8pfpf1.jpeg</td>\n",
       "    </tr>\n",
       "    <tr>\n",
       "      <th>5</th>\n",
       "      <td>1ni65wv</td>\n",
       "      <td>[7News] Adelaide will ask the question of Melb...</td>\n",
       "      <td>141</td>\n",
       "      <td>106</td>\n",
       "      <td>1.757991e+09</td>\n",
       "      <td>https://i.redd.it/1ym1qab5zfpf1.png</td>\n",
       "    </tr>\n",
       "    <tr>\n",
       "      <th>6</th>\n",
       "      <td>1ni3e4f</td>\n",
       "      <td>Tom Liberatore tattoo in the style of The Simp...</td>\n",
       "      <td>165</td>\n",
       "      <td>13</td>\n",
       "      <td>1.757984e+09</td>\n",
       "      <td>https://i.redd.it/i7qd8ybvbfpf1.jpeg</td>\n",
       "    </tr>\n",
       "    <tr>\n",
       "      <th>7</th>\n",
       "      <td>1ni6mm9</td>\n",
       "      <td>Anyone thinking of going to this event?</td>\n",
       "      <td>102</td>\n",
       "      <td>59</td>\n",
       "      <td>1.757993e+09</td>\n",
       "      <td>https://i.redd.it/k01oztoa3gpf1.jpeg</td>\n",
       "    </tr>\n",
       "    <tr>\n",
       "      <th>8</th>\n",
       "      <td>1ni9n1l</td>\n",
       "      <td>Double MCG Sellout</td>\n",
       "      <td>57</td>\n",
       "      <td>31</td>\n",
       "      <td>1.758003e+09</td>\n",
       "      <td>https://www.reddit.com/gallery/1ni9n1l</td>\n",
       "    </tr>\n",
       "    <tr>\n",
       "      <th>9</th>\n",
       "      <td>1ni1gvy</td>\n",
       "      <td>[Jon Ralph] There is acceptance at Essendon th...</td>\n",
       "      <td>186</td>\n",
       "      <td>320</td>\n",
       "      <td>1.757978e+09</td>\n",
       "      <td>https://i.redd.it/a18tyfziwepf1.jpeg</td>\n",
       "    </tr>\n",
       "  </tbody>\n",
       "</table>\n",
       "</div>"
      ],
      "text/plain": [
       "        id                                              title  score  \\\n",
       "0  1nh6qqe                              Ticketek are hopeless     73   \n",
       "1  1ni3xol  AFL ripped for 'doing absolutely nothing' abou...    389   \n",
       "2  1ni87r6  North Melbourne captain Jy Simpkin exploring b...    175   \n",
       "3  1ni9h6w  Zach Merrett is furious at reports he acted di...    127   \n",
       "4  1ni50ah                           Wayne’s world goes wrong    178   \n",
       "5  1ni65wv  [7News] Adelaide will ask the question of Melb...    141   \n",
       "6  1ni3e4f  Tom Liberatore tattoo in the style of The Simp...    165   \n",
       "7  1ni6mm9            Anyone thinking of going to this event?    102   \n",
       "8  1ni9n1l                                 Double MCG Sellout     57   \n",
       "9  1ni1gvy  [Jon Ralph] There is acceptance at Essendon th...    186   \n",
       "\n",
       "   num_comments   created_utc  \\\n",
       "0           121  1.757894e+09   \n",
       "1           167  1.757985e+09   \n",
       "2           225  1.757998e+09   \n",
       "3           176  1.758002e+09   \n",
       "4            76  1.757988e+09   \n",
       "5           106  1.757991e+09   \n",
       "6            13  1.757984e+09   \n",
       "7            59  1.757993e+09   \n",
       "8            31  1.758003e+09   \n",
       "9           320  1.757978e+09   \n",
       "\n",
       "                                                 url  \n",
       "0  https://www.reddit.com/r/AFL/comments/1nh6qqe/...  \n",
       "1  https://www.nine.com.au/sport/afl/news-2025-ge...  \n",
       "2  https://7news.com.au/sport/afl/north-melbourne...  \n",
       "3                           https://archive.is/igeDr  \n",
       "4               https://i.redd.it/zf8e79u8pfpf1.jpeg  \n",
       "5                https://i.redd.it/1ym1qab5zfpf1.png  \n",
       "6               https://i.redd.it/i7qd8ybvbfpf1.jpeg  \n",
       "7               https://i.redd.it/k01oztoa3gpf1.jpeg  \n",
       "8             https://www.reddit.com/gallery/1ni9n1l  \n",
       "9               https://i.redd.it/a18tyfziwepf1.jpeg  "
      ]
     },
     "execution_count": 44,
     "metadata": {},
     "output_type": "execute_result"
    }
   ],
   "source": [
    "df_posts"
   ]
  },
  {
   "cell_type": "code",
   "execution_count": 43,
   "id": "480d6308",
   "metadata": {},
   "outputs": [
    {
     "data": {
      "text/html": [
       "<div>\n",
       "<style scoped>\n",
       "    .dataframe tbody tr th:only-of-type {\n",
       "        vertical-align: middle;\n",
       "    }\n",
       "\n",
       "    .dataframe tbody tr th {\n",
       "        vertical-align: top;\n",
       "    }\n",
       "\n",
       "    .dataframe thead th {\n",
       "        text-align: right;\n",
       "    }\n",
       "</style>\n",
       "<table border=\"1\" class=\"dataframe\">\n",
       "  <thead>\n",
       "    <tr style=\"text-align: right;\">\n",
       "      <th></th>\n",
       "      <th>id</th>\n",
       "      <th>author</th>\n",
       "      <th>score</th>\n",
       "      <th>created_utc</th>\n",
       "      <th>body</th>\n",
       "    </tr>\n",
       "  </thead>\n",
       "  <tbody>\n",
       "    <tr>\n",
       "      <th>0</th>\n",
       "      <td>ne9jn2m</td>\n",
       "      <td>JRicho_Sauce</td>\n",
       "      <td>129</td>\n",
       "      <td>1.757896e+09</td>\n",
       "      <td>Pretty confident it’s random from waiting room...</td>\n",
       "    </tr>\n",
       "    <tr>\n",
       "      <th>1</th>\n",
       "      <td>ne9o6cn</td>\n",
       "      <td>woka</td>\n",
       "      <td>49</td>\n",
       "      <td>1.757898e+09</td>\n",
       "      <td>Wait until you try and pay and you get a gatew...</td>\n",
       "    </tr>\n",
       "    <tr>\n",
       "      <th>2</th>\n",
       "      <td>nea2ks1</td>\n",
       "      <td>Swimming-Session8806</td>\n",
       "      <td>21</td>\n",
       "      <td>1.757903e+09</td>\n",
       "      <td>MCC are to blame for this.  \\n\\nPrelim(s) shou...</td>\n",
       "    </tr>\n",
       "    <tr>\n",
       "      <th>3</th>\n",
       "      <td>ne9trev</td>\n",
       "      <td>Specialist_Current98</td>\n",
       "      <td>11</td>\n",
       "      <td>1.757900e+09</td>\n",
       "      <td>A couple months ago, my brother, dad and mysel...</td>\n",
       "    </tr>\n",
       "    <tr>\n",
       "      <th>4</th>\n",
       "      <td>ne9qnp5</td>\n",
       "      <td>AlexJokerHAL</td>\n",
       "      <td>15</td>\n",
       "      <td>1.757899e+09</td>\n",
       "      <td>MCC - Oh well. Guess you have to go line up at...</td>\n",
       "    </tr>\n",
       "    <tr>\n",
       "      <th>...</th>\n",
       "      <td>...</td>\n",
       "      <td>...</td>\n",
       "      <td>...</td>\n",
       "      <td>...</td>\n",
       "      <td>...</td>\n",
       "    </tr>\n",
       "    <tr>\n",
       "      <th>118</th>\n",
       "      <td>neboian</td>\n",
       "      <td>nuffiealert</td>\n",
       "      <td>3</td>\n",
       "      <td>1.757933e+09</td>\n",
       "      <td>What a bizarre narrative you have created ther...</td>\n",
       "    </tr>\n",
       "    <tr>\n",
       "      <th>119</th>\n",
       "      <td>nebaa9z</td>\n",
       "      <td>hamleyn248</td>\n",
       "      <td>0</td>\n",
       "      <td>1.757925e+09</td>\n",
       "      <td>Thanks. That's super helpful. You know what th...</td>\n",
       "    </tr>\n",
       "    <tr>\n",
       "      <th>120</th>\n",
       "      <td>nebu4eu</td>\n",
       "      <td>BustedWing</td>\n",
       "      <td>0</td>\n",
       "      <td>1.757936e+09</td>\n",
       "      <td>I mean, if you say so!</td>\n",
       "    </tr>\n",
       "    <tr>\n",
       "      <th>121</th>\n",
       "      <td>nebafmy</td>\n",
       "      <td>identikit12</td>\n",
       "      <td>1</td>\n",
       "      <td>1.757925e+09</td>\n",
       "      <td>I do - and you’re the only one who assumed any...</td>\n",
       "    </tr>\n",
       "    <tr>\n",
       "      <th>122</th>\n",
       "      <td>nebw6ii</td>\n",
       "      <td>nuffiealert</td>\n",
       "      <td>1</td>\n",
       "      <td>1.757937e+09</td>\n",
       "      <td>I just did</td>\n",
       "    </tr>\n",
       "  </tbody>\n",
       "</table>\n",
       "<p>123 rows × 5 columns</p>\n",
       "</div>"
      ],
      "text/plain": [
       "          id                author  score   created_utc  \\\n",
       "0    ne9jn2m          JRicho_Sauce    129  1.757896e+09   \n",
       "1    ne9o6cn                  woka     49  1.757898e+09   \n",
       "2    nea2ks1  Swimming-Session8806     21  1.757903e+09   \n",
       "3    ne9trev  Specialist_Current98     11  1.757900e+09   \n",
       "4    ne9qnp5          AlexJokerHAL     15  1.757899e+09   \n",
       "..       ...                   ...    ...           ...   \n",
       "118  neboian           nuffiealert      3  1.757933e+09   \n",
       "119  nebaa9z            hamleyn248      0  1.757925e+09   \n",
       "120  nebu4eu            BustedWing      0  1.757936e+09   \n",
       "121  nebafmy           identikit12      1  1.757925e+09   \n",
       "122  nebw6ii           nuffiealert      1  1.757937e+09   \n",
       "\n",
       "                                                  body  \n",
       "0    Pretty confident it’s random from waiting room...  \n",
       "1    Wait until you try and pay and you get a gatew...  \n",
       "2    MCC are to blame for this.  \\n\\nPrelim(s) shou...  \n",
       "3    A couple months ago, my brother, dad and mysel...  \n",
       "4    MCC - Oh well. Guess you have to go line up at...  \n",
       "..                                                 ...  \n",
       "118  What a bizarre narrative you have created ther...  \n",
       "119  Thanks. That's super helpful. You know what th...  \n",
       "120                             I mean, if you say so!  \n",
       "121  I do - and you’re the only one who assumed any...  \n",
       "122                                         I just did  \n",
       "\n",
       "[123 rows x 5 columns]"
      ]
     },
     "execution_count": 43,
     "metadata": {},
     "output_type": "execute_result"
    }
   ],
   "source": [
    "df_comments"
   ]
  },
  {
   "cell_type": "code",
   "execution_count": 1,
   "id": "1b0ca1e4",
   "metadata": {},
   "outputs": [
    {
     "name": "stderr",
     "output_type": "stream",
     "text": [
      "[nltk_data] Downloading package vader_lexicon to\n",
      "[nltk_data]     /Users/diegozapataalcaraz/nltk_data...\n",
      "[nltk_data]   Package vader_lexicon is already up-to-date!\n"
     ]
    },
    {
     "data": {
      "text/plain": [
       "True"
      ]
     },
     "execution_count": 1,
     "metadata": {},
     "output_type": "execute_result"
    }
   ],
   "source": [
    "import nltk\n",
    "nltk.download('vader_lexicon')\n"
   ]
  },
  {
   "cell_type": "code",
   "execution_count": 7,
   "id": "dfdb4cc7",
   "metadata": {},
   "outputs": [
    {
     "name": "stdout",
     "output_type": "stream",
     "text": [
      "Team: North Melbourne\n",
      "Comments mentioning team: 223\n",
      "Mean sentiment (compound): 0.255\n",
      "% positive: 59.6%   % negative: 25.6%\n",
      "\n",
      "Top negative bigrams:\n",
      "  in the  (17)\n",
      "  it was  (10)\n",
      "  north melbourne  (10)\n",
      "  the last  (8)\n",
      "  to the  (6)\n",
      "  was a  (6)\n",
      "  west coast  (6)\n",
      "  of their  (6)\n",
      "  and north  (5)\n",
      "  after the  (5)\n",
      "\n",
      "Top positive bigrams:\n",
      "  in the  (40)\n",
      "  of the  (33)\n",
      "  north melbourne  (28)\n",
      "  as a  (23)\n",
      "  to the  (19)\n",
      "  on the  (18)\n",
      "  in a  (17)\n",
      "  would be  (15)\n",
      "  the afl  (15)\n",
      "  a good  (14)\n",
      "\n",
      "Saved per-comment scores → sent_north_melbourne.csv\n"
     ]
    },
    {
     "name": "stderr",
     "output_type": "stream",
     "text": [
      "/var/folders/6h/7_s8d7dn5p565dythb22sn0c0000gn/T/ipykernel_2757/209095370.py:40: UserWarning: This pattern is interpreted as a regular expression, and has match groups. To actually get the groups, use str.extract.\n",
      "  df = df[df[\"body\"].str.contains(team_re, na=False)]\n"
     ]
    }
   ],
   "source": [
    "import re\n",
    "from nltk.sentiment import SentimentIntensityAnalyzer\n",
    "\n",
    "# === Config ===\n",
    "COMMENTS_CSV = \"afl_comments.csv\"\n",
    "TEAM = \"North Melbourne\"  \n",
    "\n",
    "# Map teams to common nicknames/hashtags for matching\n",
    "TEAM_ALIASES = {\n",
    "    \"Adelaide\": [\"adelaide\", \"crows\"],\n",
    "    \"Brisbane\": [\"brisbane\", \"lions\", \"bne\"],\n",
    "    \"Carlton\": [\"carlton\", \"blues\"],\n",
    "    \"Collingwood\": [\"collingwood\", \"pies\", \"magpies\"],\n",
    "    \"Essendon\": [\"essendon\", \"bombers\", \"dons\"],\n",
    "    \"Fremantle\": [\"fremantle\", \"dockers\", \"freo\"],\n",
    "    \"Geelong\": [\"geelong\", \"cats\"],\n",
    "    \"Gold Coast\": [\"gold coast\", \"suns\", \"gc\"],\n",
    "    \"GWS\": [\"gws\", \"giants\", \"greater western sydney\"],\n",
    "    \"Hawthorn\": [\"hawthorn\", \"hawks\"],\n",
    "    \"Melbourne\": [\"melbourne\", \"demons\", \"dees\"],\n",
    "    \"North Melbourne\": [\"north melbourne\", \"kangaroos\", \"roos\", \"north\"],\n",
    "    \"Port Adelaide\": [\"port adelaide\", \"power\", \"port\"],\n",
    "    \"Richmond\": [\"richmond\", \"tigers\", \"tigs\"],\n",
    "    \"St Kilda\": [\"st kilda\", \"saints\"],\n",
    "    \"Sydney\": [\"sydney\", \"swans\", \"bloods\"],\n",
    "    \"West Coast\": [\"west coast\", \"eagles\", \"wce\"],\n",
    "    \"Western Bulldogs\": [\"western bulldogs\", \"bulldogs\", \"dogs\", \"doggies\"],\n",
    "}\n",
    "\n",
    "# Build a regex to detect mentions of the target team (word boundaries; case-insensitive)\n",
    "aliases = TEAM_ALIASES.get(TEAM, [TEAM])\n",
    "pat = r\"\\b(\" + \"|\".join(re.escape(a) for a in aliases) + r\")\\b\"\n",
    "team_re = re.compile(pat, flags=re.IGNORECASE)\n",
    "\n",
    "# === Load comments ===\n",
    "df = pd.read_csv(COMMENTS_CSV, dtype={\"id\": str})\n",
    "df[\"body\"] = df[\"body\"].fillna(\"\")\n",
    "\n",
    "# Filter to comments that mention the team (you can skip this to score all then group)\n",
    "df = df[df[\"body\"].str.contains(team_re, na=False)]\n",
    "\n",
    "# === VADER sentiment ===\n",
    "sia = SentimentIntensityAnalyzer()\n",
    "\n",
    "# AFL slang tweaks\n",
    "sia.lexicon.update({\n",
    "    \"robbed\": -2.0, \"bottled\": -1.6, \"choked\": -1.8, \"clutch\": 1.6,\n",
    "    \"gun\": 1.2, \"soft\": -0.8, \"dog act\": -2.0, \"howler\": -1.5,\n",
    "    \"ump\": -0.6, \"umpiring\": -0.8, \"set shot\": 0.3, \"clanger\": -1.2,\n",
    "    \"killer\": 1.1, \"cunt\": -1\n",
    "})\n",
    "\n",
    "def score(txt: str) -> float:\n",
    "    return sia.polarity_scores(txt)[\"compound\"] \n",
    "\n",
    "df[\"sent\"] = df[\"body\"].astype(str).map(score)\n",
    "\n",
    "# Simple labels\n",
    "def label(x):\n",
    "    if x >= 0.05: return \"pos\"\n",
    "    if x <= -0.05: return \"neg\"\n",
    "    return \"neu\"\n",
    "\n",
    "df[\"label\"] = df[\"sent\"].map(label)\n",
    "\n",
    "# Preprocessing\n",
    "n = len(df)\n",
    "mean_sent = df[\"sent\"].mean() if n else 0.0\n",
    "pct_pos = (df[\"label\"].eq(\"pos\").mean()*100) if n else 0.0\n",
    "pct_neg = (df[\"label\"].eq(\"neg\").mean()*100) if n else 0.0\n",
    "\n",
    "print(f\"Team: {TEAM}\")\n",
    "print(f\"Comments mentioning team: {n:,}\")\n",
    "print(f\"Mean sentiment (compound): {mean_sent:.3f}\")\n",
    "print(f\"% positive: {pct_pos:.1f}%   % negative: {pct_neg:.1f}%\")\n",
    "\n",
    "# Top phrases, frequent bigrams in neg/pos buckets)\n",
    "from collections import Counter\n",
    "def bigrams(s):\n",
    "    toks = re.findall(r\"[a-zA-Z']+\", s.lower())\n",
    "    return zip(toks, toks[1:])\n",
    "\n",
    "top_neg = Counter(b for text in df.loc[df[\"label\"]==\"neg\",\"body\"] for b in bigrams(text)).most_common(10)\n",
    "top_pos = Counter(b for text in df.loc[df[\"label\"]==\"pos\",\"body\"] for b in bigrams(text)).most_common(10)\n",
    "\n",
    "print(\"\\nTop negative bigrams:\")\n",
    "for (w1,w2), c in top_neg[:10]:\n",
    "    print(f\"  {w1} {w2}  ({c})\")\n",
    "\n",
    "print(\"\\nTop positive bigrams:\")\n",
    "for (w1,w2), c in top_pos[:10]:\n",
    "    print(f\"  {w1} {w2}  ({c})\")\n",
    "\n",
    "# (Optional) Save scored comments for this team\n",
    "df_out = df[[\"id\",\"submission_id\",\"created_datetime_utc\",\"author\",\"score\",\"body\",\"sent\",\"label\"]]\n",
    "df_out.to_csv(f\"sent_{TEAM.replace(' ','_').lower()}.csv\", index=False)\n",
    "print(f\"\\nSaved per-comment scores → sent_{TEAM.replace(' ','_').lower()}.csv\")\n"
   ]
  },
  {
   "cell_type": "markdown",
   "id": "1d92b82e",
   "metadata": {},
   "source": [
    "## Merge"
   ]
  },
  {
   "cell_type": "code",
   "execution_count": 25,
   "id": "699e05bc",
   "metadata": {},
   "outputs": [
    {
     "data": {
      "text/html": [
       "<div>\n",
       "<style scoped>\n",
       "    .dataframe tbody tr th:only-of-type {\n",
       "        vertical-align: middle;\n",
       "    }\n",
       "\n",
       "    .dataframe tbody tr th {\n",
       "        vertical-align: top;\n",
       "    }\n",
       "\n",
       "    .dataframe thead th {\n",
       "        text-align: right;\n",
       "    }\n",
       "</style>\n",
       "<table border=\"1\" class=\"dataframe\">\n",
       "  <thead>\n",
       "    <tr style=\"text-align: right;\">\n",
       "      <th></th>\n",
       "      <th>season</th>\n",
       "      <th>round</th>\n",
       "      <th>date_utc</th>\n",
       "      <th>venue</th>\n",
       "      <th>home_team</th>\n",
       "      <th>away_team</th>\n",
       "      <th>home_goals</th>\n",
       "      <th>home_behinds</th>\n",
       "      <th>home_score</th>\n",
       "      <th>away_goals</th>\n",
       "      <th>away_behinds</th>\n",
       "      <th>away_score</th>\n",
       "      <th>winner_team</th>\n",
       "      <th>margin</th>\n",
       "      <th>is_final</th>\n",
       "      <th>is_grand_final</th>\n",
       "      <th>game_id</th>\n",
       "    </tr>\n",
       "  </thead>\n",
       "  <tbody>\n",
       "    <tr>\n",
       "      <th>0</th>\n",
       "      <td>2025</td>\n",
       "      <td>0</td>\n",
       "      <td>2025-03-07 19:40:00+00:00</td>\n",
       "      <td>S.C.G.</td>\n",
       "      <td>Sydney</td>\n",
       "      <td>Hawthorn</td>\n",
       "      <td>11</td>\n",
       "      <td>10</td>\n",
       "      <td>76</td>\n",
       "      <td>14</td>\n",
       "      <td>12</td>\n",
       "      <td>96</td>\n",
       "      <td>Hawthorn</td>\n",
       "      <td>-20</td>\n",
       "      <td>0</td>\n",
       "      <td>0</td>\n",
       "      <td>37091</td>\n",
       "    </tr>\n",
       "    <tr>\n",
       "      <th>1</th>\n",
       "      <td>2025</td>\n",
       "      <td>0</td>\n",
       "      <td>2025-03-09 15:20:00+00:00</td>\n",
       "      <td>Sydney Showground</td>\n",
       "      <td>Greater Western Sydney</td>\n",
       "      <td>Collingwood</td>\n",
       "      <td>15</td>\n",
       "      <td>14</td>\n",
       "      <td>104</td>\n",
       "      <td>6</td>\n",
       "      <td>16</td>\n",
       "      <td>52</td>\n",
       "      <td>Greater Western Sydney</td>\n",
       "      <td>52</td>\n",
       "      <td>0</td>\n",
       "      <td>0</td>\n",
       "      <td>37093</td>\n",
       "    </tr>\n",
       "    <tr>\n",
       "      <th>2</th>\n",
       "      <td>2025</td>\n",
       "      <td>1</td>\n",
       "      <td>2025-03-13 19:30:00+00:00</td>\n",
       "      <td>M.C.G.</td>\n",
       "      <td>Richmond</td>\n",
       "      <td>Carlton</td>\n",
       "      <td>13</td>\n",
       "      <td>4</td>\n",
       "      <td>82</td>\n",
       "      <td>9</td>\n",
       "      <td>15</td>\n",
       "      <td>69</td>\n",
       "      <td>Richmond</td>\n",
       "      <td>13</td>\n",
       "      <td>0</td>\n",
       "      <td>0</td>\n",
       "      <td>37094</td>\n",
       "    </tr>\n",
       "    <tr>\n",
       "      <th>3</th>\n",
       "      <td>2025</td>\n",
       "      <td>1</td>\n",
       "      <td>2025-03-14 19:40:00+00:00</td>\n",
       "      <td>M.C.G.</td>\n",
       "      <td>Hawthorn</td>\n",
       "      <td>Essendon</td>\n",
       "      <td>17</td>\n",
       "      <td>9</td>\n",
       "      <td>111</td>\n",
       "      <td>12</td>\n",
       "      <td>13</td>\n",
       "      <td>85</td>\n",
       "      <td>Hawthorn</td>\n",
       "      <td>26</td>\n",
       "      <td>0</td>\n",
       "      <td>0</td>\n",
       "      <td>37095</td>\n",
       "    </tr>\n",
       "    <tr>\n",
       "      <th>4</th>\n",
       "      <td>2025</td>\n",
       "      <td>1</td>\n",
       "      <td>2025-03-15 13:20:00+00:00</td>\n",
       "      <td>Kardinia Park</td>\n",
       "      <td>Geelong</td>\n",
       "      <td>Fremantle</td>\n",
       "      <td>23</td>\n",
       "      <td>9</td>\n",
       "      <td>147</td>\n",
       "      <td>10</td>\n",
       "      <td>9</td>\n",
       "      <td>69</td>\n",
       "      <td>Geelong</td>\n",
       "      <td>78</td>\n",
       "      <td>0</td>\n",
       "      <td>0</td>\n",
       "      <td>37096</td>\n",
       "    </tr>\n",
       "  </tbody>\n",
       "</table>\n",
       "</div>"
      ],
      "text/plain": [
       "   season  round                  date_utc              venue  \\\n",
       "0    2025      0 2025-03-07 19:40:00+00:00             S.C.G.   \n",
       "1    2025      0 2025-03-09 15:20:00+00:00  Sydney Showground   \n",
       "2    2025      1 2025-03-13 19:30:00+00:00             M.C.G.   \n",
       "3    2025      1 2025-03-14 19:40:00+00:00             M.C.G.   \n",
       "4    2025      1 2025-03-15 13:20:00+00:00      Kardinia Park   \n",
       "\n",
       "                home_team    away_team  home_goals  home_behinds  home_score  \\\n",
       "0                  Sydney     Hawthorn          11            10          76   \n",
       "1  Greater Western Sydney  Collingwood          15            14         104   \n",
       "2                Richmond      Carlton          13             4          82   \n",
       "3                Hawthorn     Essendon          17             9         111   \n",
       "4                 Geelong    Fremantle          23             9         147   \n",
       "\n",
       "   away_goals  away_behinds  away_score             winner_team  margin  \\\n",
       "0          14            12          96                Hawthorn     -20   \n",
       "1           6            16          52  Greater Western Sydney      52   \n",
       "2           9            15          69                Richmond      13   \n",
       "3          12            13          85                Hawthorn      26   \n",
       "4          10             9          69                 Geelong      78   \n",
       "\n",
       "   is_final  is_grand_final  game_id  \n",
       "0         0               0    37091  \n",
       "1         0               0    37093  \n",
       "2         0               0    37094  \n",
       "3         0               0    37095  \n",
       "4         0               0    37096  "
      ]
     },
     "execution_count": 25,
     "metadata": {},
     "output_type": "execute_result"
    }
   ],
   "source": [
    "afl_results_2025 = pd.read_csv(\"afl_results_2025.csv\")\n",
    "afl_results_2025 = afl_results_2025.sort_values(by=\"date_utc\")\n",
    "afl_results_2025[\"date_utc\"] = pd.to_datetime(afl_results_2025.date_utc, utc=True)\n",
    "afl_results_2025.head()"
   ]
  },
  {
   "cell_type": "code",
   "execution_count": 28,
   "id": "4e292f49",
   "metadata": {},
   "outputs": [
    {
     "data": {
      "text/html": [
       "<div>\n",
       "<style scoped>\n",
       "    .dataframe tbody tr th:only-of-type {\n",
       "        vertical-align: middle;\n",
       "    }\n",
       "\n",
       "    .dataframe tbody tr th {\n",
       "        vertical-align: top;\n",
       "    }\n",
       "\n",
       "    .dataframe thead th {\n",
       "        text-align: right;\n",
       "    }\n",
       "</style>\n",
       "<table border=\"1\" class=\"dataframe\">\n",
       "  <thead>\n",
       "    <tr style=\"text-align: right;\">\n",
       "      <th></th>\n",
       "      <th>id</th>\n",
       "      <th>link_id</th>\n",
       "      <th>parent_id</th>\n",
       "      <th>submission_id</th>\n",
       "      <th>author</th>\n",
       "      <th>score</th>\n",
       "      <th>created_utc</th>\n",
       "      <th>created_datetime_utc</th>\n",
       "      <th>body</th>\n",
       "    </tr>\n",
       "  </thead>\n",
       "  <tbody>\n",
       "    <tr>\n",
       "      <th>31513</th>\n",
       "      <td>ncoivy5</td>\n",
       "      <td>t3_1n9qaah</td>\n",
       "      <td>t3_1n9qaah</td>\n",
       "      <td>1n9qaah</td>\n",
       "      <td>Pleasant_Inspection9</td>\n",
       "      <td>7</td>\n",
       "      <td>1.757133e+09</td>\n",
       "      <td>2025-09-06 04:24:19+00:00</td>\n",
       "      <td>https://preview.redd.it/c5yqngni1hnf1.png?widt...</td>\n",
       "    </tr>\n",
       "    <tr>\n",
       "      <th>31460</th>\n",
       "      <td>ncokryd</td>\n",
       "      <td>t3_1n9qet4</td>\n",
       "      <td>t3_1n9qet4</td>\n",
       "      <td>1n9qet4</td>\n",
       "      <td>legally_blond</td>\n",
       "      <td>27</td>\n",
       "      <td>1.757134e+09</td>\n",
       "      <td>2025-09-06 04:38:52+00:00</td>\n",
       "      <td>&gt;But if the broadcasters don’t want to do it t...</td>\n",
       "    </tr>\n",
       "    <tr>\n",
       "      <th>31462</th>\n",
       "      <td>ncokynm</td>\n",
       "      <td>t3_1n9qet4</td>\n",
       "      <td>t3_1n9qet4</td>\n",
       "      <td>1n9qet4</td>\n",
       "      <td>No-Rise2743</td>\n",
       "      <td>11</td>\n",
       "      <td>1.757134e+09</td>\n",
       "      <td>2025-09-06 04:40:21+00:00</td>\n",
       "      <td>I like the pre finals bye. Gets all the best p...</td>\n",
       "    </tr>\n",
       "    <tr>\n",
       "      <th>31469</th>\n",
       "      <td>ncol994</td>\n",
       "      <td>t3_1n9qet4</td>\n",
       "      <td>t3_1n9qet4</td>\n",
       "      <td>1n9qet4</td>\n",
       "      <td>lazy-bruce</td>\n",
       "      <td>0</td>\n",
       "      <td>1.757134e+09</td>\n",
       "      <td>2025-09-06 04:42:40+00:00</td>\n",
       "      <td>I like the idea of 1 bye.\\n\\nBut I also like t...</td>\n",
       "    </tr>\n",
       "    <tr>\n",
       "      <th>31459</th>\n",
       "      <td>ncolg7q</td>\n",
       "      <td>t3_1n9qet4</td>\n",
       "      <td>t3_1n9qet4</td>\n",
       "      <td>1n9qet4</td>\n",
       "      <td>Tall-Breakfast-6100</td>\n",
       "      <td>43</td>\n",
       "      <td>1.757134e+09</td>\n",
       "      <td>2025-09-06 04:44:12+00:00</td>\n",
       "      <td>I’m all for one week bye round. Just makes so ...</td>\n",
       "    </tr>\n",
       "  </tbody>\n",
       "</table>\n",
       "</div>"
      ],
      "text/plain": [
       "            id     link_id   parent_id submission_id                author  \\\n",
       "31513  ncoivy5  t3_1n9qaah  t3_1n9qaah       1n9qaah  Pleasant_Inspection9   \n",
       "31460  ncokryd  t3_1n9qet4  t3_1n9qet4       1n9qet4         legally_blond   \n",
       "31462  ncokynm  t3_1n9qet4  t3_1n9qet4       1n9qet4           No-Rise2743   \n",
       "31469  ncol994  t3_1n9qet4  t3_1n9qet4       1n9qet4            lazy-bruce   \n",
       "31459  ncolg7q  t3_1n9qet4  t3_1n9qet4       1n9qet4   Tall-Breakfast-6100   \n",
       "\n",
       "       score   created_utc      created_datetime_utc  \\\n",
       "31513      7  1.757133e+09 2025-09-06 04:24:19+00:00   \n",
       "31460     27  1.757134e+09 2025-09-06 04:38:52+00:00   \n",
       "31462     11  1.757134e+09 2025-09-06 04:40:21+00:00   \n",
       "31469      0  1.757134e+09 2025-09-06 04:42:40+00:00   \n",
       "31459     43  1.757134e+09 2025-09-06 04:44:12+00:00   \n",
       "\n",
       "                                                    body  \n",
       "31513  https://preview.redd.it/c5yqngni1hnf1.png?widt...  \n",
       "31460  >But if the broadcasters don’t want to do it t...  \n",
       "31462  I like the pre finals bye. Gets all the best p...  \n",
       "31469  I like the idea of 1 bye.\\n\\nBut I also like t...  \n",
       "31459  I’m all for one week bye round. Just makes so ...  "
      ]
     },
     "execution_count": 28,
     "metadata": {},
     "output_type": "execute_result"
    }
   ],
   "source": [
    "afl_comments = pd.read_csv(\"afl_comments.csv\")\n",
    "afl_comments[\"created_datetime_utc\"] = pd.to_datetime(afl_comments.created_datetime_utc, utc=True)\n",
    "afl_comments = afl_comments.sort_values(by=\"created_datetime_utc\")\n",
    "afl_comments.head()"
   ]
  },
  {
   "cell_type": "code",
   "execution_count": null,
   "id": "a4be933a",
   "metadata": {},
   "outputs": [],
   "source": [
    "afl_merge = pd.merge_asof(afl_comments, afl_results_2025, left_on=\"created_datetime_utc\", right_on=\"date_utc\", direction=\"backward\")\n",
    "afl_merge.head()"
   ]
  },
  {
   "cell_type": "code",
   "execution_count": 43,
   "id": "412d5378",
   "metadata": {},
   "outputs": [
    {
     "data": {
      "text/plain": [
       "Index(['id', 'link_id', 'parent_id', 'submission_id', 'author', 'score',\n",
       "       'created_utc', 'created_datetime_utc', 'body', 'season', 'round',\n",
       "       'date_utc', 'venue', 'home_team', 'away_team', 'home_goals',\n",
       "       'home_behinds', 'home_score', 'away_goals', 'away_behinds',\n",
       "       'away_score', 'winner_team', 'margin', 'is_final', 'is_grand_final',\n",
       "       'game_id'],\n",
       "      dtype='object')"
      ]
     },
     "execution_count": 43,
     "metadata": {},
     "output_type": "execute_result"
    }
   ],
   "source": [
    "afl_merge.columns"
   ]
  },
  {
   "cell_type": "code",
   "execution_count": 49,
   "id": "180a3945",
   "metadata": {},
   "outputs": [
    {
     "data": {
      "text/plain": [
       "Timestamp('2025-09-06 04:24:19+0000', tz='UTC')"
      ]
     },
     "execution_count": 49,
     "metadata": {},
     "output_type": "execute_result"
    }
   ],
   "source": [
    "afl_comments[\"created_datetime_utc\"].min()"
   ]
  },
  {
   "cell_type": "code",
   "execution_count": null,
   "id": "31d1f2be",
   "metadata": {},
   "outputs": [
    {
     "data": {
      "image/png": "[encoded data removed]",
      "text/plain": [
       "<Figure size 1200x600 with 1 Axes>"
      ]
     },
     "metadata": {},
     "output_type": "display_data"
    }
   ],
   "source": [
    "# Count comments per day\n",
    "counts = afl_merge.groupby(afl_merge[\"created_datetime_utc\"].dt.date).size()\n",
    "\n",
    "plt.figure(figsize=(12,6))\n",
    "counts.plot(kind=\"bar\")\n",
    "plt.title(\"Number of comments per day\")\n",
    "plt.xlabel(\"Date\")\n",
    "plt.ylabel(\"Comment count\")\n",
    "plt.xticks(rotation=90)\n",
    "plt.show()"
   ]
  },
  {
   "cell_type": "code",
   "execution_count": 51,
   "id": "013be396",
   "metadata": {},
   "outputs": [
    {
     "data": {
      "text/plain": [
       "Index(['id', 'title', 'author', 'score', 'num_comments', 'created_utc',\n",
       "       'created_datetime_utc', 'url', 'permalink', 'subreddit', 'over_18',\n",
       "       'locked', 'stickied', 'is_self', 'selftext'],\n",
       "      dtype='object')"
      ]
     },
     "execution_count": 51,
     "metadata": {},
     "output_type": "execute_result"
    }
   ],
   "source": [
    "afl_posts = pd.read_csv(\"afl_posts.csv\")\n",
    "afl_posts.columns"
   ]
  },
  {
   "cell_type": "code",
   "execution_count": 52,
   "id": "bbe6e79d",
   "metadata": {},
   "outputs": [
    {
     "data": {
      "text/plain": [
       "'2025-08-26T06:47:36+00:00'"
      ]
     },
     "execution_count": 52,
     "metadata": {},
     "output_type": "execute_result"
    }
   ],
   "source": [
    "afl_posts.created_datetime_utc.min()"
   ]
  },
  {
   "cell_type": "code",
   "execution_count": null,
   "id": "75658ba8",
   "metadata": {},
   "outputs": [],
   "source": []
  }
 ],
 "metadata": {
  "kernelspec": {
   "display_name": "DataScience",
   "language": "python",
   "name": "python3"
  },
  "language_info": {
   "codemirror_mode": {
    "name": "ipython",
    "version": 3
   },
   "file_extension": ".py",
   "mimetype": "text/x-python",
   "name": "python",
   "nbconvert_exporter": "python",
   "pygments_lexer": "ipython3",
   "version": "3.13.5"
  }
 },
 "nbformat": 4,
 "nbformat_minor": 5
}
