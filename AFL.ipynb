{
 "cells": [
  {
   "cell_type": "code",
   "execution_count": 2,
   "id": "1790563a",
   "metadata": {},
   "outputs": [],
   "source": [
    "# Libraries\n",
    "import pandas as pd\n",
    "import numpy as np  \n",
    "import matplotlib.pyplot as plt\n",
    "import csv\n",
    "\n",
    "import requests\n",
    "import os, json, time, random, datetime as dt\n",
    "\n",
    "import praw\n",
    "from prawcore.exceptions import RequestException, ResponseException, ServerError, Forbidden, TooManyRequests"
   ]
  },
  {
   "cell_type": "markdown",
   "id": "49006f98",
   "metadata": {},
   "source": [
    "## Reddit API"
   ]
  },
  {
   "cell_type": "code",
   "execution_count": null,
   "id": "2a2e3d02",
   "metadata": {},
   "outputs": [],
   "source": [
    "https://www.reddit.com/api/v1/authorize?client_id=CLIENT_ID&response_type=TYPE&\n",
    "    state=RANDOM_STRING&redirect_uri=URI&duration=DURATION&scope=SCOPE_STRING"
   ]
  },
  {
   "cell_type": "code",
   "execution_count": 7,
   "id": "d3f164a8",
   "metadata": {},
   "outputs": [
    {
     "data": {
      "text/plain": [
       "22"
      ]
     },
     "execution_count": 7,
     "metadata": {},
     "output_type": "execute_result"
    }
   ],
   "source": [
    "len(\"dqXuuOK3P0c5rM9twm71nw\")"
   ]
  },
  {
   "cell_type": "code",
   "execution_count": null,
   "id": "3378a0f5",
   "metadata": {},
   "outputs": [
    {
     "name": "stdout",
     "output_type": "stream",
     "text": [
      "        id                                              title  score  \\\n",
      "0  1nh6qqe                              Ticketek are hopeless     73   \n",
      "1  1ni3xol  AFL ripped for 'doing absolutely nothing' abou...    389   \n",
      "2  1ni87r6  North Melbourne captain Jy Simpkin exploring b...    175   \n",
      "3  1ni9h6w  Zach Merrett is furious at reports he acted di...    127   \n",
      "4  1ni50ah                           Wayne’s world goes wrong    178   \n",
      "5  1ni65wv  [7News] Adelaide will ask the question of Melb...    141   \n",
      "6  1ni3e4f  Tom Liberatore tattoo in the style of The Simp...    165   \n",
      "7  1ni6mm9            Anyone thinking of going to this event?    102   \n",
      "8  1ni9n1l                                 Double MCG Sellout     57   \n",
      "9  1ni1gvy  [Jon Ralph] There is acceptance at Essendon th...    186   \n",
      "\n",
      "   num_comments   created_utc  \\\n",
      "0           121  1.757894e+09   \n",
      "1           167  1.757985e+09   \n",
      "2           225  1.757998e+09   \n",
      "3           176  1.758002e+09   \n",
      "4            76  1.757988e+09   \n",
      "5           106  1.757991e+09   \n",
      "6            13  1.757984e+09   \n",
      "7            59  1.757993e+09   \n",
      "8            31  1.758003e+09   \n",
      "9           320  1.757978e+09   \n",
      "\n",
      "                                                 url  \n",
      "0  https://www.reddit.com/r/AFL/comments/1nh6qqe/...  \n",
      "1  https://www.nine.com.au/sport/afl/news-2025-ge...  \n",
      "2  https://7news.com.au/sport/afl/north-melbourne...  \n",
      "3                           https://archive.is/igeDr  \n",
      "4               https://i.redd.it/zf8e79u8pfpf1.jpeg  \n",
      "5                https://i.redd.it/1ym1qab5zfpf1.png  \n",
      "6               https://i.redd.it/i7qd8ybvbfpf1.jpeg  \n",
      "7               https://i.redd.it/k01oztoa3gpf1.jpeg  \n",
      "8             https://www.reddit.com/gallery/1ni9n1l  \n",
      "9               https://i.redd.it/a18tyfziwepf1.jpeg  \n"
     ]
    }
   ],
   "source": [
    "\n",
    "# credentials\n",
    "CLIENT_ID = \"dqXuuOK3P0c5rM9twm71nw\"\n",
    "CLIENT_SECRET = \"bATSC1DE_28YvrYs2vDm2Noc8LG9Tg\"\n",
    "USER_AGENT = \"AFL-sentiment-script:v1.0 (by u/GoldRelative4814)\"\n",
    "\n",
    "# Connect to Reddit API\n",
    "reddit = praw.Reddit(\n",
    "    client_id=CLIENT_ID,\n",
    "    client_secret=CLIENT_SECRET,\n",
    "    user_agent=USER_AGENT\n",
    ")\n",
    "\n",
    "# pull 10 hottest posts from r/AFL\n",
    "subreddit = reddit.subreddit(\"AFL\")\n",
    "posts = []\n",
    "for post in subreddit.hot(limit=10):\n",
    "    posts.append({\n",
    "        \"id\": post.id,\n",
    "        \"title\": post.title,\n",
    "        \"score\": post.score,\n",
    "        \"num_comments\": post.num_comments,\n",
    "        \"created_utc\": post.created_utc,\n",
    "        \"url\": post.url\n",
    "    })\n",
    "\n",
    "df_posts = pd.DataFrame(posts)\n",
    "print(df_posts)"
   ]
  },
  {
   "cell_type": "code",
   "execution_count": 9,
   "id": "9b461e3b",
   "metadata": {},
   "outputs": [
    {
     "name": "stdout",
     "output_type": "stream",
     "text": [
      "        id                author  score   created_utc  \\\n",
      "0  ne9jn2m          JRicho_Sauce    129  1.757896e+09   \n",
      "1  ne9o6cn                  woka     49  1.757898e+09   \n",
      "2  nea2ks1  Swimming-Session8806     21  1.757903e+09   \n",
      "3  ne9trev  Specialist_Current98     11  1.757900e+09   \n",
      "4  ne9qnp5          AlexJokerHAL     15  1.757899e+09   \n",
      "\n",
      "                                                body  \n",
      "0  Pretty confident it’s random from waiting room...  \n",
      "1  Wait until you try and pay and you get a gatew...  \n",
      "2  MCC are to blame for this.  \\n\\nPrelim(s) shou...  \n",
      "3  A couple months ago, my brother, dad and mysel...  \n",
      "4  MCC - Oh well. Guess you have to go line up at...  \n"
     ]
    }
   ],
   "source": [
    "# Example: fetch comments from the first post\n",
    "submission = reddit.submission(id=df_posts.loc[0, \"id\"])\n",
    "submission.comments.replace_more(limit=None)  # load all nested comments\n",
    "\n",
    "comments = []\n",
    "for comment in submission.comments.list():\n",
    "    comments.append({\n",
    "        \"id\": comment.id,\n",
    "        \"author\": str(comment.author),\n",
    "        \"score\": comment.score,\n",
    "        \"created_utc\": comment.created_utc,\n",
    "        \"body\": comment.body\n",
    "    })\n",
    "\n",
    "df_comments = pd.DataFrame(comments)\n",
    "print(df_comments.head())\n",
    "\n",
    "# Save to CSV\n",
    "df_comments.to_csv(\"afl_comments.csv\", index=False)"
   ]
  },
  {
   "cell_type": "code",
   "execution_count": 11,
   "id": "d78a4c3b",
   "metadata": {},
   "outputs": [
    {
     "data": {
      "text/html": [
       "<div>\n",
       "<style scoped>\n",
       "    .dataframe tbody tr th:only-of-type {\n",
       "        vertical-align: middle;\n",
       "    }\n",
       "\n",
       "    .dataframe tbody tr th {\n",
       "        vertical-align: top;\n",
       "    }\n",
       "\n",
       "    .dataframe thead th {\n",
       "        text-align: right;\n",
       "    }\n",
       "</style>\n",
       "<table border=\"1\" class=\"dataframe\">\n",
       "  <thead>\n",
       "    <tr style=\"text-align: right;\">\n",
       "      <th></th>\n",
       "      <th>id</th>\n",
       "      <th>author</th>\n",
       "      <th>score</th>\n",
       "      <th>created_utc</th>\n",
       "      <th>body</th>\n",
       "    </tr>\n",
       "  </thead>\n",
       "  <tbody>\n",
       "    <tr>\n",
       "      <th>0</th>\n",
       "      <td>ne9jn2m</td>\n",
       "      <td>JRicho_Sauce</td>\n",
       "      <td>129</td>\n",
       "      <td>1.757896e+09</td>\n",
       "      <td>Pretty confident it’s random from waiting room...</td>\n",
       "    </tr>\n",
       "    <tr>\n",
       "      <th>1</th>\n",
       "      <td>ne9o6cn</td>\n",
       "      <td>woka</td>\n",
       "      <td>49</td>\n",
       "      <td>1.757898e+09</td>\n",
       "      <td>Wait until you try and pay and you get a gatew...</td>\n",
       "    </tr>\n",
       "    <tr>\n",
       "      <th>2</th>\n",
       "      <td>nea2ks1</td>\n",
       "      <td>Swimming-Session8806</td>\n",
       "      <td>21</td>\n",
       "      <td>1.757903e+09</td>\n",
       "      <td>MCC are to blame for this.  \\n\\nPrelim(s) shou...</td>\n",
       "    </tr>\n",
       "    <tr>\n",
       "      <th>3</th>\n",
       "      <td>ne9trev</td>\n",
       "      <td>Specialist_Current98</td>\n",
       "      <td>11</td>\n",
       "      <td>1.757900e+09</td>\n",
       "      <td>A couple months ago, my brother, dad and mysel...</td>\n",
       "    </tr>\n",
       "    <tr>\n",
       "      <th>4</th>\n",
       "      <td>ne9qnp5</td>\n",
       "      <td>AlexJokerHAL</td>\n",
       "      <td>15</td>\n",
       "      <td>1.757899e+09</td>\n",
       "      <td>MCC - Oh well. Guess you have to go line up at...</td>\n",
       "    </tr>\n",
       "    <tr>\n",
       "      <th>...</th>\n",
       "      <td>...</td>\n",
       "      <td>...</td>\n",
       "      <td>...</td>\n",
       "      <td>...</td>\n",
       "      <td>...</td>\n",
       "    </tr>\n",
       "    <tr>\n",
       "      <th>118</th>\n",
       "      <td>neboian</td>\n",
       "      <td>nuffiealert</td>\n",
       "      <td>3</td>\n",
       "      <td>1.757933e+09</td>\n",
       "      <td>What a bizarre narrative you have created ther...</td>\n",
       "    </tr>\n",
       "    <tr>\n",
       "      <th>119</th>\n",
       "      <td>nebaa9z</td>\n",
       "      <td>hamleyn248</td>\n",
       "      <td>0</td>\n",
       "      <td>1.757925e+09</td>\n",
       "      <td>Thanks. That's super helpful. You know what th...</td>\n",
       "    </tr>\n",
       "    <tr>\n",
       "      <th>120</th>\n",
       "      <td>nebu4eu</td>\n",
       "      <td>BustedWing</td>\n",
       "      <td>0</td>\n",
       "      <td>1.757936e+09</td>\n",
       "      <td>I mean, if you say so!</td>\n",
       "    </tr>\n",
       "    <tr>\n",
       "      <th>121</th>\n",
       "      <td>nebafmy</td>\n",
       "      <td>identikit12</td>\n",
       "      <td>1</td>\n",
       "      <td>1.757925e+09</td>\n",
       "      <td>I do - and you’re the only one who assumed any...</td>\n",
       "    </tr>\n",
       "    <tr>\n",
       "      <th>122</th>\n",
       "      <td>nebw6ii</td>\n",
       "      <td>nuffiealert</td>\n",
       "      <td>1</td>\n",
       "      <td>1.757937e+09</td>\n",
       "      <td>I just did</td>\n",
       "    </tr>\n",
       "  </tbody>\n",
       "</table>\n",
       "<p>123 rows × 5 columns</p>\n",
       "</div>"
      ],
      "text/plain": [
       "          id                author  score   created_utc  \\\n",
       "0    ne9jn2m          JRicho_Sauce    129  1.757896e+09   \n",
       "1    ne9o6cn                  woka     49  1.757898e+09   \n",
       "2    nea2ks1  Swimming-Session8806     21  1.757903e+09   \n",
       "3    ne9trev  Specialist_Current98     11  1.757900e+09   \n",
       "4    ne9qnp5          AlexJokerHAL     15  1.757899e+09   \n",
       "..       ...                   ...    ...           ...   \n",
       "118  neboian           nuffiealert      3  1.757933e+09   \n",
       "119  nebaa9z            hamleyn248      0  1.757925e+09   \n",
       "120  nebu4eu            BustedWing      0  1.757936e+09   \n",
       "121  nebafmy           identikit12      1  1.757925e+09   \n",
       "122  nebw6ii           nuffiealert      1  1.757937e+09   \n",
       "\n",
       "                                                  body  \n",
       "0    Pretty confident it’s random from waiting room...  \n",
       "1    Wait until you try and pay and you get a gatew...  \n",
       "2    MCC are to blame for this.  \\n\\nPrelim(s) shou...  \n",
       "3    A couple months ago, my brother, dad and mysel...  \n",
       "4    MCC - Oh well. Guess you have to go line up at...  \n",
       "..                                                 ...  \n",
       "118  What a bizarre narrative you have created ther...  \n",
       "119  Thanks. That's super helpful. You know what th...  \n",
       "120                             I mean, if you say so!  \n",
       "121  I do - and you’re the only one who assumed any...  \n",
       "122                                         I just did  \n",
       "\n",
       "[123 rows x 5 columns]"
      ]
     },
     "execution_count": 11,
     "metadata": {},
     "output_type": "execute_result"
    }
   ],
   "source": [
    "df_comments"
   ]
  },
  {
   "cell_type": "code",
   "execution_count": 10,
   "id": "031c532b",
   "metadata": {},
   "outputs": [
    {
     "data": {
      "text/html": [
       "<div>\n",
       "<style scoped>\n",
       "    .dataframe tbody tr th:only-of-type {\n",
       "        vertical-align: middle;\n",
       "    }\n",
       "\n",
       "    .dataframe tbody tr th {\n",
       "        vertical-align: top;\n",
       "    }\n",
       "\n",
       "    .dataframe thead th {\n",
       "        text-align: right;\n",
       "    }\n",
       "</style>\n",
       "<table border=\"1\" class=\"dataframe\">\n",
       "  <thead>\n",
       "    <tr style=\"text-align: right;\">\n",
       "      <th></th>\n",
       "      <th>id</th>\n",
       "      <th>title</th>\n",
       "      <th>score</th>\n",
       "      <th>num_comments</th>\n",
       "      <th>created_utc</th>\n",
       "      <th>url</th>\n",
       "    </tr>\n",
       "  </thead>\n",
       "  <tbody>\n",
       "    <tr>\n",
       "      <th>0</th>\n",
       "      <td>1nh6qqe</td>\n",
       "      <td>Ticketek are hopeless</td>\n",
       "      <td>73</td>\n",
       "      <td>121</td>\n",
       "      <td>1.757894e+09</td>\n",
       "      <td>https://www.reddit.com/r/AFL/comments/1nh6qqe/...</td>\n",
       "    </tr>\n",
       "    <tr>\n",
       "      <th>1</th>\n",
       "      <td>1ni3xol</td>\n",
       "      <td>AFL ripped for 'doing absolutely nothing' abou...</td>\n",
       "      <td>389</td>\n",
       "      <td>167</td>\n",
       "      <td>1.757985e+09</td>\n",
       "      <td>https://www.nine.com.au/sport/afl/news-2025-ge...</td>\n",
       "    </tr>\n",
       "    <tr>\n",
       "      <th>2</th>\n",
       "      <td>1ni87r6</td>\n",
       "      <td>North Melbourne captain Jy Simpkin exploring b...</td>\n",
       "      <td>175</td>\n",
       "      <td>225</td>\n",
       "      <td>1.757998e+09</td>\n",
       "      <td>https://7news.com.au/sport/afl/north-melbourne...</td>\n",
       "    </tr>\n",
       "    <tr>\n",
       "      <th>3</th>\n",
       "      <td>1ni9h6w</td>\n",
       "      <td>Zach Merrett is furious at reports he acted di...</td>\n",
       "      <td>127</td>\n",
       "      <td>176</td>\n",
       "      <td>1.758002e+09</td>\n",
       "      <td>https://archive.is/igeDr</td>\n",
       "    </tr>\n",
       "    <tr>\n",
       "      <th>4</th>\n",
       "      <td>1ni50ah</td>\n",
       "      <td>Wayne’s world goes wrong</td>\n",
       "      <td>178</td>\n",
       "      <td>76</td>\n",
       "      <td>1.757988e+09</td>\n",
       "      <td>https://i.redd.it/zf8e79u8pfpf1.jpeg</td>\n",
       "    </tr>\n",
       "    <tr>\n",
       "      <th>5</th>\n",
       "      <td>1ni65wv</td>\n",
       "      <td>[7News] Adelaide will ask the question of Melb...</td>\n",
       "      <td>141</td>\n",
       "      <td>106</td>\n",
       "      <td>1.757991e+09</td>\n",
       "      <td>https://i.redd.it/1ym1qab5zfpf1.png</td>\n",
       "    </tr>\n",
       "    <tr>\n",
       "      <th>6</th>\n",
       "      <td>1ni3e4f</td>\n",
       "      <td>Tom Liberatore tattoo in the style of The Simp...</td>\n",
       "      <td>165</td>\n",
       "      <td>13</td>\n",
       "      <td>1.757984e+09</td>\n",
       "      <td>https://i.redd.it/i7qd8ybvbfpf1.jpeg</td>\n",
       "    </tr>\n",
       "    <tr>\n",
       "      <th>7</th>\n",
       "      <td>1ni6mm9</td>\n",
       "      <td>Anyone thinking of going to this event?</td>\n",
       "      <td>102</td>\n",
       "      <td>59</td>\n",
       "      <td>1.757993e+09</td>\n",
       "      <td>https://i.redd.it/k01oztoa3gpf1.jpeg</td>\n",
       "    </tr>\n",
       "    <tr>\n",
       "      <th>8</th>\n",
       "      <td>1ni9n1l</td>\n",
       "      <td>Double MCG Sellout</td>\n",
       "      <td>57</td>\n",
       "      <td>31</td>\n",
       "      <td>1.758003e+09</td>\n",
       "      <td>https://www.reddit.com/gallery/1ni9n1l</td>\n",
       "    </tr>\n",
       "    <tr>\n",
       "      <th>9</th>\n",
       "      <td>1ni1gvy</td>\n",
       "      <td>[Jon Ralph] There is acceptance at Essendon th...</td>\n",
       "      <td>186</td>\n",
       "      <td>320</td>\n",
       "      <td>1.757978e+09</td>\n",
       "      <td>https://i.redd.it/a18tyfziwepf1.jpeg</td>\n",
       "    </tr>\n",
       "  </tbody>\n",
       "</table>\n",
       "</div>"
      ],
      "text/plain": [
       "        id                                              title  score  \\\n",
       "0  1nh6qqe                              Ticketek are hopeless     73   \n",
       "1  1ni3xol  AFL ripped for 'doing absolutely nothing' abou...    389   \n",
       "2  1ni87r6  North Melbourne captain Jy Simpkin exploring b...    175   \n",
       "3  1ni9h6w  Zach Merrett is furious at reports he acted di...    127   \n",
       "4  1ni50ah                           Wayne’s world goes wrong    178   \n",
       "5  1ni65wv  [7News] Adelaide will ask the question of Melb...    141   \n",
       "6  1ni3e4f  Tom Liberatore tattoo in the style of The Simp...    165   \n",
       "7  1ni6mm9            Anyone thinking of going to this event?    102   \n",
       "8  1ni9n1l                                 Double MCG Sellout     57   \n",
       "9  1ni1gvy  [Jon Ralph] There is acceptance at Essendon th...    186   \n",
       "\n",
       "   num_comments   created_utc  \\\n",
       "0           121  1.757894e+09   \n",
       "1           167  1.757985e+09   \n",
       "2           225  1.757998e+09   \n",
       "3           176  1.758002e+09   \n",
       "4            76  1.757988e+09   \n",
       "5           106  1.757991e+09   \n",
       "6            13  1.757984e+09   \n",
       "7            59  1.757993e+09   \n",
       "8            31  1.758003e+09   \n",
       "9           320  1.757978e+09   \n",
       "\n",
       "                                                 url  \n",
       "0  https://www.reddit.com/r/AFL/comments/1nh6qqe/...  \n",
       "1  https://www.nine.com.au/sport/afl/news-2025-ge...  \n",
       "2  https://7news.com.au/sport/afl/north-melbourne...  \n",
       "3                           https://archive.is/igeDr  \n",
       "4               https://i.redd.it/zf8e79u8pfpf1.jpeg  \n",
       "5                https://i.redd.it/1ym1qab5zfpf1.png  \n",
       "6               https://i.redd.it/i7qd8ybvbfpf1.jpeg  \n",
       "7               https://i.redd.it/k01oztoa3gpf1.jpeg  \n",
       "8             https://www.reddit.com/gallery/1ni9n1l  \n",
       "9               https://i.redd.it/a18tyfziwepf1.jpeg  "
      ]
     },
     "execution_count": 10,
     "metadata": {},
     "output_type": "execute_result"
    }
   ],
   "source": [
    "df_posts"
   ]
  },
  {
   "cell_type": "markdown",
   "id": "7daf9343",
   "metadata": {},
   "source": [
    "## Scale up"
   ]
  },
  {
   "cell_type": "markdown",
   "id": "2f737d49",
   "metadata": {},
   "source": [
    "### Posts"
   ]
  },
  {
   "cell_type": "code",
   "execution_count": 75,
   "id": "7f43c19c",
   "metadata": {},
   "outputs": [],
   "source": [
    "# credentials\n",
    "CLIENT_ID = \"dqXuuOK3P0c5rM9twm71nw\"\n",
    "CLIENT_SECRET = \"bATSC1DE_28YvrYs2vDm2Noc8LG9Tg\"\n",
    "USER_AGENT = \"AFL-sentiment-script:v1.0 (by u/GoldRelative4814)\"\n",
    "\n",
    "# Connect to Reddit API\n",
    "reddit = praw.Reddit(\n",
    "    client_id=CLIENT_ID,\n",
    "    client_secret=CLIENT_SECRET,\n",
    "    user_agent=USER_AGENT\n",
    ")\n",
    "\n",
    "\n",
    "# -----------------------------\n",
    "# 2) Config\n",
    "# -----------------------------\n",
    "SUBREDDIT = \"AFL\"\n",
    "OUT_POSTS = \"afl_posts.parquet\" # incremental append\n",
    "CHECKPOINT = \"afl_posts_checkpoint.json\"\n",
    "\n",
    "# Season window in UTC \n",
    "SEASON_START = dt.datetime(2025, 8, 1, tzinfo=dt.timezone.utc)\n",
    "SEASON_END   = dt.datetime(2025, 8, 31, tzinfo=dt.timezone.utc)\n",
    "\n",
    "# Save every N matched posts to avoid losing work\n",
    "SAVE_EVERY = 100\n",
    "\n",
    "# -----------------------------\n",
    "# 3) Helpers\n",
    "# -----------------------------\n",
    "def load_checkpoint():\n",
    "    if os.path.exists(CHECKPOINT):\n",
    "        with open(CHECKPOINT, \"r\") as f:\n",
    "            return json.load(f)\n",
    "    return {\"last_created_utc\": None, \"seen_ids\": []}\n",
    "\n",
    "def save_checkpoint(state):\n",
    "    with open(CHECKPOINT, \"w\") as f:\n",
    "        json.dump(state, f)\n",
    "\n",
    "def rate_limit_backoff(attempt):\n",
    "    # Exponential backoff with jitter (cap at ~2 minutes)\n",
    "    sleep_s = min(120, (2 ** min(attempt, 6)) + random.uniform(0, 1))\n",
    "    time.sleep(sleep_s)\n",
    "\n",
    "def title_matches(t):\n",
    "    t_low = (t or \"\").lower()\n",
    "    return any(k in t_low for k in TITLE_KEYWORDS)\n",
    "\n",
    "def within_season(ts_utc):\n",
    "    return SEASON_START.timestamp() <= ts_utc <= SEASON_END.timestamp()\n",
    "\n",
    "def to_dt(ts_utc):\n",
    "    return dt.datetime.utcfromtimestamp(ts_utc).replace(tzinfo=dt.timezone.utc)\n",
    "\n",
    "def append_parquet(df, path):\n",
    "    if df.empty:\n",
    "        return\n",
    "    if not os.path.exists(path):\n",
    "        df.to_parquet(path, index=False)\n",
    "    else:\n",
    "        # append by reading and concatenating (simple + safe)\n",
    "        old = pd.read_parquet(path)\n",
    "        out = pd.concat([old, df], ignore_index=True)\n",
    "        out.drop_duplicates(subset=[\"id\"], inplace=True)\n",
    "        out.to_parquet(path, index=False)\n",
    "\n",
    "def append_csv(df, path):\n",
    "    if df.empty:\n",
    "        return\n",
    "    if not os.path.exists(path):\n",
    "        df.to_csv(path, index=False)\n",
    "    else:\n",
    "        df.to_csv(path, mode=\"a\", header=False, index=False)\n",
    "\n",
    "# -----------------------------\n",
    "# 4) Harvest posts for a season\n",
    "# -----------------------------\n",
    "def harvest_season_posts():\n",
    "    state = load_checkpoint()\n",
    "    seen_ids = set(state.get(\"seen_ids\", []))\n",
    "    last_created_utc = state.get(\"last_created_utc\")\n",
    "\n",
    "    sub = reddit.subreddit(SUBREDDIT)\n",
    "\n",
    "    # We’ll iterate from newest to oldest; stop when we pass SEASON_START\n",
    "    matched = []\n",
    "    total_seen = 0\n",
    "    saved = 0\n",
    "    attempt = 0\n",
    "\n",
    "    print(f\"Scanning r/{SUBREDDIT} .new() for season window \"\n",
    "          f\"{SEASON_START.date()} — {SEASON_END.date()} (UTC).\")\n",
    "\n",
    "    while True:\n",
    "        try:\n",
    "            # PRAW paginates for us; limit=None walks through history\n",
    "            for post in sub.new(limit=None):\n",
    "                total_seen += 1\n",
    "\n",
    "                # Stop if we've gone past season start\n",
    "                if post.created_utc < SEASON_START.timestamp():\n",
    "                    print(\"Reached posts older than SEASON_START; stopping.\")\n",
    "                    raise StopIteration\n",
    "\n",
    "                # Skip if beyond season end (we’re going backward in time, so this just continues)\n",
    "                if post.created_utc > SEASON_END.timestamp():\n",
    "                    continue\n",
    "\n",
    "                # Skip duplicates\n",
    "                if post.id in seen_ids:\n",
    "                    continue\n",
    "\n",
    "                # # Filter by title keywords if desired\n",
    "                # if not title_matches(post.title):\n",
    "                #     continue\n",
    "\n",
    "                matched.append({\n",
    "                    \"id\": post.id,\n",
    "                    \"title\": post.title,\n",
    "                    \"author\": str(post.author) if post.author else None,\n",
    "                    \"score\": post.score,\n",
    "                    \"num_comments\": post.num_comments,\n",
    "                    \"created_utc\": post.created_utc,\n",
    "                    \"created_datetime_utc\": to_dt(post.created_utc).isoformat(),\n",
    "                    \"url\": post.url,\n",
    "                    \"permalink\": f\"https://www.reddit.com{post.permalink}\",\n",
    "                    \"subreddit\": str(post.subreddit),\n",
    "                    \"over_18\": post.over_18,\n",
    "                    \"locked\": post.locked,\n",
    "                    \"stickied\": post.stickied,\n",
    "                    \"is_self\": post.is_self,\n",
    "                    \"selftext\": post.selftext if post.is_self else None,\n",
    "                })\n",
    "                seen_ids.add(post.id)\n",
    "\n",
    "                # Periodic save\n",
    "                if len(matched) >= SAVE_EVERY:\n",
    "                    df = pd.DataFrame(matched)\n",
    "                    append_csv(df, OUT_POSTS.replace(\".parquet\", \".csv\"))\n",
    "                    saved += len(df)\n",
    "                    matched.clear()\n",
    "                    # update checkpoint\n",
    "                    state = {\n",
    "                        \"last_created_utc\": post.created_utc,\n",
    "                        \"seen_ids\": list(seen_ids),\n",
    "                    }\n",
    "                    save_checkpoint(state)\n",
    "                    print(f\"Saved {saved} posts so far \"\n",
    "                          f\"(total scanned: {total_seen:,}).\")\n",
    "            # If loop exhausts (rare), break\n",
    "            break\n",
    "\n",
    "        except StopIteration:\n",
    "            # Save what we have and exit cleanly\n",
    "            if matched:\n",
    "                df = pd.DataFrame(matched)\n",
    "                append_csv(df, OUT_POSTS.replace(\".parquet\", \".csv\"))\n",
    "                saved += len(df)\n",
    "                matched.clear()\n",
    "            state = {\n",
    "                \"last_created_utc\": last_created_utc,\n",
    "                \"seen_ids\": list(seen_ids),\n",
    "            }\n",
    "            save_checkpoint(state)\n",
    "            print(f\"Done. Total scanned: {total_seen:,}. Total saved: {saved}.\")\n",
    "            return\n",
    "\n",
    "        except (TooManyRequests, ServerError, RequestException, ResponseException, Forbidden) as e:\n",
    "            attempt += 1\n",
    "            print(f\"[WARN] API/Ratelimit error ({type(e).__name__}): {e}. \"\n",
    "                  f\"Backing off (attempt {attempt})…\")\n",
    "            rate_limit_backoff(attempt)\n",
    "            # loop continues and resumes\n",
    "\n",
    "    # Final flush\n",
    "    if matched:\n",
    "        df = pd.DataFrame(matched)\n",
    "        append_csv(df, OUT_POSTS.replace(\".parquet\", \".csv\"))\n",
    "        saved += len(df)\n",
    "        matched.clear()\n",
    "    state = {\n",
    "        \"last_created_utc\": last_created_utc,\n",
    "        \"seen_ids\": list(seen_ids),\n",
    "    }\n",
    "    save_checkpoint(state)\n",
    "    print(f\"Complete. Total scanned: {total_seen:,}. Total saved: {saved}.\")\n"
   ]
  },
  {
   "cell_type": "code",
   "execution_count": 76,
   "id": "56c884bb",
   "metadata": {},
   "outputs": [
    {
     "name": "stdout",
     "output_type": "stream",
     "text": [
      "Scanning r/AFL .new() for season window 2025-08-01 — 2025-08-31 (UTC).\n",
      "Complete. Total scanned: 990. Total saved: 0.\n"
     ]
    }
   ],
   "source": [
    "# -----------------------------\n",
    "# 6) Run\n",
    "# -----------------------------\n",
    "if __name__ == \"__main__\":\n",
    "    harvest_season_posts()"
   ]
  },
  {
   "cell_type": "code",
   "execution_count": 4,
   "id": "25ec4394",
   "metadata": {},
   "outputs": [],
   "source": [
    "# Version2\n",
    "# helper backoff\n",
    "def rate_limit_backoff(attempt):\n",
    "    time.sleep(min(120, (2 ** min(attempt, 6)) + random.uniform(0, 1)))\n",
    "\n",
    "def _write_csv_append(df, path):\n",
    "    if df.empty: return 0\n",
    "    header = not os.path.exists(path)\n",
    "    df.to_csv(path, mode=\"a\", header=header, index=False)\n",
    "    return len(df)\n",
    "\n",
    "def _epoch(dt_utc):  # datetime -> epoch seconds\n",
    "    return int(dt_utc.timestamp())\n",
    "\n",
    "def harvest_by_time_chunks(reddit, start_utc: dt.datetime, end_utc: dt.datetime):\n",
    "    \"\"\"Fetch posts via timestamp search in small chunks to avoid listing cap.\"\"\"\n",
    "    assert start_utc.tzinfo and end_utc.tzinfo, \"Use tz-aware UTC datetimes\"\n",
    "    sr = reddit.subreddit(SUBREDDIT)\n",
    "\n",
    "    # load seen ids from disk to avoid duplicates\n",
    "    seen = set()\n",
    "    if os.path.exists(OUT_CSV):\n",
    "        try:\n",
    "            for ch in pd.read_csv(OUT_CSV, usecols=[\"id\"], chunksize=200_000, dtype={\"id\": str}):\n",
    "                seen.update(ch[\"id\"].astype(str))\n",
    "        except Exception:\n",
    "            pass\n",
    "\n",
    "    saved_total = 0\n",
    "    attempt = 0\n",
    "\n",
    "    # walk windows newest->oldest (optional direction)\n",
    "    chunk = dt.timedelta(days=CHUNK_DAYS)\n",
    "    cur_end = end_utc\n",
    "    while cur_end > start_utc:\n",
    "        cur_start = max(start_utc, cur_end - chunk)\n",
    "\n",
    "        q = f\"timestamp:{_epoch(cur_start)}..{_epoch(cur_end)}\"\n",
    "        print(f\"Querying {cur_start.date()} → {cur_end.date()}\")\n",
    "\n",
    "        try:\n",
    "            rows = []\n",
    "            # restrict_sr ensures we only search r/AFL\n",
    "            for post in sr.search(q, sort=\"new\", syntax=\"cloudsearch\", limit=None, params={\"restrict_sr\": \"on\"}):\n",
    "                if post.id in seen:\n",
    "                    continue\n",
    "                rows.append({\n",
    "                    \"id\": post.id,\n",
    "                    \"title\": post.title,\n",
    "                    \"author\": str(post.author) if post.author else None,\n",
    "                    \"score\": post.score,\n",
    "                    \"num_comments\": post.num_comments,\n",
    "                    \"created_utc\": post.created_utc,\n",
    "                    \"created_datetime_utc\": dt.datetime.utcfromtimestamp(post.created_utc).replace(tzinfo=dt.timezone.utc).isoformat(),\n",
    "                    \"url\": post.url,\n",
    "                    \"permalink\": f\"https://www.reddit.com{post.permalink}\",\n",
    "                    \"subreddit\": str(post.subreddit),\n",
    "                    \"over_18\": post.over_18,\n",
    "                    \"locked\": post.locked,\n",
    "                    \"stickied\": post.stickied,\n",
    "                    \"is_self\": post.is_self,\n",
    "                    \"selftext\": post.selftext if post.is_self else None,\n",
    "                })\n",
    "                seen.add(post.id)\n",
    "\n",
    "                # periodic flush\n",
    "                if len(rows) >= SAVE_EVERY:\n",
    "                    saved = _write_csv_append(pd.DataFrame(rows), OUT_CSV)\n",
    "                    saved_total += saved\n",
    "                    rows.clear()\n",
    "                    print(f\"Saved {saved_total} so far…\")\n",
    "\n",
    "            # final flush for this chunk\n",
    "            if rows:\n",
    "                saved = _write_csv_append(pd.DataFrame(rows), OUT_CSV)\n",
    "                saved_total += saved\n",
    "                rows.clear()\n",
    "                print(f\"Saved {saved_total} so far…\")\n",
    "\n",
    "            # move to previous chunk\n",
    "            cur_end = cur_start\n",
    "            attempt = 0  # reset retry counter\n",
    "\n",
    "        except (TooManyRequests, ServerError, RequestException, ResponseException, Forbidden) as e:\n",
    "            attempt += 1\n",
    "            print(f\"[WARN] API error: {type(e).__name__}: {e}. Backing off…\")\n",
    "            rate_limit_backoff(attempt)\n",
    "\n",
    "    print(f\"Done. Total saved this run: {saved_total}\")"
   ]
  },
  {
   "cell_type": "code",
   "execution_count": 5,
   "id": "e0166cc9",
   "metadata": {},
   "outputs": [],
   "source": [
    "# credentials\n",
    "CLIENT_ID = \"0KyeTUkOGI_aCRThrKdW8A\"\n",
    "CLIENT_SECRET = \"XJobdO1yHPePWuFO8NwACSh_V1X36Q\"\n",
    "USER_AGENT = \"AFL-sentiment-script:v2.0 (by u/GoldRelative4814)\"\n",
    "\n",
    "\n",
    "# Connect to Reddit API\n",
    "reddit = praw.Reddit(\n",
    "    client_id=CLIENT_ID,\n",
    "    client_secret=CLIENT_SECRET,\n",
    "    user_agent=USER_AGENT\n",
    ")"
   ]
  },
  {
   "cell_type": "code",
   "execution_count": 6,
   "id": "522bcb84",
   "metadata": {},
   "outputs": [
    {
     "name": "stdout",
     "output_type": "stream",
     "text": [
      "Querying 2025-07-29 → 2025-07-31\n",
      "Querying 2025-07-27 → 2025-07-29\n",
      "Querying 2025-07-25 → 2025-07-27\n",
      "Querying 2025-07-23 → 2025-07-25\n",
      "Querying 2025-07-21 → 2025-07-23\n",
      "Querying 2025-07-19 → 2025-07-21\n",
      "Querying 2025-07-17 → 2025-07-19\n",
      "Querying 2025-07-15 → 2025-07-17\n",
      "Querying 2025-07-13 → 2025-07-15\n",
      "Querying 2025-07-11 → 2025-07-13\n",
      "Querying 2025-07-09 → 2025-07-11\n",
      "Querying 2025-07-07 → 2025-07-09\n",
      "Querying 2025-07-05 → 2025-07-07\n",
      "Querying 2025-07-03 → 2025-07-05\n",
      "Querying 2025-07-01 → 2025-07-03\n",
      "Done. Total saved this run: 0\n"
     ]
    }
   ],
   "source": [
    "# ----- config you already have -----\n",
    "SUBREDDIT = \"AFL\"\n",
    "OUT_CSV   = \"afl_posts.csv\"\n",
    "CKPT      = \"afl_posts_checkpoint.json\"   # per-project; optional\n",
    "CHUNK_DAYS = 2                             # 1–3 days is usually good\n",
    "SAVE_EVERY = 200\n",
    "\n",
    "SEASON_START = dt.datetime(2025, 7, 1, tzinfo=dt.timezone.utc)\n",
    "SEASON_END   = dt.datetime(2025, 7, 31, tzinfo=dt.timezone.utc)\n",
    "\n",
    "harvest_by_time_chunks(reddit, SEASON_START, SEASON_END)"
   ]
  },
  {
   "cell_type": "code",
   "execution_count": 82,
   "id": "ec7ba0de",
   "metadata": {},
   "outputs": [],
   "source": [
    "df_check = pd.read_csv(\"afl_posts.csv\")"
   ]
  },
  {
   "cell_type": "code",
   "execution_count": 78,
   "id": "91f530c6",
   "metadata": {},
   "outputs": [
    {
     "data": {
      "text/plain": [
       "0       1nickz6\n",
       "1       1nic2vv\n",
       "2       1nibktl\n",
       "3       1nibhj5\n",
       "4       1nibdt3\n",
       "         ...   \n",
       "1052    1nieywu\n",
       "1053    1nidwf7\n",
       "1054    1nidttk\n",
       "1055    1nidted\n",
       "1056    1nid9il\n",
       "Name: id, Length: 1057, dtype: object"
      ]
     },
     "execution_count": 78,
     "metadata": {},
     "output_type": "execute_result"
    }
   ],
   "source": [
    "new_list = df_check.id\n",
    "new_list"
   ]
  },
  {
   "cell_type": "code",
   "execution_count": 79,
   "id": "92497504",
   "metadata": {},
   "outputs": [
    {
     "data": {
      "text/plain": [
       "[]"
      ]
     },
     "execution_count": 79,
     "metadata": {},
     "output_type": "execute_result"
    }
   ],
   "source": [
    "\n",
    "diff_a = list(set(new_list) - set(old_list))  \n",
    "diff_a"
   ]
  },
  {
   "cell_type": "code",
   "execution_count": 74,
   "id": "bb1e6619",
   "metadata": {},
   "outputs": [
    {
     "data": {
      "text/plain": [
       "0       1nickz6\n",
       "1       1nic2vv\n",
       "2       1nibktl\n",
       "3       1nibhj5\n",
       "4       1nibdt3\n",
       "         ...   \n",
       "1052    1nieywu\n",
       "1053    1nidwf7\n",
       "1054    1nidttk\n",
       "1055    1nidted\n",
       "1056    1nid9il\n",
       "Name: id, Length: 1057, dtype: object"
      ]
     },
     "execution_count": 74,
     "metadata": {},
     "output_type": "execute_result"
    }
   ],
   "source": [
    "old_list = df_check.id\n",
    "old_list"
   ]
  },
  {
   "cell_type": "markdown",
   "id": "4ff0b522",
   "metadata": {},
   "source": [
    "### Comments"
   ]
  },
  {
   "cell_type": "code",
   "execution_count": null,
   "id": "79a6a8af",
   "metadata": {},
   "outputs": [],
   "source": [
    "# credentials\n",
    "CLIENT_ID = \"dqXuuOK3P0c5rM9twm71nw\"\n",
    "CLIENT_SECRET = \"bATSC1DE_28YvrYs2vDm2Noc8LG9Tg\"\n",
    "USER_AGENT = \"AFL-sentiment-script:v1.0 (by u/GoldRelative4814)\"\n",
    "\n",
    "# Connect to Reddit API\n",
    "reddit = praw.Reddit(\n",
    "    client_id=CLIENT_ID,\n",
    "    client_secret=CLIENT_SECRET,\n",
    "    user_agent=USER_AGENT\n",
    ")\n",
    "\n",
    "def to_dt(ts_utc):\n",
    "    return dt.datetime.utcfromtimestamp(ts_utc).replace(tzinfo=dt.timezone.utc)\n",
    "\n",
    "    \n",
    "def _load_existing_comment_ids(csv_path: str, id_col: str = \"id\") -> set:\n",
    "    \"\"\"Load existing comment IDs from an existing CSV (fast enough for typical sizes).\"\"\"\n",
    "    if not os.path.exists(csv_path):\n",
    "        return set()\n",
    "    ids = set()\n",
    "    # Read in chunks to keep memory sane\n",
    "    for chunk in pd.read_csv(csv_path, usecols=[id_col], chunksize=200_000, dtype={id_col: str}):\n",
    "        ids.update(chunk[id_col].astype(str).tolist())\n",
    "    return ids\n",
    "\n",
    "def _flush_comments_csv(rows, out_csv, seen_ids):\n",
    "    \"\"\"Append unique rows to CSV; update seen_ids.\"\"\"\n",
    "    if not rows:\n",
    "        return 0\n",
    "    df = pd.DataFrame(rows)\n",
    "    # ensure string ids\n",
    "    df[\"id\"] = df[\"id\"].astype(str)\n",
    "    # drop any dupes already in file\n",
    "    df = df[~df[\"id\"].isin(seen_ids)]\n",
    "    if df.empty:\n",
    "        rows.clear()\n",
    "        return 0\n",
    "    write_header = not os.path.exists(out_csv)\n",
    "    df.to_csv(out_csv, mode=\"a\", header=write_header, index=False, quoting=csv.QUOTE_MINIMAL)\n",
    "    # update seen set\n",
    "    seen_ids.update(df[\"id\"].tolist())\n",
    "    rows.clear()\n",
    "    return len(df)\n",
    "\n",
    "def fetch_comments_for_posts_csv(posts_csv=\"afl_posts.csv\",\n",
    "                                 out_csv=\"afl_comments.csv\",\n",
    "                                 checkpoint_path=\"afl_comments.ckpt\",\n",
    "                                 max_depth=None,\n",
    "                                 flush_every=5000):\n",
    "    \"\"\"\n",
    "    Read submission IDs from posts_csv (must have a column 'id'),\n",
    "    fetch all comments for each submission, and append to out_csv (CSV).\n",
    "    Respects rate limits with backoff and can resume via checkpoint.\n",
    "    \"\"\"\n",
    "    if not os.path.exists(posts_csv):\n",
    "        print(\"No posts file found.\")\n",
    "        return\n",
    "\n",
    "    # Load post IDs\n",
    "    posts = pd.read_csv(posts_csv, usecols=[\"id\"], dtype={\"id\": str}).dropna()\n",
    "    all_ids = posts[\"id\"].astype(str).unique().tolist()\n",
    "    if not all_ids:\n",
    "        print(\"No submission IDs found in posts CSV.\")\n",
    "        return\n",
    "\n",
    "    # Resume support\n",
    "    start_index = 0\n",
    "    if os.path.exists(checkpoint_path):\n",
    "        try:\n",
    "            with open(checkpoint_path, \"r\", encoding=\"utf-8\") as f:\n",
    "                ckpt_sid = f.read().strip()\n",
    "            if ckpt_sid in all_ids:\n",
    "                start_index = all_ids.index(ckpt_sid)\n",
    "        except Exception:\n",
    "            pass\n",
    "\n",
    "    # De-dupe against existing comments on disk\n",
    "    seen_comment_ids = _load_existing_comment_ids(out_csv, id_col=\"id\")\n",
    "    print(f\"Loaded {len(seen_comment_ids):,} existing comment IDs from {out_csv}.\")\n",
    "\n",
    "    comments_buf = []\n",
    "    saved_total = 0\n",
    "    attempt = 0\n",
    "\n",
    "    def flush():\n",
    "        nonlocal comments_buf, saved_total\n",
    "        saved_now = _flush_comments_csv(comments_buf, out_csv, seen_comment_ids)\n",
    "        saved_total += saved_now\n",
    "        if saved_now:\n",
    "            print(f\"Saved {saved_now} comments (total {saved_total:,}).\")\n",
    "\n",
    "    for idx in range(start_index, len(all_ids)):\n",
    "        sid = all_ids[idx]\n",
    "\n",
    "        while True:\n",
    "            try:\n",
    "                subm = reddit.submission(id=sid)\n",
    "                # Expand comments; max_depth: None = all, 0 = none\n",
    "                subm.comments.replace_more(limit=max_depth)\n",
    "\n",
    "                for c in subm.comments.list():\n",
    "                    comments_buf.append({\n",
    "                        \"id\": str(c.id),\n",
    "                        \"link_id\": getattr(c, \"link_id\", None),\n",
    "                        \"parent_id\": getattr(c, \"parent_id\", None),\n",
    "                        \"submission_id\": sid,\n",
    "                        \"author\": str(c.author) if c.author else None,\n",
    "                        \"score\": c.score,\n",
    "                        \"created_utc\": c.created_utc,\n",
    "                        \"created_datetime_utc\": to_dt(c.created_utc).isoformat() if getattr(c, \"created_utc\", None) else None,\n",
    "                        \"body\": c.body,\n",
    "                    })\n",
    "                    if len(comments_buf) >= flush_every:\n",
    "                        flush()\n",
    "\n",
    "                # checkpoint after each submission\n",
    "                flush()\n",
    "                with open(checkpoint_path, \"w\", encoding=\"utf-8\") as f:\n",
    "                    f.write(sid)\n",
    "\n",
    "                # move to next submission\n",
    "                break\n",
    "\n",
    "            except (TooManyRequests, ServerError, RequestException, ResponseException, Forbidden) as e:\n",
    "                attempt += 1\n",
    "                print(f\"[WARN] Comment fetch error for {sid} ({type(e).__name__}): {e}. \"\n",
    "                      f\"Backing off (attempt {attempt})…\")\n",
    "                rate_limit_backoff(attempt)\n",
    "            except Exception as e:\n",
    "                # Log and continue (don’t get stuck on a single post)\n",
    "                print(f\"[ERROR] Unexpected error for {sid}: {e}. Skipping.\")\n",
    "                break\n",
    "\n",
    "        # reset attempt counter after a successful submission fetch\n",
    "        attempt = 0\n",
    "\n",
    "    # final flush\n",
    "    flush()\n",
    "    print(\"Comments fetch complete.\")\n"
   ]
  },
  {
   "cell_type": "code",
   "execution_count": 4,
   "id": "19648948",
   "metadata": {},
   "outputs": [
    {
     "name": "stdout",
     "output_type": "stream",
     "text": [
      "Loaded 16,768 existing comment IDs from afl_comments.csv.\n"
     ]
    },
    {
     "name": "stderr",
     "output_type": "stream",
     "text": [
      "/var/folders/6h/7_s8d7dn5p565dythb22sn0c0000gn/T/ipykernel_99815/3620101952.py:15: DeprecationWarning: datetime.datetime.utcfromtimestamp() is deprecated and scheduled for removal in a future version. Use timezone-aware objects to represent datetimes in UTC: datetime.datetime.fromtimestamp(timestamp, datetime.UTC).\n",
      "  return dt.datetime.utcfromtimestamp(ts_utc).replace(tzinfo=dt.timezone.utc)\n"
     ]
    },
    {
     "name": "stdout",
     "output_type": "stream",
     "text": [
      "Saved 50 comments (total 50).\n"
     ]
    },
    {
     "name": "stderr",
     "output_type": "stream",
     "text": [
      "/var/folders/6h/7_s8d7dn5p565dythb22sn0c0000gn/T/ipykernel_99815/3620101952.py:15: DeprecationWarning: datetime.datetime.utcfromtimestamp() is deprecated and scheduled for removal in a future version. Use timezone-aware objects to represent datetimes in UTC: datetime.datetime.fromtimestamp(timestamp, datetime.UTC).\n",
      "  return dt.datetime.utcfromtimestamp(ts_utc).replace(tzinfo=dt.timezone.utc)\n"
     ]
    },
    {
     "name": "stdout",
     "output_type": "stream",
     "text": [
      "Saved 265 comments (total 315).\n"
     ]
    },
    {
     "name": "stderr",
     "output_type": "stream",
     "text": [
      "/var/folders/6h/7_s8d7dn5p565dythb22sn0c0000gn/T/ipykernel_99815/3620101952.py:15: DeprecationWarning: datetime.datetime.utcfromtimestamp() is deprecated and scheduled for removal in a future version. Use timezone-aware objects to represent datetimes in UTC: datetime.datetime.fromtimestamp(timestamp, datetime.UTC).\n",
      "  return dt.datetime.utcfromtimestamp(ts_utc).replace(tzinfo=dt.timezone.utc)\n"
     ]
    },
    {
     "name": "stdout",
     "output_type": "stream",
     "text": [
      "Saved 96 comments (total 411).\n"
     ]
    },
    {
     "name": "stderr",
     "output_type": "stream",
     "text": [
      "/var/folders/6h/7_s8d7dn5p565dythb22sn0c0000gn/T/ipykernel_99815/3620101952.py:15: DeprecationWarning: datetime.datetime.utcfromtimestamp() is deprecated and scheduled for removal in a future version. Use timezone-aware objects to represent datetimes in UTC: datetime.datetime.fromtimestamp(timestamp, datetime.UTC).\n",
      "  return dt.datetime.utcfromtimestamp(ts_utc).replace(tzinfo=dt.timezone.utc)\n"
     ]
    },
    {
     "name": "stdout",
     "output_type": "stream",
     "text": [
      "Saved 13 comments (total 424).\n"
     ]
    },
    {
     "name": "stderr",
     "output_type": "stream",
     "text": [
      "/var/folders/6h/7_s8d7dn5p565dythb22sn0c0000gn/T/ipykernel_99815/3620101952.py:15: DeprecationWarning: datetime.datetime.utcfromtimestamp() is deprecated and scheduled for removal in a future version. Use timezone-aware objects to represent datetimes in UTC: datetime.datetime.fromtimestamp(timestamp, datetime.UTC).\n",
      "  return dt.datetime.utcfromtimestamp(ts_utc).replace(tzinfo=dt.timezone.utc)\n"
     ]
    },
    {
     "name": "stdout",
     "output_type": "stream",
     "text": [
      "Saved 28 comments (total 452).\n"
     ]
    },
    {
     "name": "stderr",
     "output_type": "stream",
     "text": [
      "/var/folders/6h/7_s8d7dn5p565dythb22sn0c0000gn/T/ipykernel_99815/3620101952.py:15: DeprecationWarning: datetime.datetime.utcfromtimestamp() is deprecated and scheduled for removal in a future version. Use timezone-aware objects to represent datetimes in UTC: datetime.datetime.fromtimestamp(timestamp, datetime.UTC).\n",
      "  return dt.datetime.utcfromtimestamp(ts_utc).replace(tzinfo=dt.timezone.utc)\n"
     ]
    },
    {
     "name": "stdout",
     "output_type": "stream",
     "text": [
      "Saved 40 comments (total 492).\n"
     ]
    },
    {
     "name": "stderr",
     "output_type": "stream",
     "text": [
      "/var/folders/6h/7_s8d7dn5p565dythb22sn0c0000gn/T/ipykernel_99815/3620101952.py:15: DeprecationWarning: datetime.datetime.utcfromtimestamp() is deprecated and scheduled for removal in a future version. Use timezone-aware objects to represent datetimes in UTC: datetime.datetime.fromtimestamp(timestamp, datetime.UTC).\n",
      "  return dt.datetime.utcfromtimestamp(ts_utc).replace(tzinfo=dt.timezone.utc)\n"
     ]
    },
    {
     "name": "stdout",
     "output_type": "stream",
     "text": [
      "Saved 98 comments (total 590).\n"
     ]
    },
    {
     "name": "stderr",
     "output_type": "stream",
     "text": [
      "/var/folders/6h/7_s8d7dn5p565dythb22sn0c0000gn/T/ipykernel_99815/3620101952.py:15: DeprecationWarning: datetime.datetime.utcfromtimestamp() is deprecated and scheduled for removal in a future version. Use timezone-aware objects to represent datetimes in UTC: datetime.datetime.fromtimestamp(timestamp, datetime.UTC).\n",
      "  return dt.datetime.utcfromtimestamp(ts_utc).replace(tzinfo=dt.timezone.utc)\n"
     ]
    },
    {
     "name": "stdout",
     "output_type": "stream",
     "text": [
      "Saved 13 comments (total 603).\n"
     ]
    },
    {
     "name": "stderr",
     "output_type": "stream",
     "text": [
      "/var/folders/6h/7_s8d7dn5p565dythb22sn0c0000gn/T/ipykernel_99815/3620101952.py:15: DeprecationWarning: datetime.datetime.utcfromtimestamp() is deprecated and scheduled for removal in a future version. Use timezone-aware objects to represent datetimes in UTC: datetime.datetime.fromtimestamp(timestamp, datetime.UTC).\n",
      "  return dt.datetime.utcfromtimestamp(ts_utc).replace(tzinfo=dt.timezone.utc)\n"
     ]
    },
    {
     "name": "stdout",
     "output_type": "stream",
     "text": [
      "Saved 30 comments (total 633).\n"
     ]
    },
    {
     "name": "stderr",
     "output_type": "stream",
     "text": [
      "/var/folders/6h/7_s8d7dn5p565dythb22sn0c0000gn/T/ipykernel_99815/3620101952.py:15: DeprecationWarning: datetime.datetime.utcfromtimestamp() is deprecated and scheduled for removal in a future version. Use timezone-aware objects to represent datetimes in UTC: datetime.datetime.fromtimestamp(timestamp, datetime.UTC).\n",
      "  return dt.datetime.utcfromtimestamp(ts_utc).replace(tzinfo=dt.timezone.utc)\n"
     ]
    },
    {
     "name": "stdout",
     "output_type": "stream",
     "text": [
      "Saved 37 comments (total 670).\n"
     ]
    },
    {
     "name": "stderr",
     "output_type": "stream",
     "text": [
      "/var/folders/6h/7_s8d7dn5p565dythb22sn0c0000gn/T/ipykernel_99815/3620101952.py:15: DeprecationWarning: datetime.datetime.utcfromtimestamp() is deprecated and scheduled for removal in a future version. Use timezone-aware objects to represent datetimes in UTC: datetime.datetime.fromtimestamp(timestamp, datetime.UTC).\n",
      "  return dt.datetime.utcfromtimestamp(ts_utc).replace(tzinfo=dt.timezone.utc)\n"
     ]
    },
    {
     "name": "stdout",
     "output_type": "stream",
     "text": [
      "Saved 17 comments (total 687).\n"
     ]
    },
    {
     "name": "stderr",
     "output_type": "stream",
     "text": [
      "/var/folders/6h/7_s8d7dn5p565dythb22sn0c0000gn/T/ipykernel_99815/3620101952.py:15: DeprecationWarning: datetime.datetime.utcfromtimestamp() is deprecated and scheduled for removal in a future version. Use timezone-aware objects to represent datetimes in UTC: datetime.datetime.fromtimestamp(timestamp, datetime.UTC).\n",
      "  return dt.datetime.utcfromtimestamp(ts_utc).replace(tzinfo=dt.timezone.utc)\n"
     ]
    },
    {
     "name": "stdout",
     "output_type": "stream",
     "text": [
      "Saved 3 comments (total 690).\n"
     ]
    },
    {
     "name": "stderr",
     "output_type": "stream",
     "text": [
      "/var/folders/6h/7_s8d7dn5p565dythb22sn0c0000gn/T/ipykernel_99815/3620101952.py:15: DeprecationWarning: datetime.datetime.utcfromtimestamp() is deprecated and scheduled for removal in a future version. Use timezone-aware objects to represent datetimes in UTC: datetime.datetime.fromtimestamp(timestamp, datetime.UTC).\n",
      "  return dt.datetime.utcfromtimestamp(ts_utc).replace(tzinfo=dt.timezone.utc)\n"
     ]
    },
    {
     "name": "stdout",
     "output_type": "stream",
     "text": [
      "Saved 32 comments (total 722).\n"
     ]
    },
    {
     "name": "stderr",
     "output_type": "stream",
     "text": [
      "/var/folders/6h/7_s8d7dn5p565dythb22sn0c0000gn/T/ipykernel_99815/3620101952.py:15: DeprecationWarning: datetime.datetime.utcfromtimestamp() is deprecated and scheduled for removal in a future version. Use timezone-aware objects to represent datetimes in UTC: datetime.datetime.fromtimestamp(timestamp, datetime.UTC).\n",
      "  return dt.datetime.utcfromtimestamp(ts_utc).replace(tzinfo=dt.timezone.utc)\n"
     ]
    },
    {
     "name": "stdout",
     "output_type": "stream",
     "text": [
      "Saved 55 comments (total 777).\n"
     ]
    },
    {
     "name": "stderr",
     "output_type": "stream",
     "text": [
      "/var/folders/6h/7_s8d7dn5p565dythb22sn0c0000gn/T/ipykernel_99815/3620101952.py:15: DeprecationWarning: datetime.datetime.utcfromtimestamp() is deprecated and scheduled for removal in a future version. Use timezone-aware objects to represent datetimes in UTC: datetime.datetime.fromtimestamp(timestamp, datetime.UTC).\n",
      "  return dt.datetime.utcfromtimestamp(ts_utc).replace(tzinfo=dt.timezone.utc)\n"
     ]
    },
    {
     "name": "stdout",
     "output_type": "stream",
     "text": [
      "Saved 89 comments (total 866).\n"
     ]
    },
    {
     "name": "stderr",
     "output_type": "stream",
     "text": [
      "/var/folders/6h/7_s8d7dn5p565dythb22sn0c0000gn/T/ipykernel_99815/3620101952.py:15: DeprecationWarning: datetime.datetime.utcfromtimestamp() is deprecated and scheduled for removal in a future version. Use timezone-aware objects to represent datetimes in UTC: datetime.datetime.fromtimestamp(timestamp, datetime.UTC).\n",
      "  return dt.datetime.utcfromtimestamp(ts_utc).replace(tzinfo=dt.timezone.utc)\n"
     ]
    },
    {
     "name": "stdout",
     "output_type": "stream",
     "text": [
      "Saved 58 comments (total 924).\n"
     ]
    },
    {
     "name": "stderr",
     "output_type": "stream",
     "text": [
      "/var/folders/6h/7_s8d7dn5p565dythb22sn0c0000gn/T/ipykernel_99815/3620101952.py:15: DeprecationWarning: datetime.datetime.utcfromtimestamp() is deprecated and scheduled for removal in a future version. Use timezone-aware objects to represent datetimes in UTC: datetime.datetime.fromtimestamp(timestamp, datetime.UTC).\n",
      "  return dt.datetime.utcfromtimestamp(ts_utc).replace(tzinfo=dt.timezone.utc)\n"
     ]
    },
    {
     "name": "stdout",
     "output_type": "stream",
     "text": [
      "Saved 88 comments (total 1,012).\n"
     ]
    },
    {
     "name": "stderr",
     "output_type": "stream",
     "text": [
      "/var/folders/6h/7_s8d7dn5p565dythb22sn0c0000gn/T/ipykernel_99815/3620101952.py:15: DeprecationWarning: datetime.datetime.utcfromtimestamp() is deprecated and scheduled for removal in a future version. Use timezone-aware objects to represent datetimes in UTC: datetime.datetime.fromtimestamp(timestamp, datetime.UTC).\n",
      "  return dt.datetime.utcfromtimestamp(ts_utc).replace(tzinfo=dt.timezone.utc)\n"
     ]
    },
    {
     "name": "stdout",
     "output_type": "stream",
     "text": [
      "Saved 64 comments (total 1,076).\n"
     ]
    },
    {
     "name": "stderr",
     "output_type": "stream",
     "text": [
      "/var/folders/6h/7_s8d7dn5p565dythb22sn0c0000gn/T/ipykernel_99815/3620101952.py:15: DeprecationWarning: datetime.datetime.utcfromtimestamp() is deprecated and scheduled for removal in a future version. Use timezone-aware objects to represent datetimes in UTC: datetime.datetime.fromtimestamp(timestamp, datetime.UTC).\n",
      "  return dt.datetime.utcfromtimestamp(ts_utc).replace(tzinfo=dt.timezone.utc)\n"
     ]
    },
    {
     "name": "stdout",
     "output_type": "stream",
     "text": [
      "Saved 33 comments (total 1,109).\n"
     ]
    },
    {
     "name": "stderr",
     "output_type": "stream",
     "text": [
      "/var/folders/6h/7_s8d7dn5p565dythb22sn0c0000gn/T/ipykernel_99815/3620101952.py:15: DeprecationWarning: datetime.datetime.utcfromtimestamp() is deprecated and scheduled for removal in a future version. Use timezone-aware objects to represent datetimes in UTC: datetime.datetime.fromtimestamp(timestamp, datetime.UTC).\n",
      "  return dt.datetime.utcfromtimestamp(ts_utc).replace(tzinfo=dt.timezone.utc)\n"
     ]
    },
    {
     "name": "stdout",
     "output_type": "stream",
     "text": [
      "Saved 31 comments (total 1,140).\n"
     ]
    },
    {
     "name": "stderr",
     "output_type": "stream",
     "text": [
      "/var/folders/6h/7_s8d7dn5p565dythb22sn0c0000gn/T/ipykernel_99815/3620101952.py:15: DeprecationWarning: datetime.datetime.utcfromtimestamp() is deprecated and scheduled for removal in a future version. Use timezone-aware objects to represent datetimes in UTC: datetime.datetime.fromtimestamp(timestamp, datetime.UTC).\n",
      "  return dt.datetime.utcfromtimestamp(ts_utc).replace(tzinfo=dt.timezone.utc)\n"
     ]
    },
    {
     "name": "stdout",
     "output_type": "stream",
     "text": [
      "Saved 21 comments (total 1,161).\n"
     ]
    },
    {
     "name": "stderr",
     "output_type": "stream",
     "text": [
      "/var/folders/6h/7_s8d7dn5p565dythb22sn0c0000gn/T/ipykernel_99815/3620101952.py:15: DeprecationWarning: datetime.datetime.utcfromtimestamp() is deprecated and scheduled for removal in a future version. Use timezone-aware objects to represent datetimes in UTC: datetime.datetime.fromtimestamp(timestamp, datetime.UTC).\n",
      "  return dt.datetime.utcfromtimestamp(ts_utc).replace(tzinfo=dt.timezone.utc)\n"
     ]
    },
    {
     "name": "stdout",
     "output_type": "stream",
     "text": [
      "Saved 39 comments (total 1,200).\n"
     ]
    },
    {
     "name": "stderr",
     "output_type": "stream",
     "text": [
      "/var/folders/6h/7_s8d7dn5p565dythb22sn0c0000gn/T/ipykernel_99815/3620101952.py:15: DeprecationWarning: datetime.datetime.utcfromtimestamp() is deprecated and scheduled for removal in a future version. Use timezone-aware objects to represent datetimes in UTC: datetime.datetime.fromtimestamp(timestamp, datetime.UTC).\n",
      "  return dt.datetime.utcfromtimestamp(ts_utc).replace(tzinfo=dt.timezone.utc)\n"
     ]
    },
    {
     "name": "stdout",
     "output_type": "stream",
     "text": [
      "Saved 94 comments (total 1,294).\n"
     ]
    },
    {
     "name": "stderr",
     "output_type": "stream",
     "text": [
      "/var/folders/6h/7_s8d7dn5p565dythb22sn0c0000gn/T/ipykernel_99815/3620101952.py:15: DeprecationWarning: datetime.datetime.utcfromtimestamp() is deprecated and scheduled for removal in a future version. Use timezone-aware objects to represent datetimes in UTC: datetime.datetime.fromtimestamp(timestamp, datetime.UTC).\n",
      "  return dt.datetime.utcfromtimestamp(ts_utc).replace(tzinfo=dt.timezone.utc)\n"
     ]
    },
    {
     "name": "stdout",
     "output_type": "stream",
     "text": [
      "Saved 55 comments (total 1,349).\n"
     ]
    },
    {
     "name": "stderr",
     "output_type": "stream",
     "text": [
      "/var/folders/6h/7_s8d7dn5p565dythb22sn0c0000gn/T/ipykernel_99815/3620101952.py:15: DeprecationWarning: datetime.datetime.utcfromtimestamp() is deprecated and scheduled for removal in a future version. Use timezone-aware objects to represent datetimes in UTC: datetime.datetime.fromtimestamp(timestamp, datetime.UTC).\n",
      "  return dt.datetime.utcfromtimestamp(ts_utc).replace(tzinfo=dt.timezone.utc)\n"
     ]
    },
    {
     "name": "stdout",
     "output_type": "stream",
     "text": [
      "Saved 43 comments (total 1,392).\n"
     ]
    },
    {
     "name": "stderr",
     "output_type": "stream",
     "text": [
      "/var/folders/6h/7_s8d7dn5p565dythb22sn0c0000gn/T/ipykernel_99815/3620101952.py:15: DeprecationWarning: datetime.datetime.utcfromtimestamp() is deprecated and scheduled for removal in a future version. Use timezone-aware objects to represent datetimes in UTC: datetime.datetime.fromtimestamp(timestamp, datetime.UTC).\n",
      "  return dt.datetime.utcfromtimestamp(ts_utc).replace(tzinfo=dt.timezone.utc)\n"
     ]
    },
    {
     "name": "stdout",
     "output_type": "stream",
     "text": [
      "Saved 125 comments (total 1,517).\n"
     ]
    },
    {
     "name": "stderr",
     "output_type": "stream",
     "text": [
      "/var/folders/6h/7_s8d7dn5p565dythb22sn0c0000gn/T/ipykernel_99815/3620101952.py:15: DeprecationWarning: datetime.datetime.utcfromtimestamp() is deprecated and scheduled for removal in a future version. Use timezone-aware objects to represent datetimes in UTC: datetime.datetime.fromtimestamp(timestamp, datetime.UTC).\n",
      "  return dt.datetime.utcfromtimestamp(ts_utc).replace(tzinfo=dt.timezone.utc)\n"
     ]
    },
    {
     "name": "stdout",
     "output_type": "stream",
     "text": [
      "Saved 312 comments (total 1,829).\n"
     ]
    },
    {
     "name": "stderr",
     "output_type": "stream",
     "text": [
      "/var/folders/6h/7_s8d7dn5p565dythb22sn0c0000gn/T/ipykernel_99815/3620101952.py:15: DeprecationWarning: datetime.datetime.utcfromtimestamp() is deprecated and scheduled for removal in a future version. Use timezone-aware objects to represent datetimes in UTC: datetime.datetime.fromtimestamp(timestamp, datetime.UTC).\n",
      "  return dt.datetime.utcfromtimestamp(ts_utc).replace(tzinfo=dt.timezone.utc)\n"
     ]
    },
    {
     "name": "stdout",
     "output_type": "stream",
     "text": [
      "Saved 131 comments (total 1,960).\n"
     ]
    },
    {
     "name": "stderr",
     "output_type": "stream",
     "text": [
      "/var/folders/6h/7_s8d7dn5p565dythb22sn0c0000gn/T/ipykernel_99815/3620101952.py:15: DeprecationWarning: datetime.datetime.utcfromtimestamp() is deprecated and scheduled for removal in a future version. Use timezone-aware objects to represent datetimes in UTC: datetime.datetime.fromtimestamp(timestamp, datetime.UTC).\n",
      "  return dt.datetime.utcfromtimestamp(ts_utc).replace(tzinfo=dt.timezone.utc)\n"
     ]
    },
    {
     "name": "stdout",
     "output_type": "stream",
     "text": [
      "Saved 23 comments (total 1,983).\n"
     ]
    },
    {
     "name": "stderr",
     "output_type": "stream",
     "text": [
      "/var/folders/6h/7_s8d7dn5p565dythb22sn0c0000gn/T/ipykernel_99815/3620101952.py:15: DeprecationWarning: datetime.datetime.utcfromtimestamp() is deprecated and scheduled for removal in a future version. Use timezone-aware objects to represent datetimes in UTC: datetime.datetime.fromtimestamp(timestamp, datetime.UTC).\n",
      "  return dt.datetime.utcfromtimestamp(ts_utc).replace(tzinfo=dt.timezone.utc)\n"
     ]
    },
    {
     "name": "stdout",
     "output_type": "stream",
     "text": [
      "Saved 8 comments (total 1,991).\n"
     ]
    },
    {
     "name": "stderr",
     "output_type": "stream",
     "text": [
      "/var/folders/6h/7_s8d7dn5p565dythb22sn0c0000gn/T/ipykernel_99815/3620101952.py:15: DeprecationWarning: datetime.datetime.utcfromtimestamp() is deprecated and scheduled for removal in a future version. Use timezone-aware objects to represent datetimes in UTC: datetime.datetime.fromtimestamp(timestamp, datetime.UTC).\n",
      "  return dt.datetime.utcfromtimestamp(ts_utc).replace(tzinfo=dt.timezone.utc)\n"
     ]
    },
    {
     "name": "stdout",
     "output_type": "stream",
     "text": [
      "Saved 40 comments (total 2,031).\n"
     ]
    },
    {
     "name": "stderr",
     "output_type": "stream",
     "text": [
      "/var/folders/6h/7_s8d7dn5p565dythb22sn0c0000gn/T/ipykernel_99815/3620101952.py:15: DeprecationWarning: datetime.datetime.utcfromtimestamp() is deprecated and scheduled for removal in a future version. Use timezone-aware objects to represent datetimes in UTC: datetime.datetime.fromtimestamp(timestamp, datetime.UTC).\n",
      "  return dt.datetime.utcfromtimestamp(ts_utc).replace(tzinfo=dt.timezone.utc)\n"
     ]
    },
    {
     "name": "stdout",
     "output_type": "stream",
     "text": [
      "Saved 101 comments (total 2,132).\n"
     ]
    },
    {
     "name": "stderr",
     "output_type": "stream",
     "text": [
      "/var/folders/6h/7_s8d7dn5p565dythb22sn0c0000gn/T/ipykernel_99815/3620101952.py:15: DeprecationWarning: datetime.datetime.utcfromtimestamp() is deprecated and scheduled for removal in a future version. Use timezone-aware objects to represent datetimes in UTC: datetime.datetime.fromtimestamp(timestamp, datetime.UTC).\n",
      "  return dt.datetime.utcfromtimestamp(ts_utc).replace(tzinfo=dt.timezone.utc)\n"
     ]
    },
    {
     "name": "stdout",
     "output_type": "stream",
     "text": [
      "Saved 27 comments (total 2,159).\n"
     ]
    },
    {
     "name": "stderr",
     "output_type": "stream",
     "text": [
      "/var/folders/6h/7_s8d7dn5p565dythb22sn0c0000gn/T/ipykernel_99815/3620101952.py:15: DeprecationWarning: datetime.datetime.utcfromtimestamp() is deprecated and scheduled for removal in a future version. Use timezone-aware objects to represent datetimes in UTC: datetime.datetime.fromtimestamp(timestamp, datetime.UTC).\n",
      "  return dt.datetime.utcfromtimestamp(ts_utc).replace(tzinfo=dt.timezone.utc)\n"
     ]
    },
    {
     "name": "stdout",
     "output_type": "stream",
     "text": [
      "Saved 69 comments (total 2,228).\n"
     ]
    },
    {
     "name": "stderr",
     "output_type": "stream",
     "text": [
      "/var/folders/6h/7_s8d7dn5p565dythb22sn0c0000gn/T/ipykernel_99815/3620101952.py:15: DeprecationWarning: datetime.datetime.utcfromtimestamp() is deprecated and scheduled for removal in a future version. Use timezone-aware objects to represent datetimes in UTC: datetime.datetime.fromtimestamp(timestamp, datetime.UTC).\n",
      "  return dt.datetime.utcfromtimestamp(ts_utc).replace(tzinfo=dt.timezone.utc)\n"
     ]
    },
    {
     "name": "stdout",
     "output_type": "stream",
     "text": [
      "Saved 50 comments (total 2,278).\n"
     ]
    },
    {
     "name": "stderr",
     "output_type": "stream",
     "text": [
      "/var/folders/6h/7_s8d7dn5p565dythb22sn0c0000gn/T/ipykernel_99815/3620101952.py:15: DeprecationWarning: datetime.datetime.utcfromtimestamp() is deprecated and scheduled for removal in a future version. Use timezone-aware objects to represent datetimes in UTC: datetime.datetime.fromtimestamp(timestamp, datetime.UTC).\n",
      "  return dt.datetime.utcfromtimestamp(ts_utc).replace(tzinfo=dt.timezone.utc)\n"
     ]
    },
    {
     "name": "stdout",
     "output_type": "stream",
     "text": [
      "Saved 1 comments (total 2,279).\n"
     ]
    },
    {
     "name": "stderr",
     "output_type": "stream",
     "text": [
      "/var/folders/6h/7_s8d7dn5p565dythb22sn0c0000gn/T/ipykernel_99815/3620101952.py:15: DeprecationWarning: datetime.datetime.utcfromtimestamp() is deprecated and scheduled for removal in a future version. Use timezone-aware objects to represent datetimes in UTC: datetime.datetime.fromtimestamp(timestamp, datetime.UTC).\n",
      "  return dt.datetime.utcfromtimestamp(ts_utc).replace(tzinfo=dt.timezone.utc)\n"
     ]
    },
    {
     "name": "stdout",
     "output_type": "stream",
     "text": [
      "Saved 7 comments (total 2,286).\n"
     ]
    },
    {
     "name": "stderr",
     "output_type": "stream",
     "text": [
      "/var/folders/6h/7_s8d7dn5p565dythb22sn0c0000gn/T/ipykernel_99815/3620101952.py:15: DeprecationWarning: datetime.datetime.utcfromtimestamp() is deprecated and scheduled for removal in a future version. Use timezone-aware objects to represent datetimes in UTC: datetime.datetime.fromtimestamp(timestamp, datetime.UTC).\n",
      "  return dt.datetime.utcfromtimestamp(ts_utc).replace(tzinfo=dt.timezone.utc)\n"
     ]
    },
    {
     "name": "stdout",
     "output_type": "stream",
     "text": [
      "Saved 16 comments (total 2,302).\n"
     ]
    },
    {
     "name": "stderr",
     "output_type": "stream",
     "text": [
      "/var/folders/6h/7_s8d7dn5p565dythb22sn0c0000gn/T/ipykernel_99815/3620101952.py:15: DeprecationWarning: datetime.datetime.utcfromtimestamp() is deprecated and scheduled for removal in a future version. Use timezone-aware objects to represent datetimes in UTC: datetime.datetime.fromtimestamp(timestamp, datetime.UTC).\n",
      "  return dt.datetime.utcfromtimestamp(ts_utc).replace(tzinfo=dt.timezone.utc)\n"
     ]
    },
    {
     "name": "stdout",
     "output_type": "stream",
     "text": [
      "Saved 12 comments (total 2,314).\n"
     ]
    },
    {
     "name": "stderr",
     "output_type": "stream",
     "text": [
      "/var/folders/6h/7_s8d7dn5p565dythb22sn0c0000gn/T/ipykernel_99815/3620101952.py:15: DeprecationWarning: datetime.datetime.utcfromtimestamp() is deprecated and scheduled for removal in a future version. Use timezone-aware objects to represent datetimes in UTC: datetime.datetime.fromtimestamp(timestamp, datetime.UTC).\n",
      "  return dt.datetime.utcfromtimestamp(ts_utc).replace(tzinfo=dt.timezone.utc)\n"
     ]
    },
    {
     "name": "stdout",
     "output_type": "stream",
     "text": [
      "Saved 43 comments (total 2,357).\n"
     ]
    },
    {
     "name": "stderr",
     "output_type": "stream",
     "text": [
      "/var/folders/6h/7_s8d7dn5p565dythb22sn0c0000gn/T/ipykernel_99815/3620101952.py:15: DeprecationWarning: datetime.datetime.utcfromtimestamp() is deprecated and scheduled for removal in a future version. Use timezone-aware objects to represent datetimes in UTC: datetime.datetime.fromtimestamp(timestamp, datetime.UTC).\n",
      "  return dt.datetime.utcfromtimestamp(ts_utc).replace(tzinfo=dt.timezone.utc)\n"
     ]
    },
    {
     "name": "stdout",
     "output_type": "stream",
     "text": [
      "Saved 4 comments (total 2,361).\n"
     ]
    },
    {
     "name": "stderr",
     "output_type": "stream",
     "text": [
      "/var/folders/6h/7_s8d7dn5p565dythb22sn0c0000gn/T/ipykernel_99815/3620101952.py:15: DeprecationWarning: datetime.datetime.utcfromtimestamp() is deprecated and scheduled for removal in a future version. Use timezone-aware objects to represent datetimes in UTC: datetime.datetime.fromtimestamp(timestamp, datetime.UTC).\n",
      "  return dt.datetime.utcfromtimestamp(ts_utc).replace(tzinfo=dt.timezone.utc)\n"
     ]
    },
    {
     "name": "stdout",
     "output_type": "stream",
     "text": [
      "Saved 4 comments (total 2,365).\n"
     ]
    },
    {
     "name": "stderr",
     "output_type": "stream",
     "text": [
      "/var/folders/6h/7_s8d7dn5p565dythb22sn0c0000gn/T/ipykernel_99815/3620101952.py:15: DeprecationWarning: datetime.datetime.utcfromtimestamp() is deprecated and scheduled for removal in a future version. Use timezone-aware objects to represent datetimes in UTC: datetime.datetime.fromtimestamp(timestamp, datetime.UTC).\n",
      "  return dt.datetime.utcfromtimestamp(ts_utc).replace(tzinfo=dt.timezone.utc)\n"
     ]
    },
    {
     "name": "stdout",
     "output_type": "stream",
     "text": [
      "Saved 68 comments (total 2,433).\n"
     ]
    },
    {
     "name": "stderr",
     "output_type": "stream",
     "text": [
      "/var/folders/6h/7_s8d7dn5p565dythb22sn0c0000gn/T/ipykernel_99815/3620101952.py:15: DeprecationWarning: datetime.datetime.utcfromtimestamp() is deprecated and scheduled for removal in a future version. Use timezone-aware objects to represent datetimes in UTC: datetime.datetime.fromtimestamp(timestamp, datetime.UTC).\n",
      "  return dt.datetime.utcfromtimestamp(ts_utc).replace(tzinfo=dt.timezone.utc)\n"
     ]
    },
    {
     "name": "stdout",
     "output_type": "stream",
     "text": [
      "Saved 56 comments (total 2,489).\n"
     ]
    },
    {
     "name": "stderr",
     "output_type": "stream",
     "text": [
      "/var/folders/6h/7_s8d7dn5p565dythb22sn0c0000gn/T/ipykernel_99815/3620101952.py:15: DeprecationWarning: datetime.datetime.utcfromtimestamp() is deprecated and scheduled for removal in a future version. Use timezone-aware objects to represent datetimes in UTC: datetime.datetime.fromtimestamp(timestamp, datetime.UTC).\n",
      "  return dt.datetime.utcfromtimestamp(ts_utc).replace(tzinfo=dt.timezone.utc)\n"
     ]
    },
    {
     "name": "stdout",
     "output_type": "stream",
     "text": [
      "Saved 11 comments (total 2,500).\n"
     ]
    },
    {
     "name": "stderr",
     "output_type": "stream",
     "text": [
      "/var/folders/6h/7_s8d7dn5p565dythb22sn0c0000gn/T/ipykernel_99815/3620101952.py:15: DeprecationWarning: datetime.datetime.utcfromtimestamp() is deprecated and scheduled for removal in a future version. Use timezone-aware objects to represent datetimes in UTC: datetime.datetime.fromtimestamp(timestamp, datetime.UTC).\n",
      "  return dt.datetime.utcfromtimestamp(ts_utc).replace(tzinfo=dt.timezone.utc)\n"
     ]
    },
    {
     "name": "stdout",
     "output_type": "stream",
     "text": [
      "Saved 256 comments (total 2,756).\n"
     ]
    },
    {
     "name": "stderr",
     "output_type": "stream",
     "text": [
      "/var/folders/6h/7_s8d7dn5p565dythb22sn0c0000gn/T/ipykernel_99815/3620101952.py:15: DeprecationWarning: datetime.datetime.utcfromtimestamp() is deprecated and scheduled for removal in a future version. Use timezone-aware objects to represent datetimes in UTC: datetime.datetime.fromtimestamp(timestamp, datetime.UTC).\n",
      "  return dt.datetime.utcfromtimestamp(ts_utc).replace(tzinfo=dt.timezone.utc)\n"
     ]
    },
    {
     "name": "stdout",
     "output_type": "stream",
     "text": [
      "Saved 37 comments (total 2,793).\n"
     ]
    },
    {
     "name": "stderr",
     "output_type": "stream",
     "text": [
      "/var/folders/6h/7_s8d7dn5p565dythb22sn0c0000gn/T/ipykernel_99815/3620101952.py:15: DeprecationWarning: datetime.datetime.utcfromtimestamp() is deprecated and scheduled for removal in a future version. Use timezone-aware objects to represent datetimes in UTC: datetime.datetime.fromtimestamp(timestamp, datetime.UTC).\n",
      "  return dt.datetime.utcfromtimestamp(ts_utc).replace(tzinfo=dt.timezone.utc)\n"
     ]
    },
    {
     "name": "stdout",
     "output_type": "stream",
     "text": [
      "Saved 29 comments (total 2,822).\n"
     ]
    },
    {
     "name": "stderr",
     "output_type": "stream",
     "text": [
      "/var/folders/6h/7_s8d7dn5p565dythb22sn0c0000gn/T/ipykernel_99815/3620101952.py:15: DeprecationWarning: datetime.datetime.utcfromtimestamp() is deprecated and scheduled for removal in a future version. Use timezone-aware objects to represent datetimes in UTC: datetime.datetime.fromtimestamp(timestamp, datetime.UTC).\n",
      "  return dt.datetime.utcfromtimestamp(ts_utc).replace(tzinfo=dt.timezone.utc)\n"
     ]
    },
    {
     "name": "stdout",
     "output_type": "stream",
     "text": [
      "Saved 11 comments (total 2,833).\n"
     ]
    },
    {
     "name": "stderr",
     "output_type": "stream",
     "text": [
      "/var/folders/6h/7_s8d7dn5p565dythb22sn0c0000gn/T/ipykernel_99815/3620101952.py:15: DeprecationWarning: datetime.datetime.utcfromtimestamp() is deprecated and scheduled for removal in a future version. Use timezone-aware objects to represent datetimes in UTC: datetime.datetime.fromtimestamp(timestamp, datetime.UTC).\n",
      "  return dt.datetime.utcfromtimestamp(ts_utc).replace(tzinfo=dt.timezone.utc)\n"
     ]
    },
    {
     "name": "stdout",
     "output_type": "stream",
     "text": [
      "Saved 31 comments (total 2,864).\n"
     ]
    },
    {
     "name": "stderr",
     "output_type": "stream",
     "text": [
      "/var/folders/6h/7_s8d7dn5p565dythb22sn0c0000gn/T/ipykernel_99815/3620101952.py:15: DeprecationWarning: datetime.datetime.utcfromtimestamp() is deprecated and scheduled for removal in a future version. Use timezone-aware objects to represent datetimes in UTC: datetime.datetime.fromtimestamp(timestamp, datetime.UTC).\n",
      "  return dt.datetime.utcfromtimestamp(ts_utc).replace(tzinfo=dt.timezone.utc)\n"
     ]
    },
    {
     "name": "stdout",
     "output_type": "stream",
     "text": [
      "Saved 66 comments (total 2,930).\n"
     ]
    },
    {
     "name": "stderr",
     "output_type": "stream",
     "text": [
      "/var/folders/6h/7_s8d7dn5p565dythb22sn0c0000gn/T/ipykernel_99815/3620101952.py:15: DeprecationWarning: datetime.datetime.utcfromtimestamp() is deprecated and scheduled for removal in a future version. Use timezone-aware objects to represent datetimes in UTC: datetime.datetime.fromtimestamp(timestamp, datetime.UTC).\n",
      "  return dt.datetime.utcfromtimestamp(ts_utc).replace(tzinfo=dt.timezone.utc)\n"
     ]
    },
    {
     "name": "stdout",
     "output_type": "stream",
     "text": [
      "Saved 22 comments (total 2,952).\n"
     ]
    },
    {
     "name": "stderr",
     "output_type": "stream",
     "text": [
      "/var/folders/6h/7_s8d7dn5p565dythb22sn0c0000gn/T/ipykernel_99815/3620101952.py:15: DeprecationWarning: datetime.datetime.utcfromtimestamp() is deprecated and scheduled for removal in a future version. Use timezone-aware objects to represent datetimes in UTC: datetime.datetime.fromtimestamp(timestamp, datetime.UTC).\n",
      "  return dt.datetime.utcfromtimestamp(ts_utc).replace(tzinfo=dt.timezone.utc)\n"
     ]
    },
    {
     "name": "stdout",
     "output_type": "stream",
     "text": [
      "Saved 39 comments (total 2,991).\n"
     ]
    },
    {
     "name": "stderr",
     "output_type": "stream",
     "text": [
      "/var/folders/6h/7_s8d7dn5p565dythb22sn0c0000gn/T/ipykernel_99815/3620101952.py:15: DeprecationWarning: datetime.datetime.utcfromtimestamp() is deprecated and scheduled for removal in a future version. Use timezone-aware objects to represent datetimes in UTC: datetime.datetime.fromtimestamp(timestamp, datetime.UTC).\n",
      "  return dt.datetime.utcfromtimestamp(ts_utc).replace(tzinfo=dt.timezone.utc)\n"
     ]
    },
    {
     "name": "stdout",
     "output_type": "stream",
     "text": [
      "Saved 489 comments (total 3,480).\n"
     ]
    },
    {
     "name": "stderr",
     "output_type": "stream",
     "text": [
      "/var/folders/6h/7_s8d7dn5p565dythb22sn0c0000gn/T/ipykernel_99815/3620101952.py:15: DeprecationWarning: datetime.datetime.utcfromtimestamp() is deprecated and scheduled for removal in a future version. Use timezone-aware objects to represent datetimes in UTC: datetime.datetime.fromtimestamp(timestamp, datetime.UTC).\n",
      "  return dt.datetime.utcfromtimestamp(ts_utc).replace(tzinfo=dt.timezone.utc)\n"
     ]
    },
    {
     "name": "stdout",
     "output_type": "stream",
     "text": [
      "Saved 23 comments (total 3,503).\n"
     ]
    },
    {
     "name": "stderr",
     "output_type": "stream",
     "text": [
      "/var/folders/6h/7_s8d7dn5p565dythb22sn0c0000gn/T/ipykernel_99815/3620101952.py:15: DeprecationWarning: datetime.datetime.utcfromtimestamp() is deprecated and scheduled for removal in a future version. Use timezone-aware objects to represent datetimes in UTC: datetime.datetime.fromtimestamp(timestamp, datetime.UTC).\n",
      "  return dt.datetime.utcfromtimestamp(ts_utc).replace(tzinfo=dt.timezone.utc)\n"
     ]
    },
    {
     "name": "stdout",
     "output_type": "stream",
     "text": [
      "Saved 87 comments (total 3,590).\n"
     ]
    },
    {
     "name": "stderr",
     "output_type": "stream",
     "text": [
      "/var/folders/6h/7_s8d7dn5p565dythb22sn0c0000gn/T/ipykernel_99815/3620101952.py:15: DeprecationWarning: datetime.datetime.utcfromtimestamp() is deprecated and scheduled for removal in a future version. Use timezone-aware objects to represent datetimes in UTC: datetime.datetime.fromtimestamp(timestamp, datetime.UTC).\n",
      "  return dt.datetime.utcfromtimestamp(ts_utc).replace(tzinfo=dt.timezone.utc)\n"
     ]
    },
    {
     "name": "stdout",
     "output_type": "stream",
     "text": [
      "Saved 40 comments (total 3,630).\n"
     ]
    },
    {
     "name": "stderr",
     "output_type": "stream",
     "text": [
      "/var/folders/6h/7_s8d7dn5p565dythb22sn0c0000gn/T/ipykernel_99815/3620101952.py:15: DeprecationWarning: datetime.datetime.utcfromtimestamp() is deprecated and scheduled for removal in a future version. Use timezone-aware objects to represent datetimes in UTC: datetime.datetime.fromtimestamp(timestamp, datetime.UTC).\n",
      "  return dt.datetime.utcfromtimestamp(ts_utc).replace(tzinfo=dt.timezone.utc)\n"
     ]
    },
    {
     "name": "stdout",
     "output_type": "stream",
     "text": [
      "Saved 41 comments (total 3,671).\n"
     ]
    },
    {
     "name": "stderr",
     "output_type": "stream",
     "text": [
      "/var/folders/6h/7_s8d7dn5p565dythb22sn0c0000gn/T/ipykernel_99815/3620101952.py:15: DeprecationWarning: datetime.datetime.utcfromtimestamp() is deprecated and scheduled for removal in a future version. Use timezone-aware objects to represent datetimes in UTC: datetime.datetime.fromtimestamp(timestamp, datetime.UTC).\n",
      "  return dt.datetime.utcfromtimestamp(ts_utc).replace(tzinfo=dt.timezone.utc)\n"
     ]
    },
    {
     "name": "stdout",
     "output_type": "stream",
     "text": [
      "Saved 32 comments (total 3,703).\n"
     ]
    },
    {
     "name": "stderr",
     "output_type": "stream",
     "text": [
      "/var/folders/6h/7_s8d7dn5p565dythb22sn0c0000gn/T/ipykernel_99815/3620101952.py:15: DeprecationWarning: datetime.datetime.utcfromtimestamp() is deprecated and scheduled for removal in a future version. Use timezone-aware objects to represent datetimes in UTC: datetime.datetime.fromtimestamp(timestamp, datetime.UTC).\n",
      "  return dt.datetime.utcfromtimestamp(ts_utc).replace(tzinfo=dt.timezone.utc)\n"
     ]
    },
    {
     "name": "stdout",
     "output_type": "stream",
     "text": [
      "Saved 60 comments (total 3,763).\n"
     ]
    },
    {
     "name": "stderr",
     "output_type": "stream",
     "text": [
      "/var/folders/6h/7_s8d7dn5p565dythb22sn0c0000gn/T/ipykernel_99815/3620101952.py:15: DeprecationWarning: datetime.datetime.utcfromtimestamp() is deprecated and scheduled for removal in a future version. Use timezone-aware objects to represent datetimes in UTC: datetime.datetime.fromtimestamp(timestamp, datetime.UTC).\n",
      "  return dt.datetime.utcfromtimestamp(ts_utc).replace(tzinfo=dt.timezone.utc)\n"
     ]
    },
    {
     "name": "stdout",
     "output_type": "stream",
     "text": [
      "Saved 78 comments (total 3,841).\n"
     ]
    },
    {
     "name": "stderr",
     "output_type": "stream",
     "text": [
      "/var/folders/6h/7_s8d7dn5p565dythb22sn0c0000gn/T/ipykernel_99815/3620101952.py:15: DeprecationWarning: datetime.datetime.utcfromtimestamp() is deprecated and scheduled for removal in a future version. Use timezone-aware objects to represent datetimes in UTC: datetime.datetime.fromtimestamp(timestamp, datetime.UTC).\n",
      "  return dt.datetime.utcfromtimestamp(ts_utc).replace(tzinfo=dt.timezone.utc)\n"
     ]
    },
    {
     "name": "stdout",
     "output_type": "stream",
     "text": [
      "Saved 52 comments (total 3,893).\n"
     ]
    },
    {
     "name": "stderr",
     "output_type": "stream",
     "text": [
      "/var/folders/6h/7_s8d7dn5p565dythb22sn0c0000gn/T/ipykernel_99815/3620101952.py:15: DeprecationWarning: datetime.datetime.utcfromtimestamp() is deprecated and scheduled for removal in a future version. Use timezone-aware objects to represent datetimes in UTC: datetime.datetime.fromtimestamp(timestamp, datetime.UTC).\n",
      "  return dt.datetime.utcfromtimestamp(ts_utc).replace(tzinfo=dt.timezone.utc)\n"
     ]
    },
    {
     "name": "stdout",
     "output_type": "stream",
     "text": [
      "Saved 143 comments (total 4,036).\n"
     ]
    },
    {
     "name": "stderr",
     "output_type": "stream",
     "text": [
      "/var/folders/6h/7_s8d7dn5p565dythb22sn0c0000gn/T/ipykernel_99815/3620101952.py:15: DeprecationWarning: datetime.datetime.utcfromtimestamp() is deprecated and scheduled for removal in a future version. Use timezone-aware objects to represent datetimes in UTC: datetime.datetime.fromtimestamp(timestamp, datetime.UTC).\n",
      "  return dt.datetime.utcfromtimestamp(ts_utc).replace(tzinfo=dt.timezone.utc)\n"
     ]
    },
    {
     "name": "stdout",
     "output_type": "stream",
     "text": [
      "Saved 47 comments (total 4,083).\n"
     ]
    },
    {
     "name": "stderr",
     "output_type": "stream",
     "text": [
      "/var/folders/6h/7_s8d7dn5p565dythb22sn0c0000gn/T/ipykernel_99815/3620101952.py:15: DeprecationWarning: datetime.datetime.utcfromtimestamp() is deprecated and scheduled for removal in a future version. Use timezone-aware objects to represent datetimes in UTC: datetime.datetime.fromtimestamp(timestamp, datetime.UTC).\n",
      "  return dt.datetime.utcfromtimestamp(ts_utc).replace(tzinfo=dt.timezone.utc)\n"
     ]
    },
    {
     "name": "stdout",
     "output_type": "stream",
     "text": [
      "Saved 1 comments (total 4,084).\n"
     ]
    },
    {
     "name": "stderr",
     "output_type": "stream",
     "text": [
      "/var/folders/6h/7_s8d7dn5p565dythb22sn0c0000gn/T/ipykernel_99815/3620101952.py:15: DeprecationWarning: datetime.datetime.utcfromtimestamp() is deprecated and scheduled for removal in a future version. Use timezone-aware objects to represent datetimes in UTC: datetime.datetime.fromtimestamp(timestamp, datetime.UTC).\n",
      "  return dt.datetime.utcfromtimestamp(ts_utc).replace(tzinfo=dt.timezone.utc)\n"
     ]
    },
    {
     "name": "stdout",
     "output_type": "stream",
     "text": [
      "Saved 23 comments (total 4,107).\n"
     ]
    },
    {
     "name": "stderr",
     "output_type": "stream",
     "text": [
      "/var/folders/6h/7_s8d7dn5p565dythb22sn0c0000gn/T/ipykernel_99815/3620101952.py:15: DeprecationWarning: datetime.datetime.utcfromtimestamp() is deprecated and scheduled for removal in a future version. Use timezone-aware objects to represent datetimes in UTC: datetime.datetime.fromtimestamp(timestamp, datetime.UTC).\n",
      "  return dt.datetime.utcfromtimestamp(ts_utc).replace(tzinfo=dt.timezone.utc)\n"
     ]
    },
    {
     "name": "stdout",
     "output_type": "stream",
     "text": [
      "Saved 77 comments (total 4,184).\n"
     ]
    },
    {
     "name": "stderr",
     "output_type": "stream",
     "text": [
      "/var/folders/6h/7_s8d7dn5p565dythb22sn0c0000gn/T/ipykernel_99815/3620101952.py:15: DeprecationWarning: datetime.datetime.utcfromtimestamp() is deprecated and scheduled for removal in a future version. Use timezone-aware objects to represent datetimes in UTC: datetime.datetime.fromtimestamp(timestamp, datetime.UTC).\n",
      "  return dt.datetime.utcfromtimestamp(ts_utc).replace(tzinfo=dt.timezone.utc)\n"
     ]
    },
    {
     "name": "stdout",
     "output_type": "stream",
     "text": [
      "Saved 5 comments (total 4,189).\n"
     ]
    },
    {
     "name": "stderr",
     "output_type": "stream",
     "text": [
      "/var/folders/6h/7_s8d7dn5p565dythb22sn0c0000gn/T/ipykernel_99815/3620101952.py:15: DeprecationWarning: datetime.datetime.utcfromtimestamp() is deprecated and scheduled for removal in a future version. Use timezone-aware objects to represent datetimes in UTC: datetime.datetime.fromtimestamp(timestamp, datetime.UTC).\n",
      "  return dt.datetime.utcfromtimestamp(ts_utc).replace(tzinfo=dt.timezone.utc)\n"
     ]
    },
    {
     "name": "stdout",
     "output_type": "stream",
     "text": [
      "Saved 18 comments (total 4,207).\n"
     ]
    },
    {
     "name": "stderr",
     "output_type": "stream",
     "text": [
      "/var/folders/6h/7_s8d7dn5p565dythb22sn0c0000gn/T/ipykernel_99815/3620101952.py:15: DeprecationWarning: datetime.datetime.utcfromtimestamp() is deprecated and scheduled for removal in a future version. Use timezone-aware objects to represent datetimes in UTC: datetime.datetime.fromtimestamp(timestamp, datetime.UTC).\n",
      "  return dt.datetime.utcfromtimestamp(ts_utc).replace(tzinfo=dt.timezone.utc)\n"
     ]
    },
    {
     "name": "stdout",
     "output_type": "stream",
     "text": [
      "Saved 6 comments (total 4,213).\n"
     ]
    },
    {
     "name": "stderr",
     "output_type": "stream",
     "text": [
      "/var/folders/6h/7_s8d7dn5p565dythb22sn0c0000gn/T/ipykernel_99815/3620101952.py:15: DeprecationWarning: datetime.datetime.utcfromtimestamp() is deprecated and scheduled for removal in a future version. Use timezone-aware objects to represent datetimes in UTC: datetime.datetime.fromtimestamp(timestamp, datetime.UTC).\n",
      "  return dt.datetime.utcfromtimestamp(ts_utc).replace(tzinfo=dt.timezone.utc)\n"
     ]
    },
    {
     "name": "stdout",
     "output_type": "stream",
     "text": [
      "Saved 30 comments (total 4,243).\n"
     ]
    },
    {
     "name": "stderr",
     "output_type": "stream",
     "text": [
      "/var/folders/6h/7_s8d7dn5p565dythb22sn0c0000gn/T/ipykernel_99815/3620101952.py:15: DeprecationWarning: datetime.datetime.utcfromtimestamp() is deprecated and scheduled for removal in a future version. Use timezone-aware objects to represent datetimes in UTC: datetime.datetime.fromtimestamp(timestamp, datetime.UTC).\n",
      "  return dt.datetime.utcfromtimestamp(ts_utc).replace(tzinfo=dt.timezone.utc)\n"
     ]
    },
    {
     "name": "stdout",
     "output_type": "stream",
     "text": [
      "Saved 38 comments (total 4,281).\n"
     ]
    },
    {
     "name": "stderr",
     "output_type": "stream",
     "text": [
      "/var/folders/6h/7_s8d7dn5p565dythb22sn0c0000gn/T/ipykernel_99815/3620101952.py:15: DeprecationWarning: datetime.datetime.utcfromtimestamp() is deprecated and scheduled for removal in a future version. Use timezone-aware objects to represent datetimes in UTC: datetime.datetime.fromtimestamp(timestamp, datetime.UTC).\n",
      "  return dt.datetime.utcfromtimestamp(ts_utc).replace(tzinfo=dt.timezone.utc)\n"
     ]
    },
    {
     "name": "stdout",
     "output_type": "stream",
     "text": [
      "Saved 54 comments (total 4,335).\n"
     ]
    },
    {
     "name": "stderr",
     "output_type": "stream",
     "text": [
      "/var/folders/6h/7_s8d7dn5p565dythb22sn0c0000gn/T/ipykernel_99815/3620101952.py:15: DeprecationWarning: datetime.datetime.utcfromtimestamp() is deprecated and scheduled for removal in a future version. Use timezone-aware objects to represent datetimes in UTC: datetime.datetime.fromtimestamp(timestamp, datetime.UTC).\n",
      "  return dt.datetime.utcfromtimestamp(ts_utc).replace(tzinfo=dt.timezone.utc)\n"
     ]
    },
    {
     "name": "stdout",
     "output_type": "stream",
     "text": [
      "Saved 23 comments (total 4,358).\n"
     ]
    },
    {
     "name": "stderr",
     "output_type": "stream",
     "text": [
      "/var/folders/6h/7_s8d7dn5p565dythb22sn0c0000gn/T/ipykernel_99815/3620101952.py:15: DeprecationWarning: datetime.datetime.utcfromtimestamp() is deprecated and scheduled for removal in a future version. Use timezone-aware objects to represent datetimes in UTC: datetime.datetime.fromtimestamp(timestamp, datetime.UTC).\n",
      "  return dt.datetime.utcfromtimestamp(ts_utc).replace(tzinfo=dt.timezone.utc)\n"
     ]
    },
    {
     "name": "stdout",
     "output_type": "stream",
     "text": [
      "Saved 82 comments (total 4,440).\n"
     ]
    },
    {
     "name": "stderr",
     "output_type": "stream",
     "text": [
      "/var/folders/6h/7_s8d7dn5p565dythb22sn0c0000gn/T/ipykernel_99815/3620101952.py:15: DeprecationWarning: datetime.datetime.utcfromtimestamp() is deprecated and scheduled for removal in a future version. Use timezone-aware objects to represent datetimes in UTC: datetime.datetime.fromtimestamp(timestamp, datetime.UTC).\n",
      "  return dt.datetime.utcfromtimestamp(ts_utc).replace(tzinfo=dt.timezone.utc)\n"
     ]
    },
    {
     "name": "stdout",
     "output_type": "stream",
     "text": [
      "Saved 26 comments (total 4,466).\n"
     ]
    },
    {
     "name": "stderr",
     "output_type": "stream",
     "text": [
      "/var/folders/6h/7_s8d7dn5p565dythb22sn0c0000gn/T/ipykernel_99815/3620101952.py:15: DeprecationWarning: datetime.datetime.utcfromtimestamp() is deprecated and scheduled for removal in a future version. Use timezone-aware objects to represent datetimes in UTC: datetime.datetime.fromtimestamp(timestamp, datetime.UTC).\n",
      "  return dt.datetime.utcfromtimestamp(ts_utc).replace(tzinfo=dt.timezone.utc)\n"
     ]
    },
    {
     "name": "stdout",
     "output_type": "stream",
     "text": [
      "Saved 7 comments (total 4,473).\n"
     ]
    },
    {
     "name": "stderr",
     "output_type": "stream",
     "text": [
      "/var/folders/6h/7_s8d7dn5p565dythb22sn0c0000gn/T/ipykernel_99815/3620101952.py:15: DeprecationWarning: datetime.datetime.utcfromtimestamp() is deprecated and scheduled for removal in a future version. Use timezone-aware objects to represent datetimes in UTC: datetime.datetime.fromtimestamp(timestamp, datetime.UTC).\n",
      "  return dt.datetime.utcfromtimestamp(ts_utc).replace(tzinfo=dt.timezone.utc)\n"
     ]
    },
    {
     "name": "stdout",
     "output_type": "stream",
     "text": [
      "Saved 3 comments (total 4,476).\n"
     ]
    },
    {
     "name": "stderr",
     "output_type": "stream",
     "text": [
      "/var/folders/6h/7_s8d7dn5p565dythb22sn0c0000gn/T/ipykernel_99815/3620101952.py:15: DeprecationWarning: datetime.datetime.utcfromtimestamp() is deprecated and scheduled for removal in a future version. Use timezone-aware objects to represent datetimes in UTC: datetime.datetime.fromtimestamp(timestamp, datetime.UTC).\n",
      "  return dt.datetime.utcfromtimestamp(ts_utc).replace(tzinfo=dt.timezone.utc)\n"
     ]
    },
    {
     "name": "stdout",
     "output_type": "stream",
     "text": [
      "Saved 5 comments (total 4,481).\n"
     ]
    },
    {
     "name": "stderr",
     "output_type": "stream",
     "text": [
      "/var/folders/6h/7_s8d7dn5p565dythb22sn0c0000gn/T/ipykernel_99815/3620101952.py:15: DeprecationWarning: datetime.datetime.utcfromtimestamp() is deprecated and scheduled for removal in a future version. Use timezone-aware objects to represent datetimes in UTC: datetime.datetime.fromtimestamp(timestamp, datetime.UTC).\n",
      "  return dt.datetime.utcfromtimestamp(ts_utc).replace(tzinfo=dt.timezone.utc)\n"
     ]
    },
    {
     "name": "stdout",
     "output_type": "stream",
     "text": [
      "Saved 26 comments (total 4,507).\n"
     ]
    },
    {
     "name": "stderr",
     "output_type": "stream",
     "text": [
      "/var/folders/6h/7_s8d7dn5p565dythb22sn0c0000gn/T/ipykernel_99815/3620101952.py:15: DeprecationWarning: datetime.datetime.utcfromtimestamp() is deprecated and scheduled for removal in a future version. Use timezone-aware objects to represent datetimes in UTC: datetime.datetime.fromtimestamp(timestamp, datetime.UTC).\n",
      "  return dt.datetime.utcfromtimestamp(ts_utc).replace(tzinfo=dt.timezone.utc)\n"
     ]
    },
    {
     "name": "stdout",
     "output_type": "stream",
     "text": [
      "Saved 83 comments (total 4,590).\n"
     ]
    },
    {
     "name": "stderr",
     "output_type": "stream",
     "text": [
      "/var/folders/6h/7_s8d7dn5p565dythb22sn0c0000gn/T/ipykernel_99815/3620101952.py:15: DeprecationWarning: datetime.datetime.utcfromtimestamp() is deprecated and scheduled for removal in a future version. Use timezone-aware objects to represent datetimes in UTC: datetime.datetime.fromtimestamp(timestamp, datetime.UTC).\n",
      "  return dt.datetime.utcfromtimestamp(ts_utc).replace(tzinfo=dt.timezone.utc)\n"
     ]
    },
    {
     "name": "stdout",
     "output_type": "stream",
     "text": [
      "Saved 52 comments (total 4,642).\n"
     ]
    },
    {
     "name": "stderr",
     "output_type": "stream",
     "text": [
      "/var/folders/6h/7_s8d7dn5p565dythb22sn0c0000gn/T/ipykernel_99815/3620101952.py:15: DeprecationWarning: datetime.datetime.utcfromtimestamp() is deprecated and scheduled for removal in a future version. Use timezone-aware objects to represent datetimes in UTC: datetime.datetime.fromtimestamp(timestamp, datetime.UTC).\n",
      "  return dt.datetime.utcfromtimestamp(ts_utc).replace(tzinfo=dt.timezone.utc)\n"
     ]
    },
    {
     "name": "stdout",
     "output_type": "stream",
     "text": [
      "Saved 23 comments (total 4,665).\n"
     ]
    },
    {
     "name": "stderr",
     "output_type": "stream",
     "text": [
      "/var/folders/6h/7_s8d7dn5p565dythb22sn0c0000gn/T/ipykernel_99815/3620101952.py:15: DeprecationWarning: datetime.datetime.utcfromtimestamp() is deprecated and scheduled for removal in a future version. Use timezone-aware objects to represent datetimes in UTC: datetime.datetime.fromtimestamp(timestamp, datetime.UTC).\n",
      "  return dt.datetime.utcfromtimestamp(ts_utc).replace(tzinfo=dt.timezone.utc)\n"
     ]
    },
    {
     "name": "stdout",
     "output_type": "stream",
     "text": [
      "Saved 13 comments (total 4,678).\n"
     ]
    },
    {
     "name": "stderr",
     "output_type": "stream",
     "text": [
      "/var/folders/6h/7_s8d7dn5p565dythb22sn0c0000gn/T/ipykernel_99815/3620101952.py:15: DeprecationWarning: datetime.datetime.utcfromtimestamp() is deprecated and scheduled for removal in a future version. Use timezone-aware objects to represent datetimes in UTC: datetime.datetime.fromtimestamp(timestamp, datetime.UTC).\n",
      "  return dt.datetime.utcfromtimestamp(ts_utc).replace(tzinfo=dt.timezone.utc)\n"
     ]
    },
    {
     "name": "stdout",
     "output_type": "stream",
     "text": [
      "Saved 35 comments (total 4,713).\n"
     ]
    },
    {
     "name": "stderr",
     "output_type": "stream",
     "text": [
      "/var/folders/6h/7_s8d7dn5p565dythb22sn0c0000gn/T/ipykernel_99815/3620101952.py:15: DeprecationWarning: datetime.datetime.utcfromtimestamp() is deprecated and scheduled for removal in a future version. Use timezone-aware objects to represent datetimes in UTC: datetime.datetime.fromtimestamp(timestamp, datetime.UTC).\n",
      "  return dt.datetime.utcfromtimestamp(ts_utc).replace(tzinfo=dt.timezone.utc)\n"
     ]
    },
    {
     "name": "stdout",
     "output_type": "stream",
     "text": [
      "Saved 56 comments (total 4,769).\n"
     ]
    },
    {
     "name": "stderr",
     "output_type": "stream",
     "text": [
      "/var/folders/6h/7_s8d7dn5p565dythb22sn0c0000gn/T/ipykernel_99815/3620101952.py:15: DeprecationWarning: datetime.datetime.utcfromtimestamp() is deprecated and scheduled for removal in a future version. Use timezone-aware objects to represent datetimes in UTC: datetime.datetime.fromtimestamp(timestamp, datetime.UTC).\n",
      "  return dt.datetime.utcfromtimestamp(ts_utc).replace(tzinfo=dt.timezone.utc)\n"
     ]
    },
    {
     "name": "stdout",
     "output_type": "stream",
     "text": [
      "Saved 31 comments (total 4,800).\n"
     ]
    },
    {
     "name": "stderr",
     "output_type": "stream",
     "text": [
      "/var/folders/6h/7_s8d7dn5p565dythb22sn0c0000gn/T/ipykernel_99815/3620101952.py:15: DeprecationWarning: datetime.datetime.utcfromtimestamp() is deprecated and scheduled for removal in a future version. Use timezone-aware objects to represent datetimes in UTC: datetime.datetime.fromtimestamp(timestamp, datetime.UTC).\n",
      "  return dt.datetime.utcfromtimestamp(ts_utc).replace(tzinfo=dt.timezone.utc)\n"
     ]
    },
    {
     "name": "stdout",
     "output_type": "stream",
     "text": [
      "Saved 91 comments (total 4,891).\n"
     ]
    },
    {
     "name": "stderr",
     "output_type": "stream",
     "text": [
      "/var/folders/6h/7_s8d7dn5p565dythb22sn0c0000gn/T/ipykernel_99815/3620101952.py:15: DeprecationWarning: datetime.datetime.utcfromtimestamp() is deprecated and scheduled for removal in a future version. Use timezone-aware objects to represent datetimes in UTC: datetime.datetime.fromtimestamp(timestamp, datetime.UTC).\n",
      "  return dt.datetime.utcfromtimestamp(ts_utc).replace(tzinfo=dt.timezone.utc)\n"
     ]
    },
    {
     "name": "stdout",
     "output_type": "stream",
     "text": [
      "Saved 1 comments (total 4,892).\n"
     ]
    },
    {
     "name": "stderr",
     "output_type": "stream",
     "text": [
      "/var/folders/6h/7_s8d7dn5p565dythb22sn0c0000gn/T/ipykernel_99815/3620101952.py:15: DeprecationWarning: datetime.datetime.utcfromtimestamp() is deprecated and scheduled for removal in a future version. Use timezone-aware objects to represent datetimes in UTC: datetime.datetime.fromtimestamp(timestamp, datetime.UTC).\n",
      "  return dt.datetime.utcfromtimestamp(ts_utc).replace(tzinfo=dt.timezone.utc)\n"
     ]
    },
    {
     "name": "stdout",
     "output_type": "stream",
     "text": [
      "Saved 6 comments (total 4,898).\n"
     ]
    },
    {
     "name": "stderr",
     "output_type": "stream",
     "text": [
      "/var/folders/6h/7_s8d7dn5p565dythb22sn0c0000gn/T/ipykernel_99815/3620101952.py:15: DeprecationWarning: datetime.datetime.utcfromtimestamp() is deprecated and scheduled for removal in a future version. Use timezone-aware objects to represent datetimes in UTC: datetime.datetime.fromtimestamp(timestamp, datetime.UTC).\n",
      "  return dt.datetime.utcfromtimestamp(ts_utc).replace(tzinfo=dt.timezone.utc)\n"
     ]
    },
    {
     "name": "stdout",
     "output_type": "stream",
     "text": [
      "Saved 134 comments (total 5,032).\n"
     ]
    },
    {
     "name": "stderr",
     "output_type": "stream",
     "text": [
      "/var/folders/6h/7_s8d7dn5p565dythb22sn0c0000gn/T/ipykernel_99815/3620101952.py:15: DeprecationWarning: datetime.datetime.utcfromtimestamp() is deprecated and scheduled for removal in a future version. Use timezone-aware objects to represent datetimes in UTC: datetime.datetime.fromtimestamp(timestamp, datetime.UTC).\n",
      "  return dt.datetime.utcfromtimestamp(ts_utc).replace(tzinfo=dt.timezone.utc)\n"
     ]
    },
    {
     "name": "stdout",
     "output_type": "stream",
     "text": [
      "Saved 2 comments (total 5,034).\n"
     ]
    },
    {
     "name": "stderr",
     "output_type": "stream",
     "text": [
      "/var/folders/6h/7_s8d7dn5p565dythb22sn0c0000gn/T/ipykernel_99815/3620101952.py:15: DeprecationWarning: datetime.datetime.utcfromtimestamp() is deprecated and scheduled for removal in a future version. Use timezone-aware objects to represent datetimes in UTC: datetime.datetime.fromtimestamp(timestamp, datetime.UTC).\n",
      "  return dt.datetime.utcfromtimestamp(ts_utc).replace(tzinfo=dt.timezone.utc)\n"
     ]
    },
    {
     "name": "stdout",
     "output_type": "stream",
     "text": [
      "Saved 68 comments (total 5,102).\n"
     ]
    },
    {
     "name": "stderr",
     "output_type": "stream",
     "text": [
      "/var/folders/6h/7_s8d7dn5p565dythb22sn0c0000gn/T/ipykernel_99815/3620101952.py:15: DeprecationWarning: datetime.datetime.utcfromtimestamp() is deprecated and scheduled for removal in a future version. Use timezone-aware objects to represent datetimes in UTC: datetime.datetime.fromtimestamp(timestamp, datetime.UTC).\n",
      "  return dt.datetime.utcfromtimestamp(ts_utc).replace(tzinfo=dt.timezone.utc)\n"
     ]
    },
    {
     "name": "stdout",
     "output_type": "stream",
     "text": [
      "Saved 164 comments (total 5,266).\n"
     ]
    },
    {
     "name": "stderr",
     "output_type": "stream",
     "text": [
      "/var/folders/6h/7_s8d7dn5p565dythb22sn0c0000gn/T/ipykernel_99815/3620101952.py:15: DeprecationWarning: datetime.datetime.utcfromtimestamp() is deprecated and scheduled for removal in a future version. Use timezone-aware objects to represent datetimes in UTC: datetime.datetime.fromtimestamp(timestamp, datetime.UTC).\n",
      "  return dt.datetime.utcfromtimestamp(ts_utc).replace(tzinfo=dt.timezone.utc)\n"
     ]
    },
    {
     "name": "stdout",
     "output_type": "stream",
     "text": [
      "Saved 38 comments (total 5,304).\n"
     ]
    },
    {
     "name": "stderr",
     "output_type": "stream",
     "text": [
      "/var/folders/6h/7_s8d7dn5p565dythb22sn0c0000gn/T/ipykernel_99815/3620101952.py:15: DeprecationWarning: datetime.datetime.utcfromtimestamp() is deprecated and scheduled for removal in a future version. Use timezone-aware objects to represent datetimes in UTC: datetime.datetime.fromtimestamp(timestamp, datetime.UTC).\n",
      "  return dt.datetime.utcfromtimestamp(ts_utc).replace(tzinfo=dt.timezone.utc)\n"
     ]
    },
    {
     "name": "stdout",
     "output_type": "stream",
     "text": [
      "Saved 43 comments (total 5,347).\n"
     ]
    },
    {
     "name": "stderr",
     "output_type": "stream",
     "text": [
      "/var/folders/6h/7_s8d7dn5p565dythb22sn0c0000gn/T/ipykernel_99815/3620101952.py:15: DeprecationWarning: datetime.datetime.utcfromtimestamp() is deprecated and scheduled for removal in a future version. Use timezone-aware objects to represent datetimes in UTC: datetime.datetime.fromtimestamp(timestamp, datetime.UTC).\n",
      "  return dt.datetime.utcfromtimestamp(ts_utc).replace(tzinfo=dt.timezone.utc)\n"
     ]
    },
    {
     "name": "stdout",
     "output_type": "stream",
     "text": [
      "Saved 39 comments (total 5,386).\n"
     ]
    },
    {
     "name": "stderr",
     "output_type": "stream",
     "text": [
      "/var/folders/6h/7_s8d7dn5p565dythb22sn0c0000gn/T/ipykernel_99815/3620101952.py:15: DeprecationWarning: datetime.datetime.utcfromtimestamp() is deprecated and scheduled for removal in a future version. Use timezone-aware objects to represent datetimes in UTC: datetime.datetime.fromtimestamp(timestamp, datetime.UTC).\n",
      "  return dt.datetime.utcfromtimestamp(ts_utc).replace(tzinfo=dt.timezone.utc)\n"
     ]
    },
    {
     "name": "stdout",
     "output_type": "stream",
     "text": [
      "Saved 19 comments (total 5,405).\n"
     ]
    },
    {
     "name": "stderr",
     "output_type": "stream",
     "text": [
      "/var/folders/6h/7_s8d7dn5p565dythb22sn0c0000gn/T/ipykernel_99815/3620101952.py:15: DeprecationWarning: datetime.datetime.utcfromtimestamp() is deprecated and scheduled for removal in a future version. Use timezone-aware objects to represent datetimes in UTC: datetime.datetime.fromtimestamp(timestamp, datetime.UTC).\n",
      "  return dt.datetime.utcfromtimestamp(ts_utc).replace(tzinfo=dt.timezone.utc)\n"
     ]
    },
    {
     "name": "stdout",
     "output_type": "stream",
     "text": [
      "Saved 55 comments (total 5,460).\n"
     ]
    },
    {
     "name": "stderr",
     "output_type": "stream",
     "text": [
      "/var/folders/6h/7_s8d7dn5p565dythb22sn0c0000gn/T/ipykernel_99815/3620101952.py:15: DeprecationWarning: datetime.datetime.utcfromtimestamp() is deprecated and scheduled for removal in a future version. Use timezone-aware objects to represent datetimes in UTC: datetime.datetime.fromtimestamp(timestamp, datetime.UTC).\n",
      "  return dt.datetime.utcfromtimestamp(ts_utc).replace(tzinfo=dt.timezone.utc)\n"
     ]
    },
    {
     "name": "stdout",
     "output_type": "stream",
     "text": [
      "Saved 67 comments (total 5,527).\n"
     ]
    },
    {
     "name": "stderr",
     "output_type": "stream",
     "text": [
      "/var/folders/6h/7_s8d7dn5p565dythb22sn0c0000gn/T/ipykernel_99815/3620101952.py:15: DeprecationWarning: datetime.datetime.utcfromtimestamp() is deprecated and scheduled for removal in a future version. Use timezone-aware objects to represent datetimes in UTC: datetime.datetime.fromtimestamp(timestamp, datetime.UTC).\n",
      "  return dt.datetime.utcfromtimestamp(ts_utc).replace(tzinfo=dt.timezone.utc)\n"
     ]
    },
    {
     "name": "stdout",
     "output_type": "stream",
     "text": [
      "Saved 134 comments (total 5,661).\n"
     ]
    },
    {
     "name": "stderr",
     "output_type": "stream",
     "text": [
      "/var/folders/6h/7_s8d7dn5p565dythb22sn0c0000gn/T/ipykernel_99815/3620101952.py:15: DeprecationWarning: datetime.datetime.utcfromtimestamp() is deprecated and scheduled for removal in a future version. Use timezone-aware objects to represent datetimes in UTC: datetime.datetime.fromtimestamp(timestamp, datetime.UTC).\n",
      "  return dt.datetime.utcfromtimestamp(ts_utc).replace(tzinfo=dt.timezone.utc)\n"
     ]
    },
    {
     "name": "stdout",
     "output_type": "stream",
     "text": [
      "Saved 213 comments (total 5,874).\n"
     ]
    },
    {
     "name": "stderr",
     "output_type": "stream",
     "text": [
      "/var/folders/6h/7_s8d7dn5p565dythb22sn0c0000gn/T/ipykernel_99815/3620101952.py:15: DeprecationWarning: datetime.datetime.utcfromtimestamp() is deprecated and scheduled for removal in a future version. Use timezone-aware objects to represent datetimes in UTC: datetime.datetime.fromtimestamp(timestamp, datetime.UTC).\n",
      "  return dt.datetime.utcfromtimestamp(ts_utc).replace(tzinfo=dt.timezone.utc)\n"
     ]
    },
    {
     "name": "stdout",
     "output_type": "stream",
     "text": [
      "Saved 95 comments (total 5,969).\n"
     ]
    },
    {
     "name": "stderr",
     "output_type": "stream",
     "text": [
      "/var/folders/6h/7_s8d7dn5p565dythb22sn0c0000gn/T/ipykernel_99815/3620101952.py:15: DeprecationWarning: datetime.datetime.utcfromtimestamp() is deprecated and scheduled for removal in a future version. Use timezone-aware objects to represent datetimes in UTC: datetime.datetime.fromtimestamp(timestamp, datetime.UTC).\n",
      "  return dt.datetime.utcfromtimestamp(ts_utc).replace(tzinfo=dt.timezone.utc)\n"
     ]
    },
    {
     "name": "stdout",
     "output_type": "stream",
     "text": [
      "Saved 772 comments (total 6,741).\n"
     ]
    },
    {
     "name": "stderr",
     "output_type": "stream",
     "text": [
      "/var/folders/6h/7_s8d7dn5p565dythb22sn0c0000gn/T/ipykernel_99815/3620101952.py:15: DeprecationWarning: datetime.datetime.utcfromtimestamp() is deprecated and scheduled for removal in a future version. Use timezone-aware objects to represent datetimes in UTC: datetime.datetime.fromtimestamp(timestamp, datetime.UTC).\n",
      "  return dt.datetime.utcfromtimestamp(ts_utc).replace(tzinfo=dt.timezone.utc)\n"
     ]
    },
    {
     "name": "stdout",
     "output_type": "stream",
     "text": [
      "Saved 37 comments (total 6,778).\n"
     ]
    },
    {
     "name": "stderr",
     "output_type": "stream",
     "text": [
      "/var/folders/6h/7_s8d7dn5p565dythb22sn0c0000gn/T/ipykernel_99815/3620101952.py:15: DeprecationWarning: datetime.datetime.utcfromtimestamp() is deprecated and scheduled for removal in a future version. Use timezone-aware objects to represent datetimes in UTC: datetime.datetime.fromtimestamp(timestamp, datetime.UTC).\n",
      "  return dt.datetime.utcfromtimestamp(ts_utc).replace(tzinfo=dt.timezone.utc)\n"
     ]
    },
    {
     "name": "stdout",
     "output_type": "stream",
     "text": [
      "Saved 36 comments (total 6,814).\n"
     ]
    },
    {
     "name": "stderr",
     "output_type": "stream",
     "text": [
      "/var/folders/6h/7_s8d7dn5p565dythb22sn0c0000gn/T/ipykernel_99815/3620101952.py:15: DeprecationWarning: datetime.datetime.utcfromtimestamp() is deprecated and scheduled for removal in a future version. Use timezone-aware objects to represent datetimes in UTC: datetime.datetime.fromtimestamp(timestamp, datetime.UTC).\n",
      "  return dt.datetime.utcfromtimestamp(ts_utc).replace(tzinfo=dt.timezone.utc)\n"
     ]
    },
    {
     "name": "stdout",
     "output_type": "stream",
     "text": [
      "Saved 6 comments (total 6,820).\n"
     ]
    },
    {
     "name": "stderr",
     "output_type": "stream",
     "text": [
      "/var/folders/6h/7_s8d7dn5p565dythb22sn0c0000gn/T/ipykernel_99815/3620101952.py:15: DeprecationWarning: datetime.datetime.utcfromtimestamp() is deprecated and scheduled for removal in a future version. Use timezone-aware objects to represent datetimes in UTC: datetime.datetime.fromtimestamp(timestamp, datetime.UTC).\n",
      "  return dt.datetime.utcfromtimestamp(ts_utc).replace(tzinfo=dt.timezone.utc)\n"
     ]
    },
    {
     "name": "stdout",
     "output_type": "stream",
     "text": [
      "Saved 8 comments (total 6,828).\n"
     ]
    },
    {
     "name": "stderr",
     "output_type": "stream",
     "text": [
      "/var/folders/6h/7_s8d7dn5p565dythb22sn0c0000gn/T/ipykernel_99815/3620101952.py:15: DeprecationWarning: datetime.datetime.utcfromtimestamp() is deprecated and scheduled for removal in a future version. Use timezone-aware objects to represent datetimes in UTC: datetime.datetime.fromtimestamp(timestamp, datetime.UTC).\n",
      "  return dt.datetime.utcfromtimestamp(ts_utc).replace(tzinfo=dt.timezone.utc)\n"
     ]
    },
    {
     "name": "stdout",
     "output_type": "stream",
     "text": [
      "Saved 4 comments (total 6,832).\n"
     ]
    },
    {
     "name": "stderr",
     "output_type": "stream",
     "text": [
      "/var/folders/6h/7_s8d7dn5p565dythb22sn0c0000gn/T/ipykernel_99815/3620101952.py:15: DeprecationWarning: datetime.datetime.utcfromtimestamp() is deprecated and scheduled for removal in a future version. Use timezone-aware objects to represent datetimes in UTC: datetime.datetime.fromtimestamp(timestamp, datetime.UTC).\n",
      "  return dt.datetime.utcfromtimestamp(ts_utc).replace(tzinfo=dt.timezone.utc)\n"
     ]
    },
    {
     "name": "stdout",
     "output_type": "stream",
     "text": [
      "Saved 37 comments (total 6,869).\n"
     ]
    },
    {
     "name": "stderr",
     "output_type": "stream",
     "text": [
      "/var/folders/6h/7_s8d7dn5p565dythb22sn0c0000gn/T/ipykernel_99815/3620101952.py:15: DeprecationWarning: datetime.datetime.utcfromtimestamp() is deprecated and scheduled for removal in a future version. Use timezone-aware objects to represent datetimes in UTC: datetime.datetime.fromtimestamp(timestamp, datetime.UTC).\n",
      "  return dt.datetime.utcfromtimestamp(ts_utc).replace(tzinfo=dt.timezone.utc)\n"
     ]
    },
    {
     "name": "stdout",
     "output_type": "stream",
     "text": [
      "Saved 17 comments (total 6,886).\n"
     ]
    },
    {
     "name": "stderr",
     "output_type": "stream",
     "text": [
      "/var/folders/6h/7_s8d7dn5p565dythb22sn0c0000gn/T/ipykernel_99815/3620101952.py:15: DeprecationWarning: datetime.datetime.utcfromtimestamp() is deprecated and scheduled for removal in a future version. Use timezone-aware objects to represent datetimes in UTC: datetime.datetime.fromtimestamp(timestamp, datetime.UTC).\n",
      "  return dt.datetime.utcfromtimestamp(ts_utc).replace(tzinfo=dt.timezone.utc)\n"
     ]
    },
    {
     "name": "stdout",
     "output_type": "stream",
     "text": [
      "Saved 6 comments (total 6,892).\n"
     ]
    },
    {
     "name": "stderr",
     "output_type": "stream",
     "text": [
      "/var/folders/6h/7_s8d7dn5p565dythb22sn0c0000gn/T/ipykernel_99815/3620101952.py:15: DeprecationWarning: datetime.datetime.utcfromtimestamp() is deprecated and scheduled for removal in a future version. Use timezone-aware objects to represent datetimes in UTC: datetime.datetime.fromtimestamp(timestamp, datetime.UTC).\n",
      "  return dt.datetime.utcfromtimestamp(ts_utc).replace(tzinfo=dt.timezone.utc)\n"
     ]
    },
    {
     "name": "stdout",
     "output_type": "stream",
     "text": [
      "Saved 44 comments (total 6,936).\n"
     ]
    },
    {
     "name": "stderr",
     "output_type": "stream",
     "text": [
      "/var/folders/6h/7_s8d7dn5p565dythb22sn0c0000gn/T/ipykernel_99815/3620101952.py:15: DeprecationWarning: datetime.datetime.utcfromtimestamp() is deprecated and scheduled for removal in a future version. Use timezone-aware objects to represent datetimes in UTC: datetime.datetime.fromtimestamp(timestamp, datetime.UTC).\n",
      "  return dt.datetime.utcfromtimestamp(ts_utc).replace(tzinfo=dt.timezone.utc)\n"
     ]
    },
    {
     "name": "stdout",
     "output_type": "stream",
     "text": [
      "Saved 8 comments (total 6,944).\n"
     ]
    },
    {
     "name": "stderr",
     "output_type": "stream",
     "text": [
      "/var/folders/6h/7_s8d7dn5p565dythb22sn0c0000gn/T/ipykernel_99815/3620101952.py:15: DeprecationWarning: datetime.datetime.utcfromtimestamp() is deprecated and scheduled for removal in a future version. Use timezone-aware objects to represent datetimes in UTC: datetime.datetime.fromtimestamp(timestamp, datetime.UTC).\n",
      "  return dt.datetime.utcfromtimestamp(ts_utc).replace(tzinfo=dt.timezone.utc)\n"
     ]
    },
    {
     "name": "stdout",
     "output_type": "stream",
     "text": [
      "Saved 85 comments (total 7,029).\n"
     ]
    },
    {
     "name": "stderr",
     "output_type": "stream",
     "text": [
      "/var/folders/6h/7_s8d7dn5p565dythb22sn0c0000gn/T/ipykernel_99815/3620101952.py:15: DeprecationWarning: datetime.datetime.utcfromtimestamp() is deprecated and scheduled for removal in a future version. Use timezone-aware objects to represent datetimes in UTC: datetime.datetime.fromtimestamp(timestamp, datetime.UTC).\n",
      "  return dt.datetime.utcfromtimestamp(ts_utc).replace(tzinfo=dt.timezone.utc)\n"
     ]
    },
    {
     "name": "stdout",
     "output_type": "stream",
     "text": [
      "Saved 387 comments (total 7,416).\n"
     ]
    },
    {
     "name": "stderr",
     "output_type": "stream",
     "text": [
      "/var/folders/6h/7_s8d7dn5p565dythb22sn0c0000gn/T/ipykernel_99815/3620101952.py:15: DeprecationWarning: datetime.datetime.utcfromtimestamp() is deprecated and scheduled for removal in a future version. Use timezone-aware objects to represent datetimes in UTC: datetime.datetime.fromtimestamp(timestamp, datetime.UTC).\n",
      "  return dt.datetime.utcfromtimestamp(ts_utc).replace(tzinfo=dt.timezone.utc)\n",
      "/var/folders/6h/7_s8d7dn5p565dythb22sn0c0000gn/T/ipykernel_99815/3620101952.py:15: DeprecationWarning: datetime.datetime.utcfromtimestamp() is deprecated and scheduled for removal in a future version. Use timezone-aware objects to represent datetimes in UTC: datetime.datetime.fromtimestamp(timestamp, datetime.UTC).\n",
      "  return dt.datetime.utcfromtimestamp(ts_utc).replace(tzinfo=dt.timezone.utc)\n"
     ]
    },
    {
     "name": "stdout",
     "output_type": "stream",
     "text": [
      "Saved 5000 comments (total 12,416).\n",
      "Saved 1761 comments (total 14,177).\n"
     ]
    },
    {
     "name": "stderr",
     "output_type": "stream",
     "text": [
      "/var/folders/6h/7_s8d7dn5p565dythb22sn0c0000gn/T/ipykernel_99815/3620101952.py:15: DeprecationWarning: datetime.datetime.utcfromtimestamp() is deprecated and scheduled for removal in a future version. Use timezone-aware objects to represent datetimes in UTC: datetime.datetime.fromtimestamp(timestamp, datetime.UTC).\n",
      "  return dt.datetime.utcfromtimestamp(ts_utc).replace(tzinfo=dt.timezone.utc)\n"
     ]
    },
    {
     "name": "stdout",
     "output_type": "stream",
     "text": [
      "Saved 59 comments (total 14,236).\n"
     ]
    },
    {
     "name": "stderr",
     "output_type": "stream",
     "text": [
      "/var/folders/6h/7_s8d7dn5p565dythb22sn0c0000gn/T/ipykernel_99815/3620101952.py:15: DeprecationWarning: datetime.datetime.utcfromtimestamp() is deprecated and scheduled for removal in a future version. Use timezone-aware objects to represent datetimes in UTC: datetime.datetime.fromtimestamp(timestamp, datetime.UTC).\n",
      "  return dt.datetime.utcfromtimestamp(ts_utc).replace(tzinfo=dt.timezone.utc)\n"
     ]
    },
    {
     "name": "stdout",
     "output_type": "stream",
     "text": [
      "Saved 30 comments (total 14,266).\n"
     ]
    },
    {
     "name": "stderr",
     "output_type": "stream",
     "text": [
      "/var/folders/6h/7_s8d7dn5p565dythb22sn0c0000gn/T/ipykernel_99815/3620101952.py:15: DeprecationWarning: datetime.datetime.utcfromtimestamp() is deprecated and scheduled for removal in a future version. Use timezone-aware objects to represent datetimes in UTC: datetime.datetime.fromtimestamp(timestamp, datetime.UTC).\n",
      "  return dt.datetime.utcfromtimestamp(ts_utc).replace(tzinfo=dt.timezone.utc)\n"
     ]
    },
    {
     "name": "stdout",
     "output_type": "stream",
     "text": [
      "Saved 28 comments (total 14,294).\n"
     ]
    },
    {
     "name": "stderr",
     "output_type": "stream",
     "text": [
      "/var/folders/6h/7_s8d7dn5p565dythb22sn0c0000gn/T/ipykernel_99815/3620101952.py:15: DeprecationWarning: datetime.datetime.utcfromtimestamp() is deprecated and scheduled for removal in a future version. Use timezone-aware objects to represent datetimes in UTC: datetime.datetime.fromtimestamp(timestamp, datetime.UTC).\n",
      "  return dt.datetime.utcfromtimestamp(ts_utc).replace(tzinfo=dt.timezone.utc)\n"
     ]
    },
    {
     "name": "stdout",
     "output_type": "stream",
     "text": [
      "Saved 23 comments (total 14,317).\n"
     ]
    },
    {
     "name": "stderr",
     "output_type": "stream",
     "text": [
      "/var/folders/6h/7_s8d7dn5p565dythb22sn0c0000gn/T/ipykernel_99815/3620101952.py:15: DeprecationWarning: datetime.datetime.utcfromtimestamp() is deprecated and scheduled for removal in a future version. Use timezone-aware objects to represent datetimes in UTC: datetime.datetime.fromtimestamp(timestamp, datetime.UTC).\n",
      "  return dt.datetime.utcfromtimestamp(ts_utc).replace(tzinfo=dt.timezone.utc)\n"
     ]
    },
    {
     "name": "stdout",
     "output_type": "stream",
     "text": [
      "Saved 4 comments (total 14,321).\n"
     ]
    },
    {
     "name": "stderr",
     "output_type": "stream",
     "text": [
      "/var/folders/6h/7_s8d7dn5p565dythb22sn0c0000gn/T/ipykernel_99815/3620101952.py:15: DeprecationWarning: datetime.datetime.utcfromtimestamp() is deprecated and scheduled for removal in a future version. Use timezone-aware objects to represent datetimes in UTC: datetime.datetime.fromtimestamp(timestamp, datetime.UTC).\n",
      "  return dt.datetime.utcfromtimestamp(ts_utc).replace(tzinfo=dt.timezone.utc)\n"
     ]
    },
    {
     "name": "stdout",
     "output_type": "stream",
     "text": [
      "Saved 94 comments (total 14,415).\n"
     ]
    },
    {
     "name": "stderr",
     "output_type": "stream",
     "text": [
      "/var/folders/6h/7_s8d7dn5p565dythb22sn0c0000gn/T/ipykernel_99815/3620101952.py:15: DeprecationWarning: datetime.datetime.utcfromtimestamp() is deprecated and scheduled for removal in a future version. Use timezone-aware objects to represent datetimes in UTC: datetime.datetime.fromtimestamp(timestamp, datetime.UTC).\n",
      "  return dt.datetime.utcfromtimestamp(ts_utc).replace(tzinfo=dt.timezone.utc)\n"
     ]
    },
    {
     "name": "stdout",
     "output_type": "stream",
     "text": [
      "Saved 48 comments (total 14,463).\n"
     ]
    },
    {
     "name": "stderr",
     "output_type": "stream",
     "text": [
      "/var/folders/6h/7_s8d7dn5p565dythb22sn0c0000gn/T/ipykernel_99815/3620101952.py:15: DeprecationWarning: datetime.datetime.utcfromtimestamp() is deprecated and scheduled for removal in a future version. Use timezone-aware objects to represent datetimes in UTC: datetime.datetime.fromtimestamp(timestamp, datetime.UTC).\n",
      "  return dt.datetime.utcfromtimestamp(ts_utc).replace(tzinfo=dt.timezone.utc)\n"
     ]
    },
    {
     "name": "stdout",
     "output_type": "stream",
     "text": [
      "Saved 51 comments (total 14,514).\n"
     ]
    },
    {
     "name": "stderr",
     "output_type": "stream",
     "text": [
      "/var/folders/6h/7_s8d7dn5p565dythb22sn0c0000gn/T/ipykernel_99815/3620101952.py:15: DeprecationWarning: datetime.datetime.utcfromtimestamp() is deprecated and scheduled for removal in a future version. Use timezone-aware objects to represent datetimes in UTC: datetime.datetime.fromtimestamp(timestamp, datetime.UTC).\n",
      "  return dt.datetime.utcfromtimestamp(ts_utc).replace(tzinfo=dt.timezone.utc)\n"
     ]
    },
    {
     "name": "stdout",
     "output_type": "stream",
     "text": [
      "Saved 24 comments (total 14,538).\n"
     ]
    },
    {
     "name": "stderr",
     "output_type": "stream",
     "text": [
      "/var/folders/6h/7_s8d7dn5p565dythb22sn0c0000gn/T/ipykernel_99815/3620101952.py:15: DeprecationWarning: datetime.datetime.utcfromtimestamp() is deprecated and scheduled for removal in a future version. Use timezone-aware objects to represent datetimes in UTC: datetime.datetime.fromtimestamp(timestamp, datetime.UTC).\n",
      "  return dt.datetime.utcfromtimestamp(ts_utc).replace(tzinfo=dt.timezone.utc)\n"
     ]
    },
    {
     "name": "stdout",
     "output_type": "stream",
     "text": [
      "Saved 20 comments (total 14,558).\n"
     ]
    },
    {
     "name": "stderr",
     "output_type": "stream",
     "text": [
      "/var/folders/6h/7_s8d7dn5p565dythb22sn0c0000gn/T/ipykernel_99815/3620101952.py:15: DeprecationWarning: datetime.datetime.utcfromtimestamp() is deprecated and scheduled for removal in a future version. Use timezone-aware objects to represent datetimes in UTC: datetime.datetime.fromtimestamp(timestamp, datetime.UTC).\n",
      "  return dt.datetime.utcfromtimestamp(ts_utc).replace(tzinfo=dt.timezone.utc)\n"
     ]
    },
    {
     "name": "stdout",
     "output_type": "stream",
     "text": [
      "Saved 27 comments (total 14,585).\n"
     ]
    },
    {
     "name": "stderr",
     "output_type": "stream",
     "text": [
      "/var/folders/6h/7_s8d7dn5p565dythb22sn0c0000gn/T/ipykernel_99815/3620101952.py:15: DeprecationWarning: datetime.datetime.utcfromtimestamp() is deprecated and scheduled for removal in a future version. Use timezone-aware objects to represent datetimes in UTC: datetime.datetime.fromtimestamp(timestamp, datetime.UTC).\n",
      "  return dt.datetime.utcfromtimestamp(ts_utc).replace(tzinfo=dt.timezone.utc)\n"
     ]
    },
    {
     "name": "stdout",
     "output_type": "stream",
     "text": [
      "Saved 40 comments (total 14,625).\n"
     ]
    },
    {
     "name": "stderr",
     "output_type": "stream",
     "text": [
      "/var/folders/6h/7_s8d7dn5p565dythb22sn0c0000gn/T/ipykernel_99815/3620101952.py:15: DeprecationWarning: datetime.datetime.utcfromtimestamp() is deprecated and scheduled for removal in a future version. Use timezone-aware objects to represent datetimes in UTC: datetime.datetime.fromtimestamp(timestamp, datetime.UTC).\n",
      "  return dt.datetime.utcfromtimestamp(ts_utc).replace(tzinfo=dt.timezone.utc)\n"
     ]
    },
    {
     "name": "stdout",
     "output_type": "stream",
     "text": [
      "Saved 11 comments (total 14,636).\n"
     ]
    },
    {
     "name": "stderr",
     "output_type": "stream",
     "text": [
      "/var/folders/6h/7_s8d7dn5p565dythb22sn0c0000gn/T/ipykernel_99815/3620101952.py:15: DeprecationWarning: datetime.datetime.utcfromtimestamp() is deprecated and scheduled for removal in a future version. Use timezone-aware objects to represent datetimes in UTC: datetime.datetime.fromtimestamp(timestamp, datetime.UTC).\n",
      "  return dt.datetime.utcfromtimestamp(ts_utc).replace(tzinfo=dt.timezone.utc)\n"
     ]
    },
    {
     "name": "stdout",
     "output_type": "stream",
     "text": [
      "Saved 50 comments (total 14,686).\n"
     ]
    },
    {
     "name": "stderr",
     "output_type": "stream",
     "text": [
      "/var/folders/6h/7_s8d7dn5p565dythb22sn0c0000gn/T/ipykernel_99815/3620101952.py:15: DeprecationWarning: datetime.datetime.utcfromtimestamp() is deprecated and scheduled for removal in a future version. Use timezone-aware objects to represent datetimes in UTC: datetime.datetime.fromtimestamp(timestamp, datetime.UTC).\n",
      "  return dt.datetime.utcfromtimestamp(ts_utc).replace(tzinfo=dt.timezone.utc)\n"
     ]
    },
    {
     "name": "stdout",
     "output_type": "stream",
     "text": [
      "Saved 5 comments (total 14,691).\n"
     ]
    },
    {
     "name": "stderr",
     "output_type": "stream",
     "text": [
      "/var/folders/6h/7_s8d7dn5p565dythb22sn0c0000gn/T/ipykernel_99815/3620101952.py:15: DeprecationWarning: datetime.datetime.utcfromtimestamp() is deprecated and scheduled for removal in a future version. Use timezone-aware objects to represent datetimes in UTC: datetime.datetime.fromtimestamp(timestamp, datetime.UTC).\n",
      "  return dt.datetime.utcfromtimestamp(ts_utc).replace(tzinfo=dt.timezone.utc)\n"
     ]
    },
    {
     "name": "stdout",
     "output_type": "stream",
     "text": [
      "Saved 40 comments (total 14,731).\n"
     ]
    },
    {
     "name": "stderr",
     "output_type": "stream",
     "text": [
      "/var/folders/6h/7_s8d7dn5p565dythb22sn0c0000gn/T/ipykernel_99815/3620101952.py:15: DeprecationWarning: datetime.datetime.utcfromtimestamp() is deprecated and scheduled for removal in a future version. Use timezone-aware objects to represent datetimes in UTC: datetime.datetime.fromtimestamp(timestamp, datetime.UTC).\n",
      "  return dt.datetime.utcfromtimestamp(ts_utc).replace(tzinfo=dt.timezone.utc)\n"
     ]
    },
    {
     "name": "stdout",
     "output_type": "stream",
     "text": [
      "Saved 13 comments (total 14,744).\n"
     ]
    },
    {
     "name": "stderr",
     "output_type": "stream",
     "text": [
      "/var/folders/6h/7_s8d7dn5p565dythb22sn0c0000gn/T/ipykernel_99815/3620101952.py:15: DeprecationWarning: datetime.datetime.utcfromtimestamp() is deprecated and scheduled for removal in a future version. Use timezone-aware objects to represent datetimes in UTC: datetime.datetime.fromtimestamp(timestamp, datetime.UTC).\n",
      "  return dt.datetime.utcfromtimestamp(ts_utc).replace(tzinfo=dt.timezone.utc)\n"
     ]
    },
    {
     "name": "stdout",
     "output_type": "stream",
     "text": [
      "Saved 4 comments (total 14,748).\n",
      "[WARN] Comment fetch error for 1n9pvzg (TooManyRequests): received 429 HTTP response. Backing off (attempt 1)…\n"
     ]
    },
    {
     "ename": "NameError",
     "evalue": "name 'rate_limit_backoff' is not defined",
     "output_type": "error",
     "traceback": [
      "\u001b[0;31m---------------------------------------------------------------------------\u001b[0m",
      "\u001b[0;31mTooManyRequests\u001b[0m                           Traceback (most recent call last)",
      "Cell \u001b[0;32mIn[3], line 100\u001b[0m, in \u001b[0;36mfetch_comments_for_posts_csv\u001b[0;34m(posts_csv, out_csv, checkpoint_path, max_depth, flush_every)\u001b[0m\n\u001b[1;32m     99\u001b[0m \u001b[38;5;66;03m# Expand comments; max_depth: None = all, 0 = none\u001b[39;00m\n\u001b[0;32m--> 100\u001b[0m \u001b[43msubm\u001b[49m\u001b[38;5;241;43m.\u001b[39;49m\u001b[43mcomments\u001b[49m\u001b[38;5;241;43m.\u001b[39;49m\u001b[43mreplace_more\u001b[49m\u001b[43m(\u001b[49m\u001b[43mlimit\u001b[49m\u001b[38;5;241;43m=\u001b[39;49m\u001b[43mmax_depth\u001b[49m\u001b[43m)\u001b[49m\n\u001b[1;32m    102\u001b[0m \u001b[38;5;28;01mfor\u001b[39;00m c \u001b[38;5;129;01min\u001b[39;00m subm\u001b[38;5;241m.\u001b[39mcomments\u001b[38;5;241m.\u001b[39mlist():\n",
      "File \u001b[0;32m/opt/anaconda3/envs/DataScience/lib/python3.13/site-packages/praw/util/deprecate_args.py:46\u001b[0m, in \u001b[0;36m_deprecate_args.<locals>.wrapper.<locals>.wrapped\u001b[0;34m(*args, **kwargs)\u001b[0m\n\u001b[1;32m     40\u001b[0m     warn(\n\u001b[1;32m     41\u001b[0m         \u001b[38;5;124mf\u001b[39m\u001b[38;5;124m\"\u001b[39m\u001b[38;5;124mPositional arguments for \u001b[39m\u001b[38;5;132;01m{\u001b[39;00mfunc\u001b[38;5;241m.\u001b[39m\u001b[38;5;18m__qualname__\u001b[39m\u001b[38;5;132;01m!r}\u001b[39;00m\u001b[38;5;124m will no longer be\u001b[39m\u001b[38;5;124m\"\u001b[39m\n\u001b[1;32m     42\u001b[0m         \u001b[38;5;124mf\u001b[39m\u001b[38;5;124m\"\u001b[39m\u001b[38;5;124m supported in PRAW 8.\u001b[39m\u001b[38;5;130;01m\\n\u001b[39;00m\u001b[38;5;124mCall this function with \u001b[39m\u001b[38;5;132;01m{\u001b[39;00marg_string\u001b[38;5;132;01m}\u001b[39;00m\u001b[38;5;124m.\u001b[39m\u001b[38;5;124m\"\u001b[39m,\n\u001b[1;32m     43\u001b[0m         \u001b[38;5;167;01mDeprecationWarning\u001b[39;00m,\n\u001b[1;32m     44\u001b[0m         stacklevel\u001b[38;5;241m=\u001b[39m\u001b[38;5;241m2\u001b[39m,\n\u001b[1;32m     45\u001b[0m     )\n\u001b[0;32m---> 46\u001b[0m \u001b[38;5;28;01mreturn\u001b[39;00m \u001b[43mfunc\u001b[49m\u001b[43m(\u001b[49m\u001b[38;5;241;43m*\u001b[39;49m\u001b[38;5;241;43m*\u001b[39;49m\u001b[38;5;28;43mdict\u001b[39;49m\u001b[43m(\u001b[49m\u001b[38;5;28;43mzip\u001b[39;49m\u001b[43m(\u001b[49m\u001b[43m_old_args\u001b[49m\u001b[43m,\u001b[49m\u001b[43m \u001b[49m\u001b[43margs\u001b[49m\u001b[43m)\u001b[49m\u001b[43m)\u001b[49m\u001b[43m,\u001b[49m\u001b[43m \u001b[49m\u001b[38;5;241;43m*\u001b[39;49m\u001b[38;5;241;43m*\u001b[39;49m\u001b[43mkwargs\u001b[49m\u001b[43m)\u001b[49m\n",
      "File \u001b[0;32m/opt/anaconda3/envs/DataScience/lib/python3.13/site-packages/praw/models/comment_forest.py:192\u001b[0m, in \u001b[0;36mCommentForest.replace_more\u001b[0;34m(self, limit, threshold)\u001b[0m\n\u001b[1;32m    190\u001b[0m     \u001b[38;5;28;01mcontinue\u001b[39;00m\n\u001b[0;32m--> 192\u001b[0m new_comments \u001b[38;5;241m=\u001b[39m \u001b[43mitem\u001b[49m\u001b[38;5;241;43m.\u001b[39;49m\u001b[43mcomments\u001b[49m\u001b[43m(\u001b[49m\u001b[43mupdate\u001b[49m\u001b[38;5;241;43m=\u001b[39;49m\u001b[38;5;28;43;01mFalse\u001b[39;49;00m\u001b[43m)\u001b[49m\n\u001b[1;32m    193\u001b[0m \u001b[38;5;28;01mif\u001b[39;00m remaining \u001b[38;5;129;01mis\u001b[39;00m \u001b[38;5;129;01mnot\u001b[39;00m \u001b[38;5;28;01mNone\u001b[39;00m:\n",
      "File \u001b[0;32m/opt/anaconda3/envs/DataScience/lib/python3.13/site-packages/praw/util/deprecate_args.py:46\u001b[0m, in \u001b[0;36m_deprecate_args.<locals>.wrapper.<locals>.wrapped\u001b[0;34m(*args, **kwargs)\u001b[0m\n\u001b[1;32m     40\u001b[0m     warn(\n\u001b[1;32m     41\u001b[0m         \u001b[38;5;124mf\u001b[39m\u001b[38;5;124m\"\u001b[39m\u001b[38;5;124mPositional arguments for \u001b[39m\u001b[38;5;132;01m{\u001b[39;00mfunc\u001b[38;5;241m.\u001b[39m\u001b[38;5;18m__qualname__\u001b[39m\u001b[38;5;132;01m!r}\u001b[39;00m\u001b[38;5;124m will no longer be\u001b[39m\u001b[38;5;124m\"\u001b[39m\n\u001b[1;32m     42\u001b[0m         \u001b[38;5;124mf\u001b[39m\u001b[38;5;124m\"\u001b[39m\u001b[38;5;124m supported in PRAW 8.\u001b[39m\u001b[38;5;130;01m\\n\u001b[39;00m\u001b[38;5;124mCall this function with \u001b[39m\u001b[38;5;132;01m{\u001b[39;00marg_string\u001b[38;5;132;01m}\u001b[39;00m\u001b[38;5;124m.\u001b[39m\u001b[38;5;124m\"\u001b[39m,\n\u001b[1;32m     43\u001b[0m         \u001b[38;5;167;01mDeprecationWarning\u001b[39;00m,\n\u001b[1;32m     44\u001b[0m         stacklevel\u001b[38;5;241m=\u001b[39m\u001b[38;5;241m2\u001b[39m,\n\u001b[1;32m     45\u001b[0m     )\n\u001b[0;32m---> 46\u001b[0m \u001b[38;5;28;01mreturn\u001b[39;00m \u001b[43mfunc\u001b[49m\u001b[43m(\u001b[49m\u001b[38;5;241;43m*\u001b[39;49m\u001b[38;5;241;43m*\u001b[39;49m\u001b[38;5;28;43mdict\u001b[39;49m\u001b[43m(\u001b[49m\u001b[38;5;28;43mzip\u001b[39;49m\u001b[43m(\u001b[49m\u001b[43m_old_args\u001b[49m\u001b[43m,\u001b[49m\u001b[43m \u001b[49m\u001b[43margs\u001b[49m\u001b[43m)\u001b[49m\u001b[43m)\u001b[49m\u001b[43m,\u001b[49m\u001b[43m \u001b[49m\u001b[38;5;241;43m*\u001b[39;49m\u001b[38;5;241;43m*\u001b[39;49m\u001b[43mkwargs\u001b[49m\u001b[43m)\u001b[49m\n",
      "File \u001b[0;32m/opt/anaconda3/envs/DataScience/lib/python3.13/site-packages/praw/models/reddit/more.py:79\u001b[0m, in \u001b[0;36mMoreComments.comments\u001b[0;34m(self, update)\u001b[0m\n\u001b[1;32m     74\u001b[0m data \u001b[38;5;241m=\u001b[39m {\n\u001b[1;32m     75\u001b[0m     \u001b[38;5;124m\"\u001b[39m\u001b[38;5;124mchildren\u001b[39m\u001b[38;5;124m\"\u001b[39m: \u001b[38;5;124m\"\u001b[39m\u001b[38;5;124m,\u001b[39m\u001b[38;5;124m\"\u001b[39m\u001b[38;5;241m.\u001b[39mjoin(\u001b[38;5;28mself\u001b[39m\u001b[38;5;241m.\u001b[39mchildren),\n\u001b[1;32m     76\u001b[0m     \u001b[38;5;124m\"\u001b[39m\u001b[38;5;124mlink_id\u001b[39m\u001b[38;5;124m\"\u001b[39m: \u001b[38;5;28mself\u001b[39m\u001b[38;5;241m.\u001b[39msubmission\u001b[38;5;241m.\u001b[39mfullname,\n\u001b[1;32m     77\u001b[0m     \u001b[38;5;124m\"\u001b[39m\u001b[38;5;124msort\u001b[39m\u001b[38;5;124m\"\u001b[39m: \u001b[38;5;28mself\u001b[39m\u001b[38;5;241m.\u001b[39msubmission\u001b[38;5;241m.\u001b[39mcomment_sort,\n\u001b[1;32m     78\u001b[0m }\n\u001b[0;32m---> 79\u001b[0m \u001b[38;5;28mself\u001b[39m\u001b[38;5;241m.\u001b[39m_comments \u001b[38;5;241m=\u001b[39m \u001b[38;5;28;43mself\u001b[39;49m\u001b[38;5;241;43m.\u001b[39;49m\u001b[43m_reddit\u001b[49m\u001b[38;5;241;43m.\u001b[39;49m\u001b[43mpost\u001b[49m\u001b[43m(\u001b[49m\u001b[43mAPI_PATH\u001b[49m\u001b[43m[\u001b[49m\u001b[38;5;124;43m\"\u001b[39;49m\u001b[38;5;124;43mmorechildren\u001b[39;49m\u001b[38;5;124;43m\"\u001b[39;49m\u001b[43m]\u001b[49m\u001b[43m,\u001b[49m\u001b[43m \u001b[49m\u001b[43mdata\u001b[49m\u001b[38;5;241;43m=\u001b[39;49m\u001b[43mdata\u001b[49m\u001b[43m)\u001b[49m\n\u001b[1;32m     80\u001b[0m \u001b[38;5;28;01mif\u001b[39;00m update:\n",
      "File \u001b[0;32m/opt/anaconda3/envs/DataScience/lib/python3.13/site-packages/praw/util/deprecate_args.py:46\u001b[0m, in \u001b[0;36m_deprecate_args.<locals>.wrapper.<locals>.wrapped\u001b[0;34m(*args, **kwargs)\u001b[0m\n\u001b[1;32m     40\u001b[0m     warn(\n\u001b[1;32m     41\u001b[0m         \u001b[38;5;124mf\u001b[39m\u001b[38;5;124m\"\u001b[39m\u001b[38;5;124mPositional arguments for \u001b[39m\u001b[38;5;132;01m{\u001b[39;00mfunc\u001b[38;5;241m.\u001b[39m\u001b[38;5;18m__qualname__\u001b[39m\u001b[38;5;132;01m!r}\u001b[39;00m\u001b[38;5;124m will no longer be\u001b[39m\u001b[38;5;124m\"\u001b[39m\n\u001b[1;32m     42\u001b[0m         \u001b[38;5;124mf\u001b[39m\u001b[38;5;124m\"\u001b[39m\u001b[38;5;124m supported in PRAW 8.\u001b[39m\u001b[38;5;130;01m\\n\u001b[39;00m\u001b[38;5;124mCall this function with \u001b[39m\u001b[38;5;132;01m{\u001b[39;00marg_string\u001b[38;5;132;01m}\u001b[39;00m\u001b[38;5;124m.\u001b[39m\u001b[38;5;124m\"\u001b[39m,\n\u001b[1;32m     43\u001b[0m         \u001b[38;5;167;01mDeprecationWarning\u001b[39;00m,\n\u001b[1;32m     44\u001b[0m         stacklevel\u001b[38;5;241m=\u001b[39m\u001b[38;5;241m2\u001b[39m,\n\u001b[1;32m     45\u001b[0m     )\n\u001b[0;32m---> 46\u001b[0m \u001b[38;5;28;01mreturn\u001b[39;00m \u001b[43mfunc\u001b[49m\u001b[43m(\u001b[49m\u001b[38;5;241;43m*\u001b[39;49m\u001b[38;5;241;43m*\u001b[39;49m\u001b[38;5;28;43mdict\u001b[39;49m\u001b[43m(\u001b[49m\u001b[38;5;28;43mzip\u001b[39;49m\u001b[43m(\u001b[49m\u001b[43m_old_args\u001b[49m\u001b[43m,\u001b[49m\u001b[43m \u001b[49m\u001b[43margs\u001b[49m\u001b[43m)\u001b[49m\u001b[43m)\u001b[49m\u001b[43m,\u001b[49m\u001b[43m \u001b[49m\u001b[38;5;241;43m*\u001b[39;49m\u001b[38;5;241;43m*\u001b[39;49m\u001b[43mkwargs\u001b[49m\u001b[43m)\u001b[49m\n",
      "File \u001b[0;32m/opt/anaconda3/envs/DataScience/lib/python3.13/site-packages/praw/reddit.py:861\u001b[0m, in \u001b[0;36mReddit.post\u001b[0;34m(self, path, data, files, json, params)\u001b[0m\n\u001b[1;32m    860\u001b[0m \u001b[38;5;28;01mtry\u001b[39;00m:\n\u001b[0;32m--> 861\u001b[0m     \u001b[38;5;28;01mreturn\u001b[39;00m \u001b[38;5;28;43mself\u001b[39;49m\u001b[38;5;241;43m.\u001b[39;49m\u001b[43m_objectify_request\u001b[49m\u001b[43m(\u001b[49m\n\u001b[1;32m    862\u001b[0m \u001b[43m        \u001b[49m\u001b[43mdata\u001b[49m\u001b[38;5;241;43m=\u001b[39;49m\u001b[43mdata\u001b[49m\u001b[43m,\u001b[49m\n\u001b[1;32m    863\u001b[0m \u001b[43m        \u001b[49m\u001b[43mfiles\u001b[49m\u001b[38;5;241;43m=\u001b[39;49m\u001b[43mfiles\u001b[49m\u001b[43m,\u001b[49m\n\u001b[1;32m    864\u001b[0m \u001b[43m        \u001b[49m\u001b[43mjson\u001b[49m\u001b[38;5;241;43m=\u001b[39;49m\u001b[43mjson\u001b[49m\u001b[43m,\u001b[49m\n\u001b[1;32m    865\u001b[0m \u001b[43m        \u001b[49m\u001b[43mmethod\u001b[49m\u001b[38;5;241;43m=\u001b[39;49m\u001b[38;5;124;43m\"\u001b[39;49m\u001b[38;5;124;43mPOST\u001b[39;49m\u001b[38;5;124;43m\"\u001b[39;49m\u001b[43m,\u001b[49m\n\u001b[1;32m    866\u001b[0m \u001b[43m        \u001b[49m\u001b[43mparams\u001b[49m\u001b[38;5;241;43m=\u001b[39;49m\u001b[43mparams\u001b[49m\u001b[43m,\u001b[49m\n\u001b[1;32m    867\u001b[0m \u001b[43m        \u001b[49m\u001b[43mpath\u001b[49m\u001b[38;5;241;43m=\u001b[39;49m\u001b[43mpath\u001b[49m\u001b[43m,\u001b[49m\n\u001b[1;32m    868\u001b[0m \u001b[43m    \u001b[49m\u001b[43m)\u001b[49m\n\u001b[1;32m    869\u001b[0m \u001b[38;5;28;01mexcept\u001b[39;00m RedditAPIException \u001b[38;5;28;01mas\u001b[39;00m exception:\n",
      "File \u001b[0;32m/opt/anaconda3/envs/DataScience/lib/python3.13/site-packages/praw/reddit.py:514\u001b[0m, in \u001b[0;36mReddit._objectify_request\u001b[0;34m(self, data, files, json, method, params, path)\u001b[0m\n\u001b[1;32m    498\u001b[0m \u001b[38;5;250m\u001b[39m\u001b[38;5;124;03m\"\"\"Run a request through the ``Objector``.\u001b[39;00m\n\u001b[1;32m    499\u001b[0m \n\u001b[1;32m    500\u001b[0m \u001b[38;5;124;03m:param data: Dictionary, bytes, or file-like object to send in the body of the\u001b[39;00m\n\u001b[0;32m   (...)\u001b[0m\n\u001b[1;32m    511\u001b[0m \n\u001b[1;32m    512\u001b[0m \u001b[38;5;124;03m\"\"\"\u001b[39;00m\n\u001b[1;32m    513\u001b[0m \u001b[38;5;28;01mreturn\u001b[39;00m \u001b[38;5;28mself\u001b[39m\u001b[38;5;241m.\u001b[39m_objector\u001b[38;5;241m.\u001b[39mobjectify(\n\u001b[0;32m--> 514\u001b[0m     \u001b[38;5;28;43mself\u001b[39;49m\u001b[38;5;241;43m.\u001b[39;49m\u001b[43mrequest\u001b[49m\u001b[43m(\u001b[49m\n\u001b[1;32m    515\u001b[0m \u001b[43m        \u001b[49m\u001b[43mdata\u001b[49m\u001b[38;5;241;43m=\u001b[39;49m\u001b[43mdata\u001b[49m\u001b[43m,\u001b[49m\n\u001b[1;32m    516\u001b[0m \u001b[43m        \u001b[49m\u001b[43mfiles\u001b[49m\u001b[38;5;241;43m=\u001b[39;49m\u001b[43mfiles\u001b[49m\u001b[43m,\u001b[49m\n\u001b[1;32m    517\u001b[0m \u001b[43m        \u001b[49m\u001b[43mjson\u001b[49m\u001b[38;5;241;43m=\u001b[39;49m\u001b[43mjson\u001b[49m\u001b[43m,\u001b[49m\n\u001b[1;32m    518\u001b[0m \u001b[43m        \u001b[49m\u001b[43mmethod\u001b[49m\u001b[38;5;241;43m=\u001b[39;49m\u001b[43mmethod\u001b[49m\u001b[43m,\u001b[49m\n\u001b[1;32m    519\u001b[0m \u001b[43m        \u001b[49m\u001b[43mparams\u001b[49m\u001b[38;5;241;43m=\u001b[39;49m\u001b[43mparams\u001b[49m\u001b[43m,\u001b[49m\n\u001b[1;32m    520\u001b[0m \u001b[43m        \u001b[49m\u001b[43mpath\u001b[49m\u001b[38;5;241;43m=\u001b[39;49m\u001b[43mpath\u001b[49m\u001b[43m,\u001b[49m\n\u001b[1;32m    521\u001b[0m \u001b[43m    \u001b[49m\u001b[43m)\u001b[49m\n\u001b[1;32m    522\u001b[0m )\n",
      "File \u001b[0;32m/opt/anaconda3/envs/DataScience/lib/python3.13/site-packages/praw/util/deprecate_args.py:46\u001b[0m, in \u001b[0;36m_deprecate_args.<locals>.wrapper.<locals>.wrapped\u001b[0;34m(*args, **kwargs)\u001b[0m\n\u001b[1;32m     40\u001b[0m     warn(\n\u001b[1;32m     41\u001b[0m         \u001b[38;5;124mf\u001b[39m\u001b[38;5;124m\"\u001b[39m\u001b[38;5;124mPositional arguments for \u001b[39m\u001b[38;5;132;01m{\u001b[39;00mfunc\u001b[38;5;241m.\u001b[39m\u001b[38;5;18m__qualname__\u001b[39m\u001b[38;5;132;01m!r}\u001b[39;00m\u001b[38;5;124m will no longer be\u001b[39m\u001b[38;5;124m\"\u001b[39m\n\u001b[1;32m     42\u001b[0m         \u001b[38;5;124mf\u001b[39m\u001b[38;5;124m\"\u001b[39m\u001b[38;5;124m supported in PRAW 8.\u001b[39m\u001b[38;5;130;01m\\n\u001b[39;00m\u001b[38;5;124mCall this function with \u001b[39m\u001b[38;5;132;01m{\u001b[39;00marg_string\u001b[38;5;132;01m}\u001b[39;00m\u001b[38;5;124m.\u001b[39m\u001b[38;5;124m\"\u001b[39m,\n\u001b[1;32m     43\u001b[0m         \u001b[38;5;167;01mDeprecationWarning\u001b[39;00m,\n\u001b[1;32m     44\u001b[0m         stacklevel\u001b[38;5;241m=\u001b[39m\u001b[38;5;241m2\u001b[39m,\n\u001b[1;32m     45\u001b[0m     )\n\u001b[0;32m---> 46\u001b[0m \u001b[38;5;28;01mreturn\u001b[39;00m \u001b[43mfunc\u001b[49m\u001b[43m(\u001b[49m\u001b[38;5;241;43m*\u001b[39;49m\u001b[38;5;241;43m*\u001b[39;49m\u001b[38;5;28;43mdict\u001b[39;49m\u001b[43m(\u001b[49m\u001b[38;5;28;43mzip\u001b[39;49m\u001b[43m(\u001b[49m\u001b[43m_old_args\u001b[49m\u001b[43m,\u001b[49m\u001b[43m \u001b[49m\u001b[43margs\u001b[49m\u001b[43m)\u001b[49m\u001b[43m)\u001b[49m\u001b[43m,\u001b[49m\u001b[43m \u001b[49m\u001b[38;5;241;43m*\u001b[39;49m\u001b[38;5;241;43m*\u001b[39;49m\u001b[43mkwargs\u001b[49m\u001b[43m)\u001b[49m\n",
      "File \u001b[0;32m/opt/anaconda3/envs/DataScience/lib/python3.13/site-packages/praw/reddit.py:963\u001b[0m, in \u001b[0;36mReddit.request\u001b[0;34m(self, data, files, json, method, params, path)\u001b[0m\n\u001b[1;32m    962\u001b[0m \u001b[38;5;28;01mtry\u001b[39;00m:\n\u001b[0;32m--> 963\u001b[0m     \u001b[38;5;28;01mreturn\u001b[39;00m \u001b[38;5;28;43mself\u001b[39;49m\u001b[38;5;241;43m.\u001b[39;49m\u001b[43m_core\u001b[49m\u001b[38;5;241;43m.\u001b[39;49m\u001b[43mrequest\u001b[49m\u001b[43m(\u001b[49m\n\u001b[1;32m    964\u001b[0m \u001b[43m        \u001b[49m\u001b[43mdata\u001b[49m\u001b[38;5;241;43m=\u001b[39;49m\u001b[43mdata\u001b[49m\u001b[43m,\u001b[49m\n\u001b[1;32m    965\u001b[0m \u001b[43m        \u001b[49m\u001b[43mfiles\u001b[49m\u001b[38;5;241;43m=\u001b[39;49m\u001b[43mfiles\u001b[49m\u001b[43m,\u001b[49m\n\u001b[1;32m    966\u001b[0m \u001b[43m        \u001b[49m\u001b[43mjson\u001b[49m\u001b[38;5;241;43m=\u001b[39;49m\u001b[43mjson\u001b[49m\u001b[43m,\u001b[49m\n\u001b[1;32m    967\u001b[0m \u001b[43m        \u001b[49m\u001b[43mmethod\u001b[49m\u001b[38;5;241;43m=\u001b[39;49m\u001b[43mmethod\u001b[49m\u001b[43m,\u001b[49m\n\u001b[1;32m    968\u001b[0m \u001b[43m        \u001b[49m\u001b[43mparams\u001b[49m\u001b[38;5;241;43m=\u001b[39;49m\u001b[43mparams\u001b[49m\u001b[43m,\u001b[49m\n\u001b[1;32m    969\u001b[0m \u001b[43m        \u001b[49m\u001b[43mpath\u001b[49m\u001b[38;5;241;43m=\u001b[39;49m\u001b[43mpath\u001b[49m\u001b[43m,\u001b[49m\n\u001b[1;32m    970\u001b[0m \u001b[43m    \u001b[49m\u001b[43m)\u001b[49m\n\u001b[1;32m    971\u001b[0m \u001b[38;5;28;01mexcept\u001b[39;00m BadRequest \u001b[38;5;28;01mas\u001b[39;00m exception:\n",
      "File \u001b[0;32m/opt/anaconda3/envs/DataScience/lib/python3.13/site-packages/prawcore/sessions.py:328\u001b[0m, in \u001b[0;36mSession.request\u001b[0;34m(self, method, path, data, files, json, params, timeout)\u001b[0m\n\u001b[1;32m    327\u001b[0m url \u001b[38;5;241m=\u001b[39m urljoin(\u001b[38;5;28mself\u001b[39m\u001b[38;5;241m.\u001b[39m_requestor\u001b[38;5;241m.\u001b[39moauth_url, path)\n\u001b[0;32m--> 328\u001b[0m \u001b[38;5;28;01mreturn\u001b[39;00m \u001b[38;5;28;43mself\u001b[39;49m\u001b[38;5;241;43m.\u001b[39;49m\u001b[43m_request_with_retries\u001b[49m\u001b[43m(\u001b[49m\n\u001b[1;32m    329\u001b[0m \u001b[43m    \u001b[49m\u001b[43mdata\u001b[49m\u001b[38;5;241;43m=\u001b[39;49m\u001b[43mdata\u001b[49m\u001b[43m,\u001b[49m\n\u001b[1;32m    330\u001b[0m \u001b[43m    \u001b[49m\u001b[43mfiles\u001b[49m\u001b[38;5;241;43m=\u001b[39;49m\u001b[43mfiles\u001b[49m\u001b[43m,\u001b[49m\n\u001b[1;32m    331\u001b[0m \u001b[43m    \u001b[49m\u001b[43mjson\u001b[49m\u001b[38;5;241;43m=\u001b[39;49m\u001b[43mjson\u001b[49m\u001b[43m,\u001b[49m\n\u001b[1;32m    332\u001b[0m \u001b[43m    \u001b[49m\u001b[43mmethod\u001b[49m\u001b[38;5;241;43m=\u001b[39;49m\u001b[43mmethod\u001b[49m\u001b[43m,\u001b[49m\n\u001b[1;32m    333\u001b[0m \u001b[43m    \u001b[49m\u001b[43mparams\u001b[49m\u001b[38;5;241;43m=\u001b[39;49m\u001b[43mparams\u001b[49m\u001b[43m,\u001b[49m\n\u001b[1;32m    334\u001b[0m \u001b[43m    \u001b[49m\u001b[43mtimeout\u001b[49m\u001b[38;5;241;43m=\u001b[39;49m\u001b[43mtimeout\u001b[49m\u001b[43m,\u001b[49m\n\u001b[1;32m    335\u001b[0m \u001b[43m    \u001b[49m\u001b[43murl\u001b[49m\u001b[38;5;241;43m=\u001b[39;49m\u001b[43murl\u001b[49m\u001b[43m,\u001b[49m\n\u001b[1;32m    336\u001b[0m \u001b[43m\u001b[49m\u001b[43m)\u001b[49m\n",
      "File \u001b[0;32m/opt/anaconda3/envs/DataScience/lib/python3.13/site-packages/prawcore/sessions.py:267\u001b[0m, in \u001b[0;36mSession._request_with_retries\u001b[0;34m(self, data, files, json, method, params, timeout, url, retry_strategy_state)\u001b[0m\n\u001b[1;32m    266\u001b[0m \u001b[38;5;28;01mif\u001b[39;00m response\u001b[38;5;241m.\u001b[39mstatus_code \u001b[38;5;129;01min\u001b[39;00m \u001b[38;5;28mself\u001b[39m\u001b[38;5;241m.\u001b[39mSTATUS_EXCEPTIONS:\n\u001b[0;32m--> 267\u001b[0m     \u001b[38;5;28;01mraise\u001b[39;00m \u001b[38;5;28mself\u001b[39m\u001b[38;5;241m.\u001b[39mSTATUS_EXCEPTIONS[response\u001b[38;5;241m.\u001b[39mstatus_code](response)\n\u001b[1;32m    268\u001b[0m \u001b[38;5;28;01mif\u001b[39;00m response\u001b[38;5;241m.\u001b[39mstatus_code \u001b[38;5;241m==\u001b[39m codes[\u001b[38;5;124m\"\u001b[39m\u001b[38;5;124mno_content\u001b[39m\u001b[38;5;124m\"\u001b[39m]:\n",
      "\u001b[0;31mTooManyRequests\u001b[0m: received 429 HTTP response",
      "\nDuring handling of the above exception, another exception occurred:\n",
      "\u001b[0;31mNameError\u001b[0m                                 Traceback (most recent call last)",
      "Cell \u001b[0;32mIn[4], line 2\u001b[0m\n\u001b[1;32m      1\u001b[0m \u001b[38;5;66;03m# Make sure you have reddit = praw.Reddit(...) set up already\u001b[39;00m\n\u001b[0;32m----> 2\u001b[0m \u001b[43mfetch_comments_for_posts_csv\u001b[49m\u001b[43m(\u001b[49m\n\u001b[1;32m      3\u001b[0m \u001b[43m    \u001b[49m\u001b[43mposts_csv\u001b[49m\u001b[38;5;241;43m=\u001b[39;49m\u001b[38;5;124;43m\"\u001b[39;49m\u001b[38;5;124;43mafl_posts.csv\u001b[39;49m\u001b[38;5;124;43m\"\u001b[39;49m\u001b[43m,\u001b[49m\n\u001b[1;32m      4\u001b[0m \u001b[43m    \u001b[49m\u001b[43mout_csv\u001b[49m\u001b[38;5;241;43m=\u001b[39;49m\u001b[38;5;124;43m\"\u001b[39;49m\u001b[38;5;124;43mafl_comments.csv\u001b[39;49m\u001b[38;5;124;43m\"\u001b[39;49m\u001b[43m,\u001b[49m\n\u001b[1;32m      5\u001b[0m \u001b[43m    \u001b[49m\u001b[43mcheckpoint_path\u001b[49m\u001b[38;5;241;43m=\u001b[39;49m\u001b[38;5;124;43m\"\u001b[39;49m\u001b[38;5;124;43mafl_comments.ckpt\u001b[39;49m\u001b[38;5;124;43m\"\u001b[39;49m\u001b[43m,\u001b[49m\n\u001b[1;32m      6\u001b[0m \u001b[43m    \u001b[49m\u001b[43mmax_depth\u001b[49m\u001b[38;5;241;43m=\u001b[39;49m\u001b[38;5;28;43;01mNone\u001b[39;49;00m\u001b[43m,\u001b[49m\u001b[43m     \u001b[49m\u001b[38;5;66;43;03m# or 0 to skip deep expansion\u001b[39;49;00m\n\u001b[1;32m      7\u001b[0m \u001b[43m    \u001b[49m\u001b[43mflush_every\u001b[49m\u001b[38;5;241;43m=\u001b[39;49m\u001b[38;5;241;43m5000\u001b[39;49m\n\u001b[1;32m      8\u001b[0m \u001b[43m)\u001b[49m\n",
      "Cell \u001b[0;32mIn[3], line 129\u001b[0m, in \u001b[0;36mfetch_comments_for_posts_csv\u001b[0;34m(posts_csv, out_csv, checkpoint_path, max_depth, flush_every)\u001b[0m\n\u001b[1;32m    126\u001b[0m     attempt \u001b[38;5;241m+\u001b[39m\u001b[38;5;241m=\u001b[39m \u001b[38;5;241m1\u001b[39m\n\u001b[1;32m    127\u001b[0m     \u001b[38;5;28mprint\u001b[39m(\u001b[38;5;124mf\u001b[39m\u001b[38;5;124m\"\u001b[39m\u001b[38;5;124m[WARN] Comment fetch error for \u001b[39m\u001b[38;5;132;01m{\u001b[39;00msid\u001b[38;5;132;01m}\u001b[39;00m\u001b[38;5;124m (\u001b[39m\u001b[38;5;132;01m{\u001b[39;00m\u001b[38;5;28mtype\u001b[39m(e)\u001b[38;5;241m.\u001b[39m\u001b[38;5;18m__name__\u001b[39m\u001b[38;5;132;01m}\u001b[39;00m\u001b[38;5;124m): \u001b[39m\u001b[38;5;132;01m{\u001b[39;00me\u001b[38;5;132;01m}\u001b[39;00m\u001b[38;5;124m. \u001b[39m\u001b[38;5;124m\"\u001b[39m\n\u001b[1;32m    128\u001b[0m           \u001b[38;5;124mf\u001b[39m\u001b[38;5;124m\"\u001b[39m\u001b[38;5;124mBacking off (attempt \u001b[39m\u001b[38;5;132;01m{\u001b[39;00mattempt\u001b[38;5;132;01m}\u001b[39;00m\u001b[38;5;124m)…\u001b[39m\u001b[38;5;124m\"\u001b[39m)\n\u001b[0;32m--> 129\u001b[0m     \u001b[43mrate_limit_backoff\u001b[49m(attempt)\n\u001b[1;32m    130\u001b[0m \u001b[38;5;28;01mexcept\u001b[39;00m \u001b[38;5;167;01mException\u001b[39;00m \u001b[38;5;28;01mas\u001b[39;00m e:\n\u001b[1;32m    131\u001b[0m     \u001b[38;5;66;03m# Log and continue (don’t get stuck on a single post)\u001b[39;00m\n\u001b[1;32m    132\u001b[0m     \u001b[38;5;28mprint\u001b[39m(\u001b[38;5;124mf\u001b[39m\u001b[38;5;124m\"\u001b[39m\u001b[38;5;124m[ERROR] Unexpected error for \u001b[39m\u001b[38;5;132;01m{\u001b[39;00msid\u001b[38;5;132;01m}\u001b[39;00m\u001b[38;5;124m: \u001b[39m\u001b[38;5;132;01m{\u001b[39;00me\u001b[38;5;132;01m}\u001b[39;00m\u001b[38;5;124m. Skipping.\u001b[39m\u001b[38;5;124m\"\u001b[39m)\n",
      "\u001b[0;31mNameError\u001b[0m: name 'rate_limit_backoff' is not defined"
     ]
    }
   ],
   "source": [
    "# Make sure you have reddit = praw.Reddit(...) set up already\n",
    "fetch_comments_for_posts_csv(\n",
    "    posts_csv=\"afl_posts.csv\",\n",
    "    out_csv=\"afl_comments.csv\",\n",
    "    checkpoint_path=\"afl_comments.ckpt\",\n",
    "    max_depth=None,     # or 0 to skip deep expansion\n",
    "    flush_every=5000\n",
    ")\n"
   ]
  },
  {
   "cell_type": "code",
   "execution_count": 6,
   "id": "e3e7f44d",
   "metadata": {},
   "outputs": [
    {
     "data": {
      "text/plain": [
       "991"
      ]
     },
     "execution_count": 6,
     "metadata": {},
     "output_type": "execute_result"
    }
   ],
   "source": [
    "posts = pd.read_csv(\"afl_posts.csv\", usecols=[\"id\"], dtype={\"id\": str}).dropna()\n",
    "all_ids = posts[\"id\"].astype(str).unique().tolist()\n",
    "len(all_ids)"
   ]
  },
  {
   "cell_type": "code",
   "execution_count": 66,
   "id": "2b89fb8c",
   "metadata": {},
   "outputs": [
    {
     "data": {
      "text/plain": [
       "793"
      ]
     },
     "execution_count": 66,
     "metadata": {},
     "output_type": "execute_result"
    }
   ],
   "source": [
    "idx = all_ids.index(\"1nexuwa\")\n",
    "rest = all_ids[idx:]   # from \"1nexuwa\" to the end\n",
    "len(rest)"
   ]
  },
  {
   "cell_type": "code",
   "execution_count": null,
   "id": "54f0c5f8",
   "metadata": {},
   "outputs": [
    {
     "data": {
      "text/plain": [
       "484"
      ]
     },
     "execution_count": 7,
     "metadata": {},
     "output_type": "execute_result"
    }
   ],
   "source": [
    "idx = all_ids.index(\"1n9pvzg\")\n",
    "rest = all_ids[idx:]  \n",
    "len(rest)"
   ]
  },
  {
   "cell_type": "code",
   "execution_count": 8,
   "id": "b09c1eac",
   "metadata": {},
   "outputs": [
    {
     "data": {
      "text/plain": [
       "48.839556004036325"
      ]
     },
     "execution_count": 8,
     "metadata": {},
     "output_type": "execute_result"
    }
   ],
   "source": [
    "len(rest)/len(all_ids) *100"
   ]
  },
  {
   "cell_type": "markdown",
   "id": "4322f461",
   "metadata": {},
   "source": [
    "## AFL Results"
   ]
  },
  {
   "cell_type": "code",
   "execution_count": 28,
   "id": "64ffe5ec",
   "metadata": {},
   "outputs": [
    {
     "name": "stdout",
     "output_type": "stream",
     "text": [
      "{'games': [{'tz': '+11:00', 'winner': 'Hawthorn', 'venue': 'S.C.G.', 'id': 37091, 'is_final': 0, 'complete': 100, 'timestr': 'Full Time', 'unixtime': 1741336800, 'year': 2025, 'date': '2025-03-07 19:40:00', 'roundname': 'Opening Round', 'ascore': 96, 'hscore': 76, 'is_grand_final': 0, 'round': 0, 'ateamid': 10, 'hteamid': 16, 'hteam': 'Sydney', 'ateam': 'Hawthorn', 'hgoals': 11, 'agoals': 14, 'winnerteamid': 10, 'localtime': '2025-03-07 19:40:00', 'updated': '2025-03-07 22:23:36', 'abehinds': 12, 'hbehinds': 10}, {'winnerteamid': 9, 'localtime': '2025-03-09 15:20:00', 'updated': '2025-03-09 18:09:08', 'abehinds': 16, 'hbehinds': 14, 'is_grand_final': 0, 'hscore': 104, 'ascore': 52, 'round': 0, 'hteamid': 9, 'ateamid': 4, 'agoals': 6, 'hgoals': 15, 'ateam': 'Collingwood', 'hteam': 'Greater Western Sydney', 'is_final': 0, 'id': 37093, 'timestr': 'Full Time', 'complete': 100, 'unixtime': 1741494000, 'year': 2025, 'date': '2025-03-09 15:20:00', 'roundname': 'Opening Round', 'tz': '+11:00', 'winner': 'Greater Western Sydney', 'venue': 'Sydney Showground'}, {'venue': 'M.C.G.', 'tz': '+11:00', 'winner': 'Richmond', 'year': 2025, 'unixtime': 1741854600, 'date': '2025-03-13 19:30:00', 'roundname': 'Round 1', 'is_final': 0, 'id': 37094, 'complete': 100, 'timestr': 'Full Time', 'hteamid': 14, 'ateamid': 3, 'hteam': 'Richmond', 'ateam': 'Carlton', 'agoals': 9, 'hgoals': 13, 'hscore': 82, 'ascore': 69, 'is_grand_final': 0, 'round': 1, 'hbehinds': 4, 'abehinds': 15, 'winnerteamid': 14, 'localtime': '2025-03-13 19:30:00', 'updated': '2025-03-13 22:18:31'}, {'winner': 'Hawthorn', 'tz': '+11:00', 'venue': 'M.C.G.', 'timestr': 'Full Time', 'complete': 100, 'is_final': 0, 'id': 37095, 'roundname': 'Round 1', 'year': 2025, 'unixtime': 1741941600, 'date': '2025-03-14 19:40:00', 'round': 1, 'is_grand_final': 0, 'hscore': 111, 'ascore': 85, 'agoals': 12, 'hgoals': 17, 'ateam': 'Essendon', 'hteam': 'Hawthorn', 'ateamid': 5, 'hteamid': 10, 'updated': '2025-03-14 22:25:05', 'winnerteamid': 10, 'localtime': '2025-03-14 19:40:00', 'abehinds': 13, 'hbehinds': 9}, {'venue': 'Kardinia Park', 'winner': 'Geelong', 'tz': '+11:00', 'roundname': 'Round 1', 'year': 2025, 'unixtime': 1742005200, 'date': '2025-03-15 13:20:00', 'timestr': 'Full Time', 'complete': 100, 'is_final': 0, 'id': 37096, 'ateam': 'Fremantle', 'hteam': 'Geelong', 'agoals': 10, 'hgoals': 23, 'hteamid': 7, 'ateamid': 6, 'round': 1, 'ascore': 69, 'hscore': 147, 'is_grand_final': 0, 'abehinds': 9, 'hbehinds': 9, 'updated': '2025-03-15 16:12:40', 'winnerteamid': 7, 'localtime': '2025-03-15 13:20:00'}, {'year': 2025, 'unixtime': 1742015700, 'date': '2025-03-15 16:15:00', 'roundname': 'Round 1', 'id': 37097, 'is_final': 0, 'timestr': 'Full Time', 'complete': 100, 'venue': 'S.C.G.', 'tz': '+11:00', 'winner': 'Brisbane Lions', 'hbehinds': 10, 'abehinds': 14, 'winnerteamid': 2, 'localtime': '2025-03-15 16:15:00', 'updated': '2025-03-15 19:07:07', 'hteamid': 16, 'ateamid': 2, 'ateam': 'Brisbane Lions', 'hteam': 'Sydney', 'agoals': 12, 'hgoals': 12, 'ascore': 86, 'hscore': 82, 'is_grand_final': 0, 'round': 1}, {'round': 1, 'ascore': 45, 'hscore': 136, 'is_grand_final': 0, 'ateam': 'Port Adelaide', 'hteam': 'Collingwood', 'agoals': 6, 'hgoals': 21, 'hteamid': 4, 'ateamid': 13, 'updated': '2025-03-15 22:20:37', 'localtime': '2025-03-15 19:35:00', 'winnerteamid': 4, 'abehinds': 9, 'hbehinds': 10, 'winner': 'Collingwood', 'tz': '+11:00', 'venue': 'M.C.G.', 'complete': 100, 'timestr': 'Full Time', 'is_final': 0, 'id': 37099, 'roundname': 'Round 1', 'date': '2025-03-15 19:35:00', 'unixtime': 1742027700, 'year': 2025}, {'localtime': '2025-03-15 19:35:00', 'winnerteamid': 18, 'updated': '2025-03-15 22:27:17', 'hbehinds': 11, 'abehinds': 13, 'is_grand_final': 0, 'ascore': 97, 'hscore': 113, 'round': 1, 'ateamid': 12, 'hteamid': 18, 'hgoals': 17, 'agoals': 14, 'ateam': 'North Melbourne', 'hteam': 'Western Bulldogs', 'is_final': 0, 'id': 37098, 'timestr': 'Full Time', 'complete': 100, 'date': '2025-03-15 19:35:00', 'unixtime': 1742027700, 'year': 2025, 'roundname': 'Round 1', 'tz': '+11:00', 'winner': 'Western Bulldogs', 'venue': 'Docklands'}, {'venue': 'Adelaide Oval', 'winner': 'Adelaide', 'tz': '+11:00', 'roundname': 'Round 1', 'unixtime': 1742088900, 'year': 2025, 'date': '2025-03-16 12:35:00', 'complete': 100, 'timestr': 'Full Time', 'is_final': 0, 'id': 37100, 'agoals': 10, 'hgoals': 21, 'ateam': 'St Kilda', 'hteam': 'Adelaide', 'hteamid': 1, 'ateamid': 15, 'round': 1, 'is_grand_final': 0, 'hscore': 135, 'ascore': 72, 'abehinds': 12, 'hbehinds': 9, 'updated': '2025-03-16 15:19:47', 'winnerteamid': 1, 'localtime': '2025-03-16 12:05:00'}, {'venue': 'M.C.G.', 'winner': 'Greater Western Sydney', 'tz': '+11:00', 'roundname': 'Round 1', 'date': '2025-03-16 15:20:00', 'year': 2025, 'unixtime': 1742098800, 'timestr': 'Full Time', 'complete': 100, 'is_final': 0, 'id': 37101, 'ateam': 'Greater Western Sydney', 'hteam': 'Melbourne', 'agoals': 11, 'hgoals': 11, 'ateamid': 9, 'hteamid': 11, 'round': 1, 'ascore': 77, 'hscore': 74, 'is_grand_final': 0, 'hbehinds': 8, 'abehinds': 11, 'updated': '2025-03-16 18:06:50', 'localtime': '2025-03-16 15:20:00', 'winnerteamid': 9}, {'hbehinds': 7, 'abehinds': 16, 'updated': '2025-03-16 20:54:22', 'localtime': '2025-03-16 15:10:00', 'winnerteamid': 8, 'agoals': 20, 'hgoals': 7, 'hteam': 'West Coast', 'ateam': 'Gold Coast', 'hteamid': 17, 'ateamid': 8, 'round': 1, 'is_grand_final': 0, 'hscore': 49, 'ascore': 136, 'roundname': 'Round 1', 'date': '2025-03-16 18:10:00', 'year': 2025, 'unixtime': 1742109000, 'timestr': 'Full Time', 'complete': 100, 'id': 37102, 'is_final': 0, 'venue': 'Perth Stadium', 'winner': 'Gold Coast', 'tz': '+11:00'}, {'venue': 'M.C.G.', 'winner': 'Hawthorn', 'tz': '+11:00', 'roundname': 'Round 2', 'unixtime': 1742459400, 'year': 2025, 'date': '2025-03-20 19:30:00', 'complete': 100, 'timestr': 'Full Time', 'is_final': 0, 'id': 37103, 'ateam': 'Hawthorn', 'hteam': 'Carlton', 'agoals': 12, 'hgoals': 8, 'ateamid': 10, 'hteamid': 3, 'round': 2, 'hscore': 60, 'ascore': 80, 'is_grand_final': 0, 'hbehinds': 12, 'abehinds': 8, 'updated': '2025-03-20 22:16:39', 'winnerteamid': 10, 'localtime': '2025-03-20 19:30:00'}, {'abehinds': 16, 'hbehinds': 10, 'localtime': '2025-03-21 19:40:00', 'winnerteamid': 4, 'updated': '2025-03-21 22:16:26', 'hteamid': 18, 'ateamid': 4, 'hteam': 'Western Bulldogs', 'ateam': 'Collingwood', 'agoals': 10, 'hgoals': 10, 'hscore': 70, 'ascore': 76, 'is_grand_final': 0, 'round': 2, 'date': '2025-03-21 19:40:00', 'year': 2025, 'unixtime': 1742546400, 'roundname': 'Round 2', 'is_final': 0, 'id': 37104, 'timestr': 'Full Time', 'complete': 100, 'venue': 'M.C.G.', 'tz': '+11:00', 'winner': 'Collingwood'}, {'complete': 100, 'timestr': 'Full Time', 'id': 37105, 'is_final': 0, 'roundname': 'Round 2', 'year': 2025, 'unixtime': 1742610000, 'date': '2025-03-22 13:20:00', 'winner': 'Adelaide', 'tz': '+11:00', 'venue': 'M.C.G.', 'updated': '2025-03-22 16:06:13', 'winnerteamid': 1, 'localtime': '2025-03-22 13:20:00', 'abehinds': 11, 'hbehinds': 10, 'round': 2, 'is_grand_final': 0, 'ascore': 161, 'hscore': 100, 'hgoals': 15, 'agoals': 25, 'hteam': 'Essendon', 'ateam': 'Adelaide', 'hteamid': 5, 'ateamid': 1}, {'winnerteamid': 13, 'localtime': '2025-03-22 15:45:00', 'updated': '2025-03-22 18:59:51', 'abehinds': 14, 'hbehinds': 14, 'is_grand_final': 0, 'ascore': 68, 'hscore': 140, 'round': 2, 'hteamid': 13, 'ateamid': 14, 'hgoals': 21, 'agoals': 9, 'ateam': 'Richmond', 'hteam': 'Port Adelaide', 'id': 37106, 'is_final': 0, 'complete': 100, 'timestr': 'Full Time', 'unixtime': 1742620500, 'year': 2025, 'date': '2025-03-22 16:15:00', 'roundname': 'Round 2', 'tz': '+11:00', 'winner': 'Port Adelaide', 'venue': 'Adelaide Oval'}, {'winner': 'St Kilda', 'tz': '+11:00', 'venue': 'Docklands', 'complete': 100, 'timestr': 'Full Time', 'is_final': 0, 'id': 37107, 'roundname': 'Round 2', 'year': 2025, 'unixtime': 1742632500, 'date': '2025-03-22 19:35:00', 'round': 2, 'is_grand_final': 0, 'ascore': 91, 'hscore': 98, 'agoals': 13, 'hgoals': 15, 'ateam': 'Geelong', 'hteam': 'St Kilda', 'hteamid': 15, 'ateamid': 7, 'updated': '2025-03-22 22:24:58', 'winnerteamid': 15, 'localtime': '2025-03-22 19:35:00', 'hbehinds': 8, 'abehinds': 13}, {'hteamid': 2, 'ateamid': 17, 'hteam': 'Brisbane Lions', 'ateam': 'West Coast', 'hgoals': 14, 'agoals': 11, 'ascore': 75, 'hscore': 94, 'is_grand_final': 0, 'round': 2, 'hbehinds': 10, 'abehinds': 9, 'winnerteamid': 2, 'localtime': '2025-03-23 12:10:00', 'updated': '2025-03-23 16:02:08', 'venue': 'Gabba', 'tz': '+11:00', 'winner': 'Brisbane Lions', 'unixtime': 1742695800, 'year': 2025, 'date': '2025-03-23 13:10:00', 'roundname': 'Round 2', 'id': 37108, 'is_final': 0, 'timestr': 'Full Time', 'complete': 100}, {'roundname': 'Round 2', 'unixtime': 1742703600, 'year': 2025, 'date': '2025-03-23 15:20:00', 'timestr': 'Full Time', 'complete': 100, 'is_final': 0, 'id': 37109, 'venue': 'Docklands', 'winner': 'North Melbourne', 'tz': '+11:00', 'abehinds': 12, 'hbehinds': 11, 'updated': '2025-03-23 18:01:54', 'winnerteamid': 12, 'localtime': '2025-03-23 15:20:00', 'hteam': 'North Melbourne', 'ateam': 'Melbourne', 'hgoals': 19, 'agoals': 9, 'ateamid': 11, 'hteamid': 12, 'round': 2, 'hscore': 125, 'ascore': 66, 'is_grand_final': 0}, {'hteamid': 6, 'ateamid': 16, 'ateam': 'Sydney', 'hteam': 'Fremantle', 'agoals': 9, 'hgoals': 9, 'ascore': 68, 'hscore': 65, 'is_grand_final': 0, 'round': 2, 'abehinds': 14, 'hbehinds': 11, 'winnerteamid': 16, 'localtime': '2025-03-23 15:10:00', 'updated': '2025-03-23 20:44:45', 'venue': 'Perth Stadium', 'tz': '+11:00', 'winner': 'Sydney', 'unixtime': 1742713800, 'year': 2025, 'date': '2025-03-23 18:10:00', 'roundname': 'Round 2', 'is_final': 0, 'id': 37110, 'complete': 100, 'timestr': 'Full Time'}, {'is_grand_final': 0, 'ascore': 60, 'hscore': 72, 'round': 3, 'ateamid': 13, 'hteamid': 5, 'hgoals': 9, 'agoals': 8, 'ateam': 'Port Adelaide', 'hteam': 'Essendon', 'localtime': '2025-03-27 19:30:00', 'winnerteamid': 5, 'updated': '2025-03-27 22:04:03', 'abehinds': 12, 'hbehinds': 18, 'tz': '+11:00', 'winner': 'Essendon', 'venue': 'Docklands', 'id': 37111, 'is_final': 0, 'complete': 100, 'timestr': 'Full Time', 'date': '2025-03-27 19:30:00', 'unixtime': 1743064200, 'year': 2025, 'roundname': 'Round 3'}, {'round': 3, 'ascore': 83, 'hscore': 75, 'is_grand_final': 0, 'ateam': 'Western Bulldogs', 'hteam': 'Carlton', 'agoals': 12, 'hgoals': 11, 'hteamid': 3, 'ateamid': 18, 'updated': '2025-03-28 22:19:45', 'winnerteamid': 18, 'localtime': '2025-03-28 19:40:00', 'hbehinds': 9, 'abehinds': 11, 'winner': 'Western Bulldogs', 'tz': '+11:00', 'venue': 'Docklands', 'timestr': 'Full Time', 'complete': 100, 'is_final': 0, 'id': 37112, 'roundname': 'Round 3', 'year': 2025, 'unixtime': 1743151200, 'date': '2025-03-28 19:40:00'}, {'localtime': '2025-03-29 13:20:00', 'winnerteamid': 8, 'updated': '2025-03-29 16:00:12', 'hbehinds': 14, 'abehinds': 12, 'ascore': 120, 'hscore': 62, 'is_grand_final': 0, 'round': 3, 'ateamid': 8, 'hteamid': 11, 'ateam': 'Gold Coast', 'hteam': 'Melbourne', 'hgoals': 8, 'agoals': 18, 'id': 37113, 'is_final': 0, 'timestr': 'Full Time', 'complete': 100, 'date': '2025-03-29 13:20:00', 'year': 2025, 'unixtime': 1743214800, 'roundname': 'Round 3', 'tz': '+11:00', 'winner': 'Gold Coast', 'venue': 'M.C.G.'}, {'abehinds': 11, 'hbehinds': 15, 'winnerteamid': 15, 'localtime': '2025-03-29 16:15:00', 'updated': '2025-03-29 21:06:50', 'hteamid': 15, 'ateamid': 14, 'agoals': 7, 'hgoals': 20, 'ateam': 'Richmond', 'hteam': 'St Kilda', 'is_grand_final': 0, 'ascore': 53, 'hscore': 135, 'round': 3, 'unixtime': 1743225300, 'year': 2025, 'date': '2025-03-29 16:15:00', 'roundname': 'Round 3', 'is_final': 0, 'id': 37114, 'timestr': 'Full Time', 'complete': 100, 'venue': 'Docklands', 'tz': '+11:00', 'winner': 'St Kilda'}, {'winner': 'Brisbane Lions', 'tz': '+11:00', 'venue': 'Gabba', 'complete': 100, 'timestr': 'Full Time', 'is_final': 0, 'id': 37090, 'roundname': 'Round 3', 'date': '2025-03-29 19:35:00', 'unixtime': 1743237300, 'year': 2025, 'round': 3, 'hscore': 70, 'ascore': 61, 'is_grand_final': 0, 'hteam': 'Brisbane Lions', 'ateam': 'Geelong', 'agoals': 9, 'hgoals': 10, 'ateamid': 7, 'hteamid': 2, 'updated': '2025-03-29 22:17:47', 'localtime': '2025-03-29 18:35:00', 'winnerteamid': 2, 'hbehinds': 10, 'abehinds': 7}, {'localtime': '2025-03-29 19:35:00', 'winnerteamid': 10, 'updated': '2025-03-29 22:08:47', 'abehinds': 10, 'hbehinds': 16, 'is_grand_final': 0, 'ascore': 64, 'hscore': 76, 'round': 3, 'hteamid': 10, 'ateamid': 9, 'hgoals': 10, 'agoals': 9, 'ateam': 'Greater Western Sydney', 'hteam': 'Hawthorn', 'is_final': 0, 'id': 37115, 'complete': 100, 'timestr': 'Full Time', 'date': '2025-03-29 19:35:00', 'unixtime': 1743237300, 'year': 2025, 'roundname': 'Round 3', 'tz': '+11:00', 'winner': 'Hawthorn', 'venue': 'York Park'}, {'agoals': 12, 'hgoals': 17, 'ateam': 'North Melbourne', 'hteam': 'Adelaide', 'ateamid': 12, 'hteamid': 1, 'round': 3, 'is_grand_final': 0, 'ascore': 78, 'hscore': 114, 'hbehinds': 12, 'abehinds': 6, 'updated': '2025-03-30 18:04:27', 'winnerteamid': 1, 'localtime': '2025-03-30 14:50:00', 'venue': 'Adelaide Oval', 'winner': 'Adelaide', 'tz': '+11:00', 'roundname': 'Round 3', 'unixtime': 1743308400, 'year': 2025, 'date': '2025-03-30 15:20:00', 'complete': 100, 'timestr': 'Full Time', 'id': 37116, 'is_final': 0}, {'winner': 'Fremantle', 'tz': '+11:00', 'venue': 'Perth Stadium', 'complete': 100, 'timestr': 'Full Time', 'is_final': 0, 'id': 37117, 'roundname': 'Round 3', 'year': 2025, 'unixtime': 1743318600, 'date': '2025-03-30 18:10:00', 'round': 3, 'ascore': 106, 'hscore': 68, 'is_grand_final': 0, 'ateam': 'Fremantle', 'hteam': 'West Coast', 'hgoals': 10, 'agoals': 15, 'ateamid': 6, 'hteamid': 17, 'updated': '2025-03-30 20:53:39', 'winnerteamid': 6, 'localtime': '2025-03-30 15:10:00', 'hbehinds': 8, 'abehinds': 16}, {'id': 37118, 'is_final': 0, 'complete': 100, 'timestr': 'Full Time', 'date': '2025-04-03 19:30:00', 'unixtime': 1743669000, 'year': 2025, 'roundname': 'Round 4', 'tz': '+11:00', 'winner': 'Collingwood', 'venue': 'M.C.G.', 'localtime': '2025-04-03 19:30:00', 'winnerteamid': 4, 'updated': '2025-04-03 22:11:32', 'hbehinds': 15, 'abehinds': 10, 'is_grand_final': 0, 'hscore': 63, 'ascore': 46, 'round': 4, 'ateamid': 3, 'hteamid': 4, 'agoals': 6, 'hgoals': 8, 'ateam': 'Carlton', 'hteam': 'Collingwood'}, {'date': '2025-04-04 19:40:00', 'unixtime': 1743756000, 'year': 2025, 'roundname': 'Round 4', 'is_final': 0, 'id': 37119, 'timestr': 'Full Time', 'complete': 100, 'venue': 'Kardinia Park', 'tz': '+11:00', 'winner': 'Geelong', 'abehinds': 10, 'hbehinds': 13, 'localtime': '2025-04-04 19:40:00', 'winnerteamid': 7, 'updated': '2025-04-04 22:11:54', 'ateamid': 11, 'hteamid': 7, 'agoals': 6, 'hgoals': 12, 'hteam': 'Geelong', 'ateam': 'Melbourne', 'is_grand_final': 0, 'ascore': 46, 'hscore': 85, 'round': 4}, {'venue': 'Carrara', 'tz': '+11:00', 'winner': 'Gold Coast', 'date': '2025-04-05 13:20:00', 'year': 2025, 'unixtime': 1743819600, 'roundname': 'Round 4', 'is_final': 0, 'id': 37120, 'timestr': 'Full Time', 'complete': 100, 'ateamid': 1, 'hteamid': 8, 'ateam': 'Adelaide', 'hteam': 'Gold Coast', 'hgoals': 13, 'agoals': 14, 'ascore': 90, 'hscore': 91, 'is_grand_final': 0, 'round': 4, 'abehinds': 6, 'hbehinds': 13, 'localtime': '2025-04-05 12:20:00', 'winnerteamid': 8, 'updated': '2025-04-05 16:04:13'}, {'hbehinds': 12, 'abehinds': 10, 'updated': '2025-04-05 18:58:07', 'localtime': '2025-04-05 16:15:00', 'winnerteamid': 2, 'agoals': 18, 'hgoals': 13, 'hteam': 'Richmond', 'ateam': 'Brisbane Lions', 'ateamid': 2, 'hteamid': 14, 'round': 4, 'is_grand_final': 0, 'hscore': 90, 'ascore': 118, 'roundname': 'Round 4', 'date': '2025-04-05 16:15:00', 'year': 2025, 'unixtime': 1743830100, 'timestr': 'Full Time', 'complete': 100, 'id': 37121, 'is_final': 0, 'venue': 'M.C.G.', 'winner': 'Brisbane Lions', 'tz': '+11:00'}, {'tz': '+11:00', 'winner': 'Sydney', 'venue': 'Docklands', 'id': 37122, 'is_final': 0, 'complete': 100, 'timestr': 'Full Time', 'year': 2025, 'unixtime': 1743842100, 'date': '2025-04-05 19:35:00', 'roundname': 'Round 4', 'ascore': 117, 'hscore': 52, 'is_grand_final': 0, 'round': 4, 'ateamid': 16, 'hteamid': 12, 'ateam': 'Sydney', 'hteam': 'North Melbourne', 'hgoals': 8, 'agoals': 18, 'winnerteamid': 16, 'localtime': '2025-04-05 19:35:00', 'updated': '2025-04-05 22:10:09', 'hbehinds': 4, 'abehinds': 9}, {'venue': 'Sydney Showground', 'tz': '+10:00', 'winner': 'Greater Western Sydney', 'year': 2025, 'unixtime': 1743909000, 'date': '2025-04-06 13:10:00', 'roundname': 'Round 4', 'is_final': 0, 'id': 37123, 'complete': 100, 'timestr': 'Full Time', 'hteamid': 9, 'ateamid': 17, 'ateam': 'West Coast', 'hteam': 'Greater Western Sydney', 'agoals': 7, 'hgoals': 20, 'hscore': 132, 'ascore': 51, 'is_grand_final': 0, 'round': 4, 'abehinds': 9, 'hbehinds': 12, 'winnerteamid': 9, 'localtime': '2025-04-06 13:10:00', 'updated': '2025-04-06 15:51:59'}, {'abehinds': 11, 'hbehinds': 12, 'winnerteamid': 15, 'localtime': '2025-04-06 14:50:00', 'updated': '2025-04-06 18:01:51', 'ateamid': 15, 'hteamid': 13, 'ateam': 'St Kilda', 'hteam': 'Port Adelaide', 'hgoals': 10, 'agoals': 13, 'hscore': 72, 'ascore': 89, 'is_grand_final': 0, 'round': 4, 'unixtime': 1743916800, 'year': 2025, 'date': '2025-04-06 15:20:00', 'roundname': 'Round 4', 'is_final': 0, 'id': 37124, 'timestr': 'Full Time', 'complete': 100, 'venue': 'Adelaide Oval', 'tz': '+10:00', 'winner': 'St Kilda'}, {'abehinds': 9, 'hbehinds': 7, 'updated': '2025-04-06 19:58:51', 'localtime': '2025-04-06 15:10:00', 'winnerteamid': 6, 'hgoals': 15, 'agoals': 12, 'ateam': 'Western Bulldogs', 'hteam': 'Fremantle', 'ateamid': 18, 'hteamid': 6, 'round': 4, 'is_grand_final': 0, 'hscore': 97, 'ascore': 81, 'roundname': 'Round 4', 'date': '2025-04-06 17:10:00', 'unixtime': 1743923400, 'year': 2025, 'complete': 100, 'timestr': 'Full Time', 'is_final': 0, 'id': 37125, 'venue': 'Perth Stadium', 'winner': 'Fremantle', 'tz': '+10:00'}, {'id': 37126, 'is_final': 0, 'complete': 100, 'timestr': 'Full Time', 'date': '2025-04-10 19:40:00', 'unixtime': 1744278000, 'year': 2025, 'roundname': 'Round 5', 'tz': '+10:00', 'winner': 'Geelong', 'venue': 'Adelaide Oval', 'localtime': '2025-04-10 19:10:00', 'winnerteamid': 7, 'updated': '2025-04-10 22:25:14', 'hbehinds': 10, 'abehinds': 11, 'hscore': 100, 'ascore': 119, 'is_grand_final': 0, 'round': 5, 'ateamid': 7, 'hteamid': 1, 'hteam': 'Adelaide', 'ateam': 'Geelong', 'hgoals': 15, 'agoals': 18}, {'abehinds': 6, 'hbehinds': 13, 'updated': '2025-04-11 22:21:36', 'winnerteamid': 4, 'localtime': '2025-04-11 19:10:00', 'hteam': 'Collingwood', 'ateam': 'Sydney', 'agoals': 12, 'hgoals': 16, 'hteamid': 4, 'ateamid': 16, 'round': 5, 'hscore': 109, 'ascore': 78, 'is_grand_final': 0, 'roundname': 'Round 5', 'unixtime': 1744364400, 'year': 2025, 'date': '2025-04-11 19:40:00', 'complete': 100, 'timestr': 'Full Time', 'id': 37127, 'is_final': 0, 'venue': 'Adelaide Oval', 'winner': 'Collingwood', 'tz': '+10:00'}, {'date': '2025-04-12 12:35:00', 'unixtime': 1744425300, 'year': 2025, 'roundname': 'Round 5', 'is_final': 0, 'id': 37128, 'complete': 100, 'timestr': 'Full Time', 'venue': 'Barossa Park', 'tz': '+10:00', 'winner': 'Gold Coast', 'abehinds': 15, 'hbehinds': 11, 'localtime': '2025-04-12 12:05:00', 'winnerteamid': 8, 'updated': '2025-04-12 15:27:16', 'hteamid': 12, 'ateamid': 8, 'agoals': 21, 'hgoals': 13, 'hteam': 'North Melbourne', 'ateam': 'Gold Coast', 'is_grand_final': 0, 'ascore': 141, 'hscore': 89, 'round': 5}, {'complete': 100, 'timestr': 'Full Time', 'is_final': 0, 'id': 37129, 'roundname': 'Round 5', 'year': 2025, 'unixtime': 1744428000, 'date': '2025-04-12 13:20:00', 'winner': 'Carlton', 'tz': '+10:00', 'venue': 'Adelaide Oval', 'updated': '2025-04-12 16:03:13', 'winnerteamid': 3, 'localtime': '2025-04-12 12:50:00', 'hbehinds': 19, 'abehinds': 14, 'round': 5, 'hscore': 121, 'ascore': 50, 'is_grand_final': 0, 'ateam': 'West Coast', 'hteam': 'Carlton', 'hgoals': 17, 'agoals': 6, 'hteamid': 3, 'ateamid': 17}, {'date': '2025-04-12 16:15:00', 'year': 2025, 'unixtime': 1744438500, 'roundname': 'Round 5', 'is_final': 0, 'id': 37130, 'complete': 100, 'timestr': 'Full Time', 'venue': 'Norwood Oval', 'tz': '+10:00', 'winner': 'Brisbane Lions', 'hbehinds': 13, 'abehinds': 10, 'localtime': '2025-04-12 15:45:00', 'winnerteamid': 2, 'updated': '2025-04-12 19:03:58', 'hteamid': 18, 'ateamid': 2, 'ateam': 'Brisbane Lions', 'hteam': 'Western Bulldogs', 'agoals': 18, 'hgoals': 14, 'hscore': 97, 'ascore': 118, 'is_grand_final': 0, 'round': 5}, {'round': 5, 'hscore': 57, 'ascore': 96, 'is_grand_final': 0, 'hteam': 'Melbourne', 'ateam': 'Essendon', 'agoals': 15, 'hgoals': 8, 'hteamid': 11, 'ateamid': 5, 'updated': '2025-04-12 22:19:48', 'winnerteamid': 5, 'localtime': '2025-04-12 19:05:00', 'hbehinds': 9, 'abehinds': 6, 'winner': 'Essendon', 'tz': '+10:00', 'venue': 'Adelaide Oval', 'timestr': 'Full Time', 'complete': 100, 'id': 37131, 'is_final': 0, 'roundname': 'Round 5', 'year': 2025, 'unixtime': 1744450500, 'date': '2025-04-12 19:35:00'}, {'hbehinds': 5, 'abehinds': 12, 'localtime': '2025-04-13 12:05:00', 'winnerteamid': 6, 'updated': '2025-04-13 15:18:02', 'hteamid': 14, 'ateamid': 6, 'hteam': 'Richmond', 'ateam': 'Fremantle', 'hgoals': 7, 'agoals': 16, 'ascore': 108, 'hscore': 47, 'is_grand_final': 0, 'round': 5, 'date': '2025-04-13 12:35:00', 'unixtime': 1744511700, 'year': 2025, 'roundname': 'Round 5', 'is_final': 0, 'id': 37132, 'complete': 100, 'timestr': 'Full Time', 'venue': 'Barossa Park', 'tz': '+10:00', 'winner': 'Fremantle'}, {'is_final': 0, 'id': 37133, 'complete': 100, 'timestr': 'Full Time', 'date': '2025-04-13 15:20:00', 'unixtime': 1744521600, 'year': 2025, 'roundname': 'Round 5', 'tz': '+10:00', 'winner': 'Greater Western Sydney', 'venue': 'Norwood Oval', 'localtime': '2025-04-13 14:50:00', 'winnerteamid': 9, 'updated': '2025-04-13 18:07:34', 'abehinds': 14, 'hbehinds': 10, 'hscore': 82, 'ascore': 110, 'is_grand_final': 0, 'round': 5, 'ateamid': 9, 'hteamid': 15, 'hteam': 'St Kilda', 'ateam': 'Greater Western Sydney', 'agoals': 16, 'hgoals': 12}, {'winnerteamid': 13, 'localtime': '2025-04-13 18:50:00', 'updated': '2025-04-13 22:09:25', 'hbehinds': 13, 'abehinds': 7, 'hscore': 121, 'ascore': 91, 'is_grand_final': 0, 'round': 5, 'ateamid': 10, 'hteamid': 13, 'hteam': 'Port Adelaide', 'ateam': 'Hawthorn', 'agoals': 14, 'hgoals': 18, 'is_final': 0, 'id': 37134, 'complete': 100, 'timestr': 'Full Time', 'unixtime': 1744536000, 'year': 2025, 'date': '2025-04-13 19:20:00', 'roundname': 'Round 5', 'tz': '+10:00', 'winner': 'Port Adelaide', 'venue': 'Adelaide Oval'}, {'id': 37135, 'is_final': 0, 'complete': 100, 'timestr': 'Full Time', 'date': '2025-04-17 19:30:00', 'unixtime': 1744882200, 'year': 2025, 'roundname': 'Round 6', 'tz': '+10:00', 'winner': 'Collingwood', 'venue': 'Gabba', 'localtime': '2025-04-17 19:30:00', 'winnerteamid': 4, 'updated': '2025-04-17 22:10:15', 'abehinds': 9, 'hbehinds': 11, 'is_grand_final': 0, 'hscore': 53, 'ascore': 105, 'round': 6, 'ateamid': 4, 'hteamid': 2, 'agoals': 16, 'hgoals': 7, 'hteam': 'Brisbane Lions', 'ateam': 'Collingwood'}, {'hscore': 71, 'ascore': 153, 'is_grand_final': 0, 'round': 6, 'ateamid': 3, 'hteamid': 12, 'hteam': 'North Melbourne', 'ateam': 'Carlton', 'agoals': 24, 'hgoals': 11, 'localtime': '2025-04-18 15:20:00', 'winnerteamid': 3, 'updated': '2025-04-18 18:08:48', 'abehinds': 9, 'hbehinds': 5, 'tz': '+10:00', 'winner': 'Carlton', 'venue': 'Docklands', 'is_final': 0, 'id': 37136, 'timestr': 'Full Time', 'complete': 100, 'date': '2025-04-18 15:20:00', 'unixtime': 1744953600, 'year': 2025, 'roundname': 'Round 6'}, {'agoals': 11, 'hgoals': 11, 'hteam': 'West Coast', 'ateam': 'Essendon', 'hteamid': 17, 'ateamid': 5, 'round': 6, 'is_grand_final': 0, 'hscore': 75, 'ascore': 77, 'hbehinds': 9, 'abehinds': 11, 'updated': '2025-04-18 20:47:56', 'winnerteamid': 5, 'localtime': '2025-04-18 16:10:00', 'venue': 'Perth Stadium', 'winner': 'Essendon', 'tz': '+10:00', 'roundname': 'Round 6', 'year': 2025, 'unixtime': 1744963800, 'date': '2025-04-18 18:10:00', 'timestr': 'Full Time', 'complete': 100, 'is_final': 0, 'id': 37137}, {'tz': '+10:00', 'winner': 'Melbourne', 'venue': 'M.C.G.', 'is_final': 0, 'id': 37138, 'timestr': 'Full Time', 'complete': 100, 'unixtime': 1745032800, 'year': 2025, 'date': '2025-04-19 13:20:00', 'roundname': 'Round 6', 'hscore': 107, 'ascore': 97, 'is_grand_final': 0, 'round': 6, 'hteamid': 11, 'ateamid': 6, 'ateam': 'Fremantle', 'hteam': 'Melbourne', 'agoals': 14, 'hgoals': 16, 'winnerteamid': 11, 'localtime': '2025-04-19 13:20:00', 'updated': '2025-04-19 16:01:00', 'hbehinds': 11, 'abehinds': 13}, {'venue': 'Adelaide Oval', 'tz': '+10:00', 'winner': 'Adelaide', 'year': 2025, 'unixtime': 1745043300, 'date': '2025-04-19 16:15:00', 'roundname': 'Round 6', 'id': 37139, 'is_final': 0, 'timestr': 'Full Time', 'complete': 100, 'ateamid': 9, 'hteamid': 1, 'ateam': 'Greater Western Sydney', 'hteam': 'Adelaide', 'agoals': 4, 'hgoals': 7, 'ascore': 34, 'hscore': 52, 'is_grand_final': 0, 'round': 6, 'hbehinds': 10, 'abehinds': 10, 'winnerteamid': 1, 'localtime': '2025-04-19 15:45:00', 'updated': '2025-04-19 18:46:54'}, {'venue': 'Docklands', 'winner': 'Richmond', 'tz': '+10:00', 'roundname': 'Round 6', 'unixtime': 1745055300, 'year': 2025, 'date': '2025-04-19 19:35:00', 'complete': 100, 'timestr': 'Full Time', 'id': 37140, 'is_final': 0, 'hteam': 'Richmond', 'ateam': 'Gold Coast', 'hgoals': 12, 'agoals': 9, 'hteamid': 14, 'ateamid': 8, 'round': 6, 'hscore': 80, 'ascore': 69, 'is_grand_final': 0, 'hbehinds': 8, 'abehinds': 15, 'updated': '2025-04-19 22:11:26', 'winnerteamid': 14, 'localtime': '2025-04-19 19:35:00'}, {'ascore': 85, 'hscore': 77, 'is_grand_final': 0, 'round': 6, 'hteamid': 16, 'ateamid': 13, 'ateam': 'Port Adelaide', 'hteam': 'Sydney', 'agoals': 13, 'hgoals': 10, 'localtime': '2025-04-20 15:20:00', 'winnerteamid': 13, 'updated': '2025-04-20 18:03:31', 'abehinds': 7, 'hbehinds': 17, 'tz': '+10:00', 'winner': 'Port Adelaide', 'venue': 'S.C.G.', 'is_final': 0, 'id': 37141, 'timestr': 'Full Time', 'complete': 100, 'date': '2025-04-20 15:20:00', 'year': 2025, 'unixtime': 1745126400, 'roundname': 'Round 6'}, {'winner': 'Western Bulldogs', 'tz': '+10:00', 'venue': 'Docklands', 'complete': 100, 'timestr': 'Full Time', 'is_final': 0, 'id': 37142, 'roundname': 'Round 6', 'year': 2025, 'unixtime': 1745140800, 'date': '2025-04-20 19:20:00', 'round': 6, 'hscore': 127, 'ascore': 56, 'is_grand_final': 0, 'hteam': 'Western Bulldogs', 'ateam': 'St Kilda', 'hgoals': 18, 'agoals': 8, 'hteamid': 18, 'ateamid': 15, 'updated': '2025-04-20 21:58:45', 'winnerteamid': 18, 'localtime': '2025-04-20 19:20:00', 'abehinds': 8, 'hbehinds': 19}, {'tz': '+10:00', 'winner': 'Geelong', 'venue': 'M.C.G.', 'id': 37143, 'is_final': 0, 'complete': 100, 'timestr': 'Full Time', 'date': '2025-04-21 15:20:00', 'year': 2025, 'unixtime': 1745212800, 'roundname': 'Round 6', 'hscore': 86, 'ascore': 79, 'is_grand_final': 0, 'round': 6, 'ateamid': 10, 'hteamid': 7, 'ateam': 'Hawthorn', 'hteam': 'Geelong', 'hgoals': 12, 'agoals': 11, 'localtime': '2025-04-21 15:20:00', 'winnerteamid': 7, 'updated': '2025-04-21 18:02:28', 'hbehinds': 14, 'abehinds': 13}, {'winner': 'Melbourne', 'tz': '+10:00', 'venue': 'M.C.G.', 'complete': 100, 'timestr': 'Full Time', 'id': 37144, 'is_final': 0, 'roundname': 'Round 7', 'date': '2025-04-24 19:30:00', 'unixtime': 1745487000, 'year': 2025, 'round': 7, 'is_grand_final': 0, 'ascore': 63, 'hscore': 83, 'agoals': 9, 'hgoals': 12, 'hteam': 'Melbourne', 'ateam': 'Richmond', 'hteamid': 11, 'ateamid': 14, 'updated': '2025-04-25 17:46:06', 'localtime': '2025-04-24 19:30:00', 'winnerteamid': 11, 'abehinds': 9, 'hbehinds': 11}, {'id': 37145, 'is_final': 0, 'complete': 100, 'timestr': 'Full Time', 'date': '2025-04-25 15:20:00', 'year': 2025, 'unixtime': 1745558400, 'roundname': 'Round 7', 'tz': '+10:00', 'winner': 'Collingwood', 'venue': 'M.C.G.', 'localtime': '2025-04-25 15:20:00', 'winnerteamid': 4, 'updated': '2025-04-25 18:01:08', 'hbehinds': 11, 'abehinds': 6, 'ascore': 66, 'hscore': 107, 'is_grand_final': 0, 'round': 7, 'hteamid': 4, 'ateamid': 5, 'ateam': 'Essendon', 'hteam': 'Collingwood', 'hgoals': 16, 'agoals': 10}, {'id': 37146, 'is_final': 0, 'complete': 100, 'timestr': 'Full Time', 'date': '2025-04-25 20:10:00', 'year': 2025, 'unixtime': 1745575800, 'roundname': 'Round 7', 'tz': '+10:00', 'winner': 'Fremantle', 'venue': 'Perth Stadium', 'localtime': '2025-04-25 18:10:00', 'winnerteamid': 6, 'updated': '2025-04-25 22:44:02', 'hbehinds': 13, 'abehinds': 13, 'is_grand_final': 0, 'hscore': 85, 'ascore': 67, 'round': 7, 'ateamid': 1, 'hteamid': 6, 'hgoals': 12, 'agoals': 9, 'hteam': 'Fremantle', 'ateam': 'Adelaide'}, {'venue': 'Docklands', 'winner': 'Brisbane Lions', 'tz': '+10:00', 'roundname': 'Round 7', 'date': '2025-04-26 13:20:00', 'year': 2025, 'unixtime': 1745637600, 'timestr': 'Full Time', 'complete': 100, 'id': 37147, 'is_final': 0, 'agoals': 17, 'hgoals': 11, 'hteam': 'St Kilda', 'ateam': 'Brisbane Lions', 'hteamid': 15, 'ateamid': 2, 'round': 7, 'is_grand_final': 0, 'ascore': 118, 'hscore': 73, 'hbehinds': 7, 'abehinds': 16, 'updated': '2025-04-26 16:06:17', 'localtime': '2025-04-26 13:20:00', 'winnerteamid': 2}, {'venue': 'Adelaide Oval', 'tz': '+10:00', 'winner': 'Port Adelaide', 'unixtime': 1745648100, 'year': 2025, 'date': '2025-04-26 16:15:00', 'roundname': 'Round 7', 'is_final': 0, 'id': 37148, 'timestr': 'Full Time', 'complete': 100, 'ateamid': 12, 'hteamid': 13, 'hteam': 'Port Adelaide', 'ateam': 'North Melbourne', 'agoals': 13, 'hgoals': 14, 'hscore': 97, 'ascore': 88, 'is_grand_final': 0, 'round': 7, 'hbehinds': 13, 'abehinds': 10, 'winnerteamid': 13, 'localtime': '2025-04-26 15:45:00', 'updated': '2025-04-26 19:11:18'}, {'id': 37149, 'is_final': 0, 'complete': 100, 'timestr': 'Full Time', 'date': '2025-04-26 19:35:00', 'unixtime': 1745660100, 'year': 2025, 'roundname': 'Round 7', 'tz': '+10:00', 'winner': 'Western Bulldogs', 'venue': 'Manuka Oval', 'localtime': '2025-04-26 19:35:00', 'winnerteamid': 18, 'updated': '2025-04-26 22:22:09', 'abehinds': 11, 'hbehinds': 9, 'is_grand_final': 0, 'hscore': 81, 'ascore': 113, 'round': 7, 'hteamid': 9, 'ateamid': 18, 'hgoals': 12, 'agoals': 17, 'ateam': 'Western Bulldogs', 'hteam': 'Greater Western Sydney'}, {'round': 7, 'hscore': 117, 'ascore': 79, 'is_grand_final': 0, 'hteam': 'Gold Coast', 'ateam': 'Sydney', 'hgoals': 17, 'agoals': 12, 'ateamid': 16, 'hteamid': 8, 'updated': '2025-04-27 15:59:30', 'localtime': '2025-04-27 13:15:00', 'winnerteamid': 8, 'hbehinds': 15, 'abehinds': 7, 'winner': 'Gold Coast', 'tz': '+10:00', 'venue': 'Carrara', 'timestr': 'Full Time', 'complete': 100, 'id': 37150, 'is_final': 0, 'roundname': 'Round 7', 'date': '2025-04-27 13:15:00', 'unixtime': 1745723700, 'year': 2025}, {'winnerteamid': 3, 'localtime': '2025-04-27 15:20:00', 'updated': '2025-04-27 18:00:47', 'hbehinds': 10, 'abehinds': 4, 'ascore': 76, 'hscore': 94, 'is_grand_final': 0, 'round': 7, 'ateamid': 7, 'hteamid': 3, 'ateam': 'Geelong', 'hteam': 'Carlton', 'agoals': 12, 'hgoals': 14, 'id': 37151, 'is_final': 0, 'complete': 100, 'timestr': 'Full Time', 'year': 2025, 'unixtime': 1745731200, 'date': '2025-04-27 15:20:00', 'roundname': 'Round 7', 'tz': '+10:00', 'winner': 'Carlton', 'venue': 'M.C.G.'}, {'hteamid': 10, 'ateamid': 17, 'agoals': 11, 'hgoals': 18, 'ateam': 'West Coast', 'hteam': 'Hawthorn', 'is_grand_final': 0, 'ascore': 74, 'hscore': 124, 'round': 7, 'hbehinds': 16, 'abehinds': 8, 'localtime': '2025-04-27 16:45:00', 'winnerteamid': 10, 'updated': '2025-04-27 19:28:39', 'venue': 'Docklands', 'tz': '+10:00', 'winner': 'Hawthorn', 'date': '2025-04-27 16:45:00', 'year': 2025, 'unixtime': 1745736300, 'roundname': 'Round 7', 'id': 37152, 'is_final': 0, 'timestr': 'Full Time', 'complete': 100}, {'hgoals': 9, 'agoals': 9, 'ateam': 'North Melbourne', 'hteam': 'Essendon', 'hteamid': 5, 'ateamid': 12, 'round': 8, 'is_grand_final': 0, 'hscore': 65, 'ascore': 62, 'abehinds': 8, 'hbehinds': 11, 'updated': '2025-05-01 22:07:32', 'winnerteamid': 5, 'localtime': '2025-05-01 19:30:00', 'venue': 'Docklands', 'winner': 'Essendon', 'tz': '+10:00', 'roundname': 'Round 8', 'unixtime': 1746091800, 'year': 2025, 'date': '2025-05-01 19:30:00', 'complete': 100, 'timestr': 'Full Time', 'id': 37153, 'is_final': 0}, {'roundname': 'Round 8', 'date': '2025-05-02 19:40:00', 'year': 2025, 'unixtime': 1746178800, 'complete': 100, 'timestr': 'Full Time', 'is_final': 0, 'id': 37154, 'venue': 'Docklands', 'winner': 'St Kilda', 'tz': '+10:00', 'abehinds': 3, 'hbehinds': 10, 'updated': '2025-05-02 22:14:28', 'localtime': '2025-05-02 19:40:00', 'winnerteamid': 15, 'hteam': 'St Kilda', 'ateam': 'Fremantle', 'hgoals': 14, 'agoals': 5, 'hteamid': 15, 'ateamid': 6, 'round': 8, 'ascore': 33, 'hscore': 94, 'is_grand_final': 0}, {'abehinds': 11, 'hbehinds': 11, 'updated': '2025-05-03 16:04:12', 'winnerteamid': 18, 'localtime': '2025-05-03 13:20:00', 'hgoals': 20, 'agoals': 5, 'ateam': 'Port Adelaide', 'hteam': 'Western Bulldogs', 'ateamid': 13, 'hteamid': 18, 'round': 8, 'is_grand_final': 0, 'hscore': 131, 'ascore': 41, 'roundname': 'Round 8', 'unixtime': 1746242400, 'year': 2025, 'date': '2025-05-03 13:20:00', 'timestr': 'Full Time', 'complete': 100, 'is_final': 0, 'id': 37155, 'venue': 'Eureka Stadium', 'winner': 'Western Bulldogs', 'tz': '+10:00'}, {'tz': '+10:00', 'winner': 'Adelaide', 'venue': 'Adelaide Oval', 'id': 37156, 'is_final': 0, 'complete': 100, 'timestr': 'Full Time', 'date': '2025-05-03 16:15:00', 'year': 2025, 'unixtime': 1746252900, 'roundname': 'Round 8', 'hscore': 110, 'ascore': 50, 'is_grand_final': 0, 'round': 8, 'ateamid': 3, 'hteamid': 1, 'ateam': 'Carlton', 'hteam': 'Adelaide', 'hgoals': 16, 'agoals': 7, 'localtime': '2025-05-03 15:45:00', 'winnerteamid': 1, 'updated': '2025-05-03 18:52:31', 'abehinds': 8, 'hbehinds': 14}, {'is_grand_final': 0, 'ascore': 90, 'hscore': 87, 'round': 8, 'ateamid': 7, 'hteamid': 4, 'hgoals': 12, 'agoals': 13, 'ateam': 'Geelong', 'hteam': 'Collingwood', 'winnerteamid': 7, 'localtime': '2025-05-03 19:35:00', 'updated': '2025-05-03 22:18:59', 'abehinds': 12, 'hbehinds': 15, 'tz': '+10:00', 'winner': 'Geelong', 'venue': 'M.C.G.', 'is_final': 0, 'id': 37157, 'timestr': 'Full Time', 'complete': 100, 'year': 2025, 'unixtime': 1746264900, 'date': '2025-05-03 19:35:00', 'roundname': 'Round 8'}, {'year': 2025, 'unixtime': 1746264900, 'date': '2025-05-03 19:35:00', 'roundname': 'Round 8', 'is_final': 0, 'id': 37158, 'timestr': 'Full Time', 'complete': 100, 'venue': 'Perth Stadium', 'tz': '+10:00', 'winner': 'Melbourne', 'abehinds': 12, 'hbehinds': 10, 'winnerteamid': 11, 'localtime': '2025-05-03 17:35:00', 'updated': '2025-05-03 22:22:39', 'ateamid': 11, 'hteamid': 17, 'hteam': 'West Coast', 'ateam': 'Melbourne', 'agoals': 16, 'hgoals': 11, 'hscore': 76, 'ascore': 108, 'is_grand_final': 0, 'round': 8}, {'venue': 'S.C.G.', 'winner': 'Sydney', 'tz': '+10:00', 'roundname': 'Round 8', 'date': '2025-05-04 13:10:00', 'year': 2025, 'unixtime': 1746328200, 'complete': 100, 'timestr': 'Full Time', 'id': 37159, 'is_final': 0, 'agoals': 10, 'hgoals': 12, 'hteam': 'Sydney', 'ateam': 'Greater Western Sydney', 'ateamid': 9, 'hteamid': 16, 'round': 8, 'is_grand_final': 0, 'hscore': 87, 'ascore': 73, 'hbehinds': 15, 'abehinds': 13, 'updated': '2025-05-04 15:49:53', 'localtime': '2025-05-04 13:10:00', 'winnerteamid': 16}, {'unixtime': 1746336000, 'year': 2025, 'date': '2025-05-04 15:20:00', 'roundname': 'Round 8', 'is_final': 0, 'id': 37160, 'complete': 100, 'timestr': 'Full Time', 'venue': 'M.C.G.', 'tz': '+10:00', 'winner': 'Hawthorn', 'abehinds': 8, 'hbehinds': 13, 'winnerteamid': 10, 'localtime': '2025-05-04 15:20:00', 'updated': '2025-05-04 17:53:42', 'ateamid': 14, 'hteamid': 10, 'hgoals': 16, 'agoals': 6, 'hteam': 'Hawthorn', 'ateam': 'Richmond', 'is_grand_final': 0, 'ascore': 44, 'hscore': 109, 'round': 8}, {'updated': '2025-05-04 21:52:34', 'localtime': '2025-05-04 19:20:00', 'winnerteamid': 2, 'abehinds': 7, 'hbehinds': 12, 'round': 8, 'ascore': 49, 'hscore': 66, 'is_grand_final': 0, 'ateam': 'Gold Coast', 'hteam': 'Brisbane Lions', 'agoals': 7, 'hgoals': 9, 'hteamid': 2, 'ateamid': 8, 'complete': 100, 'timestr': 'Full Time', 'id': 37161, 'is_final': 0, 'roundname': 'Round 8', 'date': '2025-05-04 19:20:00', 'unixtime': 1746350400, 'year': 2025, 'winner': 'Brisbane Lions', 'tz': '+10:00', 'venue': 'Gabba'}, {'tz': '+10:00', 'winner': 'Collingwood', 'venue': 'Perth Stadium', 'id': 37162, 'is_final': 0, 'timestr': 'Full Time', 'complete': 100, 'unixtime': 1746699000, 'year': 2025, 'date': '2025-05-08 20:10:00', 'roundname': 'Round 9', 'is_grand_final': 0, 'hscore': 83, 'ascore': 97, 'round': 9, 'hteamid': 6, 'ateamid': 4, 'agoals': 15, 'hgoals': 12, 'ateam': 'Collingwood', 'hteam': 'Fremantle', 'winnerteamid': 4, 'localtime': '2025-05-08 18:10:00', 'updated': '2025-05-08 22:48:52', 'abehinds': 7, 'hbehinds': 11}, {'updated': '2025-05-09 22:22:44', 'winnerteamid': 3, 'localtime': '2025-05-09 19:40:00', 'abehinds': 11, 'hbehinds': 8, 'round': 9, 'hscore': 62, 'ascore': 77, 'is_grand_final': 0, 'ateam': 'Carlton', 'hteam': 'St Kilda', 'hgoals': 9, 'agoals': 11, 'ateamid': 3, 'hteamid': 15, 'complete': 100, 'timestr': 'Full Time', 'is_final': 0, 'id': 37163, 'roundname': 'Round 9', 'year': 2025, 'unixtime': 1746783600, 'date': '2025-05-09 19:40:00', 'winner': 'Carlton', 'tz': '+10:00', 'venue': 'M.C.G.'}, {'tz': '+10:00', 'winner': 'Hawthorn', 'venue': 'M.C.G.', 'id': 37164, 'is_final': 0, 'timestr': 'Full Time', 'complete': 100, 'unixtime': 1746847200, 'year': 2025, 'date': '2025-05-10 13:20:00', 'roundname': 'Round 9', 'hscore': 56, 'ascore': 91, 'is_grand_final': 0, 'round': 9, 'hteamid': 11, 'ateamid': 10, 'ateam': 'Hawthorn', 'hteam': 'Melbourne', 'hgoals': 7, 'agoals': 13, 'winnerteamid': 10, 'localtime': '2025-05-10 13:20:00', 'updated': '2025-05-10 15:54:22', 'abehinds': 13, 'hbehinds': 14}, {'date': '2025-05-10 16:15:00', 'year': 2025, 'unixtime': 1746857700, 'roundname': 'Round 9', 'id': 37165, 'is_final': 0, 'complete': 100, 'timestr': 'Full Time', 'venue': 'Docklands', 'tz': '+10:00', 'winner': 'Essendon', 'abehinds': 15, 'hbehinds': 5, 'localtime': '2025-05-10 16:15:00', 'winnerteamid': 5, 'updated': '2025-05-10 18:48:39', 'ateamid': 16, 'hteamid': 5, 'ateam': 'Sydney', 'hteam': 'Essendon', 'hgoals': 11, 'agoals': 8, 'ascore': 63, 'hscore': 71, 'is_grand_final': 0, 'round': 9}, {'venue': 'Marrara Oval', 'winner': 'Gold Coast', 'tz': '+10:00', 'roundname': 'Round 9', 'year': 2025, 'unixtime': 1746869700, 'date': '2025-05-10 19:35:00', 'timestr': 'Full Time', 'complete': 100, 'is_final': 0, 'id': 37166, 'hteam': 'Gold Coast', 'ateam': 'Western Bulldogs', 'hgoals': 15, 'agoals': 14, 'ateamid': 18, 'hteamid': 8, 'round': 9, 'ascore': 96, 'hscore': 106, 'is_grand_final': 0, 'abehinds': 12, 'hbehinds': 16, 'updated': '2025-05-10 22:19:29', 'winnerteamid': 8, 'localtime': '2025-05-10 19:05:00'}, {'updated': '2025-05-10 22:49:46', 'localtime': '2025-05-10 19:40:00', 'winnerteamid': 1, 'hbehinds': 12, 'abehinds': 11, 'round': 9, 'hscore': 84, 'ascore': 89, 'is_grand_final': 0, 'hteam': 'Port Adelaide', 'ateam': 'Adelaide', 'hgoals': 12, 'agoals': 13, 'ateamid': 1, 'hteamid': 13, 'complete': 100, 'timestr': 'Full Time', 'id': 37167, 'is_final': 0, 'roundname': 'Round 9', 'date': '2025-05-10 20:10:00', 'year': 2025, 'unixtime': 1746871800, 'winner': 'Adelaide', 'tz': '+10:00', 'venue': 'Adelaide Oval'}, {'ateamid': 17, 'hteamid': 14, 'hteam': 'Richmond', 'ateam': 'West Coast', 'hgoals': 11, 'agoals': 11, 'hscore': 81, 'ascore': 79, 'is_grand_final': 0, 'round': 9, 'hbehinds': 15, 'abehinds': 13, 'localtime': '2025-05-11 13:10:00', 'winnerteamid': 14, 'updated': '2025-05-11 15:52:10', 'venue': 'M.C.G.', 'tz': '+10:00', 'winner': 'Richmond', 'date': '2025-05-11 13:10:00', 'unixtime': 1746933000, 'year': 2025, 'roundname': 'Round 9', 'id': 37168, 'is_final': 0, 'timestr': 'Full Time', 'complete': 100}, {'is_grand_final': 0, 'hscore': 101, 'ascore': 105, 'round': 9, 'ateamid': 9, 'hteamid': 7, 'hgoals': 14, 'agoals': 16, 'hteam': 'Geelong', 'ateam': 'Greater Western Sydney', 'localtime': '2025-05-11 15:20:00', 'winnerteamid': 9, 'updated': '2025-05-11 18:02:52', 'abehinds': 9, 'hbehinds': 17, 'tz': '+10:00', 'winner': 'Greater Western Sydney', 'venue': 'Kardinia Park', 'is_final': 0, 'id': 37169, 'complete': 100, 'timestr': 'Full Time', 'date': '2025-05-11 15:20:00', 'unixtime': 1746940800, 'year': 2025, 'roundname': 'Round 9'}, {'abehinds': 11, 'hbehinds': 11, 'updated': '2025-05-11 19:17:24', 'winnerteamid': None, 'localtime': '2025-05-11 16:40:00', 'hgoals': 10, 'agoals': 10, 'hteam': 'North Melbourne', 'ateam': 'Brisbane Lions', 'ateamid': 2, 'hteamid': 12, 'round': 9, 'is_grand_final': 0, 'hscore': 71, 'ascore': 71, 'roundname': 'Round 9', 'unixtime': 1746945600, 'year': 2025, 'date': '2025-05-11 16:40:00', 'timestr': 'Full Time', 'complete': 100, 'id': 37170, 'is_final': 0, 'venue': 'Bellerive Oval', 'winner': None, 'tz': '+10:00'}, {'hscore': 104, 'ascore': 96, 'is_grand_final': 0, 'round': 10, 'ateamid': 10, 'hteamid': 8, 'ateam': 'Hawthorn', 'hteam': 'Gold Coast', 'agoals': 15, 'hgoals': 16, 'localtime': '2025-05-15 19:00:00', 'winnerteamid': 8, 'updated': '2025-05-15 22:22:26', 'abehinds': 6, 'hbehinds': 8, 'tz': '+10:00', 'winner': 'Gold Coast', 'venue': 'Marrara Oval', 'is_final': 0, 'id': 37171, 'complete': 100, 'timestr': 'Full Time', 'date': '2025-05-15 19:30:00', 'year': 2025, 'unixtime': 1747301400, 'roundname': 'Round 10'}, {'venue': 'S.C.G.', 'winner': 'Sydney', 'tz': '+10:00', 'roundname': 'Round 10', 'year': 2025, 'unixtime': 1747388400, 'date': '2025-05-16 19:40:00', 'timestr': 'Full Time', 'complete': 100, 'is_final': 0, 'id': 37172, 'agoals': 9, 'hgoals': 11, 'hteam': 'Sydney', 'ateam': 'Carlton', 'hteamid': 16, 'ateamid': 3, 'round': 10, 'is_grand_final': 0, 'ascore': 62, 'hscore': 78, 'abehinds': 8, 'hbehinds': 12, 'updated': '2025-05-16 22:20:35', 'winnerteamid': 16, 'localtime': '2025-05-16 19:40:00'}, {'ateamid': 1, 'hteamid': 4, 'hteam': 'Collingwood', 'ateam': 'Adelaide', 'hgoals': 11, 'agoals': 10, 'ascore': 68, 'hscore': 78, 'is_grand_final': 0, 'round': 10, 'hbehinds': 12, 'abehinds': 8, 'localtime': '2025-05-17 13:20:00', 'winnerteamid': 4, 'updated': '2025-05-17 15:55:56', 'venue': 'M.C.G.', 'tz': '+10:00', 'winner': 'Collingwood', 'date': '2025-05-17 13:20:00', 'unixtime': 1747452000, 'year': 2025, 'roundname': 'Round 10', 'is_final': 0, 'id': 37173, 'timestr': 'Full Time', 'complete': 100}, {'date': '2025-05-17 16:15:00', 'year': 2025, 'unixtime': 1747462500, 'roundname': 'Round 10', 'is_final': 0, 'id': 37175, 'complete': 100, 'timestr': 'Full Time', 'venue': 'Sydney Showground', 'tz': '+10:00', 'winner': 'Fremantle', 'hbehinds': 13, 'abehinds': 17, 'localtime': '2025-05-17 16:15:00', 'winnerteamid': 6, 'updated': '2025-05-17 18:57:26', 'hteamid': 9, 'ateamid': 6, 'hgoals': 8, 'agoals': 13, 'ateam': 'Fremantle', 'hteam': 'Greater Western Sydney', 'is_grand_final': 0, 'ascore': 95, 'hscore': 61, 'round': 10}, {'winner': 'Geelong', 'tz': '+10:00', 'venue': 'Adelaide Oval', 'timestr': 'Full Time', 'complete': 100, 'id': 37174, 'is_final': 0, 'roundname': 'Round 10', 'date': '2025-05-17 16:15:00', 'unixtime': 1747462500, 'year': 2025, 'round': 10, 'is_grand_final': 0, 'ascore': 115, 'hscore': 39, 'hgoals': 5, 'agoals': 17, 'hteam': 'Port Adelaide', 'ateam': 'Geelong', 'ateamid': 7, 'hteamid': 13, 'updated': '2025-05-17 18:54:14', 'localtime': '2025-05-17 15:45:00', 'winnerteamid': 7, 'abehinds': 13, 'hbehinds': 9}, {'winner': 'Western Bulldogs', 'tz': '+10:00', 'venue': 'Docklands', 'timestr': 'Full Time', 'complete': 100, 'id': 37176, 'is_final': 0, 'roundname': 'Round 10', 'unixtime': 1747474500, 'year': 2025, 'date': '2025-05-17 19:35:00', 'round': 10, 'hscore': 127, 'ascore': 36, 'is_grand_final': 0, 'ateam': 'Essendon', 'hteam': 'Western Bulldogs', 'agoals': 5, 'hgoals': 18, 'hteamid': 18, 'ateamid': 5, 'updated': '2025-05-17 22:10:02', 'winnerteamid': 18, 'localtime': '2025-05-17 19:35:00', 'abehinds': 6, 'hbehinds': 19}, {'updated': '2025-05-18 15:57:04', 'winnerteamid': 12, 'localtime': '2025-05-18 13:10:00', 'hbehinds': 8, 'abehinds': 6, 'round': 10, 'hscore': 74, 'ascore': 78, 'is_grand_final': 0, 'hteam': 'Richmond', 'ateam': 'North Melbourne', 'hgoals': 11, 'agoals': 12, 'ateamid': 12, 'hteamid': 14, 'timestr': 'Full Time', 'complete': 100, 'id': 37177, 'is_final': 0, 'roundname': 'Round 10', 'unixtime': 1747537800, 'year': 2025, 'date': '2025-05-18 13:10:00', 'winner': 'North Melbourne', 'tz': '+10:00', 'venue': 'M.C.G.'}, {'ateamid': 11, 'hteamid': 2, 'hgoals': 13, 'agoals': 14, 'hteam': 'Brisbane Lions', 'ateam': 'Melbourne', 'is_grand_final': 0, 'hscore': 88, 'ascore': 99, 'round': 10, 'abehinds': 15, 'hbehinds': 10, 'localtime': '2025-05-18 15:20:00', 'winnerteamid': 11, 'updated': '2025-05-18 18:04:29', 'venue': 'Gabba', 'tz': '+10:00', 'winner': 'Melbourne', 'date': '2025-05-18 15:20:00', 'year': 2025, 'unixtime': 1747545600, 'roundname': 'Round 10', 'is_final': 0, 'id': 37178, 'complete': 100, 'timestr': 'Full Time'}, {'tz': '+10:00', 'winner': 'West Coast', 'venue': 'Perth Stadium', 'is_final': 0, 'id': 37179, 'complete': 100, 'timestr': 'Full Time', 'date': '2025-05-18 16:40:00', 'unixtime': 1747550400, 'year': 2025, 'roundname': 'Round 10', 'ascore': 80, 'hscore': 108, 'is_grand_final': 0, 'round': 10, 'hteamid': 17, 'ateamid': 15, 'hteam': 'West Coast', 'ateam': 'St Kilda', 'agoals': 12, 'hgoals': 16, 'localtime': '2025-05-18 14:40:00', 'winnerteamid': 17, 'updated': '2025-05-18 19:23:52', 'abehinds': 8, 'hbehinds': 12}, {'roundname': 'Round 11', 'date': '2025-05-22 19:30:00', 'unixtime': 1747906200, 'year': 2025, 'complete': 100, 'timestr': 'Full Time', 'is_final': 0, 'id': 37180, 'venue': 'Kardinia Park', 'winner': 'Geelong', 'tz': '+10:00', 'hbehinds': 7, 'abehinds': 17, 'updated': '2025-05-22 22:25:10', 'localtime': '2025-05-22 19:30:00', 'winnerteamid': 7, 'agoals': 16, 'hgoals': 20, 'hteam': 'Geelong', 'ateam': 'Western Bulldogs', 'ateamid': 18, 'hteamid': 7, 'round': 11, 'is_grand_final': 0, 'hscore': 127, 'ascore': 113}, {'is_final': 0, 'id': 37181, 'complete': 100, 'timestr': 'Full Time', 'date': '2025-05-23 19:40:00', 'unixtime': 1747993200, 'year': 2025, 'roundname': 'Round 11', 'tz': '+10:00', 'winner': 'Essendon', 'venue': 'M.C.G.', 'localtime': '2025-05-23 19:40:00', 'winnerteamid': 5, 'updated': '2025-05-23 22:24:14', 'abehinds': 10, 'hbehinds': 15, 'ascore': 58, 'hscore': 81, 'is_grand_final': 0, 'round': 11, 'hteamid': 5, 'ateamid': 14, 'hteam': 'Essendon', 'ateam': 'Richmond', 'hgoals': 11, 'agoals': 8}, {'venue': 'Docklands', 'winner': 'Greater Western Sydney', 'tz': '+10:00', 'roundname': 'Round 11', 'date': '2025-05-24 12:35:00', 'unixtime': 1748054100, 'year': 2025, 'timestr': 'Full Time', 'complete': 100, 'is_final': 0, 'id': 37182, 'ateam': 'Greater Western Sydney', 'hteam': 'Carlton', 'hgoals': 12, 'agoals': 17, 'ateamid': 9, 'hteamid': 3, 'round': 11, 'ascore': 110, 'hscore': 82, 'is_grand_final': 0, 'hbehinds': 10, 'abehinds': 8, 'updated': '2025-05-24 15:19:27', 'localtime': '2025-05-24 12:35:00', 'winnerteamid': 9}, {'id': 37183, 'is_final': 0, 'timestr': 'Full Time', 'complete': 100, 'date': '2025-05-24 16:15:00', 'unixtime': 1748067300, 'year': 2025, 'roundname': 'Round 11', 'tz': '+10:00', 'winner': 'Brisbane Lions', 'venue': 'M.C.G.', 'localtime': '2025-05-24 16:15:00', 'winnerteamid': 2, 'updated': '2025-05-24 18:49:44', 'hbehinds': 12, 'abehinds': 9, 'is_grand_final': 0, 'hscore': 60, 'ascore': 93, 'round': 11, 'ateamid': 2, 'hteamid': 10, 'hgoals': 8, 'agoals': 14, 'ateam': 'Brisbane Lions', 'hteam': 'Hawthorn'}, {'winner': 'Collingwood', 'tz': '+10:00', 'venue': 'Docklands', 'complete': 100, 'timestr': 'Full Time', 'id': 37184, 'is_final': 0, 'roundname': 'Round 11', 'year': 2025, 'unixtime': 1748079300, 'date': '2025-05-24 19:35:00', 'round': 11, 'hscore': 63, 'ascore': 108, 'is_grand_final': 0, 'hteam': 'North Melbourne', 'ateam': 'Collingwood', 'hgoals': 9, 'agoals': 15, 'ateamid': 4, 'hteamid': 12, 'updated': '2025-05-24 22:14:15', 'winnerteamid': 4, 'localtime': '2025-05-24 19:35:00', 'hbehinds': 9, 'abehinds': 18}, {'abehinds': 9, 'hbehinds': 10, 'updated': '2025-05-24 22:50:57', 'localtime': '2025-05-24 18:10:00', 'winnerteamid': 6, 'hgoals': 15, 'agoals': 7, 'hteam': 'Fremantle', 'ateam': 'Port Adelaide', 'hteamid': 6, 'ateamid': 13, 'round': 11, 'is_grand_final': 0, 'hscore': 100, 'ascore': 51, 'roundname': 'Round 11', 'date': '2025-05-24 20:10:00', 'unixtime': 1748081400, 'year': 2025, 'complete': 100, 'timestr': 'Full Time', 'id': 37185, 'is_final': 0, 'venue': 'Perth Stadium', 'winner': 'Fremantle', 'tz': '+10:00'}, {'id': 37186, 'is_final': 0, 'timestr': 'Full Time', 'complete': 100, 'unixtime': 1748142600, 'year': 2025, 'date': '2025-05-25 13:10:00', 'roundname': 'Round 11', 'tz': '+10:00', 'winner': 'Adelaide', 'venue': 'Adelaide Oval', 'winnerteamid': 1, 'localtime': '2025-05-25 12:40:00', 'updated': '2025-05-25 15:55:27', 'abehinds': 14, 'hbehinds': 14, 'is_grand_final': 0, 'ascore': 62, 'hscore': 128, 'round': 11, 'ateamid': 17, 'hteamid': 1, 'hgoals': 19, 'agoals': 8, 'hteam': 'Adelaide', 'ateam': 'West Coast'}, {'is_grand_final': 0, 'hscore': 131, 'ascore': 78, 'round': 11, 'hteamid': 11, 'ateamid': 16, 'agoals': 12, 'hgoals': 19, 'ateam': 'Sydney', 'hteam': 'Melbourne', 'localtime': '2025-05-25 15:20:00', 'winnerteamid': 11, 'updated': '2025-05-25 18:12:36', 'abehinds': 6, 'hbehinds': 17, 'tz': '+10:00', 'winner': 'Melbourne', 'venue': 'M.C.G.', 'is_final': 0, 'id': 37187, 'timestr': 'Full Time', 'complete': 100, 'date': '2025-05-25 15:20:00', 'year': 2025, 'unixtime': 1748150400, 'roundname': 'Round 11'}, {'id': 37188, 'is_final': 0, 'complete': 100, 'timestr': 'Full Time', 'date': '2025-05-25 16:40:00', 'year': 2025, 'unixtime': 1748155200, 'roundname': 'Round 11', 'tz': '+10:00', 'winner': 'Gold Coast', 'venue': 'Docklands', 'localtime': '2025-05-25 16:40:00', 'winnerteamid': 8, 'updated': '2025-05-25 19:14:57', 'abehinds': 8, 'hbehinds': 13, 'hscore': 61, 'ascore': 80, 'is_grand_final': 0, 'round': 11, 'hteamid': 15, 'ateamid': 8, 'hteam': 'St Kilda', 'ateam': 'Gold Coast', 'hgoals': 8, 'agoals': 12}, {'ateamid': 5, 'hteamid': 2, 'agoals': 11, 'hgoals': 13, 'ateam': 'Essendon', 'hteam': 'Brisbane Lions', 'is_grand_final': 0, 'hscore': 90, 'ascore': 72, 'round': 12, 'abehinds': 6, 'hbehinds': 12, 'winnerteamid': 2, 'localtime': '2025-05-29 19:30:00', 'updated': '2025-05-29 22:08:13', 'venue': 'Gabba', 'tz': '+10:00', 'winner': 'Brisbane Lions', 'unixtime': 1748511000, 'year': 2025, 'date': '2025-05-29 19:30:00', 'roundname': 'Round 12', 'is_final': 0, 'id': 37189, 'complete': 100, 'timestr': 'Full Time'}, {'timestr': 'Full Time', 'complete': 100, 'id': 37190, 'is_final': 0, 'roundname': 'Round 12', 'unixtime': 1748598000, 'year': 2025, 'date': '2025-05-30 19:40:00', 'winner': 'Collingwood', 'tz': '+10:00', 'venue': 'M.C.G.', 'updated': '2025-05-30 22:17:21', 'winnerteamid': 4, 'localtime': '2025-05-30 19:40:00', 'hbehinds': 11, 'abehinds': 8, 'round': 12, 'is_grand_final': 0, 'ascore': 56, 'hscore': 107, 'hgoals': 16, 'agoals': 8, 'ateam': 'Hawthorn', 'hteam': 'Collingwood', 'hteamid': 4, 'ateamid': 10}, {'localtime': '2025-05-31 13:20:00', 'winnerteamid': 6, 'updated': '2025-05-31 16:02:38', 'hbehinds': 10, 'abehinds': 9, 'is_grand_final': 0, 'ascore': 75, 'hscore': 64, 'round': 12, 'hteamid': 8, 'ateamid': 6, 'hgoals': 9, 'agoals': 11, 'ateam': 'Fremantle', 'hteam': 'Gold Coast', 'is_final': 0, 'id': 37191, 'complete': 100, 'timestr': 'Full Time', 'date': '2025-05-31 13:20:00', 'year': 2025, 'unixtime': 1748661600, 'roundname': 'Round 12', 'tz': '+10:00', 'winner': 'Fremantle', 'venue': 'Carrara'}, {'winner': 'Greater Western Sydney', 'tz': '+10:00', 'venue': 'Sydney Showground', 'timestr': 'Full Time', 'complete': 100, 'is_final': 0, 'id': 37192, 'roundname': 'Round 12', 'unixtime': 1748672100, 'year': 2025, 'date': '2025-05-31 16:15:00', 'round': 12, 'ascore': 77, 'hscore': 80, 'is_grand_final': 0, 'hteam': 'Greater Western Sydney', 'ateam': 'Richmond', 'hgoals': 12, 'agoals': 10, 'hteamid': 9, 'ateamid': 14, 'updated': '2025-05-31 18:56:40', 'winnerteamid': 9, 'localtime': '2025-05-31 16:15:00', 'abehinds': 17, 'hbehinds': 8}, {'ateamid': 1, 'hteamid': 16, 'ateam': 'Adelaide', 'hteam': 'Sydney', 'hgoals': 5, 'agoals': 21, 'ascore': 131, 'hscore': 41, 'is_grand_final': 0, 'round': 12, 'abehinds': 5, 'hbehinds': 11, 'localtime': '2025-05-31 19:35:00', 'winnerteamid': 1, 'updated': '2025-05-31 22:22:24', 'venue': 'S.C.G.', 'tz': '+10:00', 'winner': 'Adelaide', 'date': '2025-05-31 19:35:00', 'unixtime': 1748684100, 'year': 2025, 'roundname': 'Round 12', 'id': 37193, 'is_final': 0, 'complete': 100, 'timestr': 'Full Time'}, {'abehinds': 7, 'hbehinds': 21, 'localtime': '2025-06-01 14:50:00', 'winnerteamid': 15, 'updated': '2025-06-01 17:54:00', 'hteamid': 11, 'ateamid': 15, 'hteam': 'Melbourne', 'ateam': 'St Kilda', 'agoals': 14, 'hgoals': 7, 'hscore': 63, 'ascore': 91, 'is_grand_final': 0, 'round': 12, 'date': '2025-06-01 15:20:00', 'unixtime': 1748755200, 'year': 2025, 'roundname': 'Round 12', 'id': 37194, 'is_final': 0, 'complete': 100, 'timestr': 'Full Time', 'venue': 'Traeger Park', 'tz': '+10:00', 'winner': 'St Kilda'}, {'venue': 'Perth Stadium', 'tz': '+10:00', 'winner': 'Geelong', 'year': 2025, 'unixtime': 1748769600, 'date': '2025-06-01 19:20:00', 'roundname': 'Round 12', 'is_final': 0, 'id': 37195, 'timestr': 'Full Time', 'complete': 100, 'hteamid': 17, 'ateamid': 7, 'agoals': 17, 'hgoals': 11, 'hteam': 'West Coast', 'ateam': 'Geelong', 'is_grand_final': 0, 'ascore': 116, 'hscore': 73, 'round': 12, 'abehinds': 14, 'hbehinds': 7, 'winnerteamid': 7, 'localtime': '2025-06-01 17:20:00', 'updated': '2025-06-01 21:59:39'}, {'complete': 100, 'timestr': 'Full Time', 'id': 37196, 'is_final': 0, 'roundname': 'Round 13', 'unixtime': 1749115800, 'year': 2025, 'date': '2025-06-05 19:30:00', 'winner': 'Hawthorn', 'tz': '+10:00', 'venue': 'Docklands', 'updated': '2025-06-05 22:10:06', 'winnerteamid': 10, 'localtime': '2025-06-05 19:30:00', 'hbehinds': 11, 'abehinds': 9, 'round': 13, 'is_grand_final': 0, 'hscore': 59, 'ascore': 81, 'hgoals': 8, 'agoals': 12, 'hteam': 'Western Bulldogs', 'ateam': 'Hawthorn', 'ateamid': 10, 'hteamid': 18}, {'roundname': 'Round 13', 'unixtime': 1749202800, 'year': 2025, 'date': '2025-06-06 19:40:00', 'complete': 100, 'timestr': 'Full Time', 'is_final': 0, 'id': 37197, 'venue': 'Adelaide Oval', 'winner': 'Adelaide', 'tz': '+10:00', 'abehinds': 15, 'hbehinds': 8, 'updated': '2025-06-06 22:22:34', 'winnerteamid': 1, 'localtime': '2025-06-06 19:10:00', 'hgoals': 10, 'agoals': 8, 'hteam': 'Adelaide', 'ateam': 'Brisbane Lions', 'hteamid': 1, 'ateamid': 2, 'round': 13, 'is_grand_final': 0, 'ascore': 63, 'hscore': 68}, {'id': 37198, 'is_final': 0, 'timestr': 'Full Time', 'complete': 100, 'date': '2025-06-07 13:20:00', 'year': 2025, 'unixtime': 1749266400, 'roundname': 'Round 13', 'tz': '+10:00', 'winner': 'Sydney', 'venue': 'M.C.G.', 'localtime': '2025-06-07 13:20:00', 'winnerteamid': 16, 'updated': '2025-06-07 15:55:11', 'abehinds': 14, 'hbehinds': 12, 'is_grand_final': 0, 'hscore': 36, 'ascore': 80, 'round': 13, 'hteamid': 14, 'ateamid': 16, 'agoals': 11, 'hgoals': 4, 'ateam': 'Sydney', 'hteam': 'Richmond'}, {'hteam': 'Geelong', 'ateam': 'Gold Coast', 'agoals': 5, 'hgoals': 9, 'ateamid': 8, 'hteamid': 7, 'round': 13, 'hscore': 61, 'ascore': 37, 'is_grand_final': 0, 'hbehinds': 7, 'abehinds': 7, 'updated': '2025-06-07 18:59:33', 'winnerteamid': 7, 'localtime': '2025-06-07 16:15:00', 'venue': 'Kardinia Park', 'winner': 'Geelong', 'tz': '+10:00', 'roundname': 'Round 13', 'unixtime': 1749276900, 'year': 2025, 'date': '2025-06-07 16:15:00', 'complete': 100, 'timestr': 'Full Time', 'is_final': 0, 'id': 37199}, {'ateam': 'Port Adelaide', 'hteam': 'Greater Western Sydney', 'agoals': 9, 'hgoals': 7, 'hteamid': 9, 'ateamid': 13, 'round': 13, 'ascore': 66, 'hscore': 50, 'is_grand_final': 0, 'hbehinds': 8, 'abehinds': 12, 'updated': '2025-06-07 22:16:09', 'winnerteamid': 13, 'localtime': '2025-06-07 19:35:00', 'venue': 'Manuka Oval', 'winner': 'Port Adelaide', 'tz': '+10:00', 'roundname': 'Round 13', 'year': 2025, 'unixtime': 1749288900, 'date': '2025-06-07 19:35:00', 'timestr': 'Full Time', 'complete': 100, 'id': 37200, 'is_final': 0}, {'updated': '2025-06-08 17:56:35', 'localtime': '2025-06-08 13:20:00', 'winnerteamid': 12, 'hbehinds': 8, 'abehinds': 16, 'round': 13, 'ascore': 52, 'hscore': 62, 'is_grand_final': 0, 'hteam': 'North Melbourne', 'ateam': 'West Coast', 'agoals': 6, 'hgoals': 9, 'hteamid': 12, 'ateamid': 17, 'timestr': 'Full Time', 'complete': 100, 'is_final': 0, 'id': 37201, 'roundname': 'Round 13', 'date': '2025-06-08 15:20:00', 'year': 2025, 'unixtime': 1749360000, 'winner': 'North Melbourne', 'tz': '+10:00', 'venue': 'Hands Oval'}, {'winner': 'Carlton', 'tz': '+10:00', 'venue': 'M.C.G.', 'timestr': 'Full Time', 'complete': 100, 'id': 37202, 'is_final': 0, 'roundname': 'Round 13', 'year': 2025, 'unixtime': 1749374400, 'date': '2025-06-08 19:20:00', 'round': 13, 'ascore': 70, 'hscore': 78, 'is_grand_final': 0, 'ateam': 'Essendon', 'hteam': 'Carlton', 'agoals': 11, 'hgoals': 11, 'ateamid': 5, 'hteamid': 3, 'updated': '2025-06-08 22:02:11', 'winnerteamid': 3, 'localtime': '2025-06-08 19:20:00', 'abehinds': 4, 'hbehinds': 12}, {'is_final': 0, 'id': 37203, 'timestr': 'Full Time', 'complete': 100, 'unixtime': 1749446400, 'year': 2025, 'date': '2025-06-09 15:20:00', 'roundname': 'Round 13', 'tz': '+10:00', 'winner': 'Collingwood', 'venue': 'M.C.G.', 'winnerteamid': 4, 'localtime': '2025-06-09 15:20:00', 'updated': '2025-06-09 17:59:35', 'abehinds': 6, 'hbehinds': 11, 'hscore': 71, 'ascore': 72, 'is_grand_final': 0, 'round': 13, 'ateamid': 4, 'hteamid': 11, 'ateam': 'Collingwood', 'hteam': 'Melbourne', 'agoals': 11, 'hgoals': 10}, {'tz': '+10:00', 'winner': 'Western Bulldogs', 'venue': 'Docklands', 'id': 37204, 'is_final': 0, 'timestr': 'Full Time', 'complete': 100, 'date': '2025-06-12 19:30:00', 'year': 2025, 'unixtime': 1749720600, 'roundname': 'Round 14', 'is_grand_final': 0, 'hscore': 60, 'ascore': 132, 'round': 14, 'ateamid': 18, 'hteamid': 15, 'hgoals': 8, 'agoals': 20, 'ateam': 'Western Bulldogs', 'hteam': 'St Kilda', 'localtime': '2025-06-12 19:30:00', 'winnerteamid': 18, 'updated': '2025-06-12 22:16:08', 'hbehinds': 12, 'abehinds': 12}, {'round': 14, 'hscore': 47, 'ascore': 44, 'is_grand_final': 0, 'hteam': 'Hawthorn', 'ateam': 'Adelaide', 'hgoals': 6, 'agoals': 5, 'hteamid': 10, 'ateamid': 1, 'updated': '2025-06-13 22:16:53', 'localtime': '2025-06-13 19:40:00', 'winnerteamid': 10, 'hbehinds': 11, 'abehinds': 14, 'winner': 'Hawthorn', 'tz': '+10:00', 'venue': 'York Park', 'timestr': 'Full Time', 'complete': 100, 'is_final': 0, 'id': 37205, 'roundname': 'Round 14', 'date': '2025-06-13 19:40:00', 'unixtime': 1749807600, 'year': 2025}, {'winner': 'Greater Western Sydney', 'tz': '+10:00', 'venue': 'Gabba', 'complete': 100, 'timestr': 'Full Time', 'is_final': 0, 'id': 37206, 'roundname': 'Round 14', 'date': '2025-06-14 13:20:00', 'unixtime': 1749871200, 'year': 2025, 'round': 14, 'is_grand_final': 0, 'ascore': 107, 'hscore': 96, 'agoals': 17, 'hgoals': 13, 'ateam': 'Greater Western Sydney', 'hteam': 'Brisbane Lions', 'ateamid': 9, 'hteamid': 2, 'updated': '2025-06-14 16:17:06', 'localtime': '2025-06-14 13:20:00', 'winnerteamid': 9, 'abehinds': 5, 'hbehinds': 18}, {'roundname': 'Round 14', 'year': 2025, 'unixtime': 1749881700, 'date': '2025-06-14 16:15:00', 'complete': 100, 'timestr': 'Full Time', 'is_final': 0, 'id': 37207, 'venue': 'M.C.G.', 'winner': 'Geelong', 'tz': '+10:00', 'abehinds': 13, 'hbehinds': 8, 'updated': '2025-06-14 18:57:24', 'winnerteamid': 7, 'localtime': '2025-06-14 16:15:00', 'hteam': 'Essendon', 'ateam': 'Geelong', 'agoals': 23, 'hgoals': 8, 'ateamid': 7, 'hteamid': 5, 'round': 14, 'hscore': 56, 'ascore': 151, 'is_grand_final': 0}, {'updated': '2025-06-14 22:15:02', 'winnerteamid': 6, 'localtime': '2025-06-14 17:35:00', 'abehinds': 13, 'hbehinds': 7, 'round': 14, 'is_grand_final': 0, 'hscore': 67, 'ascore': 73, 'agoals': 10, 'hgoals': 10, 'hteam': 'North Melbourne', 'ateam': 'Fremantle', 'hteamid': 12, 'ateamid': 6, 'complete': 100, 'timestr': 'Full Time', 'is_final': 0, 'id': 37208, 'roundname': 'Round 14', 'year': 2025, 'unixtime': 1749893700, 'date': '2025-06-14 19:35:00', 'winner': 'Fremantle', 'tz': '+10:00', 'venue': 'Perth Stadium'}, {'abehinds': 14, 'hbehinds': 9, 'updated': '2025-06-15 17:57:12', 'localtime': '2025-06-15 14:50:00', 'winnerteamid': 13, 'ateam': 'Melbourne', 'hteam': 'Port Adelaide', 'hgoals': 14, 'agoals': 9, 'hteamid': 13, 'ateamid': 11, 'round': 14, 'ascore': 68, 'hscore': 93, 'is_grand_final': 0, 'roundname': 'Round 14', 'date': '2025-06-15 15:20:00', 'unixtime': 1749964800, 'year': 2025, 'complete': 100, 'timestr': 'Full Time', 'is_final': 0, 'id': 37209, 'venue': 'Adelaide Oval', 'winner': 'Port Adelaide', 'tz': '+10:00'}, {'roundname': 'Round 14', 'unixtime': 1749975000, 'year': 2025, 'date': '2025-06-15 18:10:00', 'complete': 100, 'timestr': 'Full Time', 'is_final': 0, 'id': 37210, 'venue': 'Perth Stadium', 'winner': 'Carlton', 'tz': '+10:00', 'abehinds': 14, 'hbehinds': 10, 'updated': '2025-06-15 20:45:56', 'winnerteamid': 3, 'localtime': '2025-06-15 16:10:00', 'ateam': 'Carlton', 'hteam': 'West Coast', 'hgoals': 7, 'agoals': 12, 'ateamid': 3, 'hteamid': 17, 'round': 14, 'ascore': 86, 'hscore': 52, 'is_grand_final': 0}, {'winnerteamid': 6, 'localtime': '2025-06-19 18:10:00', 'updated': '2025-06-19 22:49:02', 'abehinds': 9, 'hbehinds': 8, 'is_grand_final': 0, 'ascore': 63, 'hscore': 104, 'round': 15, 'hteamid': 6, 'ateamid': 5, 'hgoals': 16, 'agoals': 9, 'hteam': 'Fremantle', 'ateam': 'Essendon', 'is_final': 0, 'id': 37211, 'complete': 100, 'timestr': 'Full Time', 'year': 2025, 'unixtime': 1750327800, 'date': '2025-06-19 20:10:00', 'roundname': 'Round 15', 'tz': '+10:00', 'winner': 'Fremantle', 'venue': 'Perth Stadium'}, {'venue': 'Kardinia Park', 'tz': '+10:00', 'winner': 'Brisbane Lions', 'year': 2025, 'unixtime': 1750412400, 'date': '2025-06-20 19:40:00', 'roundname': 'Round 15', 'id': 37212, 'is_final': 0, 'timestr': 'Full Time', 'complete': 100, 'hteamid': 7, 'ateamid': 2, 'agoals': 14, 'hgoals': 6, 'ateam': 'Brisbane Lions', 'hteam': 'Geelong', 'is_grand_final': 0, 'ascore': 92, 'hscore': 51, 'round': 15, 'abehinds': 8, 'hbehinds': 15, 'winnerteamid': 2, 'localtime': '2025-06-20 19:40:00', 'updated': '2025-06-20 22:18:55'}, {'date': '2025-06-21 13:20:00', 'year': 2025, 'unixtime': 1750476000, 'roundname': 'Round 15', 'id': 37213, 'is_final': 0, 'timestr': 'Full Time', 'complete': 100, 'venue': 'M.C.G.', 'tz': '+10:00', 'winner': 'North Melbourne', 'hbehinds': 13, 'abehinds': 6, 'localtime': '2025-06-21 13:20:00', 'winnerteamid': 12, 'updated': '2025-06-21 16:00:34', 'ateamid': 12, 'hteamid': 3, 'hgoals': 10, 'agoals': 13, 'ateam': 'North Melbourne', 'hteam': 'Carlton', 'is_grand_final': 0, 'ascore': 84, 'hscore': 73, 'round': 15}, {'venue': 'Adelaide Oval', 'tz': '+10:00', 'winner': 'Sydney', 'date': '2025-06-21 16:15:00', 'unixtime': 1750486500, 'year': 2025, 'roundname': 'Round 15', 'id': 37214, 'is_final': 0, 'timestr': 'Full Time', 'complete': 100, 'ateamid': 16, 'hteamid': 13, 'ateam': 'Sydney', 'hteam': 'Port Adelaide', 'hgoals': 7, 'agoals': 9, 'ascore': 71, 'hscore': 52, 'is_grand_final': 0, 'round': 15, 'hbehinds': 10, 'abehinds': 17, 'localtime': '2025-06-21 15:45:00', 'winnerteamid': 16, 'updated': '2025-06-21 18:46:36'}, {'year': 2025, 'unixtime': 1750498500, 'date': '2025-06-21 19:35:00', 'roundname': 'Round 15', 'is_final': 0, 'id': 37215, 'complete': 100, 'timestr': 'Full Time', 'venue': 'Docklands', 'tz': '+10:00', 'winner': 'Collingwood', 'hbehinds': 12, 'abehinds': 8, 'winnerteamid': 4, 'localtime': '2025-06-21 19:35:00', 'updated': '2025-06-21 22:15:25', 'hteamid': 4, 'ateamid': 15, 'hteam': 'Collingwood', 'ateam': 'St Kilda', 'hgoals': 16, 'agoals': 11, 'ascore': 74, 'hscore': 108, 'is_grand_final': 0, 'round': 15}, {'abehinds': 15, 'hbehinds': 10, 'updated': '2025-06-22 16:01:08', 'localtime': '2025-06-22 13:10:00', 'winnerteamid': 9, 'agoals': 14, 'hgoals': 16, 'ateam': 'Gold Coast', 'hteam': 'Greater Western Sydney', 'hteamid': 9, 'ateamid': 8, 'round': 15, 'is_grand_final': 0, 'hscore': 106, 'ascore': 99, 'roundname': 'Round 15', 'date': '2025-06-22 13:10:00', 'unixtime': 1750561800, 'year': 2025, 'complete': 100, 'timestr': 'Full Time', 'id': 37216, 'is_final': 0, 'venue': 'Sydney Showground', 'winner': 'Greater Western Sydney', 'tz': '+10:00'}, {'winnerteamid': 18, 'localtime': '2025-06-22 15:20:00', 'updated': '2025-06-22 17:55:38', 'abehinds': 8, 'hbehinds': 9, 'is_grand_final': 0, 'hscore': 135, 'ascore': 56, 'round': 15, 'hteamid': 18, 'ateamid': 14, 'agoals': 8, 'hgoals': 21, 'hteam': 'Western Bulldogs', 'ateam': 'Richmond', 'id': 37217, 'is_final': 0, 'complete': 100, 'timestr': 'Full Time', 'unixtime': 1750569600, 'year': 2025, 'date': '2025-06-22 15:20:00', 'roundname': 'Round 15', 'tz': '+10:00', 'winner': 'Western Bulldogs', 'venue': 'Docklands'}, {'venue': 'Adelaide Oval', 'winner': 'Port Adelaide', 'tz': '+10:00', 'roundname': 'Round 16', 'date': '2025-06-26 19:30:00', 'unixtime': 1750930200, 'year': 2025, 'timestr': 'Full Time', 'complete': 100, 'id': 37223, 'is_final': 0, 'hteam': 'Port Adelaide', 'ateam': 'Carlton', 'agoals': 8, 'hgoals': 16, 'hteamid': 13, 'ateamid': 3, 'round': 16, 'ascore': 60, 'hscore': 110, 'is_grand_final': 0, 'hbehinds': 14, 'abehinds': 12, 'updated': '2025-06-26 22:13:36', 'localtime': '2025-06-26 19:00:00', 'winnerteamid': 13}, {'hteam': 'Sydney', 'ateam': 'Western Bulldogs', 'agoals': 16, 'hgoals': 14, 'ateamid': 18, 'hteamid': 16, 'round': 16, 'hscore': 96, 'ascore': 105, 'is_grand_final': 0, 'abehinds': 9, 'hbehinds': 12, 'updated': '2025-06-27 22:21:48', 'winnerteamid': 18, 'localtime': '2025-06-27 19:40:00', 'venue': 'S.C.G.', 'winner': 'Western Bulldogs', 'tz': '+10:00', 'roundname': 'Round 16', 'year': 2025, 'unixtime': 1751017200, 'date': '2025-06-27 19:40:00', 'complete': 100, 'timestr': 'Full Time', 'id': 37221, 'is_final': 0}, {'tz': '+10:00', 'winner': 'Gold Coast', 'venue': 'Carrara', 'id': 37220, 'is_final': 0, 'timestr': 'Full Time', 'complete': 100, 'date': '2025-06-28 13:20:00', 'year': 2025, 'unixtime': 1751080800, 'roundname': 'Round 16', 'is_grand_final': 0, 'hscore': 104, 'ascore': 85, 'round': 16, 'ateamid': 11, 'hteamid': 8, 'hgoals': 15, 'agoals': 12, 'ateam': 'Melbourne', 'hteam': 'Gold Coast', 'localtime': '2025-06-28 13:20:00', 'winnerteamid': 8, 'updated': '2025-06-28 16:03:21', 'abehinds': 13, 'hbehinds': 14}, {'hbehinds': 12, 'abehinds': 11, 'updated': '2025-06-28 18:59:58', 'winnerteamid': 10, 'localtime': '2025-06-28 16:15:00', 'agoals': 9, 'hgoals': 23, 'ateam': 'North Melbourne', 'hteam': 'Hawthorn', 'ateamid': 12, 'hteamid': 10, 'round': 16, 'is_grand_final': 0, 'ascore': 65, 'hscore': 150, 'roundname': 'Round 16', 'unixtime': 1751091300, 'year': 2025, 'date': '2025-06-28 16:15:00', 'complete': 100, 'timestr': 'Full Time', 'id': 37222, 'is_final': 0, 'venue': 'York Park', 'winner': 'Hawthorn', 'tz': '+10:00'}, {'localtime': '2025-06-28 19:35:00', 'winnerteamid': 4, 'updated': '2025-06-28 22:09:44', 'abehinds': 11, 'hbehinds': 10, 'hscore': 88, 'ascore': 59, 'is_grand_final': 0, 'round': 16, 'hteamid': 4, 'ateamid': 17, 'hteam': 'Collingwood', 'ateam': 'West Coast', 'hgoals': 13, 'agoals': 8, 'id': 37218, 'is_final': 0, 'timestr': 'Full Time', 'complete': 100, 'date': '2025-06-28 19:35:00', 'year': 2025, 'unixtime': 1751103300, 'roundname': 'Round 16', 'tz': '+10:00', 'winner': 'Collingwood', 'venue': 'Docklands'}, {'id': 37219, 'is_final': 0, 'timestr': 'Full Time', 'complete': 100, 'date': '2025-06-29 15:15:00', 'year': 2025, 'unixtime': 1751174100, 'roundname': 'Round 16', 'tz': '+10:00', 'winner': 'Adelaide', 'venue': 'M.C.G.', 'localtime': '2025-06-29 15:15:00', 'winnerteamid': 1, 'updated': '2025-06-29 17:56:37', 'hbehinds': 6, 'abehinds': 14, 'is_grand_final': 0, 'hscore': 54, 'ascore': 122, 'round': 16, 'ateamid': 1, 'hteamid': 14, 'agoals': 18, 'hgoals': 8, 'ateam': 'Adelaide', 'hteam': 'Richmond'}, {'timestr': 'Full Time', 'complete': 100, 'id': 37224, 'is_final': 0, 'roundname': 'Round 16', 'date': '2025-06-29 17:10:00', 'unixtime': 1751181000, 'year': 2025, 'winner': 'Fremantle', 'tz': '+10:00', 'venue': 'Perth Stadium', 'updated': '2025-06-29 19:50:25', 'localtime': '2025-06-29 15:10:00', 'winnerteamid': 6, 'abehinds': 15, 'hbehinds': 15, 'round': 16, 'hscore': 81, 'ascore': 69, 'is_grand_final': 0, 'hteam': 'Fremantle', 'ateam': 'St Kilda', 'agoals': 9, 'hgoals': 11, 'hteamid': 6, 'ateamid': 15}, {'timestr': 'Full Time', 'complete': 100, 'id': 37227, 'is_final': 0, 'roundname': 'Round 17', 'unixtime': 1751535000, 'year': 2025, 'date': '2025-07-03 19:30:00', 'winner': 'Western Bulldogs', 'tz': '+10:00', 'venue': 'Docklands', 'updated': '2025-07-03 22:17:15', 'winnerteamid': 18, 'localtime': '2025-07-03 19:30:00', 'abehinds': 14, 'hbehinds': 7, 'round': 17, 'ascore': 134, 'hscore': 85, 'is_grand_final': 0, 'hteam': 'North Melbourne', 'ateam': 'Western Bulldogs', 'agoals': 20, 'hgoals': 13, 'hteamid': 12, 'ateamid': 18}, {'hteamid': 3, 'ateamid': 4, 'agoals': 17, 'hgoals': 8, 'ateam': 'Collingwood', 'hteam': 'Carlton', 'is_grand_final': 0, 'hscore': 59, 'ascore': 115, 'round': 17, 'hbehinds': 11, 'abehinds': 13, 'winnerteamid': 4, 'localtime': '2025-07-04 19:20:00', 'updated': '2025-07-04 21:57:49', 'venue': 'M.C.G.', 'tz': '+10:00', 'winner': 'Collingwood', 'year': 2025, 'unixtime': 1751620800, 'date': '2025-07-04 19:20:00', 'roundname': 'Round 17', 'id': 37229, 'is_final': 0, 'timestr': 'Full Time', 'complete': 100}, {'hbehinds': 4, 'abehinds': 15, 'winnerteamid': 9, 'localtime': '2025-07-04 18:20:00', 'updated': '2025-07-04 23:01:15', 'hteamid': 17, 'ateamid': 9, 'hteam': 'West Coast', 'ateam': 'Greater Western Sydney', 'hgoals': 8, 'agoals': 16, 'hscore': 52, 'ascore': 111, 'is_grand_final': 0, 'round': 17, 'year': 2025, 'unixtime': 1751624400, 'date': '2025-07-04 20:20:00', 'roundname': 'Round 17', 'id': 37233, 'is_final': 0, 'timestr': 'Full Time', 'complete': 100, 'venue': 'Perth Stadium', 'tz': '+10:00', 'winner': 'Greater Western Sydney'}, {'updated': '2025-07-05 15:17:35', 'localtime': '2025-07-05 12:35:00', 'winnerteamid': 8, 'hbehinds': 8, 'abehinds': 7, 'round': 17, 'is_grand_final': 0, 'ascore': 115, 'hscore': 74, 'agoals': 18, 'hgoals': 11, 'hteam': 'Essendon', 'ateam': 'Gold Coast', 'hteamid': 5, 'ateamid': 8, 'timestr': 'Full Time', 'complete': 100, 'id': 37228, 'is_final': 0, 'roundname': 'Round 17', 'date': '2025-07-05 12:35:00', 'unixtime': 1751682900, 'year': 2025, 'winner': 'Gold Coast', 'tz': '+10:00', 'venue': 'Docklands'}, {'winner': 'Geelong', 'tz': '+10:00', 'venue': 'Kardinia Park', 'timestr': 'Full Time', 'complete': 100, 'is_final': 0, 'id': 37225, 'roundname': 'Round 17', 'unixtime': 1751696100, 'year': 2025, 'date': '2025-07-05 16:15:00', 'round': 17, 'is_grand_final': 0, 'hscore': 124, 'ascore': 52, 'hgoals': 18, 'agoals': 7, 'ateam': 'Richmond', 'hteam': 'Geelong', 'ateamid': 14, 'hteamid': 7, 'updated': '2025-07-05 18:55:32', 'winnerteamid': 7, 'localtime': '2025-07-05 16:15:00', 'abehinds': 10, 'hbehinds': 16}, {'ateamid': 13, 'hteamid': 2, 'ateam': 'Port Adelaide', 'hteam': 'Brisbane Lions', 'hgoals': 18, 'agoals': 14, 'hscore': 120, 'ascore': 92, 'is_grand_final': 0, 'round': 17, 'hbehinds': 12, 'abehinds': 8, 'localtime': '2025-07-05 19:35:00', 'winnerteamid': 2, 'updated': '2025-07-05 22:17:20', 'venue': 'Gabba', 'tz': '+10:00', 'winner': 'Brisbane Lions', 'date': '2025-07-05 19:35:00', 'unixtime': 1751708100, 'year': 2025, 'roundname': 'Round 17', 'is_final': 0, 'id': 37231, 'complete': 100, 'timestr': 'Full Time'}, {'updated': '2025-07-05 22:19:38', 'winnerteamid': 10, 'localtime': '2025-07-05 19:40:00', 'hbehinds': 14, 'abehinds': 10, 'round': 17, 'is_grand_final': 0, 'ascore': 94, 'hscore': 74, 'agoals': 14, 'hgoals': 10, 'hteam': 'St Kilda', 'ateam': 'Hawthorn', 'hteamid': 15, 'ateamid': 10, 'complete': 100, 'timestr': 'Full Time', 'id': 37226, 'is_final': 0, 'roundname': 'Round 17', 'year': 2025, 'unixtime': 1751708400, 'date': '2025-07-05 19:40:00', 'winner': 'Hawthorn', 'tz': '+10:00', 'venue': 'Docklands'}, {'winner': 'Sydney', 'tz': '+10:00', 'venue': 'S.C.G.', 'timestr': 'Full Time', 'complete': 100, 'id': 37230, 'is_final': 0, 'roundname': 'Round 17', 'date': '2025-07-06 13:10:00', 'year': 2025, 'unixtime': 1751771400, 'round': 17, 'ascore': 83, 'hscore': 94, 'is_grand_final': 0, 'hteam': 'Sydney', 'ateam': 'Fremantle', 'agoals': 12, 'hgoals': 14, 'ateamid': 6, 'hteamid': 16, 'updated': '2025-07-06 15:50:48', 'localtime': '2025-07-06 13:10:00', 'winnerteamid': 16, 'abehinds': 11, 'hbehinds': 10}, {'date': '2025-07-06 15:15:00', 'year': 2025, 'unixtime': 1751778900, 'roundname': 'Round 17', 'id': 37232, 'is_final': 0, 'timestr': 'Full Time', 'complete': 100, 'venue': 'Adelaide Oval', 'tz': '+10:00', 'winner': 'Adelaide', 'abehinds': 11, 'hbehinds': 12, 'localtime': '2025-07-06 14:45:00', 'winnerteamid': 1, 'updated': '2025-07-06 17:56:45', 'ateamid': 11, 'hteamid': 1, 'hteam': 'Adelaide', 'ateam': 'Melbourne', 'agoals': 11, 'hgoals': 13, 'hscore': 90, 'ascore': 77, 'is_grand_final': 0, 'round': 17}, {'ascore': 103, 'hscore': 66, 'is_grand_final': 0, 'round': 18, 'hteamid': 3, 'ateamid': 2, 'ateam': 'Brisbane Lions', 'hteam': 'Carlton', 'hgoals': 9, 'agoals': 15, 'winnerteamid': 2, 'localtime': '2025-07-10 19:30:00', 'updated': '2025-07-10 22:11:09', 'hbehinds': 12, 'abehinds': 13, 'tz': '+10:00', 'winner': 'Brisbane Lions', 'venue': 'Docklands', 'id': 37237, 'is_final': 0, 'complete': 100, 'timestr': 'Full Time', 'unixtime': 1752139800, 'year': 2025, 'date': '2025-07-10 19:30:00', 'roundname': 'Round 18'}, {'winner': 'Gold Coast', 'tz': '+10:00', 'venue': 'Carrara', 'timestr': 'Full Time', 'complete': 100, 'is_final': 0, 'id': 37240, 'roundname': 'Round 18', 'year': 2025, 'unixtime': 1752226800, 'date': '2025-07-11 19:40:00', 'round': 18, 'is_grand_final': 0, 'hscore': 69, 'ascore': 63, 'hgoals': 10, 'agoals': 8, 'hteam': 'Gold Coast', 'ateam': 'Collingwood', 'hteamid': 8, 'ateamid': 4, 'updated': '2025-07-11 22:19:38', 'winnerteamid': 8, 'localtime': '2025-07-11 19:40:00', 'hbehinds': 9, 'abehinds': 15}, {'ateam': 'Adelaide', 'hteam': 'Western Bulldogs', 'hgoals': 15, 'agoals': 16, 'hteamid': 18, 'ateamid': 1, 'round': 18, 'ascore': 109, 'hscore': 98, 'is_grand_final': 0, 'hbehinds': 8, 'abehinds': 13, 'updated': '2025-07-12 16:02:36', 'localtime': '2025-07-12 13:20:00', 'winnerteamid': 1, 'venue': 'Docklands', 'winner': 'Adelaide', 'tz': '+10:00', 'roundname': 'Round 18', 'date': '2025-07-12 13:20:00', 'unixtime': 1752290400, 'year': 2025, 'timestr': 'Full Time', 'complete': 100, 'is_final': 0, 'id': 37235}, {'abehinds': 7, 'hbehinds': 9, 'updated': '2025-07-12 18:56:38', 'localtime': '2025-07-12 16:15:00', 'winnerteamid': 9, 'ateam': 'Geelong', 'hteam': 'Greater Western Sydney', 'agoals': 13, 'hgoals': 17, 'ateamid': 7, 'hteamid': 9, 'round': 18, 'hscore': 111, 'ascore': 85, 'is_grand_final': 0, 'roundname': 'Round 18', 'date': '2025-07-12 16:15:00', 'unixtime': 1752300900, 'year': 2025, 'timestr': 'Full Time', 'complete': 100, 'is_final': 0, 'id': 37234, 'venue': 'Sydney Showground', 'winner': 'Greater Western Sydney', 'tz': '+10:00'}, {'ateamid': 5, 'hteamid': 14, 'hgoals': 6, 'agoals': 4, 'ateam': 'Essendon', 'hteam': 'Richmond', 'is_grand_final': 0, 'hscore': 46, 'ascore': 37, 'round': 18, 'hbehinds': 10, 'abehinds': 13, 'localtime': '2025-07-12 19:35:00', 'winnerteamid': 14, 'updated': '2025-07-12 22:03:19', 'venue': 'M.C.G.', 'tz': '+10:00', 'winner': 'Richmond', 'date': '2025-07-12 19:35:00', 'unixtime': 1752312900, 'year': 2025, 'roundname': 'Round 18', 'is_final': 0, 'id': 37239, 'complete': 100, 'timestr': 'Full Time'}, {'localtime': '2025-07-12 18:10:00', 'winnerteamid': 6, 'updated': '2025-07-12 22:52:54', 'hbehinds': 5, 'abehinds': 10, 'hscore': 77, 'ascore': 64, 'is_grand_final': 0, 'round': 18, 'hteamid': 6, 'ateamid': 10, 'hteam': 'Fremantle', 'ateam': 'Hawthorn', 'hgoals': 12, 'agoals': 9, 'id': 37242, 'is_final': 0, 'timestr': 'Full Time', 'complete': 100, 'date': '2025-07-12 20:10:00', 'year': 2025, 'unixtime': 1752315000, 'roundname': 'Round 18', 'tz': '+10:00', 'winner': 'Fremantle', 'venue': 'Perth Stadium'}, {'venue': 'M.C.G.', 'winner': 'Melbourne', 'tz': '+10:00', 'roundname': 'Round 18', 'unixtime': 1752376200, 'year': 2025, 'date': '2025-07-13 13:10:00', 'timestr': 'Full Time', 'complete': 100, 'is_final': 0, 'id': 37238, 'hgoals': 18, 'agoals': 12, 'hteam': 'Melbourne', 'ateam': 'North Melbourne', 'hteamid': 11, 'ateamid': 12, 'round': 18, 'is_grand_final': 0, 'hscore': 119, 'ascore': 83, 'hbehinds': 11, 'abehinds': 11, 'updated': '2025-07-13 15:59:39', 'winnerteamid': 11, 'localtime': '2025-07-13 13:10:00'}, {'ateam': 'Sydney', 'hteam': 'St Kilda', 'agoals': 14, 'hgoals': 13, 'hteamid': 15, 'ateamid': 16, 'round': 18, 'ascore': 92, 'hscore': 87, 'is_grand_final': 0, 'hbehinds': 9, 'abehinds': 8, 'updated': '2025-07-13 18:00:16', 'winnerteamid': 16, 'localtime': '2025-07-13 15:15:00', 'venue': 'Docklands', 'winner': 'Sydney', 'tz': '+10:00', 'roundname': 'Round 18', 'unixtime': 1752383700, 'year': 2025, 'date': '2025-07-13 15:15:00', 'complete': 100, 'timestr': 'Full Time', 'is_final': 0, 'id': 37236}, {'updated': '2025-07-13 19:20:27', 'localtime': '2025-07-13 16:10:00', 'winnerteamid': 13, 'hbehinds': 15, 'abehinds': 7, 'round': 18, 'is_grand_final': 0, 'ascore': 61, 'hscore': 87, 'hgoals': 12, 'agoals': 9, 'hteam': 'Port Adelaide', 'ateam': 'West Coast', 'ateamid': 17, 'hteamid': 13, 'timestr': 'Full Time', 'complete': 100, 'is_final': 0, 'id': 37241, 'roundname': 'Round 18', 'date': '2025-07-13 16:40:00', 'year': 2025, 'unixtime': 1752388800, 'winner': 'Port Adelaide', 'tz': '+10:00', 'venue': 'Adelaide Oval'}, {'venue': 'Docklands', 'winner': 'Greater Western Sydney', 'tz': '+10:00', 'roundname': 'Round 19', 'year': 2025, 'unixtime': 1752744600, 'date': '2025-07-17 19:30:00', 'complete': 100, 'timestr': 'Full Time', 'id': 37244, 'is_final': 0, 'agoals': 16, 'hgoals': 7, 'ateam': 'Greater Western Sydney', 'hteam': 'Essendon', 'ateamid': 9, 'hteamid': 5, 'round': 19, 'is_grand_final': 0, 'hscore': 56, 'ascore': 104, 'abehinds': 8, 'hbehinds': 14, 'updated': '2025-07-17 22:08:09', 'winnerteamid': 9, 'localtime': '2025-07-17 19:30:00'}, {'abehinds': 4, 'hbehinds': 14, 'updated': '2025-07-18 22:22:12', 'winnerteamid': 2, 'localtime': '2025-07-18 19:40:00', 'hgoals': 12, 'agoals': 12, 'hteam': 'Brisbane Lions', 'ateam': 'Western Bulldogs', 'hteamid': 2, 'ateamid': 18, 'round': 19, 'is_grand_final': 0, 'ascore': 76, 'hscore': 86, 'roundname': 'Round 19', 'year': 2025, 'unixtime': 1752831600, 'date': '2025-07-18 19:40:00', 'timestr': 'Full Time', 'complete': 100, 'id': 37248, 'is_final': 0, 'venue': 'Gabba', 'winner': 'Brisbane Lions', 'tz': '+10:00'}, {'ateamid': 13, 'hteamid': 10, 'agoals': 7, 'hgoals': 13, 'hteam': 'Hawthorn', 'ateam': 'Port Adelaide', 'is_grand_final': 0, 'ascore': 49, 'hscore': 87, 'round': 19, 'hbehinds': 9, 'abehinds': 7, 'localtime': '2025-07-19 13:20:00', 'winnerteamid': 10, 'updated': '2025-07-19 15:59:48', 'venue': 'York Park', 'tz': '+10:00', 'winner': 'Hawthorn', 'date': '2025-07-19 13:20:00', 'year': 2025, 'unixtime': 1752895200, 'roundname': 'Round 19', 'id': 37249, 'is_final': 0, 'timestr': 'Full Time', 'complete': 100}, {'venue': 'S.C.G.', 'winner': 'Sydney', 'tz': '+10:00', 'roundname': 'Round 19', 'date': '2025-07-19 16:15:00', 'unixtime': 1752905700, 'year': 2025, 'timestr': 'Full Time', 'complete': 100, 'id': 37247, 'is_final': 0, 'agoals': 7, 'hgoals': 12, 'ateam': 'North Melbourne', 'hteam': 'Sydney', 'ateamid': 12, 'hteamid': 16, 'round': 19, 'is_grand_final': 0, 'ascore': 53, 'hscore': 84, 'hbehinds': 12, 'abehinds': 11, 'updated': '2025-07-19 18:56:35', 'localtime': '2025-07-19 16:15:00', 'winnerteamid': 16}, {'hgoals': 12, 'agoals': 10, 'hteam': 'Carlton', 'ateam': 'Melbourne', 'hteamid': 3, 'ateamid': 11, 'round': 19, 'is_grand_final': 0, 'ascore': 70, 'hscore': 78, 'hbehinds': 6, 'abehinds': 10, 'updated': '2025-07-19 22:14:12', 'localtime': '2025-07-19 19:35:00', 'winnerteamid': 3, 'venue': 'M.C.G.', 'winner': 'Carlton', 'tz': '+10:00', 'roundname': 'Round 19', 'date': '2025-07-19 19:35:00', 'year': 2025, 'unixtime': 1752917700, 'timestr': 'Full Time', 'complete': 100, 'id': 37245, 'is_final': 0}, {'roundname': 'Round 19', 'date': '2025-07-19 20:10:00', 'unixtime': 1752919800, 'year': 2025, 'timestr': 'Full Time', 'complete': 100, 'id': 37251, 'is_final': 0, 'venue': 'Perth Stadium', 'winner': 'Richmond', 'tz': '+10:00', 'abehinds': 9, 'hbehinds': 8, 'updated': '2025-07-19 22:46:07', 'localtime': '2025-07-19 18:10:00', 'winnerteamid': 14, 'agoals': 16, 'hgoals': 8, 'hteam': 'West Coast', 'ateam': 'Richmond', 'hteamid': 17, 'ateamid': 14, 'round': 19, 'is_grand_final': 0, 'ascore': 105, 'hscore': 56}, {'hbehinds': 11, 'abehinds': 10, 'updated': '2025-07-20 15:57:50', 'winnerteamid': 7, 'localtime': '2025-07-20 13:10:00', 'agoals': 12, 'hgoals': 17, 'ateam': 'St Kilda', 'hteam': 'Geelong', 'ateamid': 15, 'hteamid': 7, 'round': 19, 'is_grand_final': 0, 'hscore': 113, 'ascore': 82, 'roundname': 'Round 19', 'year': 2025, 'unixtime': 1752981000, 'date': '2025-07-20 13:10:00', 'timestr': 'Full Time', 'complete': 100, 'id': 37243, 'is_final': 0, 'venue': 'Kardinia Park', 'winner': 'Geelong', 'tz': '+10:00'}, {'venue': 'M.C.G.', 'tz': '+10:00', 'winner': 'Fremantle', 'year': 2025, 'unixtime': 1752988500, 'date': '2025-07-20 15:15:00', 'roundname': 'Round 19', 'is_final': 0, 'id': 37246, 'complete': 100, 'timestr': 'Full Time', 'hteamid': 4, 'ateamid': 6, 'hgoals': 11, 'agoals': 12, 'ateam': 'Fremantle', 'hteam': 'Collingwood', 'is_grand_final': 0, 'ascore': 79, 'hscore': 78, 'round': 19, 'abehinds': 7, 'hbehinds': 12, 'winnerteamid': 6, 'localtime': '2025-07-20 15:15:00', 'updated': '2025-07-20 17:57:06'}, {'hbehinds': 11, 'abehinds': 10, 'updated': '2025-07-20 19:22:57', 'localtime': '2025-07-20 16:10:00', 'winnerteamid': 1, 'ateam': 'Gold Coast', 'hteam': 'Adelaide', 'agoals': 6, 'hgoals': 16, 'ateamid': 8, 'hteamid': 1, 'round': 19, 'hscore': 107, 'ascore': 46, 'is_grand_final': 0, 'roundname': 'Round 19', 'date': '2025-07-20 16:40:00', 'year': 2025, 'unixtime': 1752993600, 'complete': 100, 'timestr': 'Full Time', 'id': 37250, 'is_final': 0, 'venue': 'Adelaide Oval', 'winner': 'Adelaide', 'tz': '+10:00'}, {'winner': 'Hawthorn', 'tz': '+10:00', 'venue': 'M.C.G.', 'timestr': 'Full Time', 'complete': 100, 'id': 37257, 'is_final': 0, 'roundname': 'Round 20', 'date': '2025-07-24 19:30:00', 'unixtime': 1753349400, 'year': 2025, 'round': 20, 'hscore': 85, 'ascore': 61, 'is_grand_final': 0, 'hteam': 'Hawthorn', 'ateam': 'Carlton', 'agoals': 9, 'hgoals': 13, 'hteamid': 10, 'ateamid': 3, 'updated': '2025-07-24 22:07:19', 'localtime': '2025-07-24 19:30:00', 'winnerteamid': 10, 'abehinds': 7, 'hbehinds': 7}, {'hgoals': 7, 'agoals': 22, 'hteam': 'Essendon', 'ateam': 'Western Bulldogs', 'ateamid': 18, 'hteamid': 5, 'round': 20, 'is_grand_final': 0, 'hscore': 50, 'ascore': 143, 'abehinds': 11, 'hbehinds': 8, 'updated': '2025-07-25 21:58:37', 'localtime': '2025-07-25 19:20:00', 'winnerteamid': 18, 'venue': 'Docklands', 'winner': 'Western Bulldogs', 'tz': '+10:00', 'roundname': 'Round 20', 'date': '2025-07-25 19:20:00', 'year': 2025, 'unixtime': 1753435200, 'complete': 100, 'timestr': 'Full Time', 'id': 37255, 'is_final': 0}, {'hgoals': 15, 'agoals': 8, 'ateam': 'Sydney', 'hteam': 'Greater Western Sydney', 'hteamid': 9, 'ateamid': 16, 'round': 20, 'is_grand_final': 0, 'ascore': 58, 'hscore': 102, 'abehinds': 10, 'hbehinds': 12, 'updated': '2025-07-25 22:33:27', 'localtime': '2025-07-25 19:50:00', 'winnerteamid': 9, 'venue': 'Sydney Showground', 'winner': 'Greater Western Sydney', 'tz': '+10:00', 'roundname': 'Round 20', 'date': '2025-07-25 19:50:00', 'year': 2025, 'unixtime': 1753437000, 'timestr': 'Full Time', 'complete': 100, 'id': 37252, 'is_final': 0}, {'ateamid': 2, 'hteamid': 8, 'hteam': 'Gold Coast', 'ateam': 'Brisbane Lions', 'hgoals': 20, 'agoals': 9, 'hscore': 130, 'ascore': 64, 'is_grand_final': 0, 'round': 20, 'abehinds': 10, 'hbehinds': 10, 'localtime': '2025-07-26 13:20:00', 'winnerteamid': 8, 'updated': '2025-07-26 16:05:12', 'venue': 'Carrara', 'tz': '+10:00', 'winner': 'Gold Coast', 'date': '2025-07-26 13:20:00', 'unixtime': 1753500000, 'year': 2025, 'roundname': 'Round 20', 'id': 37258, 'is_final': 0, 'timestr': 'Full Time', 'complete': 100}, {'venue': 'Perth Stadium', 'tz': '+10:00', 'winner': 'Fremantle', 'unixtime': 1753510500, 'year': 2025, 'date': '2025-07-26 16:15:00', 'roundname': 'Round 20', 'is_final': 0, 'id': 37260, 'complete': 100, 'timestr': 'Full Time', 'hteamid': 6, 'ateamid': 17, 'hteam': 'Fremantle', 'ateam': 'West Coast', 'hgoals': 18, 'agoals': 12, 'hscore': 126, 'ascore': 77, 'is_grand_final': 0, 'round': 20, 'abehinds': 5, 'hbehinds': 18, 'winnerteamid': 6, 'localtime': '2025-07-26 14:15:00', 'updated': '2025-07-26 18:58:07'}, {'tz': '+10:00', 'winner': 'Geelong', 'venue': 'Docklands', 'id': 37253, 'is_final': 0, 'timestr': 'Full Time', 'complete': 100, 'date': '2025-07-26 19:35:00', 'year': 2025, 'unixtime': 1753522500, 'roundname': 'Round 20', 'hscore': 49, 'ascore': 150, 'is_grand_final': 0, 'round': 20, 'hteamid': 12, 'ateamid': 7, 'ateam': 'Geelong', 'hteam': 'North Melbourne', 'agoals': 22, 'hgoals': 7, 'localtime': '2025-07-26 19:35:00', 'winnerteamid': 7, 'updated': '2025-07-26 22:21:43', 'hbehinds': 7, 'abehinds': 18}, {'is_final': 0, 'id': 37259, 'complete': 100, 'timestr': 'Full Time', 'year': 2025, 'unixtime': 1753524600, 'date': '2025-07-26 20:10:00', 'roundname': 'Round 20', 'tz': '+10:00', 'winner': 'Adelaide', 'venue': 'Adelaide Oval', 'winnerteamid': 1, 'localtime': '2025-07-26 19:40:00', 'updated': '2025-07-26 22:55:27', 'hbehinds': 13, 'abehinds': 5, 'ascore': 35, 'hscore': 133, 'is_grand_final': 0, 'round': 20, 'ateamid': 13, 'hteamid': 1, 'ateam': 'Port Adelaide', 'hteam': 'Adelaide', 'agoals': 5, 'hgoals': 20}, {'updated': '2025-07-27 16:41:26', 'winnerteamid': 4, 'localtime': '2025-07-27 14:10:00', 'hbehinds': 9, 'abehinds': 15, 'round': 20, 'is_grand_final': 0, 'hscore': 57, 'ascore': 93, 'agoals': 13, 'hgoals': 8, 'ateam': 'Collingwood', 'hteam': 'Richmond', 'hteamid': 14, 'ateamid': 4, 'timestr': 'Full Time', 'complete': 100, 'id': 37256, 'is_final': 0, 'roundname': 'Round 20', 'unixtime': 1753589400, 'year': 2025, 'date': '2025-07-27 14:10:00', 'winner': 'Collingwood', 'tz': '+10:00', 'venue': 'M.C.G.'}, {'ateamid': 11, 'hteamid': 15, 'hteam': 'St Kilda', 'ateam': 'Melbourne', 'agoals': 13, 'hgoals': 15, 'hscore': 96, 'ascore': 90, 'is_grand_final': 0, 'round': 20, 'abehinds': 12, 'hbehinds': 6, 'winnerteamid': 15, 'localtime': '2025-07-27 15:15:00', 'updated': '2025-07-27 17:56:33', 'venue': 'Docklands', 'tz': '+10:00', 'winner': 'St Kilda', 'year': 2025, 'unixtime': 1753593300, 'date': '2025-07-27 15:15:00', 'roundname': 'Round 20', 'is_final': 0, 'id': 37254, 'complete': 100, 'timestr': 'Full Time'}, {'is_grand_final': 0, 'hscore': 132, 'ascore': 44, 'round': 21, 'hteamid': 18, 'ateamid': 9, 'agoals': 6, 'hgoals': 19, 'hteam': 'Western Bulldogs', 'ateam': 'Greater Western Sydney', 'localtime': '2025-07-31 19:30:00', 'winnerteamid': 18, 'updated': '2025-07-31 22:08:46', 'abehinds': 8, 'hbehinds': 18, 'tz': '+10:00', 'winner': 'Western Bulldogs', 'venue': 'Docklands', 'is_final': 0, 'id': 37264, 'complete': 100, 'timestr': 'Full Time', 'date': '2025-07-31 19:30:00', 'unixtime': 1753954200, 'year': 2025, 'roundname': 'Round 21'}, {'hbehinds': 11, 'abehinds': 9, 'updated': '2025-08-01 22:26:35', 'localtime': '2025-08-01 19:10:00', 'winnerteamid': 1, 'hgoals': 15, 'agoals': 13, 'hteam': 'Adelaide', 'ateam': 'Hawthorn', 'ateamid': 10, 'hteamid': 1, 'round': 21, 'is_grand_final': 0, 'hscore': 101, 'ascore': 87, 'roundname': 'Round 21', 'date': '2025-08-01 19:40:00', 'unixtime': 1754041200, 'year': 2025, 'timestr': 'Full Time', 'complete': 100, 'id': 37268, 'is_final': 0, 'venue': 'Adelaide Oval', 'winner': 'Adelaide', 'tz': '+10:00'}, {'complete': 100, 'timestr': 'Full Time', 'id': 37263, 'is_final': 0, 'roundname': 'Round 21', 'date': '2025-08-02 13:20:00', 'year': 2025, 'unixtime': 1754104800, 'winner': 'Melbourne', 'tz': '+10:00', 'venue': 'Docklands', 'updated': '2025-08-02 16:05:53', 'localtime': '2025-08-02 13:20:00', 'winnerteamid': 11, 'hbehinds': 13, 'abehinds': 8, 'round': 21, 'hscore': 139, 'ascore': 56, 'is_grand_final': 0, 'hteam': 'Melbourne', 'ateam': 'West Coast', 'hgoals': 21, 'agoals': 8, 'ateamid': 17, 'hteamid': 11}, {'localtime': '2025-08-02 16:10:00', 'winnerteamid': 8, 'updated': '2025-08-02 18:40:52', 'hbehinds': 11, 'abehinds': 11, 'is_grand_final': 0, 'hscore': 107, 'ascore': 23, 'round': 21, 'hteamid': 8, 'ateamid': 14, 'agoals': 2, 'hgoals': 16, 'ateam': 'Richmond', 'hteam': 'Gold Coast', 'id': 37266, 'is_final': 0, 'timestr': 'Full Time', 'complete': 100, 'date': '2025-08-02 16:10:00', 'unixtime': 1754115000, 'year': 2025, 'roundname': 'Round 21', 'tz': '+10:00', 'winner': 'Gold Coast', 'venue': 'Carrara'}, {'hscore': 68, 'ascore': 54, 'is_grand_final': 0, 'round': 21, 'hteamid': 16, 'ateamid': 5, 'ateam': 'Essendon', 'hteam': 'Sydney', 'hgoals': 9, 'agoals': 7, 'localtime': '2025-08-02 16:15:00', 'winnerteamid': 16, 'updated': '2025-08-02 18:50:26', 'abehinds': 12, 'hbehinds': 14, 'tz': '+10:00', 'winner': 'Sydney', 'venue': 'S.C.G.', 'id': 37267, 'is_final': 0, 'complete': 100, 'timestr': 'Full Time', 'date': '2025-08-02 16:15:00', 'year': 2025, 'unixtime': 1754115300, 'roundname': 'Round 21'}, {'winnerteamid': 2, 'localtime': '2025-08-02 19:35:00', 'updated': '2025-08-02 22:15:39', 'abehinds': 8, 'hbehinds': 5, 'is_grand_final': 0, 'ascore': 92, 'hscore': 65, 'round': 21, 'hteamid': 4, 'ateamid': 2, 'agoals': 14, 'hgoals': 10, 'hteam': 'Collingwood', 'ateam': 'Brisbane Lions', 'id': 37265, 'is_final': 0, 'timestr': 'Full Time', 'complete': 100, 'year': 2025, 'unixtime': 1754127300, 'date': '2025-08-02 19:35:00', 'roundname': 'Round 21', 'tz': '+10:00', 'winner': 'Brisbane Lions', 'venue': 'M.C.G.'}, {'round': 21, 'hscore': 78, 'ascore': 69, 'is_grand_final': 0, 'ateam': 'North Melbourne', 'hteam': 'St Kilda', 'agoals': 10, 'hgoals': 11, 'ateamid': 12, 'hteamid': 15, 'updated': '2025-08-03 16:15:42', 'localtime': '2025-08-03 13:40:00', 'winnerteamid': 15, 'abehinds': 9, 'hbehinds': 12, 'winner': 'St Kilda', 'tz': '+10:00', 'venue': 'Docklands', 'complete': 100, 'timestr': 'Full Time', 'is_final': 0, 'id': 37262, 'roundname': 'Round 21', 'date': '2025-08-03 13:40:00', 'unixtime': 1754192400, 'year': 2025}, {'winnerteamid': 7, 'localtime': '2025-08-03 15:15:00', 'updated': '2025-08-03 17:56:57', 'hbehinds': 15, 'abehinds': 11, 'is_grand_final': 0, 'hscore': 153, 'ascore': 65, 'round': 21, 'ateamid': 13, 'hteamid': 7, 'agoals': 9, 'hgoals': 23, 'ateam': 'Port Adelaide', 'hteam': 'Geelong', 'id': 37261, 'is_final': 0, 'timestr': 'Full Time', 'complete': 100, 'year': 2025, 'unixtime': 1754198100, 'date': '2025-08-03 15:15:00', 'roundname': 'Round 21', 'tz': '+10:00', 'winner': 'Geelong', 'venue': 'Kardinia Park'}, {'venue': 'Perth Stadium', 'tz': '+10:00', 'winner': 'Fremantle', 'date': '2025-08-03 17:10:00', 'unixtime': 1754205000, 'year': 2025, 'roundname': 'Round 21', 'is_final': 0, 'id': 37269, 'timestr': 'Full Time', 'complete': 100, 'ateamid': 3, 'hteamid': 6, 'hteam': 'Fremantle', 'ateam': 'Carlton', 'agoals': 10, 'hgoals': 15, 'hscore': 94, 'ascore': 67, 'is_grand_final': 0, 'round': 21, 'abehinds': 7, 'hbehinds': 4, 'localtime': '2025-08-03 15:10:00', 'winnerteamid': 6, 'updated': '2025-08-03 19:55:35'}, {'round': 22, 'is_grand_final': 0, 'hscore': 110, 'ascore': 46, 'agoals': 6, 'hgoals': 17, 'hteam': 'Hawthorn', 'ateam': 'Collingwood', 'ateamid': 4, 'hteamid': 10, 'updated': '2025-08-07 22:09:43', 'winnerteamid': 10, 'localtime': '2025-08-07 19:30:00', 'abehinds': 10, 'hbehinds': 8, 'winner': 'Hawthorn', 'tz': '+10:00', 'venue': 'M.C.G.', 'complete': 100, 'timestr': 'Full Time', 'is_final': 0, 'id': 37275, 'roundname': 'Round 22', 'year': 2025, 'unixtime': 1754559000, 'date': '2025-08-07 19:30:00'}, {'round': 22, 'hscore': 109, 'ascore': 65, 'is_grand_final': 0, 'hteam': 'Geelong', 'ateam': 'Essendon', 'hgoals': 15, 'agoals': 10, 'hteamid': 7, 'ateamid': 5, 'updated': '2025-08-08 22:19:58', 'winnerteamid': 7, 'localtime': '2025-08-08 19:40:00', 'abehinds': 5, 'hbehinds': 19, 'winner': 'Geelong', 'tz': '+10:00', 'venue': 'Kardinia Park', 'complete': 100, 'timestr': 'Full Time', 'id': 37270, 'is_final': 0, 'roundname': 'Round 22', 'unixtime': 1754646000, 'year': 2025, 'date': '2025-08-08 19:40:00'}, {'winner': 'St Kilda', 'tz': '+10:00', 'venue': 'M.C.G.', 'complete': 100, 'timestr': 'Full Time', 'id': 37273, 'is_final': 0, 'roundname': 'Round 22', 'unixtime': 1754709600, 'year': 2025, 'date': '2025-08-09 13:20:00', 'round': 22, 'ascore': 56, 'hscore': 52, 'is_grand_final': 0, 'ateam': 'St Kilda', 'hteam': 'Richmond', 'hgoals': 7, 'agoals': 8, 'hteamid': 14, 'ateamid': 15, 'updated': '2025-08-09 15:49:49', 'winnerteamid': 15, 'localtime': '2025-08-09 13:20:00', 'abehinds': 8, 'hbehinds': 10}, {'id': 37276, 'is_final': 0, 'timestr': 'Full Time', 'complete': 100, 'date': '2025-08-09 16:15:00', 'year': 2025, 'unixtime': 1754720100, 'roundname': 'Round 22', 'tz': '+10:00', 'winner': 'Sydney', 'venue': 'Gabba', 'localtime': '2025-08-09 16:15:00', 'winnerteamid': 16, 'updated': '2025-08-09 18:52:35', 'abehinds': 14, 'hbehinds': 12, 'is_grand_final': 0, 'hscore': 90, 'ascore': 92, 'round': 22, 'ateamid': 16, 'hteamid': 2, 'hgoals': 13, 'agoals': 13, 'hteam': 'Brisbane Lions', 'ateam': 'Sydney'}, {'venue': 'Docklands', 'tz': '+10:00', 'winner': 'Gold Coast', 'date': '2025-08-09 19:35:00', 'year': 2025, 'unixtime': 1754732100, 'roundname': 'Round 22', 'is_final': 0, 'id': 37272, 'timestr': 'Full Time', 'complete': 100, 'ateamid': 8, 'hteamid': 3, 'hteam': 'Carlton', 'ateam': 'Gold Coast', 'agoals': 13, 'hgoals': 11, 'hscore': 74, 'ascore': 93, 'is_grand_final': 0, 'round': 22, 'abehinds': 15, 'hbehinds': 8, 'localtime': '2025-08-09 19:35:00', 'winnerteamid': 8, 'updated': '2025-08-09 22:12:26'}, {'hbehinds': 8, 'abehinds': 14, 'updated': '2025-08-09 22:51:20', 'localtime': '2025-08-09 19:40:00', 'winnerteamid': 6, 'ateam': 'Fremantle', 'hteam': 'Port Adelaide', 'hgoals': 13, 'agoals': 13, 'ateamid': 6, 'hteamid': 13, 'round': 22, 'ascore': 92, 'hscore': 86, 'is_grand_final': 0, 'roundname': 'Round 22', 'date': '2025-08-09 20:10:00', 'unixtime': 1754734200, 'year': 2025, 'complete': 100, 'timestr': 'Full Time', 'id': 37277, 'is_final': 0, 'venue': 'Adelaide Oval', 'winner': 'Fremantle', 'tz': '+10:00'}, {'venue': 'Manuka Oval', 'tz': '+10:00', 'winner': 'Greater Western Sydney', 'unixtime': 1754797200, 'year': 2025, 'date': '2025-08-10 13:40:00', 'roundname': 'Round 22', 'id': 37271, 'is_final': 0, 'complete': 100, 'timestr': 'Full Time', 'hteamid': 9, 'ateamid': 12, 'hgoals': 20, 'agoals': 12, 'hteam': 'Greater Western Sydney', 'ateam': 'North Melbourne', 'is_grand_final': 0, 'hscore': 133, 'ascore': 79, 'round': 22, 'abehinds': 7, 'hbehinds': 13, 'winnerteamid': 9, 'localtime': '2025-08-10 13:40:00', 'updated': '2025-08-10 16:27:47'}, {'id': 37274, 'is_final': 0, 'complete': 100, 'timestr': 'Full Time', 'year': 2025, 'unixtime': 1754802900, 'date': '2025-08-10 15:15:00', 'roundname': 'Round 22', 'tz': '+10:00', 'winner': 'Western Bulldogs', 'venue': 'M.C.G.', 'winnerteamid': 18, 'localtime': '2025-08-10 15:15:00', 'updated': '2025-08-10 17:56:52', 'hbehinds': 9, 'abehinds': 15, 'ascore': 105, 'hscore': 99, 'is_grand_final': 0, 'round': 22, 'hteamid': 11, 'ateamid': 18, 'ateam': 'Western Bulldogs', 'hteam': 'Melbourne', 'hgoals': 15, 'agoals': 15}, {'venue': 'Perth Stadium', 'winner': 'Adelaide', 'tz': '+10:00', 'roundname': 'Round 22', 'date': '2025-08-10 17:10:00', 'year': 2025, 'unixtime': 1754809800, 'complete': 100, 'timestr': 'Full Time', 'is_final': 0, 'id': 37278, 'ateam': 'Adelaide', 'hteam': 'West Coast', 'agoals': 13, 'hgoals': 12, 'hteamid': 17, 'ateamid': 1, 'round': 22, 'hscore': 78, 'ascore': 87, 'is_grand_final': 0, 'hbehinds': 6, 'abehinds': 9, 'updated': '2025-08-10 19:48:22', 'localtime': '2025-08-10 15:10:00', 'winnerteamid': 1}, {'id': 37280, 'is_final': 0, 'timestr': 'Full Time', 'complete': 100, 'date': '2025-08-15 19:20:00', 'unixtime': 1755249600, 'year': 2025, 'roundname': 'Round 23', 'tz': '+10:00', 'winner': 'St Kilda', 'venue': 'Docklands', 'localtime': '2025-08-15 19:20:00', 'winnerteamid': 15, 'updated': '2025-08-15 21:59:00', 'abehinds': 11, 'hbehinds': 9, 'hscore': 75, 'ascore': 77, 'is_grand_final': 0, 'round': 23, 'hteamid': 5, 'ateamid': 15, 'hteam': 'Essendon', 'ateam': 'St Kilda', 'hgoals': 11, 'agoals': 11}, {'timestr': 'Full Time', 'complete': 100, 'is_final': 0, 'id': 37287, 'roundname': 'Round 23', 'date': '2025-08-15 20:20:00', 'year': 2025, 'unixtime': 1755253200, 'winner': 'Brisbane Lions', 'tz': '+10:00', 'venue': 'Perth Stadium', 'updated': '2025-08-15 23:04:53', 'localtime': '2025-08-15 18:20:00', 'winnerteamid': 2, 'hbehinds': 14, 'abehinds': 11, 'round': 23, 'hscore': 44, 'ascore': 101, 'is_grand_final': 0, 'ateam': 'Brisbane Lions', 'hteam': 'Fremantle', 'hgoals': 5, 'agoals': 15, 'hteamid': 6, 'ateamid': 2}, {'complete': 100, 'timestr': 'Full Time', 'is_final': 0, 'id': 37284, 'roundname': 'Round 23', 'date': '2025-08-16 12:35:00', 'unixtime': 1755311700, 'year': 2025, 'winner': 'Greater Western Sydney', 'tz': '+10:00', 'venue': 'Carrara', 'updated': '2025-08-16 15:14:01', 'localtime': '2025-08-16 12:35:00', 'winnerteamid': 9, 'abehinds': 9, 'hbehinds': 10, 'round': 23, 'hscore': 76, 'ascore': 111, 'is_grand_final': 0, 'ateam': 'Greater Western Sydney', 'hteam': 'Gold Coast', 'hgoals': 11, 'agoals': 17, 'ateamid': 9, 'hteamid': 8}, {'abehinds': 10, 'hbehinds': 10, 'winnerteamid': 3, 'localtime': '2025-08-16 13:20:00', 'updated': '2025-08-16 15:58:13', 'ateamid': 13, 'hteamid': 3, 'hteam': 'Carlton', 'ateam': 'Port Adelaide', 'agoals': 9, 'hgoals': 18, 'ascore': 64, 'hscore': 118, 'is_grand_final': 0, 'round': 23, 'unixtime': 1755314400, 'year': 2025, 'date': '2025-08-16 13:20:00', 'roundname': 'Round 23', 'is_final': 0, 'id': 37282, 'complete': 100, 'timestr': 'Full Time', 'venue': 'Docklands', 'tz': '+10:00', 'winner': 'Carlton'}, {'updated': '2025-08-16 18:49:22', 'winnerteamid': 10, 'localtime': '2025-08-16 16:15:00', 'hbehinds': 14, 'abehinds': 8, 'round': 23, 'ascore': 56, 'hscore': 92, 'is_grand_final': 0, 'hteam': 'Hawthorn', 'ateam': 'Melbourne', 'hgoals': 13, 'agoals': 8, 'ateamid': 11, 'hteamid': 10, 'timestr': 'Full Time', 'complete': 100, 'is_final': 0, 'id': 37283, 'roundname': 'Round 23', 'year': 2025, 'unixtime': 1755324900, 'date': '2025-08-16 16:15:00', 'winner': 'Hawthorn', 'tz': '+10:00', 'venue': 'M.C.G.'}, {'round': 23, 'ascore': 56, 'hscore': 59, 'is_grand_final': 0, 'ateam': 'Collingwood', 'hteam': 'Adelaide', 'agoals': 8, 'hgoals': 9, 'ateamid': 4, 'hteamid': 1, 'updated': '2025-08-16 22:16:19', 'winnerteamid': 1, 'localtime': '2025-08-16 19:05:00', 'abehinds': 8, 'hbehinds': 5, 'winner': 'Adelaide', 'tz': '+10:00', 'venue': 'Adelaide Oval', 'complete': 100, 'timestr': 'Full Time', 'is_final': 0, 'id': 37286, 'roundname': 'Round 23', 'unixtime': 1755336900, 'year': 2025, 'date': '2025-08-16 19:35:00'}, {'timestr': 'Full Time', 'complete': 100, 'is_final': 0, 'id': 37279, 'roundname': 'Round 23', 'year': 2025, 'unixtime': 1755400200, 'date': '2025-08-17 13:10:00', 'winner': 'North Melbourne', 'tz': '+10:00', 'venue': 'Bellerive Oval', 'updated': '2025-08-17 16:02:48', 'winnerteamid': 12, 'localtime': '2025-08-17 13:10:00', 'abehinds': 9, 'hbehinds': 15, 'round': 23, 'hscore': 135, 'ascore': 87, 'is_grand_final': 0, 'hteam': 'North Melbourne', 'ateam': 'Richmond', 'hgoals': 20, 'agoals': 13, 'ateamid': 14, 'hteamid': 12}, {'roundname': 'Round 23', 'date': '2025-08-17 15:15:00', 'year': 2025, 'unixtime': 1755407700, 'timestr': 'Full Time', 'complete': 100, 'is_final': 0, 'id': 37285, 'venue': 'S.C.G.', 'winner': 'Geelong', 'tz': '+10:00', 'hbehinds': 8, 'abehinds': 15, 'updated': '2025-08-17 17:56:21', 'localtime': '2025-08-17 15:15:00', 'winnerteamid': 7, 'ateam': 'Geelong', 'hteam': 'Sydney', 'hgoals': 10, 'agoals': 16, 'ateamid': 7, 'hteamid': 16, 'round': 23, 'hscore': 68, 'ascore': 111, 'is_grand_final': 0}, {'venue': 'Docklands', 'tz': '+10:00', 'winner': 'Western Bulldogs', 'unixtime': 1755412800, 'year': 2025, 'date': '2025-08-17 16:40:00', 'roundname': 'Round 23', 'is_final': 0, 'id': 37281, 'timestr': 'Full Time', 'complete': 100, 'hteamid': 18, 'ateamid': 17, 'agoals': 4, 'hgoals': 19, 'hteam': 'Western Bulldogs', 'ateam': 'West Coast', 'is_grand_final': 0, 'ascore': 32, 'hscore': 126, 'round': 23, 'hbehinds': 12, 'abehinds': 8, 'winnerteamid': 18, 'localtime': '2025-08-17 16:40:00', 'updated': '2025-08-17 19:15:20'}, {'venue': 'M.C.G.', 'winner': 'Carlton', 'tz': '+10:00', 'roundname': 'Round 24', 'date': '2025-08-21 19:30:00', 'unixtime': 1755768600, 'year': 2025, 'complete': 100, 'timestr': 'Full Time', 'is_final': 0, 'id': 37293, 'ateam': 'Carlton', 'hteam': 'Essendon', 'hgoals': 8, 'agoals': 13, 'ateamid': 3, 'hteamid': 5, 'round': 24, 'hscore': 56, 'ascore': 90, 'is_grand_final': 0, 'hbehinds': 8, 'abehinds': 12, 'updated': '2025-08-21 22:03:24', 'localtime': '2025-08-21 19:30:00', 'winnerteamid': 3}, {'ateamid': 11, 'hteamid': 4, 'hteam': 'Collingwood', 'ateam': 'Melbourne', 'hgoals': 11, 'agoals': 11, 'hscore': 82, 'ascore': 76, 'is_grand_final': 0, 'round': 24, 'hbehinds': 16, 'abehinds': 10, 'winnerteamid': 4, 'localtime': '2025-08-22 19:10:00', 'updated': '2025-08-22 21:46:43', 'venue': 'M.C.G.', 'tz': '+10:00', 'winner': 'Collingwood', 'year': 2025, 'unixtime': 1755853800, 'date': '2025-08-22 19:10:00', 'roundname': 'Round 24', 'id': 37291, 'is_final': 0, 'timestr': 'Full Time', 'complete': 100}, {'hbehinds': 11, 'abehinds': 13, 'winnerteamid': 13, 'localtime': '2025-08-22 19:40:00', 'updated': '2025-08-22 22:48:09', 'ateamid': 8, 'hteamid': 13, 'ateam': 'Gold Coast', 'hteam': 'Port Adelaide', 'hgoals': 10, 'agoals': 9, 'ascore': 67, 'hscore': 71, 'is_grand_final': 0, 'round': 24, 'year': 2025, 'unixtime': 1755857400, 'date': '2025-08-22 20:10:00', 'roundname': 'Round 24', 'is_final': 0, 'id': 37295, 'timestr': 'Full Time', 'complete': 100, 'venue': 'Adelaide Oval', 'tz': '+10:00', 'winner': 'Port Adelaide'}, {'hteam': 'North Melbourne', 'ateam': 'Adelaide', 'agoals': 17, 'hgoals': 15, 'hteamid': 12, 'ateamid': 1, 'round': 24, 'ascore': 113, 'hscore': 100, 'is_grand_final': 0, 'abehinds': 11, 'hbehinds': 10, 'updated': '2025-08-23 16:05:34', 'localtime': '2025-08-23 13:20:00', 'winnerteamid': 1, 'venue': 'Docklands', 'winner': 'Adelaide', 'tz': '+10:00', 'roundname': 'Round 24', 'date': '2025-08-23 13:20:00', 'year': 2025, 'unixtime': 1755919200, 'complete': 100, 'timestr': 'Full Time', 'id': 37289, 'is_final': 0}, {'ateamid': 7, 'hteamid': 14, 'ateam': 'Geelong', 'hteam': 'Richmond', 'agoals': 14, 'hgoals': 9, 'ascore': 103, 'hscore': 64, 'is_grand_final': 0, 'round': 24, 'abehinds': 19, 'hbehinds': 10, 'localtime': '2025-08-23 16:15:00', 'winnerteamid': 7, 'updated': '2025-08-23 18:53:01', 'venue': 'M.C.G.', 'tz': '+10:00', 'winner': 'Geelong', 'date': '2025-08-23 16:15:00', 'year': 2025, 'unixtime': 1755929700, 'roundname': 'Round 24', 'id': 37292, 'is_final': 0, 'complete': 100, 'timestr': 'Full Time'}, {'round': 24, 'is_grand_final': 0, 'ascore': 118, 'hscore': 51, 'hgoals': 7, 'agoals': 18, 'hteam': 'West Coast', 'ateam': 'Sydney', 'hteamid': 17, 'ateamid': 16, 'updated': '2025-08-23 22:11:03', 'winnerteamid': 16, 'localtime': '2025-08-23 17:35:00', 'abehinds': 10, 'hbehinds': 9, 'winner': 'Sydney', 'tz': '+10:00', 'venue': 'Perth Stadium', 'complete': 100, 'timestr': 'Full Time', 'is_final': 0, 'id': 37296, 'roundname': 'Round 24', 'unixtime': 1755941700, 'year': 2025, 'date': '2025-08-23 19:35:00'}, {'venue': 'Sydney Showground', 'winner': 'Greater Western Sydney', 'tz': '+10:00', 'roundname': 'Round 24', 'date': '2025-08-24 12:20:00', 'year': 2025, 'unixtime': 1756002000, 'complete': 100, 'timestr': 'Full Time', 'is_final': 0, 'id': 37288, 'ateam': 'St Kilda', 'hteam': 'Greater Western Sydney', 'agoals': 14, 'hgoals': 15, 'ateamid': 15, 'hteamid': 9, 'round': 24, 'ascore': 93, 'hscore': 104, 'is_grand_final': 0, 'hbehinds': 14, 'abehinds': 9, 'updated': '2025-08-24 15:08:59', 'localtime': '2025-08-24 12:20:00', 'winnerteamid': 9}, {'complete': 100, 'timestr': 'Full Time', 'is_final': 0, 'id': 37290, 'roundname': 'Round 24', 'date': '2025-08-24 15:15:00', 'year': 2025, 'unixtime': 1756012500, 'winner': 'Fremantle', 'tz': '+10:00', 'venue': 'Docklands', 'updated': '2025-08-24 17:56:22', 'localtime': '2025-08-24 15:15:00', 'winnerteamid': 6, 'hbehinds': 13, 'abehinds': 10, 'round': 24, 'is_grand_final': 0, 'hscore': 97, 'ascore': 112, 'hgoals': 14, 'agoals': 17, 'ateam': 'Fremantle', 'hteam': 'Western Bulldogs', 'ateamid': 6, 'hteamid': 18}, {'id': 37294, 'is_final': 0, 'timestr': 'Full Time', 'complete': 100, 'unixtime': 1756027200, 'year': 2025, 'date': '2025-08-24 19:20:00', 'roundname': 'Round 24', 'tz': '+10:00', 'winner': 'Brisbane Lions', 'venue': 'Gabba', 'winnerteamid': 2, 'localtime': '2025-08-24 19:20:00', 'updated': '2025-08-24 21:59:08', 'abehinds': 13, 'hbehinds': 23, 'ascore': 79, 'hscore': 89, 'is_grand_final': 0, 'round': 24, 'ateamid': 10, 'hteamid': 2, 'hteam': 'Brisbane Lions', 'ateam': 'Hawthorn', 'agoals': 11, 'hgoals': 11}, {'hbehinds': 15, 'abehinds': 10, 'updated': '2025-08-27 21:57:53', 'localtime': '2025-08-27 19:20:00', 'winnerteamid': 8, 'agoals': 8, 'hgoals': 23, 'ateam': 'Essendon', 'hteam': 'Gold Coast', 'hteamid': 8, 'ateamid': 5, 'round': 24, 'is_grand_final': 0, 'hscore': 153, 'ascore': 58, 'roundname': 'Round 24', 'date': '2025-08-27 19:20:00', 'unixtime': 1756286400, 'year': 2025, 'complete': 100, 'timestr': 'Full Time', 'is_final': 0, 'id': 37092, 'venue': 'Carrara', 'winner': 'Gold Coast', 'tz': '+10:00'}, {'venue': 'Adelaide Oval', 'winner': 'Collingwood', 'tz': '+10:00', 'roundname': 'Finals Week 1', 'unixtime': 1756978800, 'year': 2025, 'date': '2025-09-04 19:40:00', 'complete': 100, 'timestr': 'Full Time', 'id': 37317, 'is_final': 3, 'ateam': 'Collingwood', 'hteam': 'Adelaide', 'hgoals': 8, 'agoals': 11, 'ateamid': 4, 'hteamid': 1, 'round': 25, 'ascore': 79, 'hscore': 55, 'is_grand_final': 0, 'hbehinds': 7, 'abehinds': 13, 'updated': '2025-09-04 22:18:12', 'winnerteamid': 4, 'localtime': '2025-09-04 19:10:00'}, {'roundname': 'Finals Week 1', 'year': 2025, 'unixtime': 1757065200, 'date': '2025-09-05 19:40:00', 'complete': 100, 'timestr': 'Full Time', 'id': 37318, 'is_final': 3, 'venue': 'M.C.G.', 'winner': 'Geelong', 'tz': '+10:00', 'hbehinds': 16, 'abehinds': 8, 'updated': '2025-09-05 22:21:41', 'winnerteamid': 7, 'localtime': '2025-09-05 19:40:00', 'hteam': 'Geelong', 'ateam': 'Brisbane Lions', 'hgoals': 16, 'agoals': 11, 'ateamid': 2, 'hteamid': 7, 'round': 25, 'hscore': 112, 'ascore': 74, 'is_grand_final': 0}, {'date': '2025-09-06 15:15:00', 'year': 2025, 'unixtime': 1757135700, 'roundname': 'Finals Week 1', 'is_final': 2, 'id': 37315, 'timestr': 'Full Time', 'complete': 100, 'venue': 'Sydney Showground', 'tz': '+10:00', 'winner': 'Hawthorn', 'hbehinds': 10, 'abehinds': 11, 'localtime': '2025-09-06 15:15:00', 'winnerteamid': 10, 'updated': '2025-09-06 18:13:54', 'hteamid': 9, 'ateamid': 10, 'agoals': 16, 'hgoals': 13, 'hteam': 'Greater Western Sydney', 'ateam': 'Hawthorn', 'is_grand_final': 0, 'hscore': 88, 'ascore': 107, 'round': 25}, {'localtime': '2025-09-06 17:35:00', 'winnerteamid': 8, 'updated': '2025-09-06 22:20:13', 'abehinds': 14, 'hbehinds': 7, 'is_grand_final': 0, 'ascore': 80, 'hscore': 79, 'round': 25, 'hteamid': 6, 'ateamid': 8, 'hgoals': 12, 'agoals': 11, 'hteam': 'Fremantle', 'ateam': 'Gold Coast', 'is_final': 2, 'id': 37316, 'timestr': 'Full Time', 'complete': 100, 'date': '2025-09-06 19:35:00', 'unixtime': 1757151300, 'year': 2025, 'roundname': 'Finals Week 1', 'tz': '+10:00', 'winner': 'Gold Coast', 'venue': 'Perth Stadium'}, {'winnerteamid': 10, 'localtime': '2025-09-12 19:10:00', 'updated': '2025-09-12 22:19:11', 'hbehinds': 7, 'abehinds': 17, 'hscore': 67, 'ascore': 101, 'is_grand_final': 0, 'round': 26, 'ateamid': 10, 'hteamid': 1, 'ateam': 'Hawthorn', 'hteam': 'Adelaide', 'agoals': 14, 'hgoals': 10, 'id': 37319, 'is_final': 4, 'timestr': 'Full Time', 'complete': 100, 'unixtime': 1757670000, 'year': 2025, 'date': '2025-09-12 19:40:00', 'roundname': 'Semi-Finals', 'tz': '+10:00', 'winner': 'Hawthorn', 'venue': 'Adelaide Oval'}, {'venue': 'Gabba', 'tz': '+10:00', 'winner': 'Brisbane Lions', 'date': '2025-09-13 19:35:00', 'unixtime': 1757756100, 'year': 2025, 'roundname': 'Semi-Finals', 'id': 37320, 'is_final': 4, 'timestr': 'Full Time', 'complete': 100, 'ateamid': 8, 'hteamid': 2, 'hgoals': 14, 'agoals': 6, 'hteam': 'Brisbane Lions', 'ateam': 'Gold Coast', 'is_grand_final': 0, 'hscore': 100, 'ascore': 47, 'round': 26, 'hbehinds': 16, 'abehinds': 11, 'localtime': '2025-09-13 19:35:00', 'winnerteamid': 2, 'updated': '2025-09-13 22:13:18'}]}\n"
     ]
    }
   ],
   "source": [
    "session = requests.Session()\n",
    "session.headers.update({\n",
    "    \"User-Agent\": \"AFL Results Bot v0.1 (contact: diego080495@gmail.com)\"\n",
    "})\n",
    "\n",
    "res = session.get(\"https://api.squiggle.com.au/?q=games;year=2025;complete=100\")\n",
    "print(res.json())"
   ]
  },
  {
   "cell_type": "code",
   "execution_count": null,
   "id": "637c2638",
   "metadata": {},
   "outputs": [
    {
     "data": {
      "text/html": [
       "<div>\n",
       "<style scoped>\n",
       "    .dataframe tbody tr th:only-of-type {\n",
       "        vertical-align: middle;\n",
       "    }\n",
       "\n",
       "    .dataframe tbody tr th {\n",
       "        vertical-align: top;\n",
       "    }\n",
       "\n",
       "    .dataframe thead th {\n",
       "        text-align: right;\n",
       "    }\n",
       "</style>\n",
       "<table border=\"1\" class=\"dataframe\">\n",
       "  <thead>\n",
       "    <tr style=\"text-align: right;\">\n",
       "      <th></th>\n",
       "      <th>season</th>\n",
       "      <th>round</th>\n",
       "      <th>date_utc</th>\n",
       "      <th>venue</th>\n",
       "      <th>home_team</th>\n",
       "      <th>away_team</th>\n",
       "      <th>home_goals</th>\n",
       "      <th>home_behinds</th>\n",
       "      <th>home_score</th>\n",
       "      <th>away_goals</th>\n",
       "      <th>away_behinds</th>\n",
       "      <th>away_score</th>\n",
       "      <th>winner_team</th>\n",
       "      <th>margin</th>\n",
       "      <th>is_final</th>\n",
       "      <th>is_grand_final</th>\n",
       "      <th>game_id</th>\n",
       "    </tr>\n",
       "  </thead>\n",
       "  <tbody>\n",
       "    <tr>\n",
       "      <th>0</th>\n",
       "      <td>2024</td>\n",
       "      <td>0</td>\n",
       "      <td>2024-03-07 19:30:00</td>\n",
       "      <td>S.C.G.</td>\n",
       "      <td>Sydney</td>\n",
       "      <td>Melbourne</td>\n",
       "      <td>12</td>\n",
       "      <td>14</td>\n",
       "      <td>86</td>\n",
       "      <td>9</td>\n",
       "      <td>10</td>\n",
       "      <td>64</td>\n",
       "      <td>Sydney</td>\n",
       "      <td>22</td>\n",
       "      <td>0</td>\n",
       "      <td>0</td>\n",
       "      <td>35700</td>\n",
       "    </tr>\n",
       "    <tr>\n",
       "      <th>1</th>\n",
       "      <td>2024</td>\n",
       "      <td>0</td>\n",
       "      <td>2024-03-08 19:40:00</td>\n",
       "      <td>Gabba</td>\n",
       "      <td>Brisbane Lions</td>\n",
       "      <td>Carlton</td>\n",
       "      <td>12</td>\n",
       "      <td>13</td>\n",
       "      <td>85</td>\n",
       "      <td>13</td>\n",
       "      <td>8</td>\n",
       "      <td>86</td>\n",
       "      <td>Carlton</td>\n",
       "      <td>-1</td>\n",
       "      <td>0</td>\n",
       "      <td>0</td>\n",
       "      <td>35701</td>\n",
       "    </tr>\n",
       "    <tr>\n",
       "      <th>2</th>\n",
       "      <td>2024</td>\n",
       "      <td>0</td>\n",
       "      <td>2024-03-09 16:20:00</td>\n",
       "      <td>Carrara</td>\n",
       "      <td>Gold Coast</td>\n",
       "      <td>Richmond</td>\n",
       "      <td>14</td>\n",
       "      <td>15</td>\n",
       "      <td>99</td>\n",
       "      <td>9</td>\n",
       "      <td>6</td>\n",
       "      <td>60</td>\n",
       "      <td>Gold Coast</td>\n",
       "      <td>39</td>\n",
       "      <td>0</td>\n",
       "      <td>0</td>\n",
       "      <td>35702</td>\n",
       "    </tr>\n",
       "    <tr>\n",
       "      <th>3</th>\n",
       "      <td>2024</td>\n",
       "      <td>0</td>\n",
       "      <td>2024-03-09 19:30:00</td>\n",
       "      <td>Sydney Showground</td>\n",
       "      <td>Greater Western Sydney</td>\n",
       "      <td>Collingwood</td>\n",
       "      <td>18</td>\n",
       "      <td>6</td>\n",
       "      <td>114</td>\n",
       "      <td>11</td>\n",
       "      <td>16</td>\n",
       "      <td>82</td>\n",
       "      <td>Greater Western Sydney</td>\n",
       "      <td>32</td>\n",
       "      <td>0</td>\n",
       "      <td>0</td>\n",
       "      <td>35703</td>\n",
       "    </tr>\n",
       "    <tr>\n",
       "      <th>4</th>\n",
       "      <td>2024</td>\n",
       "      <td>1</td>\n",
       "      <td>2024-03-14 19:30:00</td>\n",
       "      <td>M.C.G.</td>\n",
       "      <td>Carlton</td>\n",
       "      <td>Richmond</td>\n",
       "      <td>12</td>\n",
       "      <td>14</td>\n",
       "      <td>86</td>\n",
       "      <td>12</td>\n",
       "      <td>9</td>\n",
       "      <td>81</td>\n",
       "      <td>Carlton</td>\n",
       "      <td>5</td>\n",
       "      <td>0</td>\n",
       "      <td>0</td>\n",
       "      <td>35704</td>\n",
       "    </tr>\n",
       "  </tbody>\n",
       "</table>\n",
       "</div>"
      ],
      "text/plain": [
       "   season  round             date_utc              venue  \\\n",
       "0    2024      0  2024-03-07 19:30:00             S.C.G.   \n",
       "1    2024      0  2024-03-08 19:40:00              Gabba   \n",
       "2    2024      0  2024-03-09 16:20:00            Carrara   \n",
       "3    2024      0  2024-03-09 19:30:00  Sydney Showground   \n",
       "4    2024      1  2024-03-14 19:30:00             M.C.G.   \n",
       "\n",
       "                home_team    away_team  home_goals  home_behinds  home_score  \\\n",
       "0                  Sydney    Melbourne          12            14          86   \n",
       "1          Brisbane Lions      Carlton          12            13          85   \n",
       "2              Gold Coast     Richmond          14            15          99   \n",
       "3  Greater Western Sydney  Collingwood          18             6         114   \n",
       "4                 Carlton     Richmond          12            14          86   \n",
       "\n",
       "   away_goals  away_behinds  away_score             winner_team  margin  \\\n",
       "0           9            10          64                  Sydney      22   \n",
       "1          13             8          86                 Carlton      -1   \n",
       "2           9             6          60              Gold Coast      39   \n",
       "3          11            16          82  Greater Western Sydney      32   \n",
       "4          12             9          81                 Carlton       5   \n",
       "\n",
       "   is_final  is_grand_final  game_id  \n",
       "0         0               0    35700  \n",
       "1         0               0    35701  \n",
       "2         0               0    35702  \n",
       "3         0               0    35703  \n",
       "4         0               0    35704  "
      ]
     },
     "execution_count": 41,
     "metadata": {},
     "output_type": "execute_result"
    }
   ],
   "source": [
    "#YEAR = 2024\n",
    "headers = {\n",
    "    \"User-Agent\": \"AFL Results Bot v0.1 (contact: diego080495@gmail.com)\"\n",
    "}\n",
    "\n",
    "# 1) Team lookup (id -> name)\n",
    "teams = requests.get(\"https://api.squiggle.com.au/?q=teams\", headers=headers).json()[\"teams\"]\n",
    "id2team = {t[\"id\"]: t[\"name\"] for t in teams}\n",
    "\n",
    "# 2) Completed games for a season\n",
    "url = f\"https://api.squiggle.com.au/?q=games;year={YEAR};complete=100\"\n",
    "games = requests.get(url, headers=headers).json()[\"games\"]\n",
    "\n",
    "# 3) Tidy results table\n",
    "rows = []\n",
    "for g in games:\n",
    "    rows.append({\n",
    "        \"season\": g[\"year\"],\n",
    "        \"round\": g[\"round\"],\n",
    "        \"date_utc\": g[\"date\"],\n",
    "        \"venue\": g[\"venue\"],\n",
    "        \"home_team\": g[\"hteam\"],\n",
    "        \"away_team\": g[\"ateam\"],\n",
    "        \"home_goals\": g[\"hgoals\"], \"home_behinds\": g[\"hbehinds\"], \"home_score\": g[\"hscore\"],\n",
    "        \"away_goals\": g[\"agoals\"], \"away_behinds\": g[\"abehinds\"], \"away_score\": g[\"ascore\"],\n",
    "        \"winner_team\": g[\"winner\"] if g[\"winner\"] else None,\n",
    "        \"margin\": g[\"hscore\"] - g[\"ascore\"],   # positive => home won\n",
    "        \"is_final\": g[\"is_final\"], \"is_grand_final\": g[\"is_grand_final\"],\n",
    "        \"game_id\": g[\"id\"]\n",
    "    })\n",
    "df = pd.DataFrame(rows).sort_values([\"round\",\"date_utc\"])\n",
    "df.to_csv(\"afl_results_2024.csv\", index=False)\n",
    "df.head()\n"
   ]
  },
  {
   "cell_type": "markdown",
   "id": "86ded7f4",
   "metadata": {},
   "source": [
    "## Sentiment Analysis"
   ]
  },
  {
   "cell_type": "code",
   "execution_count": 44,
   "id": "866e4068",
   "metadata": {},
   "outputs": [
    {
     "data": {
      "text/html": [
       "<div>\n",
       "<style scoped>\n",
       "    .dataframe tbody tr th:only-of-type {\n",
       "        vertical-align: middle;\n",
       "    }\n",
       "\n",
       "    .dataframe tbody tr th {\n",
       "        vertical-align: top;\n",
       "    }\n",
       "\n",
       "    .dataframe thead th {\n",
       "        text-align: right;\n",
       "    }\n",
       "</style>\n",
       "<table border=\"1\" class=\"dataframe\">\n",
       "  <thead>\n",
       "    <tr style=\"text-align: right;\">\n",
       "      <th></th>\n",
       "      <th>id</th>\n",
       "      <th>title</th>\n",
       "      <th>score</th>\n",
       "      <th>num_comments</th>\n",
       "      <th>created_utc</th>\n",
       "      <th>url</th>\n",
       "    </tr>\n",
       "  </thead>\n",
       "  <tbody>\n",
       "    <tr>\n",
       "      <th>0</th>\n",
       "      <td>1nh6qqe</td>\n",
       "      <td>Ticketek are hopeless</td>\n",
       "      <td>73</td>\n",
       "      <td>121</td>\n",
       "      <td>1.757894e+09</td>\n",
       "      <td>https://www.reddit.com/r/AFL/comments/1nh6qqe/...</td>\n",
       "    </tr>\n",
       "    <tr>\n",
       "      <th>1</th>\n",
       "      <td>1ni3xol</td>\n",
       "      <td>AFL ripped for 'doing absolutely nothing' abou...</td>\n",
       "      <td>389</td>\n",
       "      <td>167</td>\n",
       "      <td>1.757985e+09</td>\n",
       "      <td>https://www.nine.com.au/sport/afl/news-2025-ge...</td>\n",
       "    </tr>\n",
       "    <tr>\n",
       "      <th>2</th>\n",
       "      <td>1ni87r6</td>\n",
       "      <td>North Melbourne captain Jy Simpkin exploring b...</td>\n",
       "      <td>175</td>\n",
       "      <td>225</td>\n",
       "      <td>1.757998e+09</td>\n",
       "      <td>https://7news.com.au/sport/afl/north-melbourne...</td>\n",
       "    </tr>\n",
       "    <tr>\n",
       "      <th>3</th>\n",
       "      <td>1ni9h6w</td>\n",
       "      <td>Zach Merrett is furious at reports he acted di...</td>\n",
       "      <td>127</td>\n",
       "      <td>176</td>\n",
       "      <td>1.758002e+09</td>\n",
       "      <td>https://archive.is/igeDr</td>\n",
       "    </tr>\n",
       "    <tr>\n",
       "      <th>4</th>\n",
       "      <td>1ni50ah</td>\n",
       "      <td>Wayne’s world goes wrong</td>\n",
       "      <td>178</td>\n",
       "      <td>76</td>\n",
       "      <td>1.757988e+09</td>\n",
       "      <td>https://i.redd.it/zf8e79u8pfpf1.jpeg</td>\n",
       "    </tr>\n",
       "    <tr>\n",
       "      <th>5</th>\n",
       "      <td>1ni65wv</td>\n",
       "      <td>[7News] Adelaide will ask the question of Melb...</td>\n",
       "      <td>141</td>\n",
       "      <td>106</td>\n",
       "      <td>1.757991e+09</td>\n",
       "      <td>https://i.redd.it/1ym1qab5zfpf1.png</td>\n",
       "    </tr>\n",
       "    <tr>\n",
       "      <th>6</th>\n",
       "      <td>1ni3e4f</td>\n",
       "      <td>Tom Liberatore tattoo in the style of The Simp...</td>\n",
       "      <td>165</td>\n",
       "      <td>13</td>\n",
       "      <td>1.757984e+09</td>\n",
       "      <td>https://i.redd.it/i7qd8ybvbfpf1.jpeg</td>\n",
       "    </tr>\n",
       "    <tr>\n",
       "      <th>7</th>\n",
       "      <td>1ni6mm9</td>\n",
       "      <td>Anyone thinking of going to this event?</td>\n",
       "      <td>102</td>\n",
       "      <td>59</td>\n",
       "      <td>1.757993e+09</td>\n",
       "      <td>https://i.redd.it/k01oztoa3gpf1.jpeg</td>\n",
       "    </tr>\n",
       "    <tr>\n",
       "      <th>8</th>\n",
       "      <td>1ni9n1l</td>\n",
       "      <td>Double MCG Sellout</td>\n",
       "      <td>57</td>\n",
       "      <td>31</td>\n",
       "      <td>1.758003e+09</td>\n",
       "      <td>https://www.reddit.com/gallery/1ni9n1l</td>\n",
       "    </tr>\n",
       "    <tr>\n",
       "      <th>9</th>\n",
       "      <td>1ni1gvy</td>\n",
       "      <td>[Jon Ralph] There is acceptance at Essendon th...</td>\n",
       "      <td>186</td>\n",
       "      <td>320</td>\n",
       "      <td>1.757978e+09</td>\n",
       "      <td>https://i.redd.it/a18tyfziwepf1.jpeg</td>\n",
       "    </tr>\n",
       "  </tbody>\n",
       "</table>\n",
       "</div>"
      ],
      "text/plain": [
       "        id                                              title  score  \\\n",
       "0  1nh6qqe                              Ticketek are hopeless     73   \n",
       "1  1ni3xol  AFL ripped for 'doing absolutely nothing' abou...    389   \n",
       "2  1ni87r6  North Melbourne captain Jy Simpkin exploring b...    175   \n",
       "3  1ni9h6w  Zach Merrett is furious at reports he acted di...    127   \n",
       "4  1ni50ah                           Wayne’s world goes wrong    178   \n",
       "5  1ni65wv  [7News] Adelaide will ask the question of Melb...    141   \n",
       "6  1ni3e4f  Tom Liberatore tattoo in the style of The Simp...    165   \n",
       "7  1ni6mm9            Anyone thinking of going to this event?    102   \n",
       "8  1ni9n1l                                 Double MCG Sellout     57   \n",
       "9  1ni1gvy  [Jon Ralph] There is acceptance at Essendon th...    186   \n",
       "\n",
       "   num_comments   created_utc  \\\n",
       "0           121  1.757894e+09   \n",
       "1           167  1.757985e+09   \n",
       "2           225  1.757998e+09   \n",
       "3           176  1.758002e+09   \n",
       "4            76  1.757988e+09   \n",
       "5           106  1.757991e+09   \n",
       "6            13  1.757984e+09   \n",
       "7            59  1.757993e+09   \n",
       "8            31  1.758003e+09   \n",
       "9           320  1.757978e+09   \n",
       "\n",
       "                                                 url  \n",
       "0  https://www.reddit.com/r/AFL/comments/1nh6qqe/...  \n",
       "1  https://www.nine.com.au/sport/afl/news-2025-ge...  \n",
       "2  https://7news.com.au/sport/afl/north-melbourne...  \n",
       "3                           https://archive.is/igeDr  \n",
       "4               https://i.redd.it/zf8e79u8pfpf1.jpeg  \n",
       "5                https://i.redd.it/1ym1qab5zfpf1.png  \n",
       "6               https://i.redd.it/i7qd8ybvbfpf1.jpeg  \n",
       "7               https://i.redd.it/k01oztoa3gpf1.jpeg  \n",
       "8             https://www.reddit.com/gallery/1ni9n1l  \n",
       "9               https://i.redd.it/a18tyfziwepf1.jpeg  "
      ]
     },
     "execution_count": 44,
     "metadata": {},
     "output_type": "execute_result"
    }
   ],
   "source": [
    "df_posts"
   ]
  },
  {
   "cell_type": "code",
   "execution_count": 43,
   "id": "480d6308",
   "metadata": {},
   "outputs": [
    {
     "data": {
      "text/html": [
       "<div>\n",
       "<style scoped>\n",
       "    .dataframe tbody tr th:only-of-type {\n",
       "        vertical-align: middle;\n",
       "    }\n",
       "\n",
       "    .dataframe tbody tr th {\n",
       "        vertical-align: top;\n",
       "    }\n",
       "\n",
       "    .dataframe thead th {\n",
       "        text-align: right;\n",
       "    }\n",
       "</style>\n",
       "<table border=\"1\" class=\"dataframe\">\n",
       "  <thead>\n",
       "    <tr style=\"text-align: right;\">\n",
       "      <th></th>\n",
       "      <th>id</th>\n",
       "      <th>author</th>\n",
       "      <th>score</th>\n",
       "      <th>created_utc</th>\n",
       "      <th>body</th>\n",
       "    </tr>\n",
       "  </thead>\n",
       "  <tbody>\n",
       "    <tr>\n",
       "      <th>0</th>\n",
       "      <td>ne9jn2m</td>\n",
       "      <td>JRicho_Sauce</td>\n",
       "      <td>129</td>\n",
       "      <td>1.757896e+09</td>\n",
       "      <td>Pretty confident it’s random from waiting room...</td>\n",
       "    </tr>\n",
       "    <tr>\n",
       "      <th>1</th>\n",
       "      <td>ne9o6cn</td>\n",
       "      <td>woka</td>\n",
       "      <td>49</td>\n",
       "      <td>1.757898e+09</td>\n",
       "      <td>Wait until you try and pay and you get a gatew...</td>\n",
       "    </tr>\n",
       "    <tr>\n",
       "      <th>2</th>\n",
       "      <td>nea2ks1</td>\n",
       "      <td>Swimming-Session8806</td>\n",
       "      <td>21</td>\n",
       "      <td>1.757903e+09</td>\n",
       "      <td>MCC are to blame for this.  \\n\\nPrelim(s) shou...</td>\n",
       "    </tr>\n",
       "    <tr>\n",
       "      <th>3</th>\n",
       "      <td>ne9trev</td>\n",
       "      <td>Specialist_Current98</td>\n",
       "      <td>11</td>\n",
       "      <td>1.757900e+09</td>\n",
       "      <td>A couple months ago, my brother, dad and mysel...</td>\n",
       "    </tr>\n",
       "    <tr>\n",
       "      <th>4</th>\n",
       "      <td>ne9qnp5</td>\n",
       "      <td>AlexJokerHAL</td>\n",
       "      <td>15</td>\n",
       "      <td>1.757899e+09</td>\n",
       "      <td>MCC - Oh well. Guess you have to go line up at...</td>\n",
       "    </tr>\n",
       "    <tr>\n",
       "      <th>...</th>\n",
       "      <td>...</td>\n",
       "      <td>...</td>\n",
       "      <td>...</td>\n",
       "      <td>...</td>\n",
       "      <td>...</td>\n",
       "    </tr>\n",
       "    <tr>\n",
       "      <th>118</th>\n",
       "      <td>neboian</td>\n",
       "      <td>nuffiealert</td>\n",
       "      <td>3</td>\n",
       "      <td>1.757933e+09</td>\n",
       "      <td>What a bizarre narrative you have created ther...</td>\n",
       "    </tr>\n",
       "    <tr>\n",
       "      <th>119</th>\n",
       "      <td>nebaa9z</td>\n",
       "      <td>hamleyn248</td>\n",
       "      <td>0</td>\n",
       "      <td>1.757925e+09</td>\n",
       "      <td>Thanks. That's super helpful. You know what th...</td>\n",
       "    </tr>\n",
       "    <tr>\n",
       "      <th>120</th>\n",
       "      <td>nebu4eu</td>\n",
       "      <td>BustedWing</td>\n",
       "      <td>0</td>\n",
       "      <td>1.757936e+09</td>\n",
       "      <td>I mean, if you say so!</td>\n",
       "    </tr>\n",
       "    <tr>\n",
       "      <th>121</th>\n",
       "      <td>nebafmy</td>\n",
       "      <td>identikit12</td>\n",
       "      <td>1</td>\n",
       "      <td>1.757925e+09</td>\n",
       "      <td>I do - and you’re the only one who assumed any...</td>\n",
       "    </tr>\n",
       "    <tr>\n",
       "      <th>122</th>\n",
       "      <td>nebw6ii</td>\n",
       "      <td>nuffiealert</td>\n",
       "      <td>1</td>\n",
       "      <td>1.757937e+09</td>\n",
       "      <td>I just did</td>\n",
       "    </tr>\n",
       "  </tbody>\n",
       "</table>\n",
       "<p>123 rows × 5 columns</p>\n",
       "</div>"
      ],
      "text/plain": [
       "          id                author  score   created_utc  \\\n",
       "0    ne9jn2m          JRicho_Sauce    129  1.757896e+09   \n",
       "1    ne9o6cn                  woka     49  1.757898e+09   \n",
       "2    nea2ks1  Swimming-Session8806     21  1.757903e+09   \n",
       "3    ne9trev  Specialist_Current98     11  1.757900e+09   \n",
       "4    ne9qnp5          AlexJokerHAL     15  1.757899e+09   \n",
       "..       ...                   ...    ...           ...   \n",
       "118  neboian           nuffiealert      3  1.757933e+09   \n",
       "119  nebaa9z            hamleyn248      0  1.757925e+09   \n",
       "120  nebu4eu            BustedWing      0  1.757936e+09   \n",
       "121  nebafmy           identikit12      1  1.757925e+09   \n",
       "122  nebw6ii           nuffiealert      1  1.757937e+09   \n",
       "\n",
       "                                                  body  \n",
       "0    Pretty confident it’s random from waiting room...  \n",
       "1    Wait until you try and pay and you get a gatew...  \n",
       "2    MCC are to blame for this.  \\n\\nPrelim(s) shou...  \n",
       "3    A couple months ago, my brother, dad and mysel...  \n",
       "4    MCC - Oh well. Guess you have to go line up at...  \n",
       "..                                                 ...  \n",
       "118  What a bizarre narrative you have created ther...  \n",
       "119  Thanks. That's super helpful. You know what th...  \n",
       "120                             I mean, if you say so!  \n",
       "121  I do - and you’re the only one who assumed any...  \n",
       "122                                         I just did  \n",
       "\n",
       "[123 rows x 5 columns]"
      ]
     },
     "execution_count": 43,
     "metadata": {},
     "output_type": "execute_result"
    }
   ],
   "source": [
    "df_comments"
   ]
  },
  {
   "cell_type": "code",
   "execution_count": 1,
   "id": "1b0ca1e4",
   "metadata": {},
   "outputs": [
    {
     "name": "stderr",
     "output_type": "stream",
     "text": [
      "[nltk_data] Downloading package vader_lexicon to\n",
      "[nltk_data]     /Users/diegozapataalcaraz/nltk_data...\n",
      "[nltk_data]   Package vader_lexicon is already up-to-date!\n"
     ]
    },
    {
     "data": {
      "text/plain": [
       "True"
      ]
     },
     "execution_count": 1,
     "metadata": {},
     "output_type": "execute_result"
    }
   ],
   "source": [
    "import nltk\n",
    "nltk.download('vader_lexicon')\n"
   ]
  },
  {
   "cell_type": "code",
   "execution_count": 7,
   "id": "dfdb4cc7",
   "metadata": {},
   "outputs": [
    {
     "name": "stdout",
     "output_type": "stream",
     "text": [
      "Team: North Melbourne\n",
      "Comments mentioning team: 223\n",
      "Mean sentiment (compound): 0.255\n",
      "% positive: 59.6%   % negative: 25.6%\n",
      "\n",
      "Top negative bigrams:\n",
      "  in the  (17)\n",
      "  it was  (10)\n",
      "  north melbourne  (10)\n",
      "  the last  (8)\n",
      "  to the  (6)\n",
      "  was a  (6)\n",
      "  west coast  (6)\n",
      "  of their  (6)\n",
      "  and north  (5)\n",
      "  after the  (5)\n",
      "\n",
      "Top positive bigrams:\n",
      "  in the  (40)\n",
      "  of the  (33)\n",
      "  north melbourne  (28)\n",
      "  as a  (23)\n",
      "  to the  (19)\n",
      "  on the  (18)\n",
      "  in a  (17)\n",
      "  would be  (15)\n",
      "  the afl  (15)\n",
      "  a good  (14)\n",
      "\n",
      "Saved per-comment scores → sent_north_melbourne.csv\n"
     ]
    },
    {
     "name": "stderr",
     "output_type": "stream",
     "text": [
      "/var/folders/6h/7_s8d7dn5p565dythb22sn0c0000gn/T/ipykernel_2757/209095370.py:40: UserWarning: This pattern is interpreted as a regular expression, and has match groups. To actually get the groups, use str.extract.\n",
      "  df = df[df[\"body\"].str.contains(team_re, na=False)]\n"
     ]
    }
   ],
   "source": [
    "import re\n",
    "from nltk.sentiment import SentimentIntensityAnalyzer\n",
    "\n",
    "# === Config ===\n",
    "COMMENTS_CSV = \"afl_comments.csv\"\n",
    "TEAM = \"North Melbourne\"  \n",
    "\n",
    "# Map teams to common nicknames/hashtags for matching\n",
    "TEAM_ALIASES = {\n",
    "    \"Adelaide\": [\"adelaide\", \"crows\"],\n",
    "    \"Brisbane\": [\"brisbane\", \"lions\", \"bne\"],\n",
    "    \"Carlton\": [\"carlton\", \"blues\"],\n",
    "    \"Collingwood\": [\"collingwood\", \"pies\", \"magpies\"],\n",
    "    \"Essendon\": [\"essendon\", \"bombers\", \"dons\"],\n",
    "    \"Fremantle\": [\"fremantle\", \"dockers\", \"freo\"],\n",
    "    \"Geelong\": [\"geelong\", \"cats\"],\n",
    "    \"Gold Coast\": [\"gold coast\", \"suns\", \"gc\"],\n",
    "    \"GWS\": [\"gws\", \"giants\", \"greater western sydney\"],\n",
    "    \"Hawthorn\": [\"hawthorn\", \"hawks\"],\n",
    "    \"Melbourne\": [\"melbourne\", \"demons\", \"dees\"],\n",
    "    \"North Melbourne\": [\"north melbourne\", \"kangaroos\", \"roos\", \"north\"],\n",
    "    \"Port Adelaide\": [\"port adelaide\", \"power\", \"port\"],\n",
    "    \"Richmond\": [\"richmond\", \"tigers\", \"tigs\"],\n",
    "    \"St Kilda\": [\"st kilda\", \"saints\"],\n",
    "    \"Sydney\": [\"sydney\", \"swans\", \"bloods\"],\n",
    "    \"West Coast\": [\"west coast\", \"eagles\", \"wce\"],\n",
    "    \"Western Bulldogs\": [\"western bulldogs\", \"bulldogs\", \"dogs\", \"doggies\"],\n",
    "}\n",
    "\n",
    "# Build a regex to detect mentions of the target team (word boundaries; case-insensitive)\n",
    "aliases = TEAM_ALIASES.get(TEAM, [TEAM])\n",
    "pat = r\"\\b(\" + \"|\".join(re.escape(a) for a in aliases) + r\")\\b\"\n",
    "team_re = re.compile(pat, flags=re.IGNORECASE)\n",
    "\n",
    "# === Load comments ===\n",
    "df = pd.read_csv(COMMENTS_CSV, dtype={\"id\": str})\n",
    "df[\"body\"] = df[\"body\"].fillna(\"\")\n",
    "\n",
    "# Filter to comments that mention the team (you can skip this to score all then group)\n",
    "df = df[df[\"body\"].str.contains(team_re, na=False)]\n",
    "\n",
    "# === VADER sentiment ===\n",
    "sia = SentimentIntensityAnalyzer()\n",
    "\n",
    "# AFL slang tweaks\n",
    "sia.lexicon.update({\n",
    "    \"robbed\": -2.0, \"bottled\": -1.6, \"choked\": -1.8, \"clutch\": 1.6,\n",
    "    \"gun\": 1.2, \"soft\": -0.8, \"dog act\": -2.0, \"howler\": -1.5,\n",
    "    \"ump\": -0.6, \"umpiring\": -0.8, \"set shot\": 0.3, \"clanger\": -1.2,\n",
    "    \"killer\": 1.1, \"cunt\": -1\n",
    "})\n",
    "\n",
    "def score(txt: str) -> float:\n",
    "    return sia.polarity_scores(txt)[\"compound\"] \n",
    "\n",
    "df[\"sent\"] = df[\"body\"].astype(str).map(score)\n",
    "\n",
    "# Simple labels\n",
    "def label(x):\n",
    "    if x >= 0.05: return \"pos\"\n",
    "    if x <= -0.05: return \"neg\"\n",
    "    return \"neu\"\n",
    "\n",
    "df[\"label\"] = df[\"sent\"].map(label)\n",
    "\n",
    "# Preprocessing\n",
    "n = len(df)\n",
    "mean_sent = df[\"sent\"].mean() if n else 0.0\n",
    "pct_pos = (df[\"label\"].eq(\"pos\").mean()*100) if n else 0.0\n",
    "pct_neg = (df[\"label\"].eq(\"neg\").mean()*100) if n else 0.0\n",
    "\n",
    "print(f\"Team: {TEAM}\")\n",
    "print(f\"Comments mentioning team: {n:,}\")\n",
    "print(f\"Mean sentiment (compound): {mean_sent:.3f}\")\n",
    "print(f\"% positive: {pct_pos:.1f}%   % negative: {pct_neg:.1f}%\")\n",
    "\n",
    "# Top phrases, frequent bigrams in neg/pos buckets)\n",
    "from collections import Counter\n",
    "def bigrams(s):\n",
    "    toks = re.findall(r\"[a-zA-Z']+\", s.lower())\n",
    "    return zip(toks, toks[1:])\n",
    "\n",
    "top_neg = Counter(b for text in df.loc[df[\"label\"]==\"neg\",\"body\"] for b in bigrams(text)).most_common(10)\n",
    "top_pos = Counter(b for text in df.loc[df[\"label\"]==\"pos\",\"body\"] for b in bigrams(text)).most_common(10)\n",
    "\n",
    "print(\"\\nTop negative bigrams:\")\n",
    "for (w1,w2), c in top_neg[:10]:\n",
    "    print(f\"  {w1} {w2}  ({c})\")\n",
    "\n",
    "print(\"\\nTop positive bigrams:\")\n",
    "for (w1,w2), c in top_pos[:10]:\n",
    "    print(f\"  {w1} {w2}  ({c})\")\n",
    "\n",
    "# (Optional) Save scored comments for this team\n",
    "df_out = df[[\"id\",\"submission_id\",\"created_datetime_utc\",\"author\",\"score\",\"body\",\"sent\",\"label\"]]\n",
    "df_out.to_csv(f\"sent_{TEAM.replace(' ','_').lower()}.csv\", index=False)\n",
    "print(f\"\\nSaved per-comment scores → sent_{TEAM.replace(' ','_').lower()}.csv\")\n"
   ]
  },
  {
   "cell_type": "markdown",
   "id": "1d92b82e",
   "metadata": {},
   "source": [
    "## Merge"
   ]
  },
  {
   "cell_type": "code",
   "execution_count": 25,
   "id": "699e05bc",
   "metadata": {},
   "outputs": [
    {
     "data": {
      "text/html": [
       "<div>\n",
       "<style scoped>\n",
       "    .dataframe tbody tr th:only-of-type {\n",
       "        vertical-align: middle;\n",
       "    }\n",
       "\n",
       "    .dataframe tbody tr th {\n",
       "        vertical-align: top;\n",
       "    }\n",
       "\n",
       "    .dataframe thead th {\n",
       "        text-align: right;\n",
       "    }\n",
       "</style>\n",
       "<table border=\"1\" class=\"dataframe\">\n",
       "  <thead>\n",
       "    <tr style=\"text-align: right;\">\n",
       "      <th></th>\n",
       "      <th>season</th>\n",
       "      <th>round</th>\n",
       "      <th>date_utc</th>\n",
       "      <th>venue</th>\n",
       "      <th>home_team</th>\n",
       "      <th>away_team</th>\n",
       "      <th>home_goals</th>\n",
       "      <th>home_behinds</th>\n",
       "      <th>home_score</th>\n",
       "      <th>away_goals</th>\n",
       "      <th>away_behinds</th>\n",
       "      <th>away_score</th>\n",
       "      <th>winner_team</th>\n",
       "      <th>margin</th>\n",
       "      <th>is_final</th>\n",
       "      <th>is_grand_final</th>\n",
       "      <th>game_id</th>\n",
       "    </tr>\n",
       "  </thead>\n",
       "  <tbody>\n",
       "    <tr>\n",
       "      <th>0</th>\n",
       "      <td>2025</td>\n",
       "      <td>0</td>\n",
       "      <td>2025-03-07 19:40:00+00:00</td>\n",
       "      <td>S.C.G.</td>\n",
       "      <td>Sydney</td>\n",
       "      <td>Hawthorn</td>\n",
       "      <td>11</td>\n",
       "      <td>10</td>\n",
       "      <td>76</td>\n",
       "      <td>14</td>\n",
       "      <td>12</td>\n",
       "      <td>96</td>\n",
       "      <td>Hawthorn</td>\n",
       "      <td>-20</td>\n",
       "      <td>0</td>\n",
       "      <td>0</td>\n",
       "      <td>37091</td>\n",
       "    </tr>\n",
       "    <tr>\n",
       "      <th>1</th>\n",
       "      <td>2025</td>\n",
       "      <td>0</td>\n",
       "      <td>2025-03-09 15:20:00+00:00</td>\n",
       "      <td>Sydney Showground</td>\n",
       "      <td>Greater Western Sydney</td>\n",
       "      <td>Collingwood</td>\n",
       "      <td>15</td>\n",
       "      <td>14</td>\n",
       "      <td>104</td>\n",
       "      <td>6</td>\n",
       "      <td>16</td>\n",
       "      <td>52</td>\n",
       "      <td>Greater Western Sydney</td>\n",
       "      <td>52</td>\n",
       "      <td>0</td>\n",
       "      <td>0</td>\n",
       "      <td>37093</td>\n",
       "    </tr>\n",
       "    <tr>\n",
       "      <th>2</th>\n",
       "      <td>2025</td>\n",
       "      <td>1</td>\n",
       "      <td>2025-03-13 19:30:00+00:00</td>\n",
       "      <td>M.C.G.</td>\n",
       "      <td>Richmond</td>\n",
       "      <td>Carlton</td>\n",
       "      <td>13</td>\n",
       "      <td>4</td>\n",
       "      <td>82</td>\n",
       "      <td>9</td>\n",
       "      <td>15</td>\n",
       "      <td>69</td>\n",
       "      <td>Richmond</td>\n",
       "      <td>13</td>\n",
       "      <td>0</td>\n",
       "      <td>0</td>\n",
       "      <td>37094</td>\n",
       "    </tr>\n",
       "    <tr>\n",
       "      <th>3</th>\n",
       "      <td>2025</td>\n",
       "      <td>1</td>\n",
       "      <td>2025-03-14 19:40:00+00:00</td>\n",
       "      <td>M.C.G.</td>\n",
       "      <td>Hawthorn</td>\n",
       "      <td>Essendon</td>\n",
       "      <td>17</td>\n",
       "      <td>9</td>\n",
       "      <td>111</td>\n",
       "      <td>12</td>\n",
       "      <td>13</td>\n",
       "      <td>85</td>\n",
       "      <td>Hawthorn</td>\n",
       "      <td>26</td>\n",
       "      <td>0</td>\n",
       "      <td>0</td>\n",
       "      <td>37095</td>\n",
       "    </tr>\n",
       "    <tr>\n",
       "      <th>4</th>\n",
       "      <td>2025</td>\n",
       "      <td>1</td>\n",
       "      <td>2025-03-15 13:20:00+00:00</td>\n",
       "      <td>Kardinia Park</td>\n",
       "      <td>Geelong</td>\n",
       "      <td>Fremantle</td>\n",
       "      <td>23</td>\n",
       "      <td>9</td>\n",
       "      <td>147</td>\n",
       "      <td>10</td>\n",
       "      <td>9</td>\n",
       "      <td>69</td>\n",
       "      <td>Geelong</td>\n",
       "      <td>78</td>\n",
       "      <td>0</td>\n",
       "      <td>0</td>\n",
       "      <td>37096</td>\n",
       "    </tr>\n",
       "  </tbody>\n",
       "</table>\n",
       "</div>"
      ],
      "text/plain": [
       "   season  round                  date_utc              venue  \\\n",
       "0    2025      0 2025-03-07 19:40:00+00:00             S.C.G.   \n",
       "1    2025      0 2025-03-09 15:20:00+00:00  Sydney Showground   \n",
       "2    2025      1 2025-03-13 19:30:00+00:00             M.C.G.   \n",
       "3    2025      1 2025-03-14 19:40:00+00:00             M.C.G.   \n",
       "4    2025      1 2025-03-15 13:20:00+00:00      Kardinia Park   \n",
       "\n",
       "                home_team    away_team  home_goals  home_behinds  home_score  \\\n",
       "0                  Sydney     Hawthorn          11            10          76   \n",
       "1  Greater Western Sydney  Collingwood          15            14         104   \n",
       "2                Richmond      Carlton          13             4          82   \n",
       "3                Hawthorn     Essendon          17             9         111   \n",
       "4                 Geelong    Fremantle          23             9         147   \n",
       "\n",
       "   away_goals  away_behinds  away_score             winner_team  margin  \\\n",
       "0          14            12          96                Hawthorn     -20   \n",
       "1           6            16          52  Greater Western Sydney      52   \n",
       "2           9            15          69                Richmond      13   \n",
       "3          12            13          85                Hawthorn      26   \n",
       "4          10             9          69                 Geelong      78   \n",
       "\n",
       "   is_final  is_grand_final  game_id  \n",
       "0         0               0    37091  \n",
       "1         0               0    37093  \n",
       "2         0               0    37094  \n",
       "3         0               0    37095  \n",
       "4         0               0    37096  "
      ]
     },
     "execution_count": 25,
     "metadata": {},
     "output_type": "execute_result"
    }
   ],
   "source": [
    "afl_results_2025 = pd.read_csv(\"afl_results_2025.csv\")\n",
    "afl_results_2025 = afl_results_2025.sort_values(by=\"date_utc\")\n",
    "afl_results_2025[\"date_utc\"] = pd.to_datetime(afl_results_2025.date_utc, utc=True)\n",
    "afl_results_2025.head()"
   ]
  },
  {
   "cell_type": "code",
   "execution_count": 28,
   "id": "4e292f49",
   "metadata": {},
   "outputs": [
    {
     "data": {
      "text/html": [
       "<div>\n",
       "<style scoped>\n",
       "    .dataframe tbody tr th:only-of-type {\n",
       "        vertical-align: middle;\n",
       "    }\n",
       "\n",
       "    .dataframe tbody tr th {\n",
       "        vertical-align: top;\n",
       "    }\n",
       "\n",
       "    .dataframe thead th {\n",
       "        text-align: right;\n",
       "    }\n",
       "</style>\n",
       "<table border=\"1\" class=\"dataframe\">\n",
       "  <thead>\n",
       "    <tr style=\"text-align: right;\">\n",
       "      <th></th>\n",
       "      <th>id</th>\n",
       "      <th>link_id</th>\n",
       "      <th>parent_id</th>\n",
       "      <th>submission_id</th>\n",
       "      <th>author</th>\n",
       "      <th>score</th>\n",
       "      <th>created_utc</th>\n",
       "      <th>created_datetime_utc</th>\n",
       "      <th>body</th>\n",
       "    </tr>\n",
       "  </thead>\n",
       "  <tbody>\n",
       "    <tr>\n",
       "      <th>31513</th>\n",
       "      <td>ncoivy5</td>\n",
       "      <td>t3_1n9qaah</td>\n",
       "      <td>t3_1n9qaah</td>\n",
       "      <td>1n9qaah</td>\n",
       "      <td>Pleasant_Inspection9</td>\n",
       "      <td>7</td>\n",
       "      <td>1.757133e+09</td>\n",
       "      <td>2025-09-06 04:24:19+00:00</td>\n",
       "      <td>https://preview.redd.it/c5yqngni1hnf1.png?widt...</td>\n",
       "    </tr>\n",
       "    <tr>\n",
       "      <th>31460</th>\n",
       "      <td>ncokryd</td>\n",
       "      <td>t3_1n9qet4</td>\n",
       "      <td>t3_1n9qet4</td>\n",
       "      <td>1n9qet4</td>\n",
       "      <td>legally_blond</td>\n",
       "      <td>27</td>\n",
       "      <td>1.757134e+09</td>\n",
       "      <td>2025-09-06 04:38:52+00:00</td>\n",
       "      <td>&gt;But if the broadcasters don’t want to do it t...</td>\n",
       "    </tr>\n",
       "    <tr>\n",
       "      <th>31462</th>\n",
       "      <td>ncokynm</td>\n",
       "      <td>t3_1n9qet4</td>\n",
       "      <td>t3_1n9qet4</td>\n",
       "      <td>1n9qet4</td>\n",
       "      <td>No-Rise2743</td>\n",
       "      <td>11</td>\n",
       "      <td>1.757134e+09</td>\n",
       "      <td>2025-09-06 04:40:21+00:00</td>\n",
       "      <td>I like the pre finals bye. Gets all the best p...</td>\n",
       "    </tr>\n",
       "    <tr>\n",
       "      <th>31469</th>\n",
       "      <td>ncol994</td>\n",
       "      <td>t3_1n9qet4</td>\n",
       "      <td>t3_1n9qet4</td>\n",
       "      <td>1n9qet4</td>\n",
       "      <td>lazy-bruce</td>\n",
       "      <td>0</td>\n",
       "      <td>1.757134e+09</td>\n",
       "      <td>2025-09-06 04:42:40+00:00</td>\n",
       "      <td>I like the idea of 1 bye.\\n\\nBut I also like t...</td>\n",
       "    </tr>\n",
       "    <tr>\n",
       "      <th>31459</th>\n",
       "      <td>ncolg7q</td>\n",
       "      <td>t3_1n9qet4</td>\n",
       "      <td>t3_1n9qet4</td>\n",
       "      <td>1n9qet4</td>\n",
       "      <td>Tall-Breakfast-6100</td>\n",
       "      <td>43</td>\n",
       "      <td>1.757134e+09</td>\n",
       "      <td>2025-09-06 04:44:12+00:00</td>\n",
       "      <td>I’m all for one week bye round. Just makes so ...</td>\n",
       "    </tr>\n",
       "  </tbody>\n",
       "</table>\n",
       "</div>"
      ],
      "text/plain": [
       "            id     link_id   parent_id submission_id                author  \\\n",
       "31513  ncoivy5  t3_1n9qaah  t3_1n9qaah       1n9qaah  Pleasant_Inspection9   \n",
       "31460  ncokryd  t3_1n9qet4  t3_1n9qet4       1n9qet4         legally_blond   \n",
       "31462  ncokynm  t3_1n9qet4  t3_1n9qet4       1n9qet4           No-Rise2743   \n",
       "31469  ncol994  t3_1n9qet4  t3_1n9qet4       1n9qet4            lazy-bruce   \n",
       "31459  ncolg7q  t3_1n9qet4  t3_1n9qet4       1n9qet4   Tall-Breakfast-6100   \n",
       "\n",
       "       score   created_utc      created_datetime_utc  \\\n",
       "31513      7  1.757133e+09 2025-09-06 04:24:19+00:00   \n",
       "31460     27  1.757134e+09 2025-09-06 04:38:52+00:00   \n",
       "31462     11  1.757134e+09 2025-09-06 04:40:21+00:00   \n",
       "31469      0  1.757134e+09 2025-09-06 04:42:40+00:00   \n",
       "31459     43  1.757134e+09 2025-09-06 04:44:12+00:00   \n",
       "\n",
       "                                                    body  \n",
       "31513  https://preview.redd.it/c5yqngni1hnf1.png?widt...  \n",
       "31460  >But if the broadcasters don’t want to do it t...  \n",
       "31462  I like the pre finals bye. Gets all the best p...  \n",
       "31469  I like the idea of 1 bye.\\n\\nBut I also like t...  \n",
       "31459  I’m all for one week bye round. Just makes so ...  "
      ]
     },
     "execution_count": 28,
     "metadata": {},
     "output_type": "execute_result"
    }
   ],
   "source": [
    "afl_comments = pd.read_csv(\"afl_comments.csv\")\n",
    "afl_comments[\"created_datetime_utc\"] = pd.to_datetime(afl_comments.created_datetime_utc, utc=True)\n",
    "afl_comments = afl_comments.sort_values(by=\"created_datetime_utc\")\n",
    "afl_comments.head()"
   ]
  },
  {
   "cell_type": "code",
   "execution_count": null,
   "id": "a4be933a",
   "metadata": {},
   "outputs": [],
   "source": [
    "afl_merge = pd.merge_asof(afl_comments, afl_results_2025, left_on=\"created_datetime_utc\", right_on=\"date_utc\", direction=\"backward\")\n",
    "afl_merge.head()"
   ]
  },
  {
   "cell_type": "code",
   "execution_count": 43,
   "id": "412d5378",
   "metadata": {},
   "outputs": [
    {
     "data": {
      "text/plain": [
       "Index(['id', 'link_id', 'parent_id', 'submission_id', 'author', 'score',\n",
       "       'created_utc', 'created_datetime_utc', 'body', 'season', 'round',\n",
       "       'date_utc', 'venue', 'home_team', 'away_team', 'home_goals',\n",
       "       'home_behinds', 'home_score', 'away_goals', 'away_behinds',\n",
       "       'away_score', 'winner_team', 'margin', 'is_final', 'is_grand_final',\n",
       "       'game_id'],\n",
       "      dtype='object')"
      ]
     },
     "execution_count": 43,
     "metadata": {},
     "output_type": "execute_result"
    }
   ],
   "source": [
    "afl_merge.columns"
   ]
  },
  {
   "cell_type": "code",
   "execution_count": 49,
   "id": "180a3945",
   "metadata": {},
   "outputs": [
    {
     "data": {
      "text/plain": [
       "Timestamp('2025-09-06 04:24:19+0000', tz='UTC')"
      ]
     },
     "execution_count": 49,
     "metadata": {},
     "output_type": "execute_result"
    }
   ],
   "source": [
    "afl_comments[\"created_datetime_utc\"].min()"
   ]
  },
  {
   "cell_type": "code",
   "execution_count": null,
   "id": "31d1f2be",
   "metadata": {},
   "outputs": [
    {
     "data": {
      "image/png": "[encoded data removed]",
      "text/plain": [
       "<Figure size 1200x600 with 1 Axes>"
      ]
     },
     "metadata": {},
     "output_type": "display_data"
    }
   ],
   "source": [
    "# Count comments per day\n",
    "counts = afl_merge.groupby(afl_merge[\"created_datetime_utc\"].dt.date).size()\n",
    "\n",
    "plt.figure(figsize=(12,6))\n",
    "counts.plot(kind=\"bar\")\n",
    "plt.title(\"Number of comments per day\")\n",
    "plt.xlabel(\"Date\")\n",
    "plt.ylabel(\"Comment count\")\n",
    "plt.xticks(rotation=90)\n",
    "plt.show()"
   ]
  },
  {
   "cell_type": "code",
   "execution_count": 51,
   "id": "013be396",
   "metadata": {},
   "outputs": [
    {
     "data": {
      "text/plain": [
       "Index(['id', 'title', 'author', 'score', 'num_comments', 'created_utc',\n",
       "       'created_datetime_utc', 'url', 'permalink', 'subreddit', 'over_18',\n",
       "       'locked', 'stickied', 'is_self', 'selftext'],\n",
       "      dtype='object')"
      ]
     },
     "execution_count": 51,
     "metadata": {},
     "output_type": "execute_result"
    }
   ],
   "source": [
    "afl_posts = pd.read_csv(\"afl_posts.csv\")\n",
    "afl_posts.columns"
   ]
  },
  {
   "cell_type": "code",
   "execution_count": 52,
   "id": "bbe6e79d",
   "metadata": {},
   "outputs": [
    {
     "data": {
      "text/plain": [
       "'2025-08-26T06:47:36+00:00'"
      ]
     },
     "execution_count": 52,
     "metadata": {},
     "output_type": "execute_result"
    }
   ],
   "source": [
    "afl_posts.created_datetime_utc.min()"
   ]
  },
  {
   "cell_type": "code",
   "execution_count": null,
   "id": "75658ba8",
   "metadata": {},
   "outputs": [],
   "source": []
  }
 ],
 "metadata": {
  "kernelspec": {
   "display_name": "DataScience",
   "language": "python",
   "name": "python3"
  },
  "language_info": {
   "codemirror_mode": {
    "name": "ipython",
    "version": 3
   },
   "file_extension": ".py",
   "mimetype": "text/x-python",
   "name": "python",
   "nbconvert_exporter": "python",
   "pygments_lexer": "ipython3",
   "version": "3.13.5"
  }
 },
 "nbformat": 4,
 "nbformat_minor": 5
}
